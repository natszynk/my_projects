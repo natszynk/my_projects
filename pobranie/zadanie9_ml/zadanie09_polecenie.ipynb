{
 "cells": [
  {
   "cell_type": "markdown",
   "metadata": {},
   "source": [
    "# Zadanie 9 (10 pkt)\n",
    "### Deadline 03.02 o 23:59"
   ]
  },
  {
   "cell_type": "markdown",
   "metadata": {},
   "source": [
    "Na podstawie zbioru https://www.kaggle.com/dgomonov/new-york-city-airbnb-open-data **dokonaj klasteryzacji różnych rodzajów noclegów oferowanych przez Airbnb**. \n",
    "\n",
    "Proponowane zmienne do klasteryzacji:\n",
    "\n",
    "- latitude\n",
    "- longitude\n",
    "- price\n",
    "- minimum nights\n",
    "- number of reviews lub number of reviews per month\n",
    "\n",
    "**Proszę o wybranie minimum 4 zmiennych.** Klasteryzacja pozwoli na znalezienie obiektów położonych w podobnym miejscu i o zbliżonych cenach i warunkach.\n",
    "\n",
    "Należy wyznaczyć **optymalną liczbę klastrów z graficznym objaśnieniem**. Trzeba pamiętać o **zachowaniu poprawności założeń** (np. standaryzacja zmiennych).\n"
   ]
  },
  {
   "cell_type": "markdown",
   "metadata": {},
   "source": [
    "# Powodzenia!"
   ]
  }
 ],
 "metadata": {
  "kernelspec": {
   "display_name": "isa_sandbox_env",
   "language": "python",
   "name": "isa_sandbox_env"
  },
  "language_info": {
   "codemirror_mode": {
    "name": "ipython",
    "version": 3
   },
   "file_extension": ".py",
   "mimetype": "text/x-python",
   "name": "python",
   "nbconvert_exporter": "python",
   "pygments_lexer": "ipython3",
   "version": "3.10.4"
  },
  "orig_nbformat": 4
 },
 "nbformat": 4,
 "nbformat_minor": 2
}
