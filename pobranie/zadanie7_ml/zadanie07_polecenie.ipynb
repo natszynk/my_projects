{
 "cells": [
  {
   "cell_type": "markdown",
   "metadata": {},
   "source": [
    "# Zadanie 07 - ML\n",
    "\n",
    "**Deadline:** piątek 09.12.2022 o 23:59\n",
    "\n",
    "## Zadanie 1 (2 pkt)\n",
    "Odpowiedz na pytania:\n",
    "\n",
    "    a) Jaka jest róznica pomiedzy regresja liniową a regresją logistyczną? (1 pkt)\n",
    "    b) Na czym polega regresja logistyczna? (nie podawaj ksiązkowej definicji, opisz krótko własnymi słowami) (1 pkt)\n",
    "\n",
    "## Zadanie 2 (8 pkt)\n",
    "Dokończ ćwiczenie rozpoczęte na zajęciach warsztatowych (notebook 3_regresja_logistyczna_cwiczenie.ipynb) - \n",
    "wykorzystując przeprocesowane podczas zajęc dane titanic_train.csv, zbuduj model przyporządkowujący pasazerom jedna z klas: przezycie, smierc.\n",
    "\n",
    "    a) (Train Test Split) podziel zbiór na część testową i treningową (1 pkt)\n",
    "    b) (Training and Predicting) dopasuj model regresji logistycznej i wyznacz klasy dla pasazerow z czesci testowej (2 pkt)\n",
    "    c) (Ewaluacja) wykorzystując znane Ci odpowiednie metody ewaluacji - oceń zbudowany model (2.5 pkt)\n",
    "    d) (Wnioski) skomentuj uzyskane wyniki (2.5 pkt)\n",
    "\n",
    "# Powodzenia!\n"
   ]
  },
  {
   "cell_type": "markdown",
   "metadata": {},
   "source": []
  }
 ],
 "metadata": {
  "interpreter": {
   "hash": "858c9cb367b976540a30c479e8a9ebd1636f25ac4388d596a844ffdd991a5283"
  },
  "kernelspec": {
   "display_name": "Python 3.10.4 ('isa_sandbox_env')",
   "language": "python",
   "name": "python3"
  },
  "language_info": {
   "codemirror_mode": {
    "name": "ipython",
    "version": 3
   },
   "file_extension": ".py",
   "mimetype": "text/x-python",
   "name": "python",
   "nbconvert_exporter": "python",
   "pygments_lexer": "ipython3",
   "version": "3.10.4"
  },
  "orig_nbformat": 4
 },
 "nbformat": 4,
 "nbformat_minor": 2
}
