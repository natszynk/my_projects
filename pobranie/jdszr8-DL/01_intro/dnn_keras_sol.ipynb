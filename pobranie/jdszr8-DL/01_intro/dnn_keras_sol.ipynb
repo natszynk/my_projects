{
 "cells": [
  {
   "cell_type": "markdown",
   "metadata": {
    "toc": true
   },
   "source": [
    "<h1>Table of Contents<span class=\"tocSkip\"></span></h1>\n",
    "<div class=\"toc\"><ul class=\"toc-item\"><li><span><a href=\"#Model-sekwencyjny\" data-toc-modified-id=\"Model-sekwencyjny-1\"><span class=\"toc-item-num\">1&nbsp;&nbsp;</span>Model sekwencyjny</a></span><ul class=\"toc-item\"><li><span><a href=\"#dane\" data-toc-modified-id=\"dane-1.1\"><span class=\"toc-item-num\">1.1&nbsp;&nbsp;</span>dane</a></span><ul class=\"toc-item\"><li><span><a href=\"#exploration-&amp;-understanding\" data-toc-modified-id=\"exploration-&amp;-understanding-1.1.1\"><span class=\"toc-item-num\">1.1.1&nbsp;&nbsp;</span>exploration &amp; understanding</a></span></li><li><span><a href=\"#prepearing-for-training\" data-toc-modified-id=\"prepearing-for-training-1.1.2\"><span class=\"toc-item-num\">1.1.2&nbsp;&nbsp;</span>prepearing for training</a></span></li></ul></li><li><span><a href=\"#Warstwy\" data-toc-modified-id=\"Warstwy-1.2\"><span class=\"toc-item-num\">1.2&nbsp;&nbsp;</span>Warstwy</a></span></li><li><span><a href=\"#Podstawowa-składania---tf.keras.sequential\" data-toc-modified-id=\"Podstawowa-składania---tf.keras.sequential-1.3\"><span class=\"toc-item-num\">1.3&nbsp;&nbsp;</span>Podstawowa składania - tf.keras.sequential</a></span></li><li><span><a href=\"#Szybki-test\" data-toc-modified-id=\"Szybki-test-1.4\"><span class=\"toc-item-num\">1.4&nbsp;&nbsp;</span>Szybki test</a></span></li><li><span><a href=\"#Zamknięcie-wszystkiego-w-jedną-funkcję\" data-toc-modified-id=\"Zamknięcie-wszystkiego-w-jedną-funkcję-1.5\"><span class=\"toc-item-num\">1.5&nbsp;&nbsp;</span>Zamknięcie wszystkiego w jedną funkcję</a></span></li><li><span><a href=\"#Zapisywanie-i-wczytywanie-modelu\" data-toc-modified-id=\"Zapisywanie-i-wczytywanie-modelu-1.6\"><span class=\"toc-item-num\">1.6&nbsp;&nbsp;</span>Zapisywanie i wczytywanie modelu</a></span></li></ul></li><li><span><a href=\"#Zadanie---regresja-cen-nieruchomości\" data-toc-modified-id=\"Zadanie---regresja-cen-nieruchomości-2\"><span class=\"toc-item-num\">2&nbsp;&nbsp;</span>Zadanie - regresja cen nieruchomości</a></span><ul class=\"toc-item\"><li><span><a href=\"#Wczytywanie-danych\" data-toc-modified-id=\"Wczytywanie-danych-2.1\"><span class=\"toc-item-num\">2.1&nbsp;&nbsp;</span>Wczytywanie danych</a></span></li><li><span><a href=\"#Obróbka-danych\" data-toc-modified-id=\"Obróbka-danych-2.2\"><span class=\"toc-item-num\">2.2&nbsp;&nbsp;</span>Obróbka danych</a></span></li><li><span><a href=\"#Składanie-w-x-i-y\" data-toc-modified-id=\"Składanie-w-x-i-y-2.3\"><span class=\"toc-item-num\">2.3&nbsp;&nbsp;</span>Składanie w x i y</a></span></li><li><span><a href=\"#podział-na-zbiór-treningowy-i-testowy\" data-toc-modified-id=\"podział-na-zbiór-treningowy-i-testowy-2.4\"><span class=\"toc-item-num\">2.4&nbsp;&nbsp;</span>podział na zbiór treningowy i testowy</a></span></li><li><span><a href=\"#model\" data-toc-modified-id=\"model-2.5\"><span class=\"toc-item-num\">2.5&nbsp;&nbsp;</span>model</a></span></li><li><span><a href=\"#trening\" data-toc-modified-id=\"trening-2.6\"><span class=\"toc-item-num\">2.6&nbsp;&nbsp;</span>trening</a></span></li><li><span><a href=\"#walidacja\" data-toc-modified-id=\"walidacja-2.7\"><span class=\"toc-item-num\">2.7&nbsp;&nbsp;</span>walidacja</a></span></li><li><span><a href=\"#wykres-reszt\" data-toc-modified-id=\"wykres-reszt-2.8\"><span class=\"toc-item-num\">2.8&nbsp;&nbsp;</span>wykres reszt</a></span></li></ul></li><li><span><a href=\"#Składanie-modelu-inaczej---Functional-API\" data-toc-modified-id=\"Składanie-modelu-inaczej---Functional-API-3\"><span class=\"toc-item-num\">3&nbsp;&nbsp;</span>Składanie modelu inaczej - Functional API</a></span><ul class=\"toc-item\"><li><span><a href=\"#poszczególne-warstwy\" data-toc-modified-id=\"poszczególne-warstwy-3.1\"><span class=\"toc-item-num\">3.1&nbsp;&nbsp;</span>poszczególne warstwy</a></span></li><li><span><a href=\"#zamknięcie-wszystkiego-w-model\" data-toc-modified-id=\"zamknięcie-wszystkiego-w-model-3.2\"><span class=\"toc-item-num\">3.2&nbsp;&nbsp;</span>zamknięcie wszystkiego w model</a></span></li><li><span><a href=\"#kompilacja-modelu\" data-toc-modified-id=\"kompilacja-modelu-3.3\"><span class=\"toc-item-num\">3.3&nbsp;&nbsp;</span>kompilacja modelu</a></span></li><li><span><a href=\"#trening-i-walidacja\" data-toc-modified-id=\"trening-i-walidacja-3.4\"><span class=\"toc-item-num\">3.4&nbsp;&nbsp;</span>trening i walidacja</a></span></li></ul></li></ul></div>"
   ]
  },
  {
   "cell_type": "markdown",
   "metadata": {},
   "source": [
    "# Tensorflow.keras\n",
    "Wprowadzenie do korzystania z wysokopoziomowej implementacji sieci neuronowych.\n",
    "Za pomocą przestrzenie metod zawartych w keras'a będziemy mogli w super łatwy sposób budować modele i je ewaluować."
   ]
  },
  {
   "cell_type": "code",
   "execution_count": 1,
   "metadata": {},
   "outputs": [],
   "source": [
    "import tensorflow as tf\n",
    "import numpy as np\n",
    "import matplotlib.pyplot as plt\n",
    "from sklearn.metrics import classification_report\n",
    "import pandas as pd\n",
    "\n",
    "# tylko dla tych co mają zainstalowaną paczkę jupyterthemes\n",
    "# kto nie ma to niech zakomentuje, ponieważ będzie wywalać błąd\n",
    "from jupyterthemes import jtplot\n",
    "jtplot.style(theme='monokai', context='notebook', ticks=True, grid=False)"
   ]
  },
  {
   "cell_type": "markdown",
   "metadata": {},
   "source": [
    "## Model sekwencyjny"
   ]
  },
  {
   "cell_type": "markdown",
   "metadata": {},
   "source": [
    "### dane"
   ]
  },
  {
   "cell_type": "markdown",
   "metadata": {},
   "source": [
    "#### exploration & understanding"
   ]
  },
  {
   "cell_type": "code",
   "execution_count": 2,
   "metadata": {},
   "outputs": [],
   "source": [
    "from sklearn.datasets import load_breast_cancer\n",
    "data = load_breast_cancer()"
   ]
  },
  {
   "cell_type": "code",
   "execution_count": 3,
   "metadata": {},
   "outputs": [
    {
     "name": "stdout",
     "output_type": "stream",
     "text": [
      ".. _breast_cancer_dataset:\n",
      "\n",
      "Breast cancer wisconsin (diagnostic) dataset\n",
      "--------------------------------------------\n",
      "\n",
      "**Data Set Characteristics:**\n",
      "\n",
      "    :Number of Instances: 569\n",
      "\n",
      "    :Number of Attributes: 30 numeric, predictive attributes and the class\n",
      "\n",
      "    :Attribute Information:\n",
      "        - radius (mean of distances from center to points on the perimeter)\n",
      "        - texture (standard deviation of gray-scale values)\n",
      "        - perimeter\n",
      "        - area\n",
      "        - smoothness (local variation in radius lengths)\n",
      "        - compactness (perimeter^2 / area - 1.0)\n",
      "        - concavity (severity of concave portions of the contour)\n",
      "        - concave points (number of concave portions of the contour)\n",
      "        - symmetry\n",
      "        - fractal dimension (\"coastline approximation\" - 1)\n",
      "\n",
      "        The mean, standard error, and \"worst\" or largest (mean of the three\n",
      "        worst/largest values) of these features were computed for each image,\n",
      "        resulting in 30 features.  For instance, field 0 is Mean Radius, field\n",
      "        10 is Radius SE, field 20 is Worst Radius.\n",
      "\n",
      "        - class:\n",
      "                - WDBC-Malignant\n",
      "                - WDBC-Benign\n",
      "\n",
      "    :Summary Statistics:\n",
      "\n",
      "    ===================================== ====== ======\n",
      "                                           Min    Max\n",
      "    ===================================== ====== ======\n",
      "    radius (mean):                        6.981  28.11\n",
      "    texture (mean):                       9.71   39.28\n",
      "    perimeter (mean):                     43.79  188.5\n",
      "    area (mean):                          143.5  2501.0\n",
      "    smoothness (mean):                    0.053  0.163\n",
      "    compactness (mean):                   0.019  0.345\n",
      "    concavity (mean):                     0.0    0.427\n",
      "    concave points (mean):                0.0    0.201\n",
      "    symmetry (mean):                      0.106  0.304\n",
      "    fractal dimension (mean):             0.05   0.097\n",
      "    radius (standard error):              0.112  2.873\n",
      "    texture (standard error):             0.36   4.885\n",
      "    perimeter (standard error):           0.757  21.98\n",
      "    area (standard error):                6.802  542.2\n",
      "    smoothness (standard error):          0.002  0.031\n",
      "    compactness (standard error):         0.002  0.135\n",
      "    concavity (standard error):           0.0    0.396\n",
      "    concave points (standard error):      0.0    0.053\n",
      "    symmetry (standard error):            0.008  0.079\n",
      "    fractal dimension (standard error):   0.001  0.03\n",
      "    radius (worst):                       7.93   36.04\n",
      "    texture (worst):                      12.02  49.54\n",
      "    perimeter (worst):                    50.41  251.2\n",
      "    area (worst):                         185.2  4254.0\n",
      "    smoothness (worst):                   0.071  0.223\n",
      "    compactness (worst):                  0.027  1.058\n",
      "    concavity (worst):                    0.0    1.252\n",
      "    concave points (worst):               0.0    0.291\n",
      "    symmetry (worst):                     0.156  0.664\n",
      "    fractal dimension (worst):            0.055  0.208\n",
      "    ===================================== ====== ======\n",
      "\n",
      "    :Missing Attribute Values: None\n",
      "\n",
      "    :Class Distribution: 212 - Malignant, 357 - Benign\n",
      "\n",
      "    :Creator:  Dr. William H. Wolberg, W. Nick Street, Olvi L. Mangasarian\n",
      "\n",
      "    :Donor: Nick Street\n",
      "\n",
      "    :Date: November, 1995\n",
      "\n",
      "This is a copy of UCI ML Breast Cancer Wisconsin (Diagnostic) datasets.\n",
      "https://goo.gl/U2Uwz2\n",
      "\n",
      "Features are computed from a digitized image of a fine needle\n",
      "aspirate (FNA) of a breast mass.  They describe\n",
      "characteristics of the cell nuclei present in the image.\n",
      "\n",
      "Separating plane described above was obtained using\n",
      "Multisurface Method-Tree (MSM-T) [K. P. Bennett, \"Decision Tree\n",
      "Construction Via Linear Programming.\" Proceedings of the 4th\n",
      "Midwest Artificial Intelligence and Cognitive Science Society,\n",
      "pp. 97-101, 1992], a classification method which uses linear\n",
      "programming to construct a decision tree.  Relevant features\n",
      "were selected using an exhaustive search in the space of 1-4\n",
      "features and 1-3 separating planes.\n",
      "\n",
      "The actual linear program used to obtain the separating plane\n",
      "in the 3-dimensional space is that described in:\n",
      "[K. P. Bennett and O. L. Mangasarian: \"Robust Linear\n",
      "Programming Discrimination of Two Linearly Inseparable Sets\",\n",
      "Optimization Methods and Software 1, 1992, 23-34].\n",
      "\n",
      "This database is also available through the UW CS ftp server:\n",
      "\n",
      "ftp ftp.cs.wisc.edu\n",
      "cd math-prog/cpo-dataset/machine-learn/WDBC/\n",
      "\n",
      ".. topic:: References\n",
      "\n",
      "   - W.N. Street, W.H. Wolberg and O.L. Mangasarian. Nuclear feature extraction \n",
      "     for breast tumor diagnosis. IS&T/SPIE 1993 International Symposium on \n",
      "     Electronic Imaging: Science and Technology, volume 1905, pages 861-870,\n",
      "     San Jose, CA, 1993.\n",
      "   - O.L. Mangasarian, W.N. Street and W.H. Wolberg. Breast cancer diagnosis and \n",
      "     prognosis via linear programming. Operations Research, 43(4), pages 570-577, \n",
      "     July-August 1995.\n",
      "   - W.H. Wolberg, W.N. Street, and O.L. Mangasarian. Machine learning techniques\n",
      "     to diagnose breast cancer from fine-needle aspirates. Cancer Letters 77 (1994) \n",
      "     163-171.\n"
     ]
    }
   ],
   "source": [
    "print(data.DESCR)"
   ]
  },
  {
   "cell_type": "code",
   "execution_count": 4,
   "metadata": {},
   "outputs": [
    {
     "data": {
      "text/plain": [
       "(569, 30)"
      ]
     },
     "execution_count": 4,
     "metadata": {},
     "output_type": "execute_result"
    }
   ],
   "source": [
    "data.data.shape"
   ]
  },
  {
   "cell_type": "code",
   "execution_count": 5,
   "metadata": {},
   "outputs": [
    {
     "data": {
      "text/plain": [
       "array([0, 0, 0, 0, 0, 0, 0, 0, 0, 0, 0, 0, 0, 0, 0, 0, 0, 0, 0, 1, 1, 1,\n",
       "       0, 0, 0, 0, 0, 0, 0, 0, 0, 0, 0, 0, 0, 0, 0, 1, 0, 0, 0, 0, 0, 0,\n",
       "       0, 0, 1, 0, 1, 1, 1, 1, 1, 0, 0, 1, 0, 0, 1, 1, 1, 1, 0, 1, 0, 0,\n",
       "       1, 1, 1, 1, 0, 1, 0, 0, 1, 0, 1, 0, 0, 1, 1, 1, 0, 0, 1, 0, 0, 0,\n",
       "       1, 1, 1, 0, 1, 1, 0, 0, 1, 1, 1, 0, 0, 1, 1, 1, 1, 0, 1, 1, 0, 1,\n",
       "       1, 1, 1, 1, 1, 1, 1, 0, 0, 0, 1, 0, 0, 1, 1, 1, 0, 0, 1, 0, 1, 0,\n",
       "       0, 1, 0, 0, 1, 1, 0, 1, 1, 0, 1, 1, 1, 1, 0, 1, 1, 1, 1, 1, 1, 1,\n",
       "       1, 1, 0, 1, 1, 1, 1, 0, 0, 1, 0, 1, 1, 0, 0, 1, 1, 0, 0, 1, 1, 1,\n",
       "       1, 0, 1, 1, 0, 0, 0, 1, 0, 1, 0, 1, 1, 1, 0, 1, 1, 0, 0, 1, 0, 0,\n",
       "       0, 0, 1, 0, 0, 0, 1, 0, 1, 0, 1, 1, 0, 1, 0, 0, 0, 0, 1, 1, 0, 0,\n",
       "       1, 1, 1, 0, 1, 1, 1, 1, 1, 0, 0, 1, 1, 0, 1, 1, 0, 0, 1, 0, 1, 1,\n",
       "       1, 1, 0, 1, 1, 1, 1, 1, 0, 1, 0, 0, 0, 0, 0, 0, 0, 0, 0, 0, 0, 0,\n",
       "       0, 0, 1, 1, 1, 1, 1, 1, 0, 1, 0, 1, 1, 0, 1, 1, 0, 1, 0, 0, 1, 1,\n",
       "       1, 1, 1, 1, 1, 1, 1, 1, 1, 1, 1, 0, 1, 1, 0, 1, 0, 1, 1, 1, 1, 1,\n",
       "       1, 1, 1, 1, 1, 1, 1, 1, 1, 0, 1, 1, 1, 0, 1, 0, 1, 1, 1, 1, 0, 0,\n",
       "       0, 1, 1, 1, 1, 0, 1, 0, 1, 0, 1, 1, 1, 0, 1, 1, 1, 1, 1, 1, 1, 0,\n",
       "       0, 0, 1, 1, 1, 1, 1, 1, 1, 1, 1, 1, 1, 0, 0, 1, 0, 0, 0, 1, 0, 0,\n",
       "       1, 1, 1, 1, 1, 0, 1, 1, 1, 1, 1, 0, 1, 1, 1, 0, 1, 1, 0, 0, 1, 1,\n",
       "       1, 1, 1, 1, 0, 1, 1, 1, 1, 1, 1, 1, 0, 1, 1, 1, 1, 1, 0, 1, 1, 0,\n",
       "       1, 1, 1, 1, 1, 1, 1, 1, 1, 1, 1, 1, 0, 1, 0, 0, 1, 0, 1, 1, 1, 1,\n",
       "       1, 0, 1, 1, 0, 1, 0, 1, 1, 0, 1, 0, 1, 1, 1, 1, 1, 1, 1, 1, 0, 0,\n",
       "       1, 1, 1, 1, 1, 1, 0, 1, 1, 1, 1, 1, 1, 1, 1, 1, 1, 0, 1, 1, 1, 1,\n",
       "       1, 1, 1, 0, 1, 0, 1, 1, 0, 1, 1, 1, 1, 1, 0, 0, 1, 0, 1, 0, 1, 1,\n",
       "       1, 1, 1, 0, 1, 1, 0, 1, 0, 1, 0, 0, 1, 1, 1, 0, 1, 1, 1, 1, 1, 1,\n",
       "       1, 1, 1, 1, 1, 0, 1, 0, 0, 1, 1, 1, 1, 1, 1, 1, 1, 1, 1, 1, 1, 1,\n",
       "       1, 1, 1, 1, 1, 1, 1, 1, 1, 1, 1, 1, 0, 0, 0, 0, 0, 0, 1])"
      ]
     },
     "execution_count": 5,
     "metadata": {},
     "output_type": "execute_result"
    }
   ],
   "source": [
    "data.target"
   ]
  },
  {
   "cell_type": "code",
   "execution_count": 6,
   "metadata": {},
   "outputs": [
    {
     "data": {
      "text/plain": [
       "array(['mean radius', 'mean texture', 'mean perimeter', 'mean area',\n",
       "       'mean smoothness', 'mean compactness', 'mean concavity',\n",
       "       'mean concave points', 'mean symmetry', 'mean fractal dimension',\n",
       "       'radius error', 'texture error', 'perimeter error', 'area error',\n",
       "       'smoothness error', 'compactness error', 'concavity error',\n",
       "       'concave points error', 'symmetry error',\n",
       "       'fractal dimension error', 'worst radius', 'worst texture',\n",
       "       'worst perimeter', 'worst area', 'worst smoothness',\n",
       "       'worst compactness', 'worst concavity', 'worst concave points',\n",
       "       'worst symmetry', 'worst fractal dimension'], dtype='<U23')"
      ]
     },
     "execution_count": 6,
     "metadata": {},
     "output_type": "execute_result"
    }
   ],
   "source": [
    "data.feature_names"
   ]
  },
  {
   "cell_type": "code",
   "execution_count": 7,
   "metadata": {},
   "outputs": [
    {
     "data": {
      "text/plain": [
       "array(['malignant', 'benign'], dtype='<U9')"
      ]
     },
     "execution_count": 7,
     "metadata": {},
     "output_type": "execute_result"
    }
   ],
   "source": [
    "data.target_names"
   ]
  },
  {
   "cell_type": "code",
   "execution_count": 8,
   "metadata": {},
   "outputs": [
    {
     "name": "stdout",
     "output_type": "stream",
     "text": [
      "target_names: ['malignant' 'benign']\n",
      "classNum: 2\n"
     ]
    }
   ],
   "source": [
    "classNum = len(data.target_names)\n",
    "print(f\"target_names: {data.target_names}\\nclassNum: {classNum}\")"
   ]
  },
  {
   "cell_type": "code",
   "execution_count": 9,
   "metadata": {},
   "outputs": [],
   "source": [
    "x = data.data.astype(np.float32)\n",
    "y = data.target\n",
    "classNum = len(data.target_names)"
   ]
  },
  {
   "cell_type": "code",
   "execution_count": 10,
   "metadata": {},
   "outputs": [
    {
     "name": "stdout",
     "output_type": "stream",
     "text": [
      "malignant 0: 212\n",
      "benign 1: 357\n"
     ]
    }
   ],
   "source": [
    "classVals, classCnts = np.unique(y, return_counts=True)\n",
    "for oneName, oneVal, oneCnt in zip(data.target_names, classVals, classCnts):\n",
    "    print(f\"{oneName} {oneVal}: {oneCnt}\")"
   ]
  },
  {
   "cell_type": "code",
   "execution_count": 11,
   "metadata": {},
   "outputs": [
    {
     "data": {
      "image/png": "[encoded data removed]",
      "text/plain": [
       "<Figure size 1440x720 with 1 Axes>"
      ]
     },
     "metadata": {},
     "output_type": "display_data"
    }
   ],
   "source": [
    "fig = plt.figure(figsize=(20,10))\n",
    "plt.bar(data.target_names, classCnts)\n",
    "plt.show()"
   ]
  },
  {
   "cell_type": "code",
   "execution_count": 12,
   "metadata": {},
   "outputs": [
    {
     "data": {
      "text/html": [
       "<div>\n",
       "<style scoped>\n",
       "    .dataframe tbody tr th:only-of-type {\n",
       "        vertical-align: middle;\n",
       "    }\n",
       "\n",
       "    .dataframe tbody tr th {\n",
       "        vertical-align: top;\n",
       "    }\n",
       "\n",
       "    .dataframe thead th {\n",
       "        text-align: right;\n",
       "    }\n",
       "</style>\n",
       "<table border=\"1\" class=\"dataframe\">\n",
       "  <thead>\n",
       "    <tr style=\"text-align: right;\">\n",
       "      <th></th>\n",
       "      <th>mean radius</th>\n",
       "      <th>mean texture</th>\n",
       "      <th>mean perimeter</th>\n",
       "      <th>mean area</th>\n",
       "      <th>mean smoothness</th>\n",
       "      <th>mean compactness</th>\n",
       "      <th>mean concavity</th>\n",
       "      <th>mean concave points</th>\n",
       "      <th>mean symmetry</th>\n",
       "      <th>mean fractal dimension</th>\n",
       "      <th>...</th>\n",
       "      <th>worst radius</th>\n",
       "      <th>worst texture</th>\n",
       "      <th>worst perimeter</th>\n",
       "      <th>worst area</th>\n",
       "      <th>worst smoothness</th>\n",
       "      <th>worst compactness</th>\n",
       "      <th>worst concavity</th>\n",
       "      <th>worst concave points</th>\n",
       "      <th>worst symmetry</th>\n",
       "      <th>worst fractal dimension</th>\n",
       "    </tr>\n",
       "  </thead>\n",
       "  <tbody>\n",
       "    <tr>\n",
       "      <th>0</th>\n",
       "      <td>17.990000</td>\n",
       "      <td>10.380000</td>\n",
       "      <td>122.800003</td>\n",
       "      <td>1001.000000</td>\n",
       "      <td>0.11840</td>\n",
       "      <td>0.27760</td>\n",
       "      <td>0.3001</td>\n",
       "      <td>0.14710</td>\n",
       "      <td>0.2419</td>\n",
       "      <td>0.07871</td>\n",
       "      <td>...</td>\n",
       "      <td>25.379999</td>\n",
       "      <td>17.330000</td>\n",
       "      <td>184.600006</td>\n",
       "      <td>2019.000000</td>\n",
       "      <td>0.1622</td>\n",
       "      <td>0.6656</td>\n",
       "      <td>0.7119</td>\n",
       "      <td>0.2654</td>\n",
       "      <td>0.4601</td>\n",
       "      <td>0.11890</td>\n",
       "    </tr>\n",
       "    <tr>\n",
       "      <th>1</th>\n",
       "      <td>20.570000</td>\n",
       "      <td>17.770000</td>\n",
       "      <td>132.899994</td>\n",
       "      <td>1326.000000</td>\n",
       "      <td>0.08474</td>\n",
       "      <td>0.07864</td>\n",
       "      <td>0.0869</td>\n",
       "      <td>0.07017</td>\n",
       "      <td>0.1812</td>\n",
       "      <td>0.05667</td>\n",
       "      <td>...</td>\n",
       "      <td>24.990000</td>\n",
       "      <td>23.410000</td>\n",
       "      <td>158.800003</td>\n",
       "      <td>1956.000000</td>\n",
       "      <td>0.1238</td>\n",
       "      <td>0.1866</td>\n",
       "      <td>0.2416</td>\n",
       "      <td>0.1860</td>\n",
       "      <td>0.2750</td>\n",
       "      <td>0.08902</td>\n",
       "    </tr>\n",
       "    <tr>\n",
       "      <th>2</th>\n",
       "      <td>19.690001</td>\n",
       "      <td>21.250000</td>\n",
       "      <td>130.000000</td>\n",
       "      <td>1203.000000</td>\n",
       "      <td>0.10960</td>\n",
       "      <td>0.15990</td>\n",
       "      <td>0.1974</td>\n",
       "      <td>0.12790</td>\n",
       "      <td>0.2069</td>\n",
       "      <td>0.05999</td>\n",
       "      <td>...</td>\n",
       "      <td>23.570000</td>\n",
       "      <td>25.530001</td>\n",
       "      <td>152.500000</td>\n",
       "      <td>1709.000000</td>\n",
       "      <td>0.1444</td>\n",
       "      <td>0.4245</td>\n",
       "      <td>0.4504</td>\n",
       "      <td>0.2430</td>\n",
       "      <td>0.3613</td>\n",
       "      <td>0.08758</td>\n",
       "    </tr>\n",
       "    <tr>\n",
       "      <th>3</th>\n",
       "      <td>11.420000</td>\n",
       "      <td>20.379999</td>\n",
       "      <td>77.580002</td>\n",
       "      <td>386.100006</td>\n",
       "      <td>0.14250</td>\n",
       "      <td>0.28390</td>\n",
       "      <td>0.2414</td>\n",
       "      <td>0.10520</td>\n",
       "      <td>0.2597</td>\n",
       "      <td>0.09744</td>\n",
       "      <td>...</td>\n",
       "      <td>14.910000</td>\n",
       "      <td>26.500000</td>\n",
       "      <td>98.870003</td>\n",
       "      <td>567.700012</td>\n",
       "      <td>0.2098</td>\n",
       "      <td>0.8663</td>\n",
       "      <td>0.6869</td>\n",
       "      <td>0.2575</td>\n",
       "      <td>0.6638</td>\n",
       "      <td>0.17300</td>\n",
       "    </tr>\n",
       "    <tr>\n",
       "      <th>4</th>\n",
       "      <td>20.290001</td>\n",
       "      <td>14.340000</td>\n",
       "      <td>135.100006</td>\n",
       "      <td>1297.000000</td>\n",
       "      <td>0.10030</td>\n",
       "      <td>0.13280</td>\n",
       "      <td>0.1980</td>\n",
       "      <td>0.10430</td>\n",
       "      <td>0.1809</td>\n",
       "      <td>0.05883</td>\n",
       "      <td>...</td>\n",
       "      <td>22.540001</td>\n",
       "      <td>16.670000</td>\n",
       "      <td>152.199997</td>\n",
       "      <td>1575.000000</td>\n",
       "      <td>0.1374</td>\n",
       "      <td>0.2050</td>\n",
       "      <td>0.4000</td>\n",
       "      <td>0.1625</td>\n",
       "      <td>0.2364</td>\n",
       "      <td>0.07678</td>\n",
       "    </tr>\n",
       "  </tbody>\n",
       "</table>\n",
       "<p>5 rows × 30 columns</p>\n",
       "</div>"
      ],
      "text/plain": [
       "   mean radius  mean texture  mean perimeter    mean area  mean smoothness  \\\n",
       "0    17.990000     10.380000      122.800003  1001.000000          0.11840   \n",
       "1    20.570000     17.770000      132.899994  1326.000000          0.08474   \n",
       "2    19.690001     21.250000      130.000000  1203.000000          0.10960   \n",
       "3    11.420000     20.379999       77.580002   386.100006          0.14250   \n",
       "4    20.290001     14.340000      135.100006  1297.000000          0.10030   \n",
       "\n",
       "   mean compactness  mean concavity  mean concave points  mean symmetry  \\\n",
       "0           0.27760          0.3001              0.14710         0.2419   \n",
       "1           0.07864          0.0869              0.07017         0.1812   \n",
       "2           0.15990          0.1974              0.12790         0.2069   \n",
       "3           0.28390          0.2414              0.10520         0.2597   \n",
       "4           0.13280          0.1980              0.10430         0.1809   \n",
       "\n",
       "   mean fractal dimension  ...  worst radius  worst texture  worst perimeter  \\\n",
       "0                 0.07871  ...     25.379999      17.330000       184.600006   \n",
       "1                 0.05667  ...     24.990000      23.410000       158.800003   \n",
       "2                 0.05999  ...     23.570000      25.530001       152.500000   \n",
       "3                 0.09744  ...     14.910000      26.500000        98.870003   \n",
       "4                 0.05883  ...     22.540001      16.670000       152.199997   \n",
       "\n",
       "    worst area  worst smoothness  worst compactness  worst concavity  \\\n",
       "0  2019.000000            0.1622             0.6656           0.7119   \n",
       "1  1956.000000            0.1238             0.1866           0.2416   \n",
       "2  1709.000000            0.1444             0.4245           0.4504   \n",
       "3   567.700012            0.2098             0.8663           0.6869   \n",
       "4  1575.000000            0.1374             0.2050           0.4000   \n",
       "\n",
       "   worst concave points  worst symmetry  worst fractal dimension  \n",
       "0                0.2654          0.4601                  0.11890  \n",
       "1                0.1860          0.2750                  0.08902  \n",
       "2                0.2430          0.3613                  0.08758  \n",
       "3                0.2575          0.6638                  0.17300  \n",
       "4                0.1625          0.2364                  0.07678  \n",
       "\n",
       "[5 rows x 30 columns]"
      ]
     },
     "execution_count": 12,
     "metadata": {},
     "output_type": "execute_result"
    }
   ],
   "source": [
    "dfX = pd.DataFrame(data=x, columns=data.feature_names)\n",
    "dfX.head()"
   ]
  },
  {
   "cell_type": "code",
   "execution_count": 13,
   "metadata": {},
   "outputs": [
    {
     "name": "stdout",
     "output_type": "stream",
     "text": [
      "<class 'pandas.core.frame.DataFrame'>\n",
      "RangeIndex: 569 entries, 0 to 568\n",
      "Data columns (total 30 columns):\n",
      " #   Column                   Non-Null Count  Dtype  \n",
      "---  ------                   --------------  -----  \n",
      " 0   mean radius              569 non-null    float32\n",
      " 1   mean texture             569 non-null    float32\n",
      " 2   mean perimeter           569 non-null    float32\n",
      " 3   mean area                569 non-null    float32\n",
      " 4   mean smoothness          569 non-null    float32\n",
      " 5   mean compactness         569 non-null    float32\n",
      " 6   mean concavity           569 non-null    float32\n",
      " 7   mean concave points      569 non-null    float32\n",
      " 8   mean symmetry            569 non-null    float32\n",
      " 9   mean fractal dimension   569 non-null    float32\n",
      " 10  radius error             569 non-null    float32\n",
      " 11  texture error            569 non-null    float32\n",
      " 12  perimeter error          569 non-null    float32\n",
      " 13  area error               569 non-null    float32\n",
      " 14  smoothness error         569 non-null    float32\n",
      " 15  compactness error        569 non-null    float32\n",
      " 16  concavity error          569 non-null    float32\n",
      " 17  concave points error     569 non-null    float32\n",
      " 18  symmetry error           569 non-null    float32\n",
      " 19  fractal dimension error  569 non-null    float32\n",
      " 20  worst radius             569 non-null    float32\n",
      " 21  worst texture            569 non-null    float32\n",
      " 22  worst perimeter          569 non-null    float32\n",
      " 23  worst area               569 non-null    float32\n",
      " 24  worst smoothness         569 non-null    float32\n",
      " 25  worst compactness        569 non-null    float32\n",
      " 26  worst concavity          569 non-null    float32\n",
      " 27  worst concave points     569 non-null    float32\n",
      " 28  worst symmetry           569 non-null    float32\n",
      " 29  worst fractal dimension  569 non-null    float32\n",
      "dtypes: float32(30)\n",
      "memory usage: 66.8 KB\n"
     ]
    }
   ],
   "source": [
    "dfX.info()"
   ]
  },
  {
   "cell_type": "code",
   "execution_count": 14,
   "metadata": {},
   "outputs": [
    {
     "data": {
      "text/html": [
       "<div>\n",
       "<style scoped>\n",
       "    .dataframe tbody tr th:only-of-type {\n",
       "        vertical-align: middle;\n",
       "    }\n",
       "\n",
       "    .dataframe tbody tr th {\n",
       "        vertical-align: top;\n",
       "    }\n",
       "\n",
       "    .dataframe thead th {\n",
       "        text-align: right;\n",
       "    }\n",
       "</style>\n",
       "<table border=\"1\" class=\"dataframe\">\n",
       "  <thead>\n",
       "    <tr style=\"text-align: right;\">\n",
       "      <th></th>\n",
       "      <th>mean radius</th>\n",
       "      <th>mean texture</th>\n",
       "      <th>mean perimeter</th>\n",
       "      <th>mean area</th>\n",
       "      <th>mean smoothness</th>\n",
       "      <th>mean compactness</th>\n",
       "      <th>mean concavity</th>\n",
       "      <th>mean concave points</th>\n",
       "      <th>mean symmetry</th>\n",
       "      <th>mean fractal dimension</th>\n",
       "      <th>...</th>\n",
       "      <th>worst radius</th>\n",
       "      <th>worst texture</th>\n",
       "      <th>worst perimeter</th>\n",
       "      <th>worst area</th>\n",
       "      <th>worst smoothness</th>\n",
       "      <th>worst compactness</th>\n",
       "      <th>worst concavity</th>\n",
       "      <th>worst concave points</th>\n",
       "      <th>worst symmetry</th>\n",
       "      <th>worst fractal dimension</th>\n",
       "    </tr>\n",
       "  </thead>\n",
       "  <tbody>\n",
       "    <tr>\n",
       "      <th>count</th>\n",
       "      <td>569.000000</td>\n",
       "      <td>569.000000</td>\n",
       "      <td>569.000000</td>\n",
       "      <td>569.000000</td>\n",
       "      <td>569.000000</td>\n",
       "      <td>569.000000</td>\n",
       "      <td>569.000000</td>\n",
       "      <td>569.000000</td>\n",
       "      <td>569.000000</td>\n",
       "      <td>569.000000</td>\n",
       "      <td>...</td>\n",
       "      <td>569.000000</td>\n",
       "      <td>569.000000</td>\n",
       "      <td>569.000000</td>\n",
       "      <td>569.000000</td>\n",
       "      <td>569.000000</td>\n",
       "      <td>569.000000</td>\n",
       "      <td>569.000000</td>\n",
       "      <td>569.000000</td>\n",
       "      <td>569.000000</td>\n",
       "      <td>569.000000</td>\n",
       "    </tr>\n",
       "    <tr>\n",
       "      <th>mean</th>\n",
       "      <td>14.127292</td>\n",
       "      <td>19.289650</td>\n",
       "      <td>91.969032</td>\n",
       "      <td>654.889038</td>\n",
       "      <td>0.096360</td>\n",
       "      <td>0.104341</td>\n",
       "      <td>0.088799</td>\n",
       "      <td>0.048919</td>\n",
       "      <td>0.181162</td>\n",
       "      <td>0.062798</td>\n",
       "      <td>...</td>\n",
       "      <td>16.269192</td>\n",
       "      <td>25.677223</td>\n",
       "      <td>107.261215</td>\n",
       "      <td>880.583130</td>\n",
       "      <td>0.132369</td>\n",
       "      <td>0.254265</td>\n",
       "      <td>0.272188</td>\n",
       "      <td>0.114606</td>\n",
       "      <td>0.290076</td>\n",
       "      <td>0.083946</td>\n",
       "    </tr>\n",
       "    <tr>\n",
       "      <th>std</th>\n",
       "      <td>3.524049</td>\n",
       "      <td>4.301036</td>\n",
       "      <td>24.298981</td>\n",
       "      <td>351.914124</td>\n",
       "      <td>0.014064</td>\n",
       "      <td>0.052813</td>\n",
       "      <td>0.079720</td>\n",
       "      <td>0.038803</td>\n",
       "      <td>0.027414</td>\n",
       "      <td>0.007060</td>\n",
       "      <td>...</td>\n",
       "      <td>4.833241</td>\n",
       "      <td>6.146257</td>\n",
       "      <td>33.602543</td>\n",
       "      <td>569.356995</td>\n",
       "      <td>0.022832</td>\n",
       "      <td>0.157336</td>\n",
       "      <td>0.208624</td>\n",
       "      <td>0.065732</td>\n",
       "      <td>0.061867</td>\n",
       "      <td>0.018061</td>\n",
       "    </tr>\n",
       "    <tr>\n",
       "      <th>min</th>\n",
       "      <td>6.981000</td>\n",
       "      <td>9.710000</td>\n",
       "      <td>43.790001</td>\n",
       "      <td>143.500000</td>\n",
       "      <td>0.052630</td>\n",
       "      <td>0.019380</td>\n",
       "      <td>0.000000</td>\n",
       "      <td>0.000000</td>\n",
       "      <td>0.106000</td>\n",
       "      <td>0.049960</td>\n",
       "      <td>...</td>\n",
       "      <td>7.930000</td>\n",
       "      <td>12.020000</td>\n",
       "      <td>50.410000</td>\n",
       "      <td>185.199997</td>\n",
       "      <td>0.071170</td>\n",
       "      <td>0.027290</td>\n",
       "      <td>0.000000</td>\n",
       "      <td>0.000000</td>\n",
       "      <td>0.156500</td>\n",
       "      <td>0.055040</td>\n",
       "    </tr>\n",
       "    <tr>\n",
       "      <th>25%</th>\n",
       "      <td>11.700000</td>\n",
       "      <td>16.170000</td>\n",
       "      <td>75.169998</td>\n",
       "      <td>420.299988</td>\n",
       "      <td>0.086370</td>\n",
       "      <td>0.064920</td>\n",
       "      <td>0.029560</td>\n",
       "      <td>0.020310</td>\n",
       "      <td>0.161900</td>\n",
       "      <td>0.057700</td>\n",
       "      <td>...</td>\n",
       "      <td>13.010000</td>\n",
       "      <td>21.080000</td>\n",
       "      <td>84.110001</td>\n",
       "      <td>515.299988</td>\n",
       "      <td>0.116600</td>\n",
       "      <td>0.147200</td>\n",
       "      <td>0.114500</td>\n",
       "      <td>0.064930</td>\n",
       "      <td>0.250400</td>\n",
       "      <td>0.071460</td>\n",
       "    </tr>\n",
       "    <tr>\n",
       "      <th>50%</th>\n",
       "      <td>13.370000</td>\n",
       "      <td>18.840000</td>\n",
       "      <td>86.239998</td>\n",
       "      <td>551.099976</td>\n",
       "      <td>0.095870</td>\n",
       "      <td>0.092630</td>\n",
       "      <td>0.061540</td>\n",
       "      <td>0.033500</td>\n",
       "      <td>0.179200</td>\n",
       "      <td>0.061540</td>\n",
       "      <td>...</td>\n",
       "      <td>14.970000</td>\n",
       "      <td>25.410000</td>\n",
       "      <td>97.660004</td>\n",
       "      <td>686.500000</td>\n",
       "      <td>0.131300</td>\n",
       "      <td>0.211900</td>\n",
       "      <td>0.226700</td>\n",
       "      <td>0.099930</td>\n",
       "      <td>0.282200</td>\n",
       "      <td>0.080040</td>\n",
       "    </tr>\n",
       "    <tr>\n",
       "      <th>75%</th>\n",
       "      <td>15.780000</td>\n",
       "      <td>21.799999</td>\n",
       "      <td>104.099998</td>\n",
       "      <td>782.700012</td>\n",
       "      <td>0.105300</td>\n",
       "      <td>0.130400</td>\n",
       "      <td>0.130700</td>\n",
       "      <td>0.074000</td>\n",
       "      <td>0.195700</td>\n",
       "      <td>0.066120</td>\n",
       "      <td>...</td>\n",
       "      <td>18.790001</td>\n",
       "      <td>29.719999</td>\n",
       "      <td>125.400002</td>\n",
       "      <td>1084.000000</td>\n",
       "      <td>0.146000</td>\n",
       "      <td>0.339100</td>\n",
       "      <td>0.382900</td>\n",
       "      <td>0.161400</td>\n",
       "      <td>0.317900</td>\n",
       "      <td>0.092080</td>\n",
       "    </tr>\n",
       "    <tr>\n",
       "      <th>max</th>\n",
       "      <td>28.110001</td>\n",
       "      <td>39.279999</td>\n",
       "      <td>188.500000</td>\n",
       "      <td>2501.000000</td>\n",
       "      <td>0.163400</td>\n",
       "      <td>0.345400</td>\n",
       "      <td>0.426800</td>\n",
       "      <td>0.201200</td>\n",
       "      <td>0.304000</td>\n",
       "      <td>0.097440</td>\n",
       "      <td>...</td>\n",
       "      <td>36.040001</td>\n",
       "      <td>49.540001</td>\n",
       "      <td>251.199997</td>\n",
       "      <td>4254.000000</td>\n",
       "      <td>0.222600</td>\n",
       "      <td>1.058000</td>\n",
       "      <td>1.252000</td>\n",
       "      <td>0.291000</td>\n",
       "      <td>0.663800</td>\n",
       "      <td>0.207500</td>\n",
       "    </tr>\n",
       "  </tbody>\n",
       "</table>\n",
       "<p>8 rows × 30 columns</p>\n",
       "</div>"
      ],
      "text/plain": [
       "       mean radius  mean texture  mean perimeter    mean area  \\\n",
       "count   569.000000    569.000000      569.000000   569.000000   \n",
       "mean     14.127292     19.289650       91.969032   654.889038   \n",
       "std       3.524049      4.301036       24.298981   351.914124   \n",
       "min       6.981000      9.710000       43.790001   143.500000   \n",
       "25%      11.700000     16.170000       75.169998   420.299988   \n",
       "50%      13.370000     18.840000       86.239998   551.099976   \n",
       "75%      15.780000     21.799999      104.099998   782.700012   \n",
       "max      28.110001     39.279999      188.500000  2501.000000   \n",
       "\n",
       "       mean smoothness  mean compactness  mean concavity  mean concave points  \\\n",
       "count       569.000000        569.000000      569.000000           569.000000   \n",
       "mean          0.096360          0.104341        0.088799             0.048919   \n",
       "std           0.014064          0.052813        0.079720             0.038803   \n",
       "min           0.052630          0.019380        0.000000             0.000000   \n",
       "25%           0.086370          0.064920        0.029560             0.020310   \n",
       "50%           0.095870          0.092630        0.061540             0.033500   \n",
       "75%           0.105300          0.130400        0.130700             0.074000   \n",
       "max           0.163400          0.345400        0.426800             0.201200   \n",
       "\n",
       "       mean symmetry  mean fractal dimension  ...  worst radius  \\\n",
       "count     569.000000              569.000000  ...    569.000000   \n",
       "mean        0.181162                0.062798  ...     16.269192   \n",
       "std         0.027414                0.007060  ...      4.833241   \n",
       "min         0.106000                0.049960  ...      7.930000   \n",
       "25%         0.161900                0.057700  ...     13.010000   \n",
       "50%         0.179200                0.061540  ...     14.970000   \n",
       "75%         0.195700                0.066120  ...     18.790001   \n",
       "max         0.304000                0.097440  ...     36.040001   \n",
       "\n",
       "       worst texture  worst perimeter   worst area  worst smoothness  \\\n",
       "count     569.000000       569.000000   569.000000        569.000000   \n",
       "mean       25.677223       107.261215   880.583130          0.132369   \n",
       "std         6.146257        33.602543   569.356995          0.022832   \n",
       "min        12.020000        50.410000   185.199997          0.071170   \n",
       "25%        21.080000        84.110001   515.299988          0.116600   \n",
       "50%        25.410000        97.660004   686.500000          0.131300   \n",
       "75%        29.719999       125.400002  1084.000000          0.146000   \n",
       "max        49.540001       251.199997  4254.000000          0.222600   \n",
       "\n",
       "       worst compactness  worst concavity  worst concave points  \\\n",
       "count         569.000000       569.000000            569.000000   \n",
       "mean            0.254265         0.272188              0.114606   \n",
       "std             0.157336         0.208624              0.065732   \n",
       "min             0.027290         0.000000              0.000000   \n",
       "25%             0.147200         0.114500              0.064930   \n",
       "50%             0.211900         0.226700              0.099930   \n",
       "75%             0.339100         0.382900              0.161400   \n",
       "max             1.058000         1.252000              0.291000   \n",
       "\n",
       "       worst symmetry  worst fractal dimension  \n",
       "count      569.000000               569.000000  \n",
       "mean         0.290076                 0.083946  \n",
       "std          0.061867                 0.018061  \n",
       "min          0.156500                 0.055040  \n",
       "25%          0.250400                 0.071460  \n",
       "50%          0.282200                 0.080040  \n",
       "75%          0.317900                 0.092080  \n",
       "max          0.663800                 0.207500  \n",
       "\n",
       "[8 rows x 30 columns]"
      ]
     },
     "execution_count": 14,
     "metadata": {},
     "output_type": "execute_result"
    }
   ],
   "source": [
    "dfX.describe(include=\"all\")"
   ]
  },
  {
   "cell_type": "code",
   "execution_count": 15,
   "metadata": {},
   "outputs": [
    {
     "data": {
      "text/plain": [
       "<AxesSubplot:>"
      ]
     },
     "execution_count": 15,
     "metadata": {},
     "output_type": "execute_result"
    },
    {
     "data": {
      "image/png": "[encoded data removed]",
      "text/plain": [
       "<Figure size 1440x720 with 1 Axes>"
      ]
     },
     "metadata": {},
     "output_type": "display_data"
    }
   ],
   "source": [
    "dfX.boxplot(column=list(data.feature_names)[20:30],figsize=(20,10))"
   ]
  },
  {
   "cell_type": "code",
   "execution_count": 16,
   "metadata": {},
   "outputs": [
    {
     "data": {
      "image/png": "[encoded data removed]",
      "text/plain": [
       "<Figure size 1440x720 with 1 Axes>"
      ]
     },
     "metadata": {},
     "output_type": "display_data"
    }
   ],
   "source": [
    "dfMetrics = dfX.describe(include=\"all\")\n",
    "choosenIdx = 4\n",
    "nameOfMetric = dfMetrics.index[choosenIdx]\n",
    "fig = plt.figure(figsize=(20,10))\n",
    "plt.plot(dfMetrics.iloc[choosenIdx].values, marker=\"o\", linestyle=\"\")\n",
    "plt.xlabel(\"features\")\n",
    "plt.ylabel(f\"{nameOfMetric} values\")\n",
    "plt.title(nameOfMetric)\n",
    "plt.show()"
   ]
  },
  {
   "cell_type": "markdown",
   "metadata": {},
   "source": [
    "#### prepearing for training"
   ]
  },
  {
   "cell_type": "code",
   "execution_count": 17,
   "metadata": {},
   "outputs": [],
   "source": [
    "from sklearn.preprocessing import MinMaxScaler\n",
    "x = MinMaxScaler().fit_transform(x)"
   ]
  },
  {
   "cell_type": "code",
   "execution_count": 18,
   "metadata": {},
   "outputs": [
    {
     "data": {
      "image/png": "[encoded data removed]",
      "text/plain": [
       "<Figure size 1440x720 with 1 Axes>"
      ]
     },
     "metadata": {},
     "output_type": "display_data"
    }
   ],
   "source": [
    "fig = plt.figure(figsize=(20,10))\n",
    "plt.boxplot(x)\n",
    "plt.show()"
   ]
  },
  {
   "cell_type": "code",
   "execution_count": 19,
   "metadata": {},
   "outputs": [],
   "source": [
    "from sklearn.preprocessing import OneHotEncoder\n",
    "y = y.reshape(-1, 1)\n",
    "y = OneHotEncoder(sparse=False).fit_transform(y)\n",
    "y = y.astype(np.float32)"
   ]
  },
  {
   "cell_type": "code",
   "execution_count": 24,
   "metadata": {},
   "outputs": [
    {
     "data": {
      "text/plain": [
       "array([[1., 0.],\n",
       "       [1., 0.],\n",
       "       [1., 0.],\n",
       "       [1., 0.],\n",
       "       [1., 0.],\n",
       "       [1., 0.],\n",
       "       [1., 0.],\n",
       "       [1., 0.],\n",
       "       [1., 0.],\n",
       "       [1., 0.]], dtype=float32)"
      ]
     },
     "execution_count": 24,
     "metadata": {},
     "output_type": "execute_result"
    }
   ],
   "source": [
    "y[:10]"
   ]
  },
  {
   "cell_type": "code",
   "execution_count": 25,
   "metadata": {},
   "outputs": [],
   "source": [
    "from sklearn.model_selection import train_test_split\n",
    "x_train, x_test, y_train, y_test = train_test_split(x, y, test_size=0.2, random_state=45)"
   ]
  },
  {
   "cell_type": "code",
   "execution_count": 26,
   "metadata": {},
   "outputs": [
    {
     "data": {
      "text/plain": [
       "(455, 30)"
      ]
     },
     "execution_count": 26,
     "metadata": {},
     "output_type": "execute_result"
    }
   ],
   "source": [
    "x_train.shape"
   ]
  },
  {
   "cell_type": "code",
   "execution_count": 27,
   "metadata": {},
   "outputs": [
    {
     "data": {
      "text/plain": [
       "(114, 30)"
      ]
     },
     "execution_count": 27,
     "metadata": {},
     "output_type": "execute_result"
    }
   ],
   "source": [
    "x_test.shape"
   ]
  },
  {
   "cell_type": "markdown",
   "metadata": {},
   "source": [
    "### Warstwy\n",
    "Przegląd kilku (na ten moment) istotnych dla nas warstw."
   ]
  },
  {
   "cell_type": "code",
   "execution_count": 28,
   "metadata": {},
   "outputs": [],
   "source": [
    "?tf.keras.layers"
   ]
  },
  {
   "cell_type": "code",
   "execution_count": 29,
   "metadata": {},
   "outputs": [],
   "source": [
    "from tensorflow.keras import layers"
   ]
  },
  {
   "cell_type": "code",
   "execution_count": 30,
   "metadata": {},
   "outputs": [
    {
     "data": {
      "text/plain": [
       "array([[ 0.,  1.,  2.,  3.,  4.,  5.,  6.,  7.,  8.,  9.],\n",
       "       [10., 11., 12., 13., 14., 15., 16., 17., 18., 19.]], dtype=float32)"
      ]
     },
     "execution_count": 30,
     "metadata": {},
     "output_type": "execute_result"
    }
   ],
   "source": [
    "in_data = np.arange(20, dtype=np.float32).reshape(-1, 10)\n",
    "in_data"
   ]
  },
  {
   "cell_type": "markdown",
   "metadata": {},
   "source": [
    "Images\n",
    "NHWC\n",
    "N - number of samples\n",
    "H - height\n",
    "W - width\n",
    "C - channels"
   ]
  },
  {
   "cell_type": "code",
   "execution_count": 32,
   "metadata": {},
   "outputs": [
    {
     "data": {
      "text/plain": [
       "10"
      ]
     },
     "execution_count": 32,
     "metadata": {},
     "output_type": "execute_result"
    }
   ],
   "source": [
    "in_data.shape[1]"
   ]
  },
  {
   "cell_type": "code",
   "execution_count": 33,
   "metadata": {},
   "outputs": [],
   "source": [
    "# wejściowa\n",
    "inputLayer = layers.InputLayer(input_shape=(in_data.shape[1]))"
   ]
  },
  {
   "cell_type": "code",
   "execution_count": 34,
   "metadata": {},
   "outputs": [
    {
     "data": {
      "text/plain": [
       "keras.engine.input_layer.InputLayer"
      ]
     },
     "execution_count": 34,
     "metadata": {},
     "output_type": "execute_result"
    }
   ],
   "source": [
    "type(inputLayer)"
   ]
  },
  {
   "cell_type": "code",
   "execution_count": 35,
   "metadata": {},
   "outputs": [
    {
     "data": {
      "text/plain": [
       "<tf.Tensor: shape=(2, 10), dtype=float32, numpy=\n",
       "array([[ 0.,  1.,  2.,  3.,  4.,  5.,  6.,  7.,  8.,  9.],\n",
       "       [10., 11., 12., 13., 14., 15., 16., 17., 18., 19.]], dtype=float32)>"
      ]
     },
     "execution_count": 35,
     "metadata": {},
     "output_type": "execute_result"
    }
   ],
   "source": [
    "inputLayer(in_data)"
   ]
  },
  {
   "cell_type": "code",
   "execution_count": 52,
   "metadata": {},
   "outputs": [
    {
     "data": {
      "text/plain": [
       "<tf.Tensor: shape=(2, 5), dtype=float32, numpy=\n",
       "array([[ 1.0098687 , -0.76150084,  0.59226733,  0.2323339 ,  1.6615161 ],\n",
       "       [ 1.0098687 , -0.76150084,  0.59226733,  0.2323339 ,  1.6615161 ]],\n",
       "      dtype=float32)>"
      ]
     },
     "execution_count": 52,
     "metadata": {},
     "output_type": "execute_result"
    }
   ],
   "source": [
    "# fully connected, gęsta, ukryta\n",
    "denseLayer = layers.Dense(5)\n",
    "denseLayer(tf.ones(shape=(2,7)))"
   ]
  },
  {
   "cell_type": "code",
   "execution_count": 53,
   "metadata": {},
   "outputs": [
    {
     "data": {
      "text/plain": [
       "[<tf.Variable 'dense_12/kernel:0' shape=(7, 5) dtype=float32, numpy=\n",
       " array([[ 0.22300452, -0.13833034,  0.43434316,  0.3660198 ,  0.57107085],\n",
       "        [ 0.01412731, -0.528183  , -0.68192756, -0.14355636,  0.00856304],\n",
       "        [ 0.69141465, -0.7006352 ,  0.28780377, -0.04795146,  0.4907599 ],\n",
       "        [-0.13437223,  0.5143576 ,  0.5736523 ,  0.42817503,  0.2271961 ],\n",
       "        [-0.33917776,  0.4312305 , -0.23373497, -0.70255   ,  0.17108482],\n",
       "        [ 0.2576036 ,  0.05520731, -0.14235115,  0.28989613, -0.24947476],\n",
       "        [ 0.2972687 , -0.39514777,  0.35448176,  0.04230076,  0.44231611]],\n",
       "       dtype=float32)>,\n",
       " <tf.Variable 'dense_12/bias:0' shape=(5,) dtype=float32, numpy=array([0., 0., 0., 0., 0.], dtype=float32)>]"
      ]
     },
     "execution_count": 53,
     "metadata": {},
     "output_type": "execute_result"
    }
   ],
   "source": [
    "denseLayer.weights"
   ]
  },
  {
   "cell_type": "code",
   "execution_count": 54,
   "metadata": {},
   "outputs": [
    {
     "data": {
      "text/plain": [
       "<tf.Tensor: shape=(2, 7), dtype=float32, numpy=\n",
       "array([[1., 1., 1., 1., 1., 1., 1.],\n",
       "       [1., 1., 1., 1., 1., 1., 1.]], dtype=float32)>"
      ]
     },
     "execution_count": 54,
     "metadata": {},
     "output_type": "execute_result"
    }
   ],
   "source": [
    "tf.ones(shape=(2,7))"
   ]
  },
  {
   "cell_type": "code",
   "execution_count": 55,
   "metadata": {},
   "outputs": [
    {
     "data": {
      "text/plain": [
       "array([-3, -2, -1,  0,  1,  2,  3])"
      ]
     },
     "execution_count": 55,
     "metadata": {},
     "output_type": "execute_result"
    }
   ],
   "source": [
    "np.arange(-3,4)"
   ]
  },
  {
   "cell_type": "code",
   "execution_count": 59,
   "metadata": {},
   "outputs": [
    {
     "data": {
      "text/plain": [
       "<tf.Tensor: shape=(7,), dtype=float32, numpy=array([0., 0., 0., 0., 1., 2., 3.], dtype=float32)>"
      ]
     },
     "execution_count": 59,
     "metadata": {},
     "output_type": "execute_result"
    }
   ],
   "source": [
    "# aktywacja\n",
    "actLayer = layers.Activation(\"relu\")\n",
    "#actLayer = layers.Activation(\"sigmoid\")\n",
    "actLayer(np.arange(-3,4).astype(np.float32))"
   ]
  },
  {
   "cell_type": "code",
   "execution_count": 60,
   "metadata": {},
   "outputs": [
    {
     "data": {
      "text/plain": [
       "<tf.Tensor: shape=(4,), dtype=float32, numpy=array([0.0320586 , 0.08714432, 0.23688284, 0.6439142 ], dtype=float32)>"
      ]
     },
     "execution_count": 60,
     "metadata": {},
     "output_type": "execute_result"
    }
   ],
   "source": [
    "# softmax, dystrybucja prawdopodobieństwa\n",
    "softLayer = layers.Softmax()\n",
    "softLayer(np.array([5,6,7,8], dtype=np.float32))"
   ]
  },
  {
   "cell_type": "code",
   "execution_count": 61,
   "metadata": {},
   "outputs": [
    {
     "data": {
      "text/plain": [
       "1.0"
      ]
     },
     "execution_count": 61,
     "metadata": {},
     "output_type": "execute_result"
    }
   ],
   "source": [
    "softLayer(np.array([5,6,7,8], dtype=np.float32)).numpy().sum()"
   ]
  },
  {
   "cell_type": "code",
   "execution_count": 70,
   "metadata": {},
   "outputs": [
    {
     "name": "stdout",
     "output_type": "stream",
     "text": [
      "Oryginalny wektor: [0. 1. 2. 3. 4. 5. 6. 7. 8. 9.]\n",
      "Po dropoucie: [ 0.         0.         2.2222223  3.3333335  4.4444447  5.555556\n",
      "  6.666667   7.777778   8.888889  10.       ]\n"
     ]
    }
   ],
   "source": [
    "# dropout\n",
    "dropLayer = layers.Dropout(0.1)\n",
    "\n",
    "tmpArr = np.arange(10).astype(np.float32)\n",
    "print(f\"Oryginalny wektor: {tmpArr}\")\n",
    "\n",
    "dropOut = dropLayer(tmpArr, training=True).numpy()\n",
    "print(f\"Po dropoucie: {dropOut}\")"
   ]
  },
  {
   "cell_type": "code",
   "execution_count": 73,
   "metadata": {},
   "outputs": [
    {
     "name": "stdout",
     "output_type": "stream",
     "text": [
      "Przed:\n",
      "[[[ 0  1  2]\n",
      "  [ 3  4  5]\n",
      "  [ 6  7  8]]\n",
      "\n",
      " [[ 9 10 11]\n",
      "  [12 13 14]\n",
      "  [15 16 17]]\n",
      "\n",
      " [[18 19 20]\n",
      "  [21 22 23]\n",
      "  [24 25 26]]\n",
      "\n",
      " [[27 28 29]\n",
      "  [30 31 32]\n",
      "  [33 34 35]]]\n",
      "Po:\n",
      "[[ 0  1  2  3  4  5  6  7  8]\n",
      " [ 9 10 11 12 13 14 15 16 17]\n",
      " [18 19 20 21 22 23 24 25 26]\n",
      " [27 28 29 30 31 32 33 34 35]]\n"
     ]
    }
   ],
   "source": [
    "# spłaszczająca\n",
    "# tensorflowowy flatten\n",
    "flatLayer = layers.Flatten()\n",
    "\n",
    "tmpArr = np.arange(36).reshape(4,3,3)\n",
    "print(f\"Przed:\\n{tmpArr}\")\n",
    "print(f\"Po:\\n{flatLayer(tmpArr).numpy()}\")"
   ]
  },
  {
   "cell_type": "code",
   "execution_count": 77,
   "metadata": {},
   "outputs": [
    {
     "data": {
      "text/plain": [
       "array([ 0,  1,  2,  3,  4,  5,  6,  7,  8,  9, 10, 11, 12, 13, 14, 15, 16,\n",
       "       17, 18, 19, 20, 21, 22, 23, 24, 25, 26, 27, 28, 29, 30, 31, 32, 33,\n",
       "       34, 35])"
      ]
     },
     "execution_count": 77,
     "metadata": {},
     "output_type": "execute_result"
    }
   ],
   "source": [
    "# numpajowy flatten\n",
    "np.arange(36).reshape(4,3,3).flatten()"
   ]
  },
  {
   "cell_type": "markdown",
   "metadata": {},
   "source": [
    "### Podstawowa składania - tf.keras.sequential\n",
    "Jest to podejście projektowania modeli w sposób sekwencyjny.\n",
    "Warstwa po warstwie dodajemy kolejne operacje w jednym kierunku."
   ]
  },
  {
   "cell_type": "code",
   "execution_count": 78,
   "metadata": {},
   "outputs": [],
   "source": [
    "?tf.keras.Sequential"
   ]
  },
  {
   "cell_type": "code",
   "execution_count": 129,
   "metadata": {},
   "outputs": [],
   "source": [
    "# pusty model\n",
    "model = tf.keras.Sequential()"
   ]
  },
  {
   "cell_type": "code",
   "execution_count": 130,
   "metadata": {},
   "outputs": [
    {
     "data": {
      "text/plain": [
       "30"
      ]
     },
     "execution_count": 130,
     "metadata": {},
     "output_type": "execute_result"
    }
   ],
   "source": [
    "x_train.shape[1]"
   ]
  },
  {
   "cell_type": "code",
   "execution_count": 131,
   "metadata": {},
   "outputs": [],
   "source": [
    "# dodajemy warstwę wejściową\n",
    "# dla zdjęć input_shape=(H,W,C)\n",
    "model.add(layers.InputLayer(input_shape=x_train.shape[1]))"
   ]
  },
  {
   "cell_type": "code",
   "execution_count": 132,
   "metadata": {},
   "outputs": [],
   "source": [
    "# dodajemy warstwę ukrytą/gęstą/fully connected\n",
    "# dodajemy pierwszą ukrytą\n",
    "model.add(layers.Dense(3, activation=\"relu\", name=\"ukryta_1\"))\n",
    "# dodajemy drugą ukrytą\n",
    "#model.add(layers.Dense(50, activation=\"relu\", name=\"ukryta_2\"))\n",
    "# dodajemy trzecią ukrytą\n",
    "#model.add(layers.Dense(200, activation=\"relu\", name=\"ukryta_3\"))"
   ]
  },
  {
   "cell_type": "code",
   "execution_count": 133,
   "metadata": {},
   "outputs": [],
   "source": [
    "# dodajemy warstwę wyjściową\n",
    "model.add(layers.Dense(classNum, name=\"WYJSCIE\"))"
   ]
  },
  {
   "cell_type": "code",
   "execution_count": 134,
   "metadata": {},
   "outputs": [],
   "source": [
    "# dodajemy warstwę softmax\n",
    "model.add(layers.Softmax())"
   ]
  },
  {
   "cell_type": "code",
   "execution_count": 135,
   "metadata": {},
   "outputs": [
    {
     "name": "stdout",
     "output_type": "stream",
     "text": [
      "Model: \"sequential_4\"\n",
      "_________________________________________________________________\n",
      " Layer (type)                Output Shape              Param #   \n",
      "=================================================================\n",
      " ukryta_1 (Dense)            (None, 3)                 93        \n",
      "                                                                 \n",
      " WYJSCIE (Dense)             (None, 2)                 8         \n",
      "                                                                 \n",
      " softmax_4 (Softmax)         (None, 2)                 0         \n",
      "                                                                 \n",
      "=================================================================\n",
      "Total params: 101\n",
      "Trainable params: 101\n",
      "Non-trainable params: 0\n",
      "_________________________________________________________________\n"
     ]
    }
   ],
   "source": [
    "# podglądamy sieć\n",
    "model.summary()"
   ]
  },
  {
   "cell_type": "code",
   "execution_count": 136,
   "metadata": {},
   "outputs": [],
   "source": [
    "# optymalizator\n",
    "opt = tf.keras.optimizers.SGD(learning_rate=0.01)"
   ]
  },
  {
   "cell_type": "code",
   "execution_count": 137,
   "metadata": {},
   "outputs": [],
   "source": [
    "# funkcja kosztu\n",
    "loss = tf.keras.losses.BinaryCrossentropy()"
   ]
  },
  {
   "cell_type": "code",
   "execution_count": 138,
   "metadata": {},
   "outputs": [],
   "source": [
    "# kompilacja\n",
    "model.compile(optimizer=opt,\n",
    "              loss=loss,\n",
    "              metrics=['accuracy'])"
   ]
  },
  {
   "cell_type": "code",
   "execution_count": 139,
   "metadata": {},
   "outputs": [
    {
     "data": {
      "text/plain": [
       "(455, 30)"
      ]
     },
     "execution_count": 139,
     "metadata": {},
     "output_type": "execute_result"
    }
   ],
   "source": [
    "x_train.shape"
   ]
  },
  {
   "cell_type": "code",
   "execution_count": 140,
   "metadata": {},
   "outputs": [
    {
     "data": {
      "text/plain": [
       "4"
      ]
     },
     "execution_count": 140,
     "metadata": {},
     "output_type": "execute_result"
    }
   ],
   "source": [
    "int(455/100)"
   ]
  },
  {
   "cell_type": "code",
   "execution_count": 141,
   "metadata": {},
   "outputs": [
    {
     "data": {
      "text/plain": [
       "55"
      ]
     },
     "execution_count": 141,
     "metadata": {},
     "output_type": "execute_result"
    }
   ],
   "source": [
    "455%100"
   ]
  },
  {
   "cell_type": "code",
   "execution_count": 142,
   "metadata": {},
   "outputs": [
    {
     "name": "stdout",
     "output_type": "stream",
     "text": [
      "Epoch 1/100\n",
      "5/5 [==============================] - 0s 7ms/step - loss: 0.6958 - accuracy: 0.4132\n",
      "Epoch 2/100\n",
      "5/5 [==============================] - 0s 13ms/step - loss: 0.6936 - accuracy: 0.4769\n",
      "Epoch 3/100\n",
      "5/5 [==============================] - 0s 10ms/step - loss: 0.6915 - accuracy: 0.5275\n",
      "Epoch 4/100\n",
      "5/5 [==============================] - 0s 10ms/step - loss: 0.6893 - accuracy: 0.5824\n",
      "Epoch 5/100\n",
      "5/5 [==============================] - 0s 11ms/step - loss: 0.6873 - accuracy: 0.6220\n",
      "Epoch 6/100\n",
      "5/5 [==============================] - 0s 15ms/step - loss: 0.6854 - accuracy: 0.6462\n",
      "Epoch 7/100\n",
      "5/5 [==============================] - 0s 9ms/step - loss: 0.6837 - accuracy: 0.6769\n",
      "Epoch 8/100\n",
      "5/5 [==============================] - 0s 14ms/step - loss: 0.6821 - accuracy: 0.6879\n",
      "Epoch 9/100\n",
      "5/5 [==============================] - 0s 8ms/step - loss: 0.6806 - accuracy: 0.7011\n",
      "Epoch 10/100\n",
      "5/5 [==============================] - 0s 9ms/step - loss: 0.6789 - accuracy: 0.6923\n",
      "Epoch 11/100\n",
      "5/5 [==============================] - 0s 6ms/step - loss: 0.6775 - accuracy: 0.6857\n",
      "Epoch 12/100\n",
      "5/5 [==============================] - 0s 6ms/step - loss: 0.6762 - accuracy: 0.6747\n",
      "Epoch 13/100\n",
      "5/5 [==============================] - 0s 7ms/step - loss: 0.6750 - accuracy: 0.6549\n",
      "Epoch 14/100\n",
      "5/5 [==============================] - 0s 14ms/step - loss: 0.6738 - accuracy: 0.6462\n",
      "Epoch 15/100\n",
      "5/5 [==============================] - 0s 8ms/step - loss: 0.6726 - accuracy: 0.6396\n",
      "Epoch 16/100\n",
      "5/5 [==============================] - 0s 15ms/step - loss: 0.6714 - accuracy: 0.6330\n",
      "Epoch 17/100\n",
      "5/5 [==============================] - 0s 14ms/step - loss: 0.6703 - accuracy: 0.6286\n",
      "Epoch 18/100\n",
      "5/5 [==============================] - 0s 6ms/step - loss: 0.6691 - accuracy: 0.6330\n",
      "Epoch 19/100\n",
      "5/5 [==============================] - 0s 15ms/step - loss: 0.6681 - accuracy: 0.6264\n",
      "Epoch 20/100\n",
      "5/5 [==============================] - 0s 11ms/step - loss: 0.6671 - accuracy: 0.6264\n",
      "Epoch 21/100\n",
      "5/5 [==============================] - 0s 11ms/step - loss: 0.6662 - accuracy: 0.6264\n",
      "Epoch 22/100\n",
      "5/5 [==============================] - 0s 12ms/step - loss: 0.6652 - accuracy: 0.6264\n",
      "Epoch 23/100\n",
      "5/5 [==============================] - 0s 11ms/step - loss: 0.6643 - accuracy: 0.6264\n",
      "Epoch 24/100\n",
      "5/5 [==============================] - 0s 11ms/step - loss: 0.6635 - accuracy: 0.6264\n",
      "Epoch 25/100\n",
      "5/5 [==============================] - 0s 11ms/step - loss: 0.6626 - accuracy: 0.6264\n",
      "Epoch 26/100\n",
      "5/5 [==============================] - 0s 9ms/step - loss: 0.6617 - accuracy: 0.6264\n",
      "Epoch 27/100\n",
      "5/5 [==============================] - 0s 11ms/step - loss: 0.6609 - accuracy: 0.6286\n",
      "Epoch 28/100\n",
      "5/5 [==============================] - 0s 10ms/step - loss: 0.6602 - accuracy: 0.6286\n",
      "Epoch 29/100\n",
      "5/5 [==============================] - 0s 8ms/step - loss: 0.6595 - accuracy: 0.6286\n",
      "Epoch 30/100\n",
      "5/5 [==============================] - 0s 14ms/step - loss: 0.6587 - accuracy: 0.6286\n",
      "Epoch 31/100\n",
      "5/5 [==============================] - 0s 7ms/step - loss: 0.6578 - accuracy: 0.6286\n",
      "Epoch 32/100\n",
      "5/5 [==============================] - 0s 8ms/step - loss: 0.6571 - accuracy: 0.6286\n",
      "Epoch 33/100\n",
      "5/5 [==============================] - 0s 6ms/step - loss: 0.6563 - accuracy: 0.6286\n",
      "Epoch 34/100\n",
      "5/5 [==============================] - 0s 17ms/step - loss: 0.6555 - accuracy: 0.6264\n",
      "Epoch 35/100\n",
      "5/5 [==============================] - 0s 10ms/step - loss: 0.6549 - accuracy: 0.6264\n",
      "Epoch 36/100\n",
      "5/5 [==============================] - 0s 7ms/step - loss: 0.6542 - accuracy: 0.6264\n",
      "Epoch 37/100\n",
      "5/5 [==============================] - 0s 9ms/step - loss: 0.6535 - accuracy: 0.6264\n",
      "Epoch 38/100\n",
      "5/5 [==============================] - 0s 10ms/step - loss: 0.6528 - accuracy: 0.6264\n",
      "Epoch 39/100\n",
      "5/5 [==============================] - 0s 9ms/step - loss: 0.6521 - accuracy: 0.6264\n",
      "Epoch 40/100\n",
      "5/5 [==============================] - 0s 6ms/step - loss: 0.6515 - accuracy: 0.6264\n",
      "Epoch 41/100\n",
      "5/5 [==============================] - 0s 8ms/step - loss: 0.6507 - accuracy: 0.6264\n",
      "Epoch 42/100\n",
      "5/5 [==============================] - 0s 11ms/step - loss: 0.6501 - accuracy: 0.6264\n",
      "Epoch 43/100\n",
      "5/5 [==============================] - 0s 9ms/step - loss: 0.6494 - accuracy: 0.6264\n",
      "Epoch 44/100\n",
      "5/5 [==============================] - 0s 12ms/step - loss: 0.6487 - accuracy: 0.6264\n",
      "Epoch 45/100\n",
      "5/5 [==============================] - 0s 12ms/step - loss: 0.6480 - accuracy: 0.6264\n",
      "Epoch 46/100\n",
      "5/5 [==============================] - 0s 9ms/step - loss: 0.6474 - accuracy: 0.6264\n",
      "Epoch 47/100\n",
      "5/5 [==============================] - 0s 11ms/step - loss: 0.6467 - accuracy: 0.6264\n",
      "Epoch 48/100\n",
      "5/5 [==============================] - 0s 8ms/step - loss: 0.6460 - accuracy: 0.6264\n",
      "Epoch 49/100\n",
      "5/5 [==============================] - 0s 14ms/step - loss: 0.6453 - accuracy: 0.6264\n",
      "Epoch 50/100\n",
      "5/5 [==============================] - 0s 15ms/step - loss: 0.6446 - accuracy: 0.6264\n",
      "Epoch 51/100\n",
      "5/5 [==============================] - 0s 10ms/step - loss: 0.6440 - accuracy: 0.6264\n",
      "Epoch 52/100\n",
      "5/5 [==============================] - 0s 10ms/step - loss: 0.6432 - accuracy: 0.6264\n",
      "Epoch 53/100\n",
      "5/5 [==============================] - 0s 11ms/step - loss: 0.6426 - accuracy: 0.6264\n",
      "Epoch 54/100\n",
      "5/5 [==============================] - 0s 17ms/step - loss: 0.6418 - accuracy: 0.6264\n",
      "Epoch 55/100\n",
      "5/5 [==============================] - 0s 10ms/step - loss: 0.6411 - accuracy: 0.6264\n",
      "Epoch 56/100\n",
      "5/5 [==============================] - 0s 6ms/step - loss: 0.6404 - accuracy: 0.6264\n",
      "Epoch 57/100\n",
      "5/5 [==============================] - 0s 19ms/step - loss: 0.6396 - accuracy: 0.6264\n",
      "Epoch 58/100\n",
      "5/5 [==============================] - 0s 12ms/step - loss: 0.6389 - accuracy: 0.6264\n",
      "Epoch 59/100\n",
      "5/5 [==============================] - 0s 10ms/step - loss: 0.6382 - accuracy: 0.6264\n",
      "Epoch 60/100\n",
      "5/5 [==============================] - 0s 9ms/step - loss: 0.6374 - accuracy: 0.6286\n",
      "Epoch 61/100\n",
      "5/5 [==============================] - 0s 10ms/step - loss: 0.6367 - accuracy: 0.6264\n",
      "Epoch 62/100\n",
      "5/5 [==============================] - 0s 13ms/step - loss: 0.6359 - accuracy: 0.6286\n",
      "Epoch 63/100\n",
      "5/5 [==============================] - 0s 11ms/step - loss: 0.6351 - accuracy: 0.6286\n",
      "Epoch 64/100\n",
      "5/5 [==============================] - 0s 14ms/step - loss: 0.6344 - accuracy: 0.6286\n",
      "Epoch 65/100\n",
      "5/5 [==============================] - 0s 11ms/step - loss: 0.6335 - accuracy: 0.6330\n",
      "Epoch 66/100\n",
      "5/5 [==============================] - 0s 16ms/step - loss: 0.6327 - accuracy: 0.6330\n",
      "Epoch 67/100\n",
      "5/5 [==============================] - 0s 11ms/step - loss: 0.6319 - accuracy: 0.6330\n",
      "Epoch 68/100\n",
      "5/5 [==============================] - 0s 10ms/step - loss: 0.6310 - accuracy: 0.6330\n",
      "Epoch 69/100\n",
      "5/5 [==============================] - 0s 8ms/step - loss: 0.6302 - accuracy: 0.6330\n",
      "Epoch 70/100\n",
      "5/5 [==============================] - 0s 7ms/step - loss: 0.6294 - accuracy: 0.6330\n",
      "Epoch 71/100\n",
      "5/5 [==============================] - 0s 24ms/step - loss: 0.6284 - accuracy: 0.6352\n",
      "Epoch 72/100\n",
      "5/5 [==============================] - 0s 12ms/step - loss: 0.6276 - accuracy: 0.6352\n",
      "Epoch 73/100\n",
      "5/5 [==============================] - 0s 11ms/step - loss: 0.6266 - accuracy: 0.6352\n",
      "Epoch 74/100\n",
      "5/5 [==============================] - 0s 9ms/step - loss: 0.6257 - accuracy: 0.6352\n",
      "Epoch 75/100\n",
      "5/5 [==============================] - 0s 10ms/step - loss: 0.6249 - accuracy: 0.6352\n",
      "Epoch 76/100\n",
      "5/5 [==============================] - 0s 10ms/step - loss: 0.6239 - accuracy: 0.6352\n",
      "Epoch 77/100\n",
      "5/5 [==============================] - 0s 13ms/step - loss: 0.6230 - accuracy: 0.6352\n",
      "Epoch 78/100\n",
      "5/5 [==============================] - 0s 8ms/step - loss: 0.6219 - accuracy: 0.6352\n",
      "Epoch 79/100\n",
      "5/5 [==============================] - 0s 11ms/step - loss: 0.6209 - accuracy: 0.6352\n",
      "Epoch 80/100\n",
      "5/5 [==============================] - 0s 10ms/step - loss: 0.6199 - accuracy: 0.6396\n",
      "Epoch 81/100\n",
      "5/5 [==============================] - 0s 16ms/step - loss: 0.6189 - accuracy: 0.6440\n",
      "Epoch 82/100\n",
      "5/5 [==============================] - 0s 12ms/step - loss: 0.6178 - accuracy: 0.6484\n",
      "Epoch 83/100\n",
      "5/5 [==============================] - 0s 11ms/step - loss: 0.6168 - accuracy: 0.6484\n",
      "Epoch 84/100\n"
     ]
    },
    {
     "name": "stdout",
     "output_type": "stream",
     "text": [
      "5/5 [==============================] - 0s 15ms/step - loss: 0.6157 - accuracy: 0.6462\n",
      "Epoch 85/100\n",
      "5/5 [==============================] - 0s 12ms/step - loss: 0.6146 - accuracy: 0.6462\n",
      "Epoch 86/100\n",
      "5/5 [==============================] - 0s 6ms/step - loss: 0.6136 - accuracy: 0.6527\n",
      "Epoch 87/100\n",
      "5/5 [==============================] - 0s 12ms/step - loss: 0.6125 - accuracy: 0.6527\n",
      "Epoch 88/100\n",
      "5/5 [==============================] - 0s 14ms/step - loss: 0.6113 - accuracy: 0.6527\n",
      "Epoch 89/100\n",
      "5/5 [==============================] - 0s 9ms/step - loss: 0.6101 - accuracy: 0.6527\n",
      "Epoch 90/100\n",
      "5/5 [==============================] - 0s 8ms/step - loss: 0.6089 - accuracy: 0.6549\n",
      "Epoch 91/100\n",
      "5/5 [==============================] - 0s 10ms/step - loss: 0.6078 - accuracy: 0.6549\n",
      "Epoch 92/100\n",
      "5/5 [==============================] - 0s 7ms/step - loss: 0.6065 - accuracy: 0.6549\n",
      "Epoch 93/100\n",
      "5/5 [==============================] - 0s 8ms/step - loss: 0.6053 - accuracy: 0.6637\n",
      "Epoch 94/100\n",
      "5/5 [==============================] - 0s 8ms/step - loss: 0.6041 - accuracy: 0.6659\n",
      "Epoch 95/100\n",
      "5/5 [==============================] - 0s 8ms/step - loss: 0.6029 - accuracy: 0.6747\n",
      "Epoch 96/100\n",
      "5/5 [==============================] - 0s 7ms/step - loss: 0.6016 - accuracy: 0.6791\n",
      "Epoch 97/100\n",
      "5/5 [==============================] - 0s 9ms/step - loss: 0.6003 - accuracy: 0.6791\n",
      "Epoch 98/100\n",
      "5/5 [==============================] - 0s 7ms/step - loss: 0.5990 - accuracy: 0.6923\n",
      "Epoch 99/100\n",
      "5/5 [==============================] - 0s 10ms/step - loss: 0.5977 - accuracy: 0.6901\n",
      "Epoch 100/100\n",
      "5/5 [==============================] - 0s 12ms/step - loss: 0.5964 - accuracy: 0.6945\n"
     ]
    }
   ],
   "source": [
    "# trenujemy\n",
    "results = model.fit(x_train, y_train, batch_size=100, epochs=100, verbose=1)"
   ]
  },
  {
   "cell_type": "code",
   "execution_count": 143,
   "metadata": {},
   "outputs": [
    {
     "data": {
      "text/plain": [
       "dict_keys(['loss', 'accuracy'])"
      ]
     },
     "execution_count": 143,
     "metadata": {},
     "output_type": "execute_result"
    }
   ],
   "source": [
    "results.history.keys()"
   ]
  },
  {
   "cell_type": "code",
   "execution_count": 144,
   "metadata": {},
   "outputs": [
    {
     "data": {
      "image/png": "[encoded data removed]",
      "text/plain": [
       "<Figure size 1440x720 with 1 Axes>"
      ]
     },
     "metadata": {},
     "output_type": "display_data"
    }
   ],
   "source": [
    "fig=plt.figure(figsize=(20,10))\n",
    "plt.plot(results.history['loss'])\n",
    "plt.title(\"loss\")\n",
    "plt.show()"
   ]
  },
  {
   "cell_type": "code",
   "execution_count": 145,
   "metadata": {},
   "outputs": [
    {
     "data": {
      "image/png": "[encoded data removed]",
      "text/plain": [
       "<Figure size 1440x720 with 1 Axes>"
      ]
     },
     "metadata": {},
     "output_type": "display_data"
    }
   ],
   "source": [
    "fig=plt.figure(figsize=(20,10))\n",
    "plt.plot(results.history['accuracy'])\n",
    "plt.title(\"accuracy\")\n",
    "plt.show()"
   ]
  },
  {
   "cell_type": "markdown",
   "metadata": {},
   "source": [
    "### Szybki test"
   ]
  },
  {
   "cell_type": "code",
   "execution_count": 146,
   "metadata": {},
   "outputs": [
    {
     "data": {
      "text/plain": [
       "array([[0.18879268, 0.2532973 , 0.19307584, 0.09671262, 0.32969216,\n",
       "        0.28194588, 0.22157921, 0.17957257, 0.2166667 , 0.34625113,\n",
       "        0.05283361, 0.2244961 , 0.0965462 , 0.02119545, 0.23292656,\n",
       "        0.33142066, 0.16237374, 0.3349119 , 0.10240896, 0.14099747,\n",
       "        0.15759516, 0.39578894, 0.19786844, 0.07156901, 0.44859013,\n",
       "        0.36956078, 0.38170928, 0.5343642 , 0.19219398, 0.26420048],\n",
       "       [0.48790762, 0.42002025, 0.4879414 , 0.34116647, 0.33727542,\n",
       "        0.33102262, 0.22720243, 0.37311134, 0.529293  , 0.09856784,\n",
       "        0.2619229 , 0.2812942 , 0.25392264, 0.15715039, 0.17010573,\n",
       "        0.43228588, 0.11712121, 0.40708467, 0.27562332, 0.17077789,\n",
       "        0.4432586 , 0.4056503 , 0.43572885, 0.27275854, 0.27887473,\n",
       "        0.2516809 , 0.18354633, 0.52508587, 0.29607725, 0.12987015]],\n",
       "      dtype=float32)"
      ]
     },
     "execution_count": 146,
     "metadata": {},
     "output_type": "execute_result"
    }
   ],
   "source": [
    "x_test[:2]"
   ]
  },
  {
   "cell_type": "code",
   "execution_count": 151,
   "metadata": {},
   "outputs": [
    {
     "name": "stdout",
     "output_type": "stream",
     "text": [
      "4/4 [==============================] - 0s 5ms/step - loss: 0.5917 - accuracy: 0.7193\n"
     ]
    },
    {
     "data": {
      "text/plain": [
       "[0.5917389392852783, 0.719298243522644]"
      ]
     },
     "execution_count": 151,
     "metadata": {},
     "output_type": "execute_result"
    }
   ],
   "source": [
    "model.evaluate(x_test, y_test)"
   ]
  },
  {
   "cell_type": "code",
   "execution_count": 156,
   "metadata": {},
   "outputs": [
    {
     "data": {
      "text/plain": [
       "array([[0.44615352, 0.5538464 ],\n",
       "       [0.4141826 , 0.58581746]], dtype=float32)"
      ]
     },
     "execution_count": 156,
     "metadata": {},
     "output_type": "execute_result"
    }
   ],
   "source": [
    "model.predict(x_test[:2])"
   ]
  },
  {
   "cell_type": "code",
   "execution_count": 155,
   "metadata": {},
   "outputs": [
    {
     "data": {
      "text/plain": [
       "array([1, 1], dtype=int64)"
      ]
     },
     "execution_count": 155,
     "metadata": {},
     "output_type": "execute_result"
    }
   ],
   "source": [
    "model.predict(x_test[:2]).argmax(axis=1)"
   ]
  },
  {
   "cell_type": "code",
   "execution_count": 160,
   "metadata": {},
   "outputs": [
    {
     "data": {
      "text/plain": [
       "array([[0., 1.],\n",
       "       [1., 0.]], dtype=float32)"
      ]
     },
     "execution_count": 160,
     "metadata": {},
     "output_type": "execute_result"
    }
   ],
   "source": [
    "y_test[:2]"
   ]
  },
  {
   "cell_type": "code",
   "execution_count": 159,
   "metadata": {},
   "outputs": [
    {
     "data": {
      "text/plain": [
       "array([1, 0], dtype=int64)"
      ]
     },
     "execution_count": 159,
     "metadata": {},
     "output_type": "execute_result"
    }
   ],
   "source": [
    "y_test[:2].argmax(axis=1)"
   ]
  },
  {
   "cell_type": "code",
   "execution_count": 157,
   "metadata": {},
   "outputs": [
    {
     "name": "stdout",
     "output_type": "stream",
     "text": [
      "              precision    recall  f1-score   support\n",
      "\n",
      "           0       0.92      0.26      0.41        42\n",
      "           1       0.70      0.99      0.82        72\n",
      "\n",
      "    accuracy                           0.72       114\n",
      "   macro avg       0.81      0.62      0.61       114\n",
      "weighted avg       0.78      0.72      0.67       114\n",
      "\n"
     ]
    }
   ],
   "source": [
    "print(classification_report(y_test.argmax(axis=1), model.predict(x_test).argmax(axis=1)))"
   ]
  },
  {
   "cell_type": "markdown",
   "metadata": {},
   "source": [
    "### Zamknięcie wszystkiego w jedną funkcję"
   ]
  },
  {
   "cell_type": "code",
   "execution_count": 163,
   "metadata": {},
   "outputs": [],
   "source": [
    "def create_model(hNum, act):\n",
    "    model = tf.keras.Sequential()\n",
    "    model.add(layers.InputLayer(input_shape=(x_train.shape[1])))\n",
    "    model.add(layers.Dense(hNum, activation=act, name=\"ukryta\"))\n",
    "    model.add(layers.Dense(classNum, name=\"wyjscie\"))\n",
    "    model.add(layers.Softmax())\n",
    "    print(model.summary())\n",
    "    \n",
    "    opt = tf.keras.optimizers.SGD()\n",
    "    \n",
    "    model.compile(optimizer=opt,\n",
    "              loss=tf.keras.losses.BinaryCrossentropy(),\n",
    "              metrics=['accuracy'])\n",
    "    \n",
    "    return model"
   ]
  },
  {
   "cell_type": "code",
   "execution_count": 170,
   "metadata": {},
   "outputs": [
    {
     "name": "stdout",
     "output_type": "stream",
     "text": [
      "Model: \"sequential_7\"\n",
      "_________________________________________________________________\n",
      " Layer (type)                Output Shape              Param #   \n",
      "=================================================================\n",
      " ukryta (Dense)              (None, 30)                930       \n",
      "                                                                 \n",
      " wyjscie (Dense)             (None, 2)                 62        \n",
      "                                                                 \n",
      " softmax_7 (Softmax)         (None, 2)                 0         \n",
      "                                                                 \n",
      "=================================================================\n",
      "Total params: 992\n",
      "Trainable params: 992\n",
      "Non-trainable params: 0\n",
      "_________________________________________________________________\n",
      "None\n"
     ]
    }
   ],
   "source": [
    "model_from_fun = create_model(30, \"relu\")"
   ]
  },
  {
   "cell_type": "code",
   "execution_count": 171,
   "metadata": {},
   "outputs": [],
   "source": [
    "results = model_from_fun.fit(x_train, y_train, batch_size=100, epochs=200, verbose=0)"
   ]
  },
  {
   "cell_type": "code",
   "execution_count": 172,
   "metadata": {},
   "outputs": [
    {
     "data": {
      "image/png": "[encoded data removed]",
      "text/plain": [
       "<Figure size 1440x720 with 1 Axes>"
      ]
     },
     "metadata": {},
     "output_type": "display_data"
    }
   ],
   "source": [
    "fig = plt.figure(figsize=(20,10))\n",
    "plt.plot(results.history[\"loss\"])\n",
    "plt.title(\"loss\")\n",
    "plt.show()"
   ]
  },
  {
   "cell_type": "code",
   "execution_count": 173,
   "metadata": {},
   "outputs": [
    {
     "data": {
      "image/png": "[encoded data removed]",
      "text/plain": [
       "<Figure size 1440x720 with 1 Axes>"
      ]
     },
     "metadata": {},
     "output_type": "display_data"
    }
   ],
   "source": [
    "fig=plt.figure(figsize=(20,10))\n",
    "plt.plot(results.history['accuracy'])\n",
    "plt.title(\"accuracy\")\n",
    "plt.show()"
   ]
  },
  {
   "cell_type": "code",
   "execution_count": 174,
   "metadata": {},
   "outputs": [
    {
     "name": "stdout",
     "output_type": "stream",
     "text": [
      "              precision    recall  f1-score   support\n",
      "\n",
      "           0       0.97      0.88      0.93        42\n",
      "           1       0.93      0.99      0.96        72\n",
      "\n",
      "    accuracy                           0.95       114\n",
      "   macro avg       0.95      0.93      0.94       114\n",
      "weighted avg       0.95      0.95      0.95       114\n",
      "\n"
     ]
    }
   ],
   "source": [
    "print(classification_report(y_test.argmax(axis=1), model_from_fun.predict(x_test).argmax(axis=1)))"
   ]
  },
  {
   "cell_type": "code",
   "execution_count": 175,
   "metadata": {},
   "outputs": [
    {
     "data": {
      "text/plain": [
       "array([[0.32854414, 0.67145586],\n",
       "       [0.7694135 , 0.23058653]], dtype=float32)"
      ]
     },
     "execution_count": 175,
     "metadata": {},
     "output_type": "execute_result"
    }
   ],
   "source": [
    "model_from_fun.predict(x_test[:2])"
   ]
  },
  {
   "cell_type": "markdown",
   "metadata": {},
   "source": [
    "### Zapisywanie i wczytywanie modelu\n",
    "podstawowym formatem modelu kerasa jest .h5"
   ]
  },
  {
   "cell_type": "code",
   "execution_count": null,
   "metadata": {},
   "outputs": [],
   "source": [
    "#model_from_fun.save()"
   ]
  },
  {
   "cell_type": "code",
   "execution_count": null,
   "metadata": {},
   "outputs": [],
   "source": [
    "model_from_fun.save_weights(\"weights/model_from_fun\")"
   ]
  },
  {
   "cell_type": "code",
   "execution_count": null,
   "metadata": {},
   "outputs": [],
   "source": [
    "model_loaded = create_model(10, \"relu\")"
   ]
  },
  {
   "cell_type": "code",
   "execution_count": null,
   "metadata": {},
   "outputs": [],
   "source": [
    "# jakość modelu przed wczytaniem wag\n",
    "y_pred = model_loaded.predict(x_test)\n",
    "print(classification_report(y_test.argmax(axis=1), y_pred.argmax(axis=1)))"
   ]
  },
  {
   "cell_type": "code",
   "execution_count": null,
   "metadata": {},
   "outputs": [],
   "source": [
    "model_loaded.load_weights(\"weights/model_from_fun\")"
   ]
  },
  {
   "cell_type": "code",
   "execution_count": null,
   "metadata": {},
   "outputs": [],
   "source": [
    "y_pred = model_loaded.predict(x_test)\n",
    "print(classification_report(y_test.argmax(axis=1), y_pred.argmax(axis=1)))"
   ]
  },
  {
   "cell_type": "code",
   "execution_count": null,
   "metadata": {},
   "outputs": [],
   "source": [
    "ls weights"
   ]
  },
  {
   "cell_type": "code",
   "execution_count": null,
   "metadata": {},
   "outputs": [],
   "source": [
    "# zapisywanie całego obiektu\n",
    "model_from_fun.save(\"model/simple.h5\")"
   ]
  },
  {
   "cell_type": "code",
   "execution_count": null,
   "metadata": {},
   "outputs": [],
   "source": [
    "ls model"
   ]
  },
  {
   "cell_type": "code",
   "execution_count": null,
   "metadata": {},
   "outputs": [],
   "source": [
    "# wczytanie\n",
    "model_loaded_h5 = tf.keras.models.load_model(\"model/simple.h5\")"
   ]
  },
  {
   "cell_type": "code",
   "execution_count": null,
   "metadata": {},
   "outputs": [],
   "source": [
    "y_pred = model_loaded_h5.predict(x_test)\n",
    "print(classification_report(y_test.argmax(axis=1), y_pred.argmax(axis=1)))"
   ]
  },
  {
   "cell_type": "markdown",
   "metadata": {},
   "source": [
    "## Zadanie - regresja cen nieruchomości\n",
    "- wczytaj i przeanalizuj zbiór ```from sklearn.datasets import load_boston```\n",
    "- zbuduj sieć do regresji\n",
    "    - określ ile jest wejść i wyjść\n",
    "    - stwórz model sekwencyjny składający się z kilku warstw gęstych\n",
    "    - warto dodać mechanizm automatycznego rozszerzania się modelu względem jakiegoś parametru\n",
    "    - zastosuj odpowiednią dla regresji funkcję błędu\n",
    "- po przeprowadzeniu treningu zastosuj odpowiednią metrykę do sprawdzenia jakości modelu"
   ]
  },
  {
   "cell_type": "markdown",
   "metadata": {},
   "source": [
    "### Wczytywanie danych"
   ]
  },
  {
   "cell_type": "code",
   "execution_count": 176,
   "metadata": {},
   "outputs": [
    {
     "name": "stdout",
     "output_type": "stream",
     "text": [
      ".. _boston_dataset:\n",
      "\n",
      "Boston house prices dataset\n",
      "---------------------------\n",
      "\n",
      "**Data Set Characteristics:**  \n",
      "\n",
      "    :Number of Instances: 506 \n",
      "\n",
      "    :Number of Attributes: 13 numeric/categorical predictive. Median Value (attribute 14) is usually the target.\n",
      "\n",
      "    :Attribute Information (in order):\n",
      "        - CRIM     per capita crime rate by town\n",
      "        - ZN       proportion of residential land zoned for lots over 25,000 sq.ft.\n",
      "        - INDUS    proportion of non-retail business acres per town\n",
      "        - CHAS     Charles River dummy variable (= 1 if tract bounds river; 0 otherwise)\n",
      "        - NOX      nitric oxides concentration (parts per 10 million)\n",
      "        - RM       average number of rooms per dwelling\n",
      "        - AGE      proportion of owner-occupied units built prior to 1940\n",
      "        - DIS      weighted distances to five Boston employment centres\n",
      "        - RAD      index of accessibility to radial highways\n",
      "        - TAX      full-value property-tax rate per $10,000\n",
      "        - PTRATIO  pupil-teacher ratio by town\n",
      "        - B        1000(Bk - 0.63)^2 where Bk is the proportion of black people by town\n",
      "        - LSTAT    % lower status of the population\n",
      "        - MEDV     Median value of owner-occupied homes in $1000's\n",
      "\n",
      "    :Missing Attribute Values: None\n",
      "\n",
      "    :Creator: Harrison, D. and Rubinfeld, D.L.\n",
      "\n",
      "This is a copy of UCI ML housing dataset.\n",
      "https://archive.ics.uci.edu/ml/machine-learning-databases/housing/\n",
      "\n",
      "\n",
      "This dataset was taken from the StatLib library which is maintained at Carnegie Mellon University.\n",
      "\n",
      "The Boston house-price data of Harrison, D. and Rubinfeld, D.L. 'Hedonic\n",
      "prices and the demand for clean air', J. Environ. Economics & Management,\n",
      "vol.5, 81-102, 1978.   Used in Belsley, Kuh & Welsch, 'Regression diagnostics\n",
      "...', Wiley, 1980.   N.B. Various transformations are used in the table on\n",
      "pages 244-261 of the latter.\n",
      "\n",
      "The Boston house-price data has been used in many machine learning papers that address regression\n",
      "problems.   \n",
      "     \n",
      ".. topic:: References\n",
      "\n",
      "   - Belsley, Kuh & Welsch, 'Regression diagnostics: Identifying Influential Data and Sources of Collinearity', Wiley, 1980. 244-261.\n",
      "   - Quinlan,R. (1993). Combining Instance-Based and Model-Based Learning. In Proceedings on the Tenth International Conference of Machine Learning, 236-243, University of Massachusetts, Amherst. Morgan Kaufmann.\n",
      "\n"
     ]
    },
    {
     "name": "stderr",
     "output_type": "stream",
     "text": [
      "C:\\Users\\cielakos\\miniconda3\\envs\\dl\\lib\\site-packages\\sklearn\\utils\\deprecation.py:87: FutureWarning: Function load_boston is deprecated; `load_boston` is deprecated in 1.0 and will be removed in 1.2.\n",
      "\n",
      "    The Boston housing prices dataset has an ethical problem. You can refer to\n",
      "    the documentation of this function for further details.\n",
      "\n",
      "    The scikit-learn maintainers therefore strongly discourage the use of this\n",
      "    dataset unless the purpose of the code is to study and educate about\n",
      "    ethical issues in data science and machine learning.\n",
      "\n",
      "    In this special case, you can fetch the dataset from the original\n",
      "    source::\n",
      "\n",
      "        import pandas as pd\n",
      "        import numpy as np\n",
      "\n",
      "\n",
      "        data_url = \"http://lib.stat.cmu.edu/datasets/boston\"\n",
      "        raw_df = pd.read_csv(data_url, sep=\"\\s+\", skiprows=22, header=None)\n",
      "        data = np.hstack([raw_df.values[::2, :], raw_df.values[1::2, :2]])\n",
      "        target = raw_df.values[1::2, 2]\n",
      "\n",
      "    Alternative datasets include the California housing dataset (i.e.\n",
      "    :func:`~sklearn.datasets.fetch_california_housing`) and the Ames housing\n",
      "    dataset. You can load the datasets as follows::\n",
      "\n",
      "        from sklearn.datasets import fetch_california_housing\n",
      "        housing = fetch_california_housing()\n",
      "\n",
      "    for the California housing dataset and::\n",
      "\n",
      "        from sklearn.datasets import fetch_openml\n",
      "        housing = fetch_openml(name=\"house_prices\", as_frame=True)\n",
      "\n",
      "    for the Ames housing dataset.\n",
      "    \n",
      "  warnings.warn(msg, category=FutureWarning)\n"
     ]
    }
   ],
   "source": [
    "from sklearn.datasets import load_boston\n",
    "data = load_boston()\n",
    "print(data.DESCR)"
   ]
  },
  {
   "cell_type": "markdown",
   "metadata": {},
   "source": [
    "### Obróbka danych"
   ]
  },
  {
   "cell_type": "code",
   "execution_count": 177,
   "metadata": {},
   "outputs": [
    {
     "data": {
      "text/html": [
       "<div>\n",
       "<style scoped>\n",
       "    .dataframe tbody tr th:only-of-type {\n",
       "        vertical-align: middle;\n",
       "    }\n",
       "\n",
       "    .dataframe tbody tr th {\n",
       "        vertical-align: top;\n",
       "    }\n",
       "\n",
       "    .dataframe thead th {\n",
       "        text-align: right;\n",
       "    }\n",
       "</style>\n",
       "<table border=\"1\" class=\"dataframe\">\n",
       "  <thead>\n",
       "    <tr style=\"text-align: right;\">\n",
       "      <th></th>\n",
       "      <th>CRIM</th>\n",
       "      <th>ZN</th>\n",
       "      <th>INDUS</th>\n",
       "      <th>CHAS</th>\n",
       "      <th>NOX</th>\n",
       "      <th>RM</th>\n",
       "      <th>AGE</th>\n",
       "      <th>DIS</th>\n",
       "      <th>RAD</th>\n",
       "      <th>TAX</th>\n",
       "      <th>PTRATIO</th>\n",
       "      <th>B</th>\n",
       "      <th>LSTAT</th>\n",
       "    </tr>\n",
       "  </thead>\n",
       "  <tbody>\n",
       "    <tr>\n",
       "      <th>0</th>\n",
       "      <td>0.00632</td>\n",
       "      <td>18.0</td>\n",
       "      <td>2.31</td>\n",
       "      <td>0.0</td>\n",
       "      <td>0.538</td>\n",
       "      <td>6.575</td>\n",
       "      <td>65.2</td>\n",
       "      <td>4.0900</td>\n",
       "      <td>1.0</td>\n",
       "      <td>296.0</td>\n",
       "      <td>15.3</td>\n",
       "      <td>396.90</td>\n",
       "      <td>4.98</td>\n",
       "    </tr>\n",
       "    <tr>\n",
       "      <th>1</th>\n",
       "      <td>0.02731</td>\n",
       "      <td>0.0</td>\n",
       "      <td>7.07</td>\n",
       "      <td>0.0</td>\n",
       "      <td>0.469</td>\n",
       "      <td>6.421</td>\n",
       "      <td>78.9</td>\n",
       "      <td>4.9671</td>\n",
       "      <td>2.0</td>\n",
       "      <td>242.0</td>\n",
       "      <td>17.8</td>\n",
       "      <td>396.90</td>\n",
       "      <td>9.14</td>\n",
       "    </tr>\n",
       "    <tr>\n",
       "      <th>2</th>\n",
       "      <td>0.02729</td>\n",
       "      <td>0.0</td>\n",
       "      <td>7.07</td>\n",
       "      <td>0.0</td>\n",
       "      <td>0.469</td>\n",
       "      <td>7.185</td>\n",
       "      <td>61.1</td>\n",
       "      <td>4.9671</td>\n",
       "      <td>2.0</td>\n",
       "      <td>242.0</td>\n",
       "      <td>17.8</td>\n",
       "      <td>392.83</td>\n",
       "      <td>4.03</td>\n",
       "    </tr>\n",
       "    <tr>\n",
       "      <th>3</th>\n",
       "      <td>0.03237</td>\n",
       "      <td>0.0</td>\n",
       "      <td>2.18</td>\n",
       "      <td>0.0</td>\n",
       "      <td>0.458</td>\n",
       "      <td>6.998</td>\n",
       "      <td>45.8</td>\n",
       "      <td>6.0622</td>\n",
       "      <td>3.0</td>\n",
       "      <td>222.0</td>\n",
       "      <td>18.7</td>\n",
       "      <td>394.63</td>\n",
       "      <td>2.94</td>\n",
       "    </tr>\n",
       "    <tr>\n",
       "      <th>4</th>\n",
       "      <td>0.06905</td>\n",
       "      <td>0.0</td>\n",
       "      <td>2.18</td>\n",
       "      <td>0.0</td>\n",
       "      <td>0.458</td>\n",
       "      <td>7.147</td>\n",
       "      <td>54.2</td>\n",
       "      <td>6.0622</td>\n",
       "      <td>3.0</td>\n",
       "      <td>222.0</td>\n",
       "      <td>18.7</td>\n",
       "      <td>396.90</td>\n",
       "      <td>5.33</td>\n",
       "    </tr>\n",
       "  </tbody>\n",
       "</table>\n",
       "</div>"
      ],
      "text/plain": [
       "      CRIM    ZN  INDUS  CHAS    NOX     RM   AGE     DIS  RAD    TAX  \\\n",
       "0  0.00632  18.0   2.31   0.0  0.538  6.575  65.2  4.0900  1.0  296.0   \n",
       "1  0.02731   0.0   7.07   0.0  0.469  6.421  78.9  4.9671  2.0  242.0   \n",
       "2  0.02729   0.0   7.07   0.0  0.469  7.185  61.1  4.9671  2.0  242.0   \n",
       "3  0.03237   0.0   2.18   0.0  0.458  6.998  45.8  6.0622  3.0  222.0   \n",
       "4  0.06905   0.0   2.18   0.0  0.458  7.147  54.2  6.0622  3.0  222.0   \n",
       "\n",
       "   PTRATIO       B  LSTAT  \n",
       "0     15.3  396.90   4.98  \n",
       "1     17.8  396.90   9.14  \n",
       "2     17.8  392.83   4.03  \n",
       "3     18.7  394.63   2.94  \n",
       "4     18.7  396.90   5.33  "
      ]
     },
     "execution_count": 177,
     "metadata": {},
     "output_type": "execute_result"
    }
   ],
   "source": [
    "dfX = pd.DataFrame(data=data.data, columns=data.feature_names)\n",
    "dfX.head()"
   ]
  },
  {
   "cell_type": "code",
   "execution_count": 178,
   "metadata": {},
   "outputs": [
    {
     "name": "stdout",
     "output_type": "stream",
     "text": [
      "CHAS unique [0. 1.]\n",
      "RAD unique [ 1.  2.  3.  5.  4.  8.  6.  7. 24.]\n"
     ]
    }
   ],
   "source": [
    "# zauważmy, że zmienna \"CHAS\" i \"RAD\" jest jakościowa\n",
    "print(f\"CHAS unique {pd.unique(dfX['CHAS'])}\")\n",
    "print(f\"RAD unique {pd.unique(dfX['RAD'])}\")"
   ]
  },
  {
   "cell_type": "code",
   "execution_count": 179,
   "metadata": {},
   "outputs": [
    {
     "data": {
      "text/html": [
       "<div>\n",
       "<style scoped>\n",
       "    .dataframe tbody tr th:only-of-type {\n",
       "        vertical-align: middle;\n",
       "    }\n",
       "\n",
       "    .dataframe tbody tr th {\n",
       "        vertical-align: top;\n",
       "    }\n",
       "\n",
       "    .dataframe thead th {\n",
       "        text-align: right;\n",
       "    }\n",
       "</style>\n",
       "<table border=\"1\" class=\"dataframe\">\n",
       "  <thead>\n",
       "    <tr style=\"text-align: right;\">\n",
       "      <th></th>\n",
       "      <th>CRIM</th>\n",
       "      <th>ZN</th>\n",
       "      <th>INDUS</th>\n",
       "      <th>NOX</th>\n",
       "      <th>RM</th>\n",
       "      <th>AGE</th>\n",
       "      <th>DIS</th>\n",
       "      <th>TAX</th>\n",
       "      <th>PTRATIO</th>\n",
       "      <th>B</th>\n",
       "      <th>LSTAT</th>\n",
       "    </tr>\n",
       "  </thead>\n",
       "  <tbody>\n",
       "    <tr>\n",
       "      <th>0</th>\n",
       "      <td>0.00632</td>\n",
       "      <td>18.0</td>\n",
       "      <td>2.31</td>\n",
       "      <td>0.538</td>\n",
       "      <td>6.575</td>\n",
       "      <td>65.2</td>\n",
       "      <td>4.0900</td>\n",
       "      <td>296.0</td>\n",
       "      <td>15.3</td>\n",
       "      <td>396.90</td>\n",
       "      <td>4.98</td>\n",
       "    </tr>\n",
       "    <tr>\n",
       "      <th>1</th>\n",
       "      <td>0.02731</td>\n",
       "      <td>0.0</td>\n",
       "      <td>7.07</td>\n",
       "      <td>0.469</td>\n",
       "      <td>6.421</td>\n",
       "      <td>78.9</td>\n",
       "      <td>4.9671</td>\n",
       "      <td>242.0</td>\n",
       "      <td>17.8</td>\n",
       "      <td>396.90</td>\n",
       "      <td>9.14</td>\n",
       "    </tr>\n",
       "    <tr>\n",
       "      <th>2</th>\n",
       "      <td>0.02729</td>\n",
       "      <td>0.0</td>\n",
       "      <td>7.07</td>\n",
       "      <td>0.469</td>\n",
       "      <td>7.185</td>\n",
       "      <td>61.1</td>\n",
       "      <td>4.9671</td>\n",
       "      <td>242.0</td>\n",
       "      <td>17.8</td>\n",
       "      <td>392.83</td>\n",
       "      <td>4.03</td>\n",
       "    </tr>\n",
       "    <tr>\n",
       "      <th>3</th>\n",
       "      <td>0.03237</td>\n",
       "      <td>0.0</td>\n",
       "      <td>2.18</td>\n",
       "      <td>0.458</td>\n",
       "      <td>6.998</td>\n",
       "      <td>45.8</td>\n",
       "      <td>6.0622</td>\n",
       "      <td>222.0</td>\n",
       "      <td>18.7</td>\n",
       "      <td>394.63</td>\n",
       "      <td>2.94</td>\n",
       "    </tr>\n",
       "    <tr>\n",
       "      <th>4</th>\n",
       "      <td>0.06905</td>\n",
       "      <td>0.0</td>\n",
       "      <td>2.18</td>\n",
       "      <td>0.458</td>\n",
       "      <td>7.147</td>\n",
       "      <td>54.2</td>\n",
       "      <td>6.0622</td>\n",
       "      <td>222.0</td>\n",
       "      <td>18.7</td>\n",
       "      <td>396.90</td>\n",
       "      <td>5.33</td>\n",
       "    </tr>\n",
       "  </tbody>\n",
       "</table>\n",
       "</div>"
      ],
      "text/plain": [
       "      CRIM    ZN  INDUS    NOX     RM   AGE     DIS    TAX  PTRATIO       B  \\\n",
       "0  0.00632  18.0   2.31  0.538  6.575  65.2  4.0900  296.0     15.3  396.90   \n",
       "1  0.02731   0.0   7.07  0.469  6.421  78.9  4.9671  242.0     17.8  396.90   \n",
       "2  0.02729   0.0   7.07  0.469  7.185  61.1  4.9671  242.0     17.8  392.83   \n",
       "3  0.03237   0.0   2.18  0.458  6.998  45.8  6.0622  222.0     18.7  394.63   \n",
       "4  0.06905   0.0   2.18  0.458  7.147  54.2  6.0622  222.0     18.7  396.90   \n",
       "\n",
       "   LSTAT  \n",
       "0   4.98  \n",
       "1   9.14  \n",
       "2   4.03  \n",
       "3   2.94  \n",
       "4   5.33  "
      ]
     },
     "execution_count": 179,
     "metadata": {},
     "output_type": "execute_result"
    }
   ],
   "source": [
    "# wydzielamy zmienne ilościowe\n",
    "dfX_qt = dfX.drop(labels=[\"CHAS\", \"RAD\"], axis=1)\n",
    "dfX_qt.head()"
   ]
  },
  {
   "cell_type": "code",
   "execution_count": 180,
   "metadata": {},
   "outputs": [
    {
     "data": {
      "text/html": [
       "<div>\n",
       "<style scoped>\n",
       "    .dataframe tbody tr th:only-of-type {\n",
       "        vertical-align: middle;\n",
       "    }\n",
       "\n",
       "    .dataframe tbody tr th {\n",
       "        vertical-align: top;\n",
       "    }\n",
       "\n",
       "    .dataframe thead th {\n",
       "        text-align: right;\n",
       "    }\n",
       "</style>\n",
       "<table border=\"1\" class=\"dataframe\">\n",
       "  <thead>\n",
       "    <tr style=\"text-align: right;\">\n",
       "      <th></th>\n",
       "      <th>CHAS</th>\n",
       "      <th>RAD</th>\n",
       "    </tr>\n",
       "  </thead>\n",
       "  <tbody>\n",
       "    <tr>\n",
       "      <th>0</th>\n",
       "      <td>0.0</td>\n",
       "      <td>1.0</td>\n",
       "    </tr>\n",
       "    <tr>\n",
       "      <th>1</th>\n",
       "      <td>0.0</td>\n",
       "      <td>2.0</td>\n",
       "    </tr>\n",
       "    <tr>\n",
       "      <th>2</th>\n",
       "      <td>0.0</td>\n",
       "      <td>2.0</td>\n",
       "    </tr>\n",
       "    <tr>\n",
       "      <th>3</th>\n",
       "      <td>0.0</td>\n",
       "      <td>3.0</td>\n",
       "    </tr>\n",
       "    <tr>\n",
       "      <th>4</th>\n",
       "      <td>0.0</td>\n",
       "      <td>3.0</td>\n",
       "    </tr>\n",
       "  </tbody>\n",
       "</table>\n",
       "</div>"
      ],
      "text/plain": [
       "   CHAS  RAD\n",
       "0   0.0  1.0\n",
       "1   0.0  2.0\n",
       "2   0.0  2.0\n",
       "3   0.0  3.0\n",
       "4   0.0  3.0"
      ]
     },
     "execution_count": 180,
     "metadata": {},
     "output_type": "execute_result"
    }
   ],
   "source": [
    "# wydzielamy zmienne jakościowe\n",
    "dfX_ql = dfX[[\"CHAS\", \"RAD\"]]\n",
    "dfX_ql.head()"
   ]
  },
  {
   "cell_type": "code",
   "execution_count": 181,
   "metadata": {},
   "outputs": [
    {
     "name": "stdout",
     "output_type": "stream",
     "text": [
      "<class 'pandas.core.frame.DataFrame'>\n",
      "RangeIndex: 506 entries, 0 to 505\n",
      "Data columns (total 2 columns):\n",
      " #   Column  Non-Null Count  Dtype  \n",
      "---  ------  --------------  -----  \n",
      " 0   CHAS    506 non-null    float64\n",
      " 1   RAD     506 non-null    float64\n",
      "dtypes: float64(2)\n",
      "memory usage: 8.0 KB\n"
     ]
    }
   ],
   "source": [
    "dfX_ql.info()"
   ]
  },
  {
   "cell_type": "code",
   "execution_count": 182,
   "metadata": {},
   "outputs": [
    {
     "name": "stdout",
     "output_type": "stream",
     "text": [
      "<class 'pandas.core.frame.DataFrame'>\n",
      "RangeIndex: 506 entries, 0 to 505\n",
      "Data columns (total 2 columns):\n",
      " #   Column  Non-Null Count  Dtype   \n",
      "---  ------  --------------  -----   \n",
      " 0   CHAS    506 non-null    category\n",
      " 1   RAD     506 non-null    category\n",
      "dtypes: category(2)\n",
      "memory usage: 1.6 KB\n"
     ]
    }
   ],
   "source": [
    "# konwersja zmiennych jakościowych na kategorie\n",
    "dfX_ql.astype('category').info()"
   ]
  },
  {
   "cell_type": "code",
   "execution_count": 183,
   "metadata": {},
   "outputs": [
    {
     "data": {
      "text/html": [
       "<div>\n",
       "<style scoped>\n",
       "    .dataframe tbody tr th:only-of-type {\n",
       "        vertical-align: middle;\n",
       "    }\n",
       "\n",
       "    .dataframe tbody tr th {\n",
       "        vertical-align: top;\n",
       "    }\n",
       "\n",
       "    .dataframe thead th {\n",
       "        text-align: right;\n",
       "    }\n",
       "</style>\n",
       "<table border=\"1\" class=\"dataframe\">\n",
       "  <thead>\n",
       "    <tr style=\"text-align: right;\">\n",
       "      <th></th>\n",
       "      <th>CHAS_0.0</th>\n",
       "      <th>CHAS_1.0</th>\n",
       "      <th>RAD_1.0</th>\n",
       "      <th>RAD_2.0</th>\n",
       "      <th>RAD_3.0</th>\n",
       "      <th>RAD_4.0</th>\n",
       "      <th>RAD_5.0</th>\n",
       "      <th>RAD_6.0</th>\n",
       "      <th>RAD_7.0</th>\n",
       "      <th>RAD_8.0</th>\n",
       "      <th>RAD_24.0</th>\n",
       "    </tr>\n",
       "  </thead>\n",
       "  <tbody>\n",
       "    <tr>\n",
       "      <th>0</th>\n",
       "      <td>1</td>\n",
       "      <td>0</td>\n",
       "      <td>1</td>\n",
       "      <td>0</td>\n",
       "      <td>0</td>\n",
       "      <td>0</td>\n",
       "      <td>0</td>\n",
       "      <td>0</td>\n",
       "      <td>0</td>\n",
       "      <td>0</td>\n",
       "      <td>0</td>\n",
       "    </tr>\n",
       "    <tr>\n",
       "      <th>1</th>\n",
       "      <td>1</td>\n",
       "      <td>0</td>\n",
       "      <td>0</td>\n",
       "      <td>1</td>\n",
       "      <td>0</td>\n",
       "      <td>0</td>\n",
       "      <td>0</td>\n",
       "      <td>0</td>\n",
       "      <td>0</td>\n",
       "      <td>0</td>\n",
       "      <td>0</td>\n",
       "    </tr>\n",
       "    <tr>\n",
       "      <th>2</th>\n",
       "      <td>1</td>\n",
       "      <td>0</td>\n",
       "      <td>0</td>\n",
       "      <td>1</td>\n",
       "      <td>0</td>\n",
       "      <td>0</td>\n",
       "      <td>0</td>\n",
       "      <td>0</td>\n",
       "      <td>0</td>\n",
       "      <td>0</td>\n",
       "      <td>0</td>\n",
       "    </tr>\n",
       "    <tr>\n",
       "      <th>3</th>\n",
       "      <td>1</td>\n",
       "      <td>0</td>\n",
       "      <td>0</td>\n",
       "      <td>0</td>\n",
       "      <td>1</td>\n",
       "      <td>0</td>\n",
       "      <td>0</td>\n",
       "      <td>0</td>\n",
       "      <td>0</td>\n",
       "      <td>0</td>\n",
       "      <td>0</td>\n",
       "    </tr>\n",
       "    <tr>\n",
       "      <th>4</th>\n",
       "      <td>1</td>\n",
       "      <td>0</td>\n",
       "      <td>0</td>\n",
       "      <td>0</td>\n",
       "      <td>1</td>\n",
       "      <td>0</td>\n",
       "      <td>0</td>\n",
       "      <td>0</td>\n",
       "      <td>0</td>\n",
       "      <td>0</td>\n",
       "      <td>0</td>\n",
       "    </tr>\n",
       "  </tbody>\n",
       "</table>\n",
       "</div>"
      ],
      "text/plain": [
       "   CHAS_0.0  CHAS_1.0  RAD_1.0  RAD_2.0  RAD_3.0  RAD_4.0  RAD_5.0  RAD_6.0  \\\n",
       "0         1         0        1        0        0        0        0        0   \n",
       "1         1         0        0        1        0        0        0        0   \n",
       "2         1         0        0        1        0        0        0        0   \n",
       "3         1         0        0        0        1        0        0        0   \n",
       "4         1         0        0        0        1        0        0        0   \n",
       "\n",
       "   RAD_7.0  RAD_8.0  RAD_24.0  \n",
       "0        0        0         0  \n",
       "1        0        0         0  \n",
       "2        0        0         0  \n",
       "3        0        0         0  \n",
       "4        0        0         0  "
      ]
     },
     "execution_count": 183,
     "metadata": {},
     "output_type": "execute_result"
    }
   ],
   "source": [
    "# sprowadzenie zmiennych jakościowych do one hotów\n",
    "dfX_ql = pd.get_dummies(dfX_ql.astype('category'))\n",
    "dfX_ql.head()"
   ]
  },
  {
   "cell_type": "markdown",
   "metadata": {},
   "source": [
    "### Składanie w x i y"
   ]
  },
  {
   "cell_type": "code",
   "execution_count": 184,
   "metadata": {},
   "outputs": [
    {
     "data": {
      "text/plain": [
       "(506, 22)"
      ]
     },
     "execution_count": 184,
     "metadata": {},
     "output_type": "execute_result"
    }
   ],
   "source": [
    "# łączymy w jeden x\n",
    "x = np.concatenate((dfX_ql.to_numpy(), dfX_qt.to_numpy()), axis=1).astype(np.float32)\n",
    "x.shape"
   ]
  },
  {
   "cell_type": "code",
   "execution_count": 185,
   "metadata": {},
   "outputs": [
    {
     "data": {
      "text/plain": [
       "(506,)"
      ]
     },
     "execution_count": 185,
     "metadata": {},
     "output_type": "execute_result"
    }
   ],
   "source": [
    "y = data.target.astype(np.float32)\n",
    "y.shape"
   ]
  },
  {
   "cell_type": "markdown",
   "metadata": {},
   "source": [
    "### podział na zbiór treningowy i testowy"
   ]
  },
  {
   "cell_type": "code",
   "execution_count": null,
   "metadata": {},
   "outputs": [],
   "source": [
    "x_train, x_test, y_train, y_test = train_test_split(x, y, test_size=0.1, random_state=45)"
   ]
  },
  {
   "cell_type": "markdown",
   "metadata": {},
   "source": [
    "### model"
   ]
  },
  {
   "cell_type": "code",
   "execution_count": null,
   "metadata": {},
   "outputs": [],
   "source": [
    "def create_model_regression(inNum, hNum, hAct, outNum):\n",
    "    \"\"\"\n",
    "    :param inNum: ilość cech wejściowych\n",
    "    :param hNum: lista ilości neuronów w poszczególnych warstwach ukrytych\n",
    "    :param hAct: rodzaj aktywacji w warstwach ukrytych, str\n",
    "    :param outNum: ilość\n",
    "    \"\"\"\n",
    "    model = tf.keras.Sequential()\n",
    "    model.add(layers.InputLayer(input_shape=(inNum)))\n",
    "    for idx, oneHidNum in enumerate(hNum):\n",
    "        # dodajemy warstwę\n",
    "        model.add(layers.Dense(oneHidNum, activation=hAct))\n",
    "    # warstwa wyjściowa\n",
    "    model.add(layers.Dense(outNum))\n",
    "    \n",
    "    print(model.summary())\n",
    "    \n",
    "    opt = tf.keras.optimizers.Adam()\n",
    "    \n",
    "    model.compile(optimizer=opt,\n",
    "              loss=tf.keras.losses.MeanSquaredError())\n",
    "    \n",
    "    return model"
   ]
  },
  {
   "cell_type": "code",
   "execution_count": null,
   "metadata": {},
   "outputs": [],
   "source": [
    "modelRegr = create_model_regression(x.shape[1], [300,200,100,50], \"relu\", 1)"
   ]
  },
  {
   "cell_type": "markdown",
   "metadata": {},
   "source": [
    "### trening"
   ]
  },
  {
   "cell_type": "code",
   "execution_count": null,
   "metadata": {},
   "outputs": [],
   "source": [
    "history = modelRegr.fit(x_train, y_train, batch_size=100, epochs=300, verbose=0)"
   ]
  },
  {
   "cell_type": "code",
   "execution_count": null,
   "metadata": {},
   "outputs": [],
   "source": [
    "# historia treningu\n",
    "fig = plt.figure(figsize=(20,10))\n",
    "plt.plot(history.history[\"loss\"])\n",
    "plt.title(\"loss\")\n",
    "plt.show()"
   ]
  },
  {
   "cell_type": "markdown",
   "metadata": {},
   "source": [
    "### walidacja"
   ]
  },
  {
   "cell_type": "code",
   "execution_count": null,
   "metadata": {},
   "outputs": [],
   "source": [
    "# wyznaczamy predykcje na zbiorze testowym\n",
    "y_pred = modelRegr.predict(x_test)\n",
    "y_pred_train = modelRegr.predict(x_train)"
   ]
  },
  {
   "cell_type": "code",
   "execution_count": null,
   "metadata": {},
   "outputs": [],
   "source": [
    "# liczymy r2\n",
    "from sklearn.metrics import r2_score"
   ]
  },
  {
   "cell_type": "code",
   "execution_count": null,
   "metadata": {},
   "outputs": [],
   "source": [
    "print(f\"test r2: {r2_score(y_test, y_pred)}\")\n",
    "print(f\"train r2: {r2_score(y_train, y_pred_train)}\")"
   ]
  },
  {
   "cell_type": "code",
   "execution_count": null,
   "metadata": {},
   "outputs": [],
   "source": [
    "# wykres cen referencyjnych i predykcji\n",
    "fig = plt.figure(figsize=(20,10))\n",
    "plt.plot(y_pred)#, marker=\"o\", linestyle=\"\")\n",
    "plt.plot(y_test)\n",
    "plt.title(\"analiza predykcji modelu\")\n",
    "plt.legend([\"predykcja\", \"referencja\"])\n",
    "plt.show()"
   ]
  },
  {
   "cell_type": "markdown",
   "metadata": {},
   "source": [
    "### wykres reszt"
   ]
  },
  {
   "cell_type": "code",
   "execution_count": null,
   "metadata": {},
   "outputs": [],
   "source": [
    "# rożnice między predykcją a targetem per próbka\n",
    "y_err = np.abs(y_pred.flatten() - y_test.flatten())"
   ]
  },
  {
   "cell_type": "code",
   "execution_count": null,
   "metadata": {},
   "outputs": [],
   "source": [
    "y_err.shape"
   ]
  },
  {
   "cell_type": "code",
   "execution_count": null,
   "metadata": {},
   "outputs": [],
   "source": [
    "plt.scatter(np.arange(y_err.shape[0]), y_err)\n",
    "plt.show()"
   ]
  },
  {
   "cell_type": "code",
   "execution_count": null,
   "metadata": {},
   "outputs": [],
   "source": [
    "plt.hist(y_err)\n",
    "plt.show()"
   ]
  },
  {
   "cell_type": "markdown",
   "metadata": {},
   "source": [
    "## Składanie modelu inaczej - Functional API\n",
    "Nie będziemy korzystać z sekwencji.\n",
    "Sygnał z jednej warstwy podawać będziemy na kolejną.\n",
    "Dzięki temu mamy większą dowolność w tworzeniu mnodelu."
   ]
  },
  {
   "cell_type": "markdown",
   "metadata": {},
   "source": [
    "### poszczególne warstwy"
   ]
  },
  {
   "cell_type": "code",
   "execution_count": null,
   "metadata": {},
   "outputs": [],
   "source": [
    "# wejscie\n",
    "inputLayer = tf.keras.Input(shape=(x_train.shape[1]))"
   ]
  },
  {
   "cell_type": "code",
   "execution_count": null,
   "metadata": {},
   "outputs": [],
   "source": [
    "# pierwsza ukryta\n",
    "x = layers.Dense(100,  activation=\"relu\")(inputLayer)"
   ]
  },
  {
   "cell_type": "code",
   "execution_count": null,
   "metadata": {},
   "outputs": [],
   "source": [
    "# druga ukryta\n",
    "x = layers.Dense(100,  activation=\"relu\", name=\"jakas_ukryta\")(x)"
   ]
  },
  {
   "cell_type": "code",
   "execution_count": null,
   "metadata": {},
   "outputs": [],
   "source": [
    "# trzecia ukryta\n",
    "x = layers.Dense(100,  activation=\"relu\")(x)"
   ]
  },
  {
   "cell_type": "code",
   "execution_count": null,
   "metadata": {},
   "outputs": [],
   "source": [
    "# wyjscie\n",
    "out = layers.Dense(1, name=\"wyjscie\")(x)"
   ]
  },
  {
   "cell_type": "markdown",
   "metadata": {},
   "source": [
    "### zamknięcie wszystkiego w model"
   ]
  },
  {
   "cell_type": "code",
   "execution_count": null,
   "metadata": {},
   "outputs": [],
   "source": [
    "model = tf.keras.Model(\n",
    "    inputs=inputLayer,\n",
    "    outputs=out,\n",
    "    name=\"best_model\"\n",
    ")"
   ]
  },
  {
   "cell_type": "code",
   "execution_count": null,
   "metadata": {},
   "outputs": [],
   "source": [
    "model.summary()"
   ]
  },
  {
   "cell_type": "code",
   "execution_count": null,
   "metadata": {},
   "outputs": [],
   "source": [
    "tf.keras.utils.plot_model(model, show_shapes=True)"
   ]
  },
  {
   "cell_type": "markdown",
   "metadata": {},
   "source": [
    "### kompilacja modelu\n",
    "W sumie to niczym się nie różni od podejścia sekwencyjnego"
   ]
  },
  {
   "cell_type": "code",
   "execution_count": null,
   "metadata": {},
   "outputs": [],
   "source": [
    "model.compile(\n",
    "    optimizer=tf.keras.optimizers.Adam(),\n",
    "    loss=tf.keras.losses.MeanSquaredError()\n",
    ")"
   ]
  },
  {
   "cell_type": "markdown",
   "metadata": {},
   "source": [
    "### trening i walidacja"
   ]
  },
  {
   "cell_type": "code",
   "execution_count": null,
   "metadata": {},
   "outputs": [],
   "source": [
    "history = model.fit(\n",
    "    x=x_train,\n",
    "    y=y_train,\n",
    "    batch_size=100,\n",
    "    epochs=100,\n",
    "    verbose=0\n",
    ")"
   ]
  },
  {
   "cell_type": "code",
   "execution_count": null,
   "metadata": {},
   "outputs": [],
   "source": [
    "# historia treningu\n",
    "fig = plt.figure(figsize=(20,10))\n",
    "plt.plot(history.history[\"loss\"])\n",
    "plt.title(\"loss\")\n",
    "plt.show()"
   ]
  },
  {
   "cell_type": "code",
   "execution_count": null,
   "metadata": {},
   "outputs": [],
   "source": [
    "# wyznaczamy predykcje na zbiorze testowym\n",
    "y_pred = model.predict(x_test)\n",
    "y_pred_train = model.predict(x_train)"
   ]
  },
  {
   "cell_type": "code",
   "execution_count": null,
   "metadata": {},
   "outputs": [],
   "source": [
    "print(f\"test r2: {r2_score(y_test, y_pred)}\")\n",
    "print(f\"train r2: {r2_score(y_train, y_pred_train)}\")"
   ]
  },
  {
   "cell_type": "code",
   "execution_count": null,
   "metadata": {},
   "outputs": [],
   "source": [
    "# rożnice między predykcją a targetem per próbka\n",
    "y_err = np.abs(y_pred.flatten() - y_test.flatten())\n",
    "\n",
    "fig = plt.figure(figsize=(20,10))\n",
    "plt.hist(y_err, bins=30)\n",
    "plt.show()"
   ]
  }
 ],
 "metadata": {
  "kernelspec": {
   "display_name": "Python 3 (ipykernel)",
   "language": "python",
   "name": "python3"
  },
  "language_info": {
   "codemirror_mode": {
    "name": "ipython",
    "version": 3
   },
   "file_extension": ".py",
   "mimetype": "text/x-python",
   "name": "python",
   "nbconvert_exporter": "python",
   "pygments_lexer": "ipython3",
   "version": "3.9.7"
  },
  "toc": {
   "base_numbering": 1,
   "nav_menu": {},
   "number_sections": true,
   "sideBar": true,
   "skip_h1_title": true,
   "title_cell": "Table of Contents",
   "title_sidebar": "Contents",
   "toc_cell": true,
   "toc_position": {
    "height": "1118px",
    "left": "738px",
    "top": "180px",
    "width": "308px"
   },
   "toc_section_display": true,
   "toc_window_display": true
  }
 },
 "nbformat": 4,
 "nbformat_minor": 4
}
