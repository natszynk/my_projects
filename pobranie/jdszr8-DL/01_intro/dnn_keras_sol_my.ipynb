{
 "cells": [
  {
   "cell_type": "markdown",
   "metadata": {
    "toc": true
   },
   "source": [
    "<h1>Table of Contents<span class=\"tocSkip\"></span></h1>\n",
    "<div class=\"toc\"><ul class=\"toc-item\"><li><span><a href=\"#Model-sekwencyjny\" data-toc-modified-id=\"Model-sekwencyjny-1\"><span class=\"toc-item-num\">1&nbsp;&nbsp;</span>Model sekwencyjny</a></span><ul class=\"toc-item\"><li><span><a href=\"#dane\" data-toc-modified-id=\"dane-1.1\"><span class=\"toc-item-num\">1.1&nbsp;&nbsp;</span>dane</a></span><ul class=\"toc-item\"><li><span><a href=\"#exploration-&amp;-understanding\" data-toc-modified-id=\"exploration-&amp;-understanding-1.1.1\"><span class=\"toc-item-num\">1.1.1&nbsp;&nbsp;</span>exploration &amp; understanding</a></span></li><li><span><a href=\"#prepearing-for-training\" data-toc-modified-id=\"prepearing-for-training-1.1.2\"><span class=\"toc-item-num\">1.1.2&nbsp;&nbsp;</span>prepearing for training</a></span></li></ul></li><li><span><a href=\"#Warstwy\" data-toc-modified-id=\"Warstwy-1.2\"><span class=\"toc-item-num\">1.2&nbsp;&nbsp;</span>Warstwy</a></span></li><li><span><a href=\"#Podstawowa-składania---tf.keras.sequential\" data-toc-modified-id=\"Podstawowa-składania---tf.keras.sequential-1.3\"><span class=\"toc-item-num\">1.3&nbsp;&nbsp;</span>Podstawowa składania - tf.keras.sequential</a></span></li><li><span><a href=\"#Szybki-test\" data-toc-modified-id=\"Szybki-test-1.4\"><span class=\"toc-item-num\">1.4&nbsp;&nbsp;</span>Szybki test</a></span></li><li><span><a href=\"#Zamknięcie-wszystkiego-w-jedną-funkcję\" data-toc-modified-id=\"Zamknięcie-wszystkiego-w-jedną-funkcję-1.5\"><span class=\"toc-item-num\">1.5&nbsp;&nbsp;</span>Zamknięcie wszystkiego w jedną funkcję</a></span></li><li><span><a href=\"#Zapisywanie-i-wczytywanie-modelu\" data-toc-modified-id=\"Zapisywanie-i-wczytywanie-modelu-1.6\"><span class=\"toc-item-num\">1.6&nbsp;&nbsp;</span>Zapisywanie i wczytywanie modelu</a></span></li></ul></li><li><span><a href=\"#Zadanie---regresja-cen-nieruchomości\" data-toc-modified-id=\"Zadanie---regresja-cen-nieruchomości-2\"><span class=\"toc-item-num\">2&nbsp;&nbsp;</span>Zadanie - regresja cen nieruchomości</a></span><ul class=\"toc-item\"><li><span><a href=\"#Wczytywanie-danych\" data-toc-modified-id=\"Wczytywanie-danych-2.1\"><span class=\"toc-item-num\">2.1&nbsp;&nbsp;</span>Wczytywanie danych</a></span></li><li><span><a href=\"#Obróbka-danych\" data-toc-modified-id=\"Obróbka-danych-2.2\"><span class=\"toc-item-num\">2.2&nbsp;&nbsp;</span>Obróbka danych</a></span></li><li><span><a href=\"#Składanie-w-x-i-y\" data-toc-modified-id=\"Składanie-w-x-i-y-2.3\"><span class=\"toc-item-num\">2.3&nbsp;&nbsp;</span>Składanie w x i y</a></span></li><li><span><a href=\"#podział-na-zbiór-treningowy-i-testowy\" data-toc-modified-id=\"podział-na-zbiór-treningowy-i-testowy-2.4\"><span class=\"toc-item-num\">2.4&nbsp;&nbsp;</span>podział na zbiór treningowy i testowy</a></span></li><li><span><a href=\"#model\" data-toc-modified-id=\"model-2.5\"><span class=\"toc-item-num\">2.5&nbsp;&nbsp;</span>model</a></span></li><li><span><a href=\"#trening\" data-toc-modified-id=\"trening-2.6\"><span class=\"toc-item-num\">2.6&nbsp;&nbsp;</span>trening</a></span></li><li><span><a href=\"#walidacja\" data-toc-modified-id=\"walidacja-2.7\"><span class=\"toc-item-num\">2.7&nbsp;&nbsp;</span>walidacja</a></span></li><li><span><a href=\"#wykres-reszt\" data-toc-modified-id=\"wykres-reszt-2.8\"><span class=\"toc-item-num\">2.8&nbsp;&nbsp;</span>wykres reszt</a></span></li></ul></li><li><span><a href=\"#Składanie-modelu-inaczej---Functional-API\" data-toc-modified-id=\"Składanie-modelu-inaczej---Functional-API-3\"><span class=\"toc-item-num\">3&nbsp;&nbsp;</span>Składanie modelu inaczej - Functional API</a></span><ul class=\"toc-item\"><li><span><a href=\"#poszczególne-warstwy\" data-toc-modified-id=\"poszczególne-warstwy-3.1\"><span class=\"toc-item-num\">3.1&nbsp;&nbsp;</span>poszczególne warstwy</a></span></li><li><span><a href=\"#zamknięcie-wszystkiego-w-model\" data-toc-modified-id=\"zamknięcie-wszystkiego-w-model-3.2\"><span class=\"toc-item-num\">3.2&nbsp;&nbsp;</span>zamknięcie wszystkiego w model</a></span></li><li><span><a href=\"#kompilacja-modelu\" data-toc-modified-id=\"kompilacja-modelu-3.3\"><span class=\"toc-item-num\">3.3&nbsp;&nbsp;</span>kompilacja modelu</a></span></li><li><span><a href=\"#trening-i-walidacja\" data-toc-modified-id=\"trening-i-walidacja-3.4\"><span class=\"toc-item-num\">3.4&nbsp;&nbsp;</span>trening i walidacja</a></span></li></ul></li></ul></div>"
   ]
  },
  {
   "cell_type": "markdown",
   "metadata": {},
   "source": [
    "# Tensorflow.keras\n",
    "Wprowadzenie do korzystania z wysokopoziomowej implementacji sieci neuronowych.\n",
    "Za pomocą przestrzenie metod zawartych w keras'a będziemy mogli w super łatwy sposób budować modele i je ewaluować."
   ]
  },
  {
   "cell_type": "code",
   "execution_count": null,
   "metadata": {},
   "outputs": [],
   "source": [
    "import tensorflow as tf\n",
    "import numpy as np\n",
    "import matplotlib.pyplot as plt\n",
    "from sklearn.metrics import classification_report\n",
    "import pandas as pd\n",
    "\n",
    "# tylko dla tych co mają zainstalowaną paczkę jupyterthemes\n",
    "# kto nie ma to niech zakomentuje, ponieważ będzie wywalać błąd\n",
    "from jupyterthemes import jtplot\n",
    "jtplot.style(theme='monokai', context='notebook', ticks=True, grid=False)"
   ]
  },
  {
   "cell_type": "markdown",
   "metadata": {},
   "source": [
    "## Model sekwencyjny"
   ]
  },
  {
   "cell_type": "markdown",
   "metadata": {},
   "source": [
    "### dane"
   ]
  },
  {
   "cell_type": "markdown",
   "metadata": {},
   "source": [
    "#### exploration & understanding"
   ]
  },
  {
   "cell_type": "code",
   "execution_count": null,
   "metadata": {},
   "outputs": [],
   "source": [
    "from sklearn.datasets import load_breast_cancer\n",
    "data = load_breast_cancer()"
   ]
  },
  {
   "cell_type": "code",
   "execution_count": null,
   "metadata": {},
   "outputs": [],
   "source": [
    "print(data.DESCR)"
   ]
  },
  {
   "cell_type": "code",
   "execution_count": null,
   "metadata": {},
   "outputs": [],
   "source": [
    "data.data.shape"
   ]
  },
  {
   "cell_type": "code",
   "execution_count": null,
   "metadata": {},
   "outputs": [],
   "source": [
    "data.target"
   ]
  },
  {
   "cell_type": "code",
   "execution_count": null,
   "metadata": {},
   "outputs": [],
   "source": [
    "data.feature_names"
   ]
  },
  {
   "cell_type": "code",
   "execution_count": null,
   "metadata": {},
   "outputs": [],
   "source": [
    "data.target_names"
   ]
  },
  {
   "cell_type": "code",
   "execution_count": null,
   "metadata": {},
   "outputs": [],
   "source": [
    "classNum = len(data.target_names)\n",
    "print(f\"target_names: {data.target_names}\\nclassNum: {classNum}\")"
   ]
  },
  {
   "cell_type": "code",
   "execution_count": null,
   "metadata": {},
   "outputs": [],
   "source": [
    "x = data.data.astype(np.float32)\n",
    "y = data.target\n",
    "classNum = len(data.target_names)"
   ]
  },
  {
   "cell_type": "code",
   "execution_count": null,
   "metadata": {},
   "outputs": [],
   "source": [
    "classVals, classCnts = np.unique(y, return_counts=True)\n",
    "for oneName, oneVal, oneCnt in zip(data.target_names, classVals, classCnts):\n",
    "    print(f\"{oneName} {oneVal}: {oneCnt}\")"
   ]
  },
  {
   "cell_type": "code",
   "execution_count": null,
   "metadata": {},
   "outputs": [],
   "source": [
    "fig = plt.figure(figsize=(20,10))\n",
    "plt.bar(data.target_names, classCnts)\n",
    "plt.show()"
   ]
  },
  {
   "cell_type": "code",
   "execution_count": null,
   "metadata": {},
   "outputs": [],
   "source": [
    "dfX = pd.DataFrame(data=x, columns=data.feature_names)\n",
    "dfX.head()"
   ]
  },
  {
   "cell_type": "code",
   "execution_count": null,
   "metadata": {},
   "outputs": [],
   "source": [
    "dfX.info()"
   ]
  },
  {
   "cell_type": "code",
   "execution_count": null,
   "metadata": {},
   "outputs": [],
   "source": [
    "dfX.describe(include=\"all\")"
   ]
  },
  {
   "cell_type": "code",
   "execution_count": null,
   "metadata": {},
   "outputs": [],
   "source": [
    "dfX.boxplot(column=list(data.feature_names)[20:30],figsize=(20,10))"
   ]
  },
  {
   "cell_type": "code",
   "execution_count": null,
   "metadata": {},
   "outputs": [],
   "source": [
    "dfMetrics = dfX.describe(include=\"all\")\n",
    "choosenIdx = 4\n",
    "nameOfMetric = dfMetrics.index[choosenIdx]\n",
    "fig = plt.figure(figsize=(20,10))\n",
    "plt.plot(dfMetrics.iloc[choosenIdx].values, marker=\"o\", linestyle=\"\")\n",
    "plt.xlabel(\"features\")\n",
    "plt.ylabel(f\"{nameOfMetric} values\")\n",
    "plt.title(nameOfMetric)\n",
    "plt.show()"
   ]
  },
  {
   "cell_type": "markdown",
   "metadata": {},
   "source": [
    "#### prepearing for training"
   ]
  },
  {
   "cell_type": "code",
   "execution_count": null,
   "metadata": {},
   "outputs": [],
   "source": [
    "from sklearn.preprocessing import MinMaxScaler\n",
    "x = MinMaxScaler().fit_transform(x)"
   ]
  },
  {
   "cell_type": "code",
   "execution_count": null,
   "metadata": {},
   "outputs": [],
   "source": [
    "fig = plt.figure(figsize=(20,10))\n",
    "plt.boxplot(x)\n",
    "plt.show()"
   ]
  },
  {
   "cell_type": "code",
   "execution_count": null,
   "metadata": {},
   "outputs": [],
   "source": [
    "from sklearn.preprocessing import OneHotEncoder\n",
    "y = y.reshape(-1, 1)\n",
    "y = OneHotEncoder(sparse=False).fit_transform(y)\n",
    "y = y.astype(np.float32)"
   ]
  },
  {
   "cell_type": "code",
   "execution_count": null,
   "metadata": {},
   "outputs": [],
   "source": [
    "from sklearn.model_selection import train_test_split\n",
    "x_train, x_test, y_train, y_test = train_test_split(x, y, test_size=0.2, random_state=45)"
   ]
  },
  {
   "cell_type": "code",
   "execution_count": null,
   "metadata": {},
   "outputs": [],
   "source": [
    "x_train.shape"
   ]
  },
  {
   "cell_type": "code",
   "execution_count": null,
   "metadata": {},
   "outputs": [],
   "source": [
    "x_test.shape"
   ]
  },
  {
   "cell_type": "markdown",
   "metadata": {},
   "source": [
    "### Warstwy\n",
    "Przegląd kilku (na ten moment) istotnych dla nas warstw."
   ]
  },
  {
   "cell_type": "code",
   "execution_count": null,
   "metadata": {},
   "outputs": [],
   "source": [
    "?tf.keras.layers"
   ]
  },
  {
   "cell_type": "code",
   "execution_count": null,
   "metadata": {},
   "outputs": [],
   "source": [
    "from tensorflow.keras import layers"
   ]
  },
  {
   "cell_type": "code",
   "execution_count": null,
   "metadata": {},
   "outputs": [],
   "source": [
    "in_data = np.arange(20, dtype=np.float32).reshape(-1, 10)\n",
    "in_data"
   ]
  },
  {
   "cell_type": "markdown",
   "metadata": {},
   "source": [
    "Images\n",
    "NHWC\n",
    "N - number of samples\n",
    "H - height\n",
    "W - width\n",
    "C - channels"
   ]
  },
  {
   "cell_type": "code",
   "execution_count": null,
   "metadata": {},
   "outputs": [],
   "source": [
    "in_data.shape"
   ]
  },
  {
   "cell_type": "code",
   "execution_count": null,
   "metadata": {},
   "outputs": [],
   "source": [
    "# wejściowa\n",
    "inputLayer = layers.InputLayer(input_shape=(10))\n",
    "inputLayer(in_data)"
   ]
  },
  {
   "cell_type": "code",
   "execution_count": null,
   "metadata": {},
   "outputs": [],
   "source": [
    "# fully connected, gęsta, ukryta\n",
    "denseLayer = layers.Dense(3)\n",
    "denseLayer(tf.ones(shape=(2,1)))"
   ]
  },
  {
   "cell_type": "code",
   "execution_count": null,
   "metadata": {},
   "outputs": [],
   "source": [
    "tf.ones(shape=(2,1))"
   ]
  },
  {
   "cell_type": "code",
   "execution_count": null,
   "metadata": {},
   "outputs": [],
   "source": [
    "np.arange(-3,4)"
   ]
  },
  {
   "cell_type": "code",
   "execution_count": null,
   "metadata": {},
   "outputs": [],
   "source": [
    "# aktywacja\n",
    "actLayer = layers.Activation(\"relu\")\n",
    "actLayer(np.arange(-3,4))"
   ]
  },
  {
   "cell_type": "code",
   "execution_count": null,
   "metadata": {},
   "outputs": [],
   "source": [
    "# softmax, dystrybucja prawdopodobieństwa\n",
    "softLayer = layers.Softmax()\n",
    "softLayer(np.array([5,6,7,8], dtype=np.float32))"
   ]
  },
  {
   "cell_type": "code",
   "execution_count": null,
   "metadata": {},
   "outputs": [],
   "source": [
    "softLayer(np.array([5,6,7,8], dtype=np.float32)).numpy().sum()"
   ]
  },
  {
   "cell_type": "code",
   "execution_count": null,
   "metadata": {},
   "outputs": [],
   "source": [
    "# dropout\n",
    "dropLayer = layers.Dropout(0.5)\n",
    "\n",
    "tmpArr = np.arange(10).astype(np.float32)\n",
    "print(f\"Oryginalny wektor: {tmpArr}\")\n",
    "\n",
    "dropOut = dropLayer(tmpArr, training=True).numpy()\n",
    "print(f\"Po dropoucie: {dropOut}\")"
   ]
  },
  {
   "cell_type": "code",
   "execution_count": null,
   "metadata": {},
   "outputs": [],
   "source": [
    "# spłaszczająca\n",
    "# tensorflowowy flatten\n",
    "flatLayer = layers.Flatten()\n",
    "\n",
    "tmpArr = np.arange(36).reshape(4,3,3)\n",
    "print(f\"Przed:\\n{tmpArr}\")\n",
    "print(f\"Po:\\n{flatLayer(tmpArr).numpy()}\")"
   ]
  },
  {
   "cell_type": "code",
   "execution_count": null,
   "metadata": {},
   "outputs": [],
   "source": [
    "# numpajowy flatten\n",
    "np.arange(36).reshape(4,3,3).flatten()"
   ]
  },
  {
   "cell_type": "markdown",
   "metadata": {},
   "source": [
    "### Podstawowa składania - tf.keras.sequential\n",
    "Jest to podejście projektowania modeli w sposób sekwencyjny.\n",
    "Warstwa po warstwie dodajemy kolejne operacje w jednym kierunku."
   ]
  },
  {
   "cell_type": "code",
   "execution_count": null,
   "metadata": {},
   "outputs": [],
   "source": [
    "?tf.keras.Sequential"
   ]
  },
  {
   "cell_type": "code",
   "execution_count": null,
   "metadata": {},
   "outputs": [],
   "source": [
    "# pusty model\n",
    "model = tf.keras.Sequential()"
   ]
  },
  {
   "cell_type": "code",
   "execution_count": null,
   "metadata": {},
   "outputs": [],
   "source": [
    "# dodajemy warstwę wejściową\n",
    "model.add(layers.InputLayer(input_shape=x_train.shape[1]))"
   ]
  },
  {
   "cell_type": "code",
   "execution_count": null,
   "metadata": {},
   "outputs": [],
   "source": [
    "# dodajemy warstwę ukrytą/gęstą/fully connected\n",
    "# dodajemy pierwszą ukrytą\n",
    "model.add(layers.Dense(20, activation=\"relu\", name=\"ukryta_1\"))\n",
    "# dodajemy drugą ukrytą\n",
    "model.add(layers.Dense(50, activation=\"relu\", name=\"ukryta_2\"))\n",
    "# dodajemy trzecią ukrytą\n",
    "model.add(layers.Dense(200, activation=\"relu\", name=\"ukryta_3\"))"
   ]
  },
  {
   "cell_type": "code",
   "execution_count": null,
   "metadata": {},
   "outputs": [],
   "source": [
    "# dodajemy warstwę wyjściową\n",
    "model.add(layers.Dense(classNum, name=\"WYJSCIE\"))"
   ]
  },
  {
   "cell_type": "code",
   "execution_count": null,
   "metadata": {},
   "outputs": [],
   "source": [
    "# dodajemy warstwę softmax\n",
    "model.add(layers.Softmax())"
   ]
  },
  {
   "cell_type": "code",
   "execution_count": null,
   "metadata": {},
   "outputs": [],
   "source": [
    "# podglądamy sieć\n",
    "model.summary()"
   ]
  },
  {
   "cell_type": "code",
   "execution_count": null,
   "metadata": {},
   "outputs": [],
   "source": [
    "# optymalizator\n",
    "opt = tf.keras.optimizers.Adam()"
   ]
  },
  {
   "cell_type": "code",
   "execution_count": null,
   "metadata": {},
   "outputs": [],
   "source": [
    "# kompilacja\n",
    "model.compile(optimizer=opt,\n",
    "              loss=tf.keras.losses.BinaryCrossentropy(),\n",
    "              metrics=['accuracy'])"
   ]
  },
  {
   "cell_type": "code",
   "execution_count": null,
   "metadata": {},
   "outputs": [],
   "source": [
    "# trenujemy\n",
    "results = model.fit(x_train, y_train, batch_size=100, epochs=100, verbose=1)"
   ]
  },
  {
   "cell_type": "code",
   "execution_count": null,
   "metadata": {},
   "outputs": [],
   "source": [
    "results.history.keys()"
   ]
  },
  {
   "cell_type": "code",
   "execution_count": null,
   "metadata": {},
   "outputs": [],
   "source": [
    "fig=plt.figure(figsize=(20,10))\n",
    "plt.plot(results.history['loss'])\n",
    "plt.title(\"loss\")\n",
    "plt.show()"
   ]
  },
  {
   "cell_type": "code",
   "execution_count": null,
   "metadata": {},
   "outputs": [],
   "source": [
    "fig=plt.figure(figsize=(20,10))\n",
    "plt.plot(results.history['accuracy'])\n",
    "plt.title(\"accuracy\")\n",
    "plt.show()"
   ]
  },
  {
   "cell_type": "markdown",
   "metadata": {},
   "source": [
    "### Szybki test"
   ]
  },
  {
   "cell_type": "code",
   "execution_count": null,
   "metadata": {},
   "outputs": [],
   "source": [
    "x_test[:2]"
   ]
  },
  {
   "cell_type": "code",
   "execution_count": null,
   "metadata": {},
   "outputs": [],
   "source": [
    "model.predict(x_test[:2]).argmax(axis=1)"
   ]
  },
  {
   "cell_type": "code",
   "execution_count": null,
   "metadata": {},
   "outputs": [],
   "source": [
    "print(classification_report(y_test.argmax(axis=1), model.predict(x_test).argmax(axis=1)))"
   ]
  },
  {
   "cell_type": "markdown",
   "metadata": {},
   "source": [
    "### Zamknięcie wszystkiego w jedną funkcję"
   ]
  },
  {
   "cell_type": "code",
   "execution_count": null,
   "metadata": {},
   "outputs": [],
   "source": [
    "def create_model(hNum, act):\n",
    "    model = tf.keras.Sequential()\n",
    "    model.add(layers.InputLayer(input_shape=(x_train.shape[1])))\n",
    "    model.add(layers.Dense(hNum, activation=act, name=\"ukryta\"))\n",
    "    model.add(layers.Dense(classNum, name=\"wyjscie\"))\n",
    "    model.add(layers.Softmax())\n",
    "    print(model.summary())\n",
    "    \n",
    "    opt = tf.keras.optimizers.Adam()\n",
    "    \n",
    "    model.compile(optimizer=opt,\n",
    "              loss=tf.keras.losses.BinaryCrossentropy(),\n",
    "              metrics=['accuracy'])\n",
    "    \n",
    "    return model"
   ]
  },
  {
   "cell_type": "code",
   "execution_count": null,
   "metadata": {},
   "outputs": [],
   "source": [
    "model_from_fun = create_model(10, \"relu\")"
   ]
  },
  {
   "cell_type": "code",
   "execution_count": null,
   "metadata": {},
   "outputs": [],
   "source": [
    "results = model_from_fun.fit(x_train, y_train, batch_size=100, epochs=200, verbose=0)"
   ]
  },
  {
   "cell_type": "code",
   "execution_count": null,
   "metadata": {},
   "outputs": [],
   "source": [
    "fig = plt.figure(figsize=(20,10))\n",
    "plt.plot(results.history[\"loss\"])\n",
    "plt.title(\"loss\")\n",
    "plt.show()"
   ]
  },
  {
   "cell_type": "code",
   "execution_count": null,
   "metadata": {},
   "outputs": [],
   "source": [
    "fig=plt.figure(figsize=(20,10))\n",
    "plt.plot(results.history['accuracy'])\n",
    "plt.title(\"accuracy\")\n",
    "plt.show()"
   ]
  },
  {
   "cell_type": "code",
   "execution_count": null,
   "metadata": {},
   "outputs": [],
   "source": [
    "print(classification_report(y_test.argmax(axis=1), model_from_fun.predict(x_test).argmax(axis=1)))"
   ]
  },
  {
   "cell_type": "markdown",
   "metadata": {},
   "source": [
    "### Zapisywanie i wczytywanie modelu\n",
    "podstawowym formatem modelu kerasa jest .h5"
   ]
  },
  {
   "cell_type": "code",
   "execution_count": null,
   "metadata": {},
   "outputs": [],
   "source": [
    "#model_from_fun.save()"
   ]
  },
  {
   "cell_type": "code",
   "execution_count": null,
   "metadata": {},
   "outputs": [],
   "source": [
    "model_from_fun.save_weights(\"weights/model_from_fun\")"
   ]
  },
  {
   "cell_type": "code",
   "execution_count": null,
   "metadata": {},
   "outputs": [],
   "source": [
    "model_loaded = create_model(10, \"relu\")"
   ]
  },
  {
   "cell_type": "code",
   "execution_count": null,
   "metadata": {},
   "outputs": [],
   "source": [
    "# jakość modelu przed wczytaniem wag\n",
    "y_pred = model_loaded.predict(x_test)\n",
    "print(classification_report(y_test.argmax(axis=1), y_pred.argmax(axis=1)))"
   ]
  },
  {
   "cell_type": "code",
   "execution_count": null,
   "metadata": {},
   "outputs": [],
   "source": [
    "model_loaded.load_weights(\"weights/model_from_fun\")"
   ]
  },
  {
   "cell_type": "code",
   "execution_count": null,
   "metadata": {},
   "outputs": [],
   "source": [
    "y_pred = model_loaded.predict(x_test)\n",
    "print(classification_report(y_test.argmax(axis=1), y_pred.argmax(axis=1)))"
   ]
  },
  {
   "cell_type": "code",
   "execution_count": null,
   "metadata": {},
   "outputs": [],
   "source": [
    "ls weights"
   ]
  },
  {
   "cell_type": "code",
   "execution_count": null,
   "metadata": {},
   "outputs": [],
   "source": [
    "# zapisywanie całego obiektu\n",
    "model_from_fun.save(\"model/simple.h5\")"
   ]
  },
  {
   "cell_type": "code",
   "execution_count": null,
   "metadata": {},
   "outputs": [],
   "source": [
    "ls model"
   ]
  },
  {
   "cell_type": "code",
   "execution_count": null,
   "metadata": {},
   "outputs": [],
   "source": [
    "# wczytanie\n",
    "model_loaded_h5 = tf.keras.models.load_model(\"model/simple.h5\")"
   ]
  },
  {
   "cell_type": "code",
   "execution_count": null,
   "metadata": {},
   "outputs": [],
   "source": [
    "y_pred = model_loaded_h5.predict(x_test)\n",
    "print(classification_report(y_test.argmax(axis=1), y_pred.argmax(axis=1)))"
   ]
  },
  {
   "cell_type": "markdown",
   "metadata": {},
   "source": [
    "## Zadanie - regresja cen nieruchomości\n",
    "- wczytaj i przeanalizuj zbiór ```from sklearn.datasets import load_boston```\n",
    "- zbuduj sieć do regresji\n",
    "    - określ ile jest wejść i wyjść\n",
    "    - stwórz model sekwencyjny składający się z kilku warstw gęstych\n",
    "    - warto dodać mechanizm automatycznego rozszerzania się modelu względem jakiegoś parametru\n",
    "    - zastosuj odpowiednią dla regresji funkcję błędu\n",
    "- po przeprowadzeniu treningu zastosuj odpowiednią metrykę do sprawdzenia jakości modelu"
   ]
  },
  {
   "cell_type": "markdown",
   "metadata": {},
   "source": [
    "### Wczytywanie danych"
   ]
  },
  {
   "cell_type": "code",
   "execution_count": null,
   "metadata": {},
   "outputs": [],
   "source": [
    "from sklearn.datasets import load_boston\n",
    "data = load_boston()\n",
    "print(data.DESCR)"
   ]
  },
  {
   "cell_type": "markdown",
   "metadata": {},
   "source": [
    "### Obróbka danych"
   ]
  },
  {
   "cell_type": "code",
   "execution_count": null,
   "metadata": {},
   "outputs": [],
   "source": [
    "dfX = pd.DataFrame(data=data.data, columns=data.feature_names)\n",
    "dfX.head()"
   ]
  },
  {
   "cell_type": "code",
   "execution_count": null,
   "metadata": {},
   "outputs": [],
   "source": [
    "# zauważmy, że zmienna \"CHAS\" i \"RAD\" jest jakościowa\n",
    "print(f\"CHAS unique {pd.unique(dfX['CHAS'])}\")\n",
    "print(f\"RAD unique {pd.unique(dfX['RAD'])}\")"
   ]
  },
  {
   "cell_type": "code",
   "execution_count": null,
   "metadata": {},
   "outputs": [],
   "source": [
    "# wydzielamy zmienne ilościowe\n",
    "dfX_qt = dfX.drop(labels=[\"CHAS\", \"RAD\"], axis=1)\n",
    "dfX_qt.head()"
   ]
  },
  {
   "cell_type": "code",
   "execution_count": null,
   "metadata": {},
   "outputs": [],
   "source": [
    "# wydzielamy zmienne jakościowe\n",
    "dfX_ql = dfX[[\"CHAS\", \"RAD\"]]\n",
    "dfX_ql.head()"
   ]
  },
  {
   "cell_type": "code",
   "execution_count": null,
   "metadata": {},
   "outputs": [],
   "source": [
    "dfX_ql.info()"
   ]
  },
  {
   "cell_type": "code",
   "execution_count": null,
   "metadata": {},
   "outputs": [],
   "source": [
    "# konwersja zmiennych jakościowych na kategorie\n",
    "dfX_ql.astype('category').info()"
   ]
  },
  {
   "cell_type": "code",
   "execution_count": null,
   "metadata": {},
   "outputs": [],
   "source": [
    "# sprowadzenie zmiennych jakościowych do one hotów\n",
    "dfX_ql = pd.get_dummies(dfX_ql.astype('category'))\n",
    "dfX_ql.head()"
   ]
  },
  {
   "cell_type": "markdown",
   "metadata": {},
   "source": [
    "### Składanie w x i y"
   ]
  },
  {
   "cell_type": "code",
   "execution_count": null,
   "metadata": {},
   "outputs": [],
   "source": [
    "# łączymy w jeden x\n",
    "x = np.concatenate((dfX_ql.to_numpy(), dfX_qt.to_numpy()), axis=1).astype(np.float32)\n",
    "x.shape"
   ]
  },
  {
   "cell_type": "code",
   "execution_count": null,
   "metadata": {},
   "outputs": [],
   "source": [
    "y = data.target.astype(np.float32)\n",
    "y.shape"
   ]
  },
  {
   "cell_type": "markdown",
   "metadata": {},
   "source": [
    "### podział na zbiór treningowy i testowy"
   ]
  },
  {
   "cell_type": "markdown",
   "metadata": {},
   "source": [
    "### model"
   ]
  },
  {
   "cell_type": "markdown",
   "metadata": {},
   "source": [
    "### trening"
   ]
  },
  {
   "cell_type": "markdown",
   "metadata": {},
   "source": [
    "### walidacja"
   ]
  },
  {
   "cell_type": "code",
   "execution_count": null,
   "metadata": {},
   "outputs": [],
   "source": [
    "# wyznaczamy predykcje na zbiorze testowym\n",
    "y_pred = ?\n",
    "y_pred_train = ?"
   ]
  },
  {
   "cell_type": "code",
   "execution_count": null,
   "metadata": {},
   "outputs": [],
   "source": [
    "# liczymy r2\n",
    "from sklearn.metrics import r2_score"
   ]
  },
  {
   "cell_type": "code",
   "execution_count": null,
   "metadata": {},
   "outputs": [],
   "source": [
    "print(f\"test r2: {?}\")\n",
    "print(f\"train r2: {?}\")"
   ]
  },
  {
   "cell_type": "markdown",
   "metadata": {},
   "source": [
    "### wykres reszt"
   ]
  },
  {
   "cell_type": "code",
   "execution_count": null,
   "metadata": {},
   "outputs": [],
   "source": [
    "# rożnice między predykcją a targetem per próbka\n",
    "y_err = np.abs(y_pred.flatten() - y_test.flatten())"
   ]
  },
  {
   "cell_type": "code",
   "execution_count": null,
   "metadata": {},
   "outputs": [],
   "source": [
    "y_err.shape"
   ]
  },
  {
   "cell_type": "code",
   "execution_count": null,
   "metadata": {},
   "outputs": [],
   "source": [
    "plt.scatter(np.arange(y_err.shape[0]), y_err)\n",
    "plt.show()"
   ]
  },
  {
   "cell_type": "code",
   "execution_count": null,
   "metadata": {},
   "outputs": [],
   "source": [
    "plt.hist(y_err)\n",
    "plt.show()"
   ]
  },
  {
   "cell_type": "markdown",
   "metadata": {},
   "source": [
    "## Składanie modelu inaczej - Functional API\n",
    "Nie będziemy korzystać z sekwencji.\n",
    "Sygnał z jednej warstwy podawać będziemy na kolejną.\n",
    "Dzięki temu mamy większą dowolność w tworzeniu mnodelu."
   ]
  },
  {
   "cell_type": "markdown",
   "metadata": {},
   "source": [
    "### poszczególne warstwy"
   ]
  },
  {
   "cell_type": "code",
   "execution_count": null,
   "metadata": {},
   "outputs": [],
   "source": [
    "# wejscie\n",
    "inputLayer = tf.keras.Input(shape=(x_train.shape[1]))"
   ]
  },
  {
   "cell_type": "code",
   "execution_count": null,
   "metadata": {},
   "outputs": [],
   "source": [
    "# pierwsza ukryta\n",
    "x = layers.Dense(100,  activation=\"relu\")(inputLayer)"
   ]
  },
  {
   "cell_type": "code",
   "execution_count": null,
   "metadata": {},
   "outputs": [],
   "source": [
    "# druga ukryta\n",
    "x = layers.Dense(100,  activation=\"relu\", name=\"jakas_ukryta\")(x)"
   ]
  },
  {
   "cell_type": "code",
   "execution_count": null,
   "metadata": {},
   "outputs": [],
   "source": [
    "# trzecia ukryta\n",
    "x = layers.Dense(100,  activation=\"relu\")(x)"
   ]
  },
  {
   "cell_type": "code",
   "execution_count": null,
   "metadata": {},
   "outputs": [],
   "source": [
    "# wyjscie\n",
    "out = layers.Dense(1, name=\"wyjscie\")(x)"
   ]
  },
  {
   "cell_type": "markdown",
   "metadata": {},
   "source": [
    "### zamknięcie wszystkiego w model"
   ]
  },
  {
   "cell_type": "code",
   "execution_count": null,
   "metadata": {},
   "outputs": [],
   "source": [
    "model = tf.keras.Model(\n",
    "    inputs=inputLayer,\n",
    "    outputs=out,\n",
    "    name=\"best_model\"\n",
    ")"
   ]
  },
  {
   "cell_type": "code",
   "execution_count": null,
   "metadata": {},
   "outputs": [],
   "source": [
    "model.summary()"
   ]
  },
  {
   "cell_type": "code",
   "execution_count": null,
   "metadata": {},
   "outputs": [],
   "source": [
    "tf.keras.utils.plot_model(model, show_shapes=True)"
   ]
  },
  {
   "cell_type": "markdown",
   "metadata": {},
   "source": [
    "### kompilacja modelu\n",
    "W sumie to niczym się nie różni od podejścia sekwencyjnego"
   ]
  },
  {
   "cell_type": "code",
   "execution_count": null,
   "metadata": {},
   "outputs": [],
   "source": [
    "model.compile(\n",
    "    optimizer=tf.keras.optimizers.Adam(),\n",
    "    loss=tf.keras.losses.MeanSquaredError()\n",
    ")"
   ]
  },
  {
   "cell_type": "markdown",
   "metadata": {},
   "source": [
    "### trening i walidacja"
   ]
  },
  {
   "cell_type": "code",
   "execution_count": null,
   "metadata": {},
   "outputs": [],
   "source": [
    "history = model.fit(\n",
    "    x=x_train,\n",
    "    y=y_train,\n",
    "    batch_size=100,\n",
    "    epochs=100,\n",
    "    verbose=0\n",
    ")"
   ]
  },
  {
   "cell_type": "code",
   "execution_count": null,
   "metadata": {},
   "outputs": [],
   "source": [
    "# historia treningu\n",
    "fig = plt.figure(figsize=(20,10))\n",
    "plt.plot(history.history[\"loss\"])\n",
    "plt.title(\"loss\")\n",
    "plt.show()"
   ]
  },
  {
   "cell_type": "code",
   "execution_count": null,
   "metadata": {},
   "outputs": [],
   "source": [
    "# wyznaczamy predykcje na zbiorze testowym\n",
    "y_pred = model.predict(x_test)\n",
    "y_pred_train = model.predict(x_train)"
   ]
  },
  {
   "cell_type": "code",
   "execution_count": null,
   "metadata": {},
   "outputs": [],
   "source": [
    "print(f\"test r2: {r2_score(y_test, y_pred)}\")\n",
    "print(f\"train r2: {r2_score(y_train, y_pred_train)}\")"
   ]
  },
  {
   "cell_type": "code",
   "execution_count": null,
   "metadata": {},
   "outputs": [],
   "source": [
    "# rożnice między predykcją a targetem per próbka\n",
    "y_err = np.abs(y_pred.flatten() - y_test.flatten())\n",
    "\n",
    "fig = plt.figure(figsize=(20,10))\n",
    "plt.hist(y_err, bins=30)\n",
    "plt.show()"
   ]
  }
 ],
 "metadata": {
  "kernelspec": {
   "display_name": "Python 3",
   "language": "python",
   "name": "python3"
  },
  "language_info": {
   "codemirror_mode": {
    "name": "ipython",
    "version": 3
   },
   "file_extension": ".py",
   "mimetype": "text/x-python",
   "name": "python",
   "nbconvert_exporter": "python",
   "pygments_lexer": "ipython3",
   "version": "3.10.6"
  },
  "toc": {
   "base_numbering": 1,
   "nav_menu": {},
   "number_sections": true,
   "sideBar": true,
   "skip_h1_title": true,
   "title_cell": "Table of Contents",
   "title_sidebar": "Contents",
   "toc_cell": true,
   "toc_position": {
    "height": "1118px",
    "left": "738px",
    "top": "180px",
    "width": "308px"
   },
   "toc_section_display": true,
   "toc_window_display": true
  },
  "vscode": {
   "interpreter": {
    "hash": "916dbcbb3f70747c44a77c7bcd40155683ae19c65e1c03b4aa3499c5328201f1"
   }
  }
 },
 "nbformat": 4,
 "nbformat_minor": 4
}
