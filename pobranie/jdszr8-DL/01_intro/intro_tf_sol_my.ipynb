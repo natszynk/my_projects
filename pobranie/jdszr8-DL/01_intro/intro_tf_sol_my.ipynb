{
 "cells": [
  {
   "cell_type": "markdown",
   "metadata": {
    "id": "7bY3BQthJxXt",
    "toc": true
   },
   "source": [
    "<h1>Table of Contents<span class=\"tocSkip\"></span></h1>\n",
    "<div class=\"toc\"><ul class=\"toc-item\"><li><span><a href=\"#Zadanie.-Implementacja-funkcji-aktywacji\" data-toc-modified-id=\"Zadanie.-Implementacja-funkcji-aktywacji-1\"><span class=\"toc-item-num\">1&nbsp;&nbsp;</span>Zadanie. Implementacja funkcji aktywacji</a></span></li><li><span><a href=\"#TF---Eager-execution\" data-toc-modified-id=\"TF---Eager-execution-2\"><span class=\"toc-item-num\">2&nbsp;&nbsp;</span>TF - Eager execution</a></span><ul class=\"toc-item\"><li><span><a href=\"#Definiowanie-tensorów\" data-toc-modified-id=\"Definiowanie-tensorów-2.1\"><span class=\"toc-item-num\">2.1&nbsp;&nbsp;</span>Definiowanie tensorów</a></span><ul class=\"toc-item\"><li><span><a href=\"#stała\" data-toc-modified-id=\"stała-2.1.1\"><span class=\"toc-item-num\">2.1.1&nbsp;&nbsp;</span>stała</a></span></li><li><span><a href=\"#zmienna\" data-toc-modified-id=\"zmienna-2.1.2\"><span class=\"toc-item-num\">2.1.2&nbsp;&nbsp;</span>zmienna</a></span></li></ul></li><li><span><a href=\"#obliczenia-macierzone\" data-toc-modified-id=\"obliczenia-macierzone-2.2\"><span class=\"toc-item-num\">2.2&nbsp;&nbsp;</span>obliczenia macierzone</a></span></li><li><span><a href=\"#gradient-tape\" data-toc-modified-id=\"gradient-tape-2.3\"><span class=\"toc-item-num\">2.3&nbsp;&nbsp;</span>gradient tape</a></span></li><li><span><a href=\"#Zadanie---pochodna-sparametryzowanego-wielomianu\" data-toc-modified-id=\"Zadanie---pochodna-sparametryzowanego-wielomianu-2.4\"><span class=\"toc-item-num\">2.4&nbsp;&nbsp;</span>Zadanie - pochodna sparametryzowanego wielomianu</a></span></li></ul></li><li><span><a href=\"#Dopasowanie-funkcji-liniowej\" data-toc-modified-id=\"Dopasowanie-funkcji-liniowej-3\"><span class=\"toc-item-num\">3&nbsp;&nbsp;</span>Dopasowanie funkcji liniowej</a></span><ul class=\"toc-item\"><li><span><a href=\"#Define-the-model\" data-toc-modified-id=\"Define-the-model-3.1\"><span class=\"toc-item-num\">3.1&nbsp;&nbsp;</span>Define the model</a></span></li><li><span><a href=\"#Define-a-loss-function\" data-toc-modified-id=\"Define-a-loss-function-3.2\"><span class=\"toc-item-num\">3.2&nbsp;&nbsp;</span>Define a loss function</a></span></li><li><span><a href=\"#Obtain-training-data\" data-toc-modified-id=\"Obtain-training-data-3.3\"><span class=\"toc-item-num\">3.3&nbsp;&nbsp;</span>Obtain training data</a></span></li><li><span><a href=\"#Present-dumb-model\" data-toc-modified-id=\"Present-dumb-model-3.4\"><span class=\"toc-item-num\">3.4&nbsp;&nbsp;</span>Present dumb model</a></span></li><li><span><a href=\"#Training-function\" data-toc-modified-id=\"Training-function-3.5\"><span class=\"toc-item-num\">3.5&nbsp;&nbsp;</span>Training function</a></span></li><li><span><a href=\"#Training-loop\" data-toc-modified-id=\"Training-loop-3.6\"><span class=\"toc-item-num\">3.6&nbsp;&nbsp;</span>Training loop</a></span></li><li><span><a href=\"#Present-good-model\" data-toc-modified-id=\"Present-good-model-3.7\"><span class=\"toc-item-num\">3.7&nbsp;&nbsp;</span>Present good model</a></span></li></ul></li><li><span><a href=\"#Prosta-sieć-neuronowa\" data-toc-modified-id=\"Prosta-sieć-neuronowa-4\"><span class=\"toc-item-num\">4&nbsp;&nbsp;</span>Prosta sieć neuronowa</a></span><ul class=\"toc-item\"><li><span><a href=\"#Dane-treningowe\" data-toc-modified-id=\"Dane-treningowe-4.1\"><span class=\"toc-item-num\">4.1&nbsp;&nbsp;</span>Dane treningowe</a></span></li><li><span><a href=\"#Definicja-modelu\" data-toc-modified-id=\"Definicja-modelu-4.2\"><span class=\"toc-item-num\">4.2&nbsp;&nbsp;</span>Definicja modelu</a></span></li><li><span><a href=\"#Sprawdzamy\" data-toc-modified-id=\"Sprawdzamy-4.3\"><span class=\"toc-item-num\">4.3&nbsp;&nbsp;</span>Sprawdzamy</a></span></li><li><span><a href=\"#Dodatkowo-policzymy-r^2\" data-toc-modified-id=\"Dodatkowo-policzymy-r^2-4.4\"><span class=\"toc-item-num\">4.4&nbsp;&nbsp;</span>Dodatkowo policzymy r^2</a></span></li><li><span><a href=\"#Wnioski\" data-toc-modified-id=\"Wnioski-4.5\"><span class=\"toc-item-num\">4.5&nbsp;&nbsp;</span>Wnioski</a></span></li><li><span><a href=\"#Zadanie---rozbudowa-sieci\" data-toc-modified-id=\"Zadanie---rozbudowa-sieci-4.6\"><span class=\"toc-item-num\">4.6&nbsp;&nbsp;</span>Zadanie - rozbudowa sieci</a></span></li></ul></li><li><span><a href=\"#Głęboka-sieć-neuronowa\" data-toc-modified-id=\"Głęboka-sieć-neuronowa-5\"><span class=\"toc-item-num\">5&nbsp;&nbsp;</span>Głęboka sieć neuronowa</a></span><ul class=\"toc-item\"><li><span><a href=\"#dane\" data-toc-modified-id=\"dane-5.1\"><span class=\"toc-item-num\">5.1&nbsp;&nbsp;</span>dane</a></span></li><li><span><a href=\"#model\" data-toc-modified-id=\"model-5.2\"><span class=\"toc-item-num\">5.2&nbsp;&nbsp;</span>model</a></span></li><li><span><a href=\"#sprawdźmy-na-xor'ze\" data-toc-modified-id=\"sprawdźmy-na-xor'ze-5.3\"><span class=\"toc-item-num\">5.3&nbsp;&nbsp;</span>sprawdźmy na xor'ze</a></span></li><li><span><a href=\"#trening-i-test-na-większym-zbiorze\" data-toc-modified-id=\"trening-i-test-na-większym-zbiorze-5.4\"><span class=\"toc-item-num\">5.4&nbsp;&nbsp;</span>trening i test na większym zbiorze</a></span><ul class=\"toc-item\"><li><span><a href=\"#wszystkie-dane-naraz-wprowadzamy-do-metody-fit\" data-toc-modified-id=\"wszystkie-dane-naraz-wprowadzamy-do-metody-fit-5.4.1\"><span class=\"toc-item-num\">5.4.1&nbsp;&nbsp;</span>wszystkie dane naraz wprowadzamy do metody fit</a></span></li><li><span><a href=\"#batchujemy-dane---dzielimy-na-paczki-i-kawałkami-zasilamy-metodę-fit\" data-toc-modified-id=\"batchujemy-dane---dzielimy-na-paczki-i-kawałkami-zasilamy-metodę-fit-5.4.2\"><span class=\"toc-item-num\">5.4.2&nbsp;&nbsp;</span>batchujemy dane - dzielimy na paczki i kawałkami zasilamy metodę fit</a></span></li></ul></li><li><span><a href=\"#Zadanie---badanie-funkcjonowania-sieci\" data-toc-modified-id=\"Zadanie---badanie-funkcjonowania-sieci-5.5\"><span class=\"toc-item-num\">5.5&nbsp;&nbsp;</span>Zadanie - badanie funkcjonowania sieci</a></span><ul class=\"toc-item\"><li><span><a href=\"#rozszerzenie-modelu-o-zwracanie-gradientów\" data-toc-modified-id=\"rozszerzenie-modelu-o-zwracanie-gradientów-5.5.1\"><span class=\"toc-item-num\">5.5.1&nbsp;&nbsp;</span>rozszerzenie modelu o zwracanie gradientów</a></span></li><li><span><a href=\"#zamknięcie-pod-jedną-funkcję\" data-toc-modified-id=\"zamknięcie-pod-jedną-funkcję-5.5.2\"><span class=\"toc-item-num\">5.5.2&nbsp;&nbsp;</span>zamknięcie pod jedną funkcję</a></span></li><li><span><a href=\"#badanie\" data-toc-modified-id=\"badanie-5.5.3\"><span class=\"toc-item-num\">5.5.3&nbsp;&nbsp;</span>badanie</a></span></li></ul></li></ul></li></ul></div>"
   ]
  },
  {
   "cell_type": "code",
   "execution_count": 2,
   "metadata": {
    "executionInfo": {
     "elapsed": 234,
     "status": "ok",
     "timestamp": 1632551473204,
     "user": {
      "displayName": "Katarzyna Zdon",
      "photoUrl": "https://lh3.googleusercontent.com/a-/AOh14GiARqKbxpY3hHGMO_F7XjDfiV2SxWfGDu0U_h6X=s64",
      "userId": "13184890358615580748"
     },
     "user_tz": -120
    },
    "id": "WXOWF_e3JxYI"
   },
   "outputs": [],
   "source": [
    "import tensorflow as tf\n",
    "import numpy as np\n",
    "import matplotlib.pyplot as plt\n",
    "from sklearn.metrics import classification_report\n",
    "import pandas as pd"
   ]
  },
  {
   "cell_type": "code",
   "execution_count": 6,
   "metadata": {
    "executionInfo": {
     "elapsed": 270,
     "status": "ok",
     "timestamp": 1632551510225,
     "user": {
      "displayName": "Katarzyna Zdon",
      "photoUrl": "https://lh3.googleusercontent.com/a-/AOh14GiARqKbxpY3hHGMO_F7XjDfiV2SxWfGDu0U_h6X=s64",
      "userId": "13184890358615580748"
     },
     "user_tz": -120
    },
    "id": "ehyIeIFbJxYM"
   },
   "outputs": [
    {
     "ename": "ModuleNotFoundError",
     "evalue": "No module named 'jupyterthemes'",
     "output_type": "error",
     "traceback": [
      "\u001b[0;31m---------------------------------------------------------------------------\u001b[0m",
      "\u001b[0;31mModuleNotFoundError\u001b[0m                       Traceback (most recent call last)",
      "\u001b[0;32m/tmp/ipykernel_9171/1996973676.py\u001b[0m in \u001b[0;36m<module>\u001b[0;34m\u001b[0m\n\u001b[1;32m      1\u001b[0m \u001b[0;31m# tylko dla tych co mają zainstalowaną paczkę jupyterthemes, wtedy mogą odkomentować\u001b[0m\u001b[0;34m\u001b[0m\u001b[0;34m\u001b[0m\u001b[0m\n\u001b[1;32m      2\u001b[0m \u001b[0;31m# kto nie ma to niech zakomentuje, ponieważ będzie wywalać błąd\u001b[0m\u001b[0;34m\u001b[0m\u001b[0;34m\u001b[0m\u001b[0m\n\u001b[0;32m----> 3\u001b[0;31m \u001b[0;32mfrom\u001b[0m \u001b[0mjupyterthemes\u001b[0m \u001b[0;32mimport\u001b[0m \u001b[0mjtplot\u001b[0m\u001b[0;34m\u001b[0m\u001b[0;34m\u001b[0m\u001b[0m\n\u001b[0m\u001b[1;32m      4\u001b[0m \u001b[0mjtplot\u001b[0m\u001b[0;34m.\u001b[0m\u001b[0mstyle\u001b[0m\u001b[0;34m(\u001b[0m\u001b[0mtheme\u001b[0m\u001b[0;34m=\u001b[0m\u001b[0;34m'monokai'\u001b[0m\u001b[0;34m,\u001b[0m \u001b[0mcontext\u001b[0m\u001b[0;34m=\u001b[0m\u001b[0;34m'notebook'\u001b[0m\u001b[0;34m,\u001b[0m \u001b[0mticks\u001b[0m\u001b[0;34m=\u001b[0m\u001b[0;32mTrue\u001b[0m\u001b[0;34m,\u001b[0m \u001b[0mgrid\u001b[0m\u001b[0;34m=\u001b[0m\u001b[0;32mFalse\u001b[0m\u001b[0;34m)\u001b[0m\u001b[0;34m\u001b[0m\u001b[0;34m\u001b[0m\u001b[0m\n",
      "\u001b[0;31mModuleNotFoundError\u001b[0m: No module named 'jupyterthemes'"
     ]
    }
   ],
   "source": [
    "# tylko dla tych co mają zainstalowaną paczkę jupyterthemes, wtedy mogą odkomentować\n",
    "# kto nie ma to niech zakomentuje, ponieważ będzie wywalać błąd\n",
    "# from jupyterthemes import jtplot\n",
    "# jtplot.style(theme='monokai', context='notebook', ticks=True, grid=False)"
   ]
  },
  {
   "cell_type": "markdown",
   "metadata": {
    "id": "u8ec7usuJxYO"
   },
   "source": [
    "# ___Tensorflow Intro___\n",
    "Wprowadzenie w korzystanie z biblioteki tensorflow."
   ]
  },
  {
   "cell_type": "markdown",
   "metadata": {
    "id": "A_DFaPpPJxYQ"
   },
   "source": [
    "---\n",
    "## Zadanie. Implementacja funkcji aktywacji\n",
    "Należy napisać dwie funkcje aktywacji i zobrazować na wykresach ich funkcjonowanie.\n",
    "- sigmoid\n",
    "\\begin{equation*}\n",
    "sig(x) = \\frac{1}{1+\\exp^{-x}}\n",
    "\\end{equation*}\n",
    "- relu\n",
    "\\begin{equation*}\n",
    "relu(x) = \\Big\\{\n",
    "    \\begin{split}\n",
    "        0,  x\\leq0 \\\\\n",
    "        x,  x>0\n",
    "    \\end{split}\n",
    "\\end{equation*}"
   ]
  },
  {
   "cell_type": "code",
   "execution_count": 3,
   "metadata": {},
   "outputs": [],
   "source": [
    "def sigmoid(x):\n",
    "    return 1/(1+np.exp(-x))"
   ]
  },
  {
   "cell_type": "code",
   "execution_count": 4,
   "metadata": {},
   "outputs": [],
   "source": [
    "def ReLu(x):\n",
    "    return np.maximum(0,x)"
   ]
  },
  {
   "cell_type": "code",
   "execution_count": 5,
   "metadata": {},
   "outputs": [],
   "source": [
    "x = np.arange(-10, 10, 0.1)"
   ]
  },
  {
   "cell_type": "code",
   "execution_count": 6,
   "metadata": {},
   "outputs": [],
   "source": [
    "yS = sigmoid(x)"
   ]
  },
  {
   "cell_type": "code",
   "execution_count": 7,
   "metadata": {},
   "outputs": [],
   "source": [
    "yR = ReLu(x)"
   ]
  },
  {
   "cell_type": "code",
   "execution_count": 8,
   "metadata": {},
   "outputs": [
    {
     "data": {
      "image/png": "[encoded data removed]",
      "text/plain": [
       "<Figure size 640x480 with 1 Axes>"
      ]
     },
     "metadata": {},
     "output_type": "display_data"
    }
   ],
   "source": [
    "plt.title(\"sigmoid\")\n",
    "plt.plot(x, yS)\n",
    "plt.show()"
   ]
  },
  {
   "cell_type": "code",
   "execution_count": 9,
   "metadata": {},
   "outputs": [
    {
     "data": {
      "image/png": "[encoded data removed]",
      "text/plain": [
       "<Figure size 640x480 with 1 Axes>"
      ]
     },
     "metadata": {},
     "output_type": "display_data"
    }
   ],
   "source": [
    "plt.title(\"relu\")\n",
    "plt.plot(x, yR)\n",
    "plt.show()"
   ]
  },
  {
   "cell_type": "markdown",
   "metadata": {
    "id": "T5K9H9q3JxYh"
   },
   "source": [
    "---\n",
    "## TF - Eager execution\n",
    "Praca z modelem sieci w locie. Oznacza to, że definiując konkretne zmienne wchodzące w skład modelu, tensorflow sam dołącza je do reszty."
   ]
  },
  {
   "cell_type": "markdown",
   "metadata": {
    "id": "kR11zooJJxYi"
   },
   "source": [
    "### Definiowanie tensorów"
   ]
  },
  {
   "cell_type": "markdown",
   "metadata": {
    "id": "I1IwEZHqJxYj"
   },
   "source": [
    "#### stała\n",
    "wartość której zmienić nie możemy w trakcie jej istnienia"
   ]
  },
  {
   "cell_type": "code",
   "execution_count": 32,
   "metadata": {},
   "outputs": [],
   "source": [
    "variable = 5.5"
   ]
  },
  {
   "cell_type": "code",
   "execution_count": 33,
   "metadata": {},
   "outputs": [
    {
     "data": {
      "text/plain": [
       "float"
      ]
     },
     "execution_count": 33,
     "metadata": {},
     "output_type": "execute_result"
    }
   ],
   "source": [
    "type(variable)"
   ]
  },
  {
   "cell_type": "code",
   "execution_count": 43,
   "metadata": {},
   "outputs": [],
   "source": [
    "# Tensory są obiektami - mają metody\n",
    "a = tf.constant(1)"
   ]
  },
  {
   "cell_type": "code",
   "execution_count": 44,
   "metadata": {},
   "outputs": [
    {
     "data": {
      "text/plain": [
       "tensorflow.python.framework.ops.EagerTensor"
      ]
     },
     "execution_count": 44,
     "metadata": {},
     "output_type": "execute_result"
    }
   ],
   "source": [
    "type(a)"
   ]
  },
  {
   "cell_type": "code",
   "execution_count": 45,
   "metadata": {},
   "outputs": [
    {
     "data": {
      "text/plain": [
       "<tf.Tensor: shape=(), dtype=int32, numpy=1>"
      ]
     },
     "execution_count": 45,
     "metadata": {},
     "output_type": "execute_result"
    }
   ],
   "source": [
    "a"
   ]
  },
  {
   "cell_type": "code",
   "execution_count": 46,
   "metadata": {
    "colab": {
     "base_uri": "https://localhost:8080/"
    },
    "executionInfo": {
     "elapsed": 223,
     "status": "ok",
     "timestamp": 1632501681753,
     "user": {
      "displayName": "Katarzyna Zdon",
      "photoUrl": "https://lh3.googleusercontent.com/a-/AOh14GiARqKbxpY3hHGMO_F7XjDfiV2SxWfGDu0U_h6X=s64",
      "userId": "13184890358615580748"
     },
     "user_tz": -120
    },
    "id": "m3o3nQ7zJxYj",
    "outputId": "bc3854a2-880e-4ffa-9733-0f7c7af2452c"
   },
   "outputs": [],
   "source": [
    "# Wartości stałej nie można zmienić - dla parametrów, które mają pozostac stałe. \n",
    "a = tf.constant(1, dtype=\"float32\")"
   ]
  },
  {
   "cell_type": "code",
   "execution_count": 47,
   "metadata": {},
   "outputs": [
    {
     "data": {
      "text/plain": [
       "tensorflow.python.framework.ops.EagerTensor"
      ]
     },
     "execution_count": 47,
     "metadata": {},
     "output_type": "execute_result"
    }
   ],
   "source": [
    "type(a)"
   ]
  },
  {
   "cell_type": "code",
   "execution_count": 48,
   "metadata": {},
   "outputs": [
    {
     "data": {
      "text/plain": [
       "<tf.Tensor: shape=(), dtype=float32, numpy=1.0>"
      ]
     },
     "execution_count": 48,
     "metadata": {},
     "output_type": "execute_result"
    }
   ],
   "source": [
    "a"
   ]
  },
  {
   "cell_type": "code",
   "execution_count": 49,
   "metadata": {},
   "outputs": [
    {
     "data": {
      "text/plain": [
       "1.0"
      ]
     },
     "execution_count": 49,
     "metadata": {},
     "output_type": "execute_result"
    }
   ],
   "source": [
    "# Konwersja na numpy\n",
    "a.numpy()"
   ]
  },
  {
   "cell_type": "code",
   "execution_count": 18,
   "metadata": {},
   "outputs": [
    {
     "data": {
      "text/plain": [
       "numpy.float32"
      ]
     },
     "execution_count": 18,
     "metadata": {},
     "output_type": "execute_result"
    }
   ],
   "source": [
    "type(a.numpy())"
   ]
  },
  {
   "cell_type": "code",
   "execution_count": 51,
   "metadata": {
    "id": "raqZBZrbJxYk"
   },
   "outputs": [],
   "source": [
    "someConst = tf.constant([[1,2],[3,4],[5,6]], dtype=\"float64\")"
   ]
  },
  {
   "cell_type": "code",
   "execution_count": 52,
   "metadata": {
    "colab": {
     "base_uri": "https://localhost:8080/"
    },
    "executionInfo": {
     "elapsed": 227,
     "status": "ok",
     "timestamp": 1632501701436,
     "user": {
      "displayName": "Katarzyna Zdon",
      "photoUrl": "https://lh3.googleusercontent.com/a-/AOh14GiARqKbxpY3hHGMO_F7XjDfiV2SxWfGDu0U_h6X=s64",
      "userId": "13184890358615580748"
     },
     "user_tz": -120
    },
    "id": "KobJ5rDKJxYl",
    "outputId": "ff1b0057-a035-45cf-fc58-2134fa03d69e"
   },
   "outputs": [
    {
     "data": {
      "text/plain": [
       "<tf.Tensor: shape=(3, 2), dtype=float64, numpy=\n",
       "array([[1., 2.],\n",
       "       [3., 4.],\n",
       "       [5., 6.]])>"
      ]
     },
     "execution_count": 52,
     "metadata": {},
     "output_type": "execute_result"
    }
   ],
   "source": [
    "someConst"
   ]
  },
  {
   "cell_type": "code",
   "execution_count": 53,
   "metadata": {
    "colab": {
     "base_uri": "https://localhost:8080/"
    },
    "executionInfo": {
     "elapsed": 212,
     "status": "ok",
     "timestamp": 1632501711273,
     "user": {
      "displayName": "Katarzyna Zdon",
      "photoUrl": "https://lh3.googleusercontent.com/a-/AOh14GiARqKbxpY3hHGMO_F7XjDfiV2SxWfGDu0U_h6X=s64",
      "userId": "13184890358615580748"
     },
     "user_tz": -120
    },
    "id": "JuoyYi8oJxYm",
    "outputId": "1bb6ef9b-541a-4733-d213-e9450a0aaed5"
   },
   "outputs": [
    {
     "data": {
      "text/plain": [
       "array([[1., 2.],\n",
       "       [3., 4.],\n",
       "       [5., 6.]])"
      ]
     },
     "execution_count": 53,
     "metadata": {},
     "output_type": "execute_result"
    }
   ],
   "source": [
    "someConst.numpy()"
   ]
  },
  {
   "cell_type": "markdown",
   "metadata": {
    "id": "URY1PEApJxYn"
   },
   "source": [
    "#### zmienna\n",
    "Możemy ją modyfikować. Mogą to być na przykład wagi danego modelu."
   ]
  },
  {
   "cell_type": "code",
   "execution_count": 54,
   "metadata": {
    "colab": {
     "base_uri": "https://localhost:8080/"
    },
    "executionInfo": {
     "elapsed": 222,
     "status": "ok",
     "timestamp": 1632501722564,
     "user": {
      "displayName": "Katarzyna Zdon",
      "photoUrl": "https://lh3.googleusercontent.com/a-/AOh14GiARqKbxpY3hHGMO_F7XjDfiV2SxWfGDu0U_h6X=s64",
      "userId": "13184890358615580748"
     },
     "user_tz": -120
    },
    "id": "501E4AIMJxYp",
    "outputId": "a6a4326f-4549-4111-e80d-9659449aacd7"
   },
   "outputs": [
    {
     "data": {
      "text/plain": [
       "array([[0, 1, 2],\n",
       "       [3, 4, 5]])"
      ]
     },
     "execution_count": 54,
     "metadata": {},
     "output_type": "execute_result"
    }
   ],
   "source": [
    "np.arange(6).reshape(2,3)"
   ]
  },
  {
   "cell_type": "code",
   "execution_count": 56,
   "metadata": {
    "colab": {
     "base_uri": "https://localhost:8080/"
    },
    "executionInfo": {
     "elapsed": 37,
     "status": "ok",
     "timestamp": 1632501662164,
     "user": {
      "displayName": "Katarzyna Zdon",
      "photoUrl": "https://lh3.googleusercontent.com/a-/AOh14GiARqKbxpY3hHGMO_F7XjDfiV2SxWfGDu0U_h6X=s64",
      "userId": "13184890358615580748"
     },
     "user_tz": -120
    },
    "id": "cJSIaq7GJxYp",
    "outputId": "b5cf8e86-b229-4fe0-cdc2-8b2d38444cf7"
   },
   "outputs": [
    {
     "data": {
      "text/plain": [
       "<tf.Variable 'warstwa_3:0' shape=(2, 3) dtype=float32, numpy=\n",
       "array([[0., 1., 2.],\n",
       "       [3., 4., 5.]], dtype=float32)>"
      ]
     },
     "execution_count": 56,
     "metadata": {},
     "output_type": "execute_result"
    }
   ],
   "source": [
    "someVar = tf.Variable(np.arange(6).reshape(2,3), dtype=\"float\", name=\"warstwa_3\")\n",
    "someVar"
   ]
  },
  {
   "cell_type": "code",
   "execution_count": 57,
   "metadata": {
    "colab": {
     "base_uri": "https://localhost:8080/"
    },
    "executionInfo": {
     "elapsed": 36,
     "status": "ok",
     "timestamp": 1632501662165,
     "user": {
      "displayName": "Katarzyna Zdon",
      "photoUrl": "https://lh3.googleusercontent.com/a-/AOh14GiARqKbxpY3hHGMO_F7XjDfiV2SxWfGDu0U_h6X=s64",
      "userId": "13184890358615580748"
     },
     "user_tz": -120
    },
    "id": "OdZsqJtyJxYq",
    "outputId": "be98ac36-23bd-40d9-c3c7-68c7d6db9cb0"
   },
   "outputs": [
    {
     "data": {
      "text/plain": [
       "array([[0., 1., 2.],\n",
       "       [3., 4., 5.]], dtype=float32)"
      ]
     },
     "execution_count": 57,
     "metadata": {},
     "output_type": "execute_result"
    }
   ],
   "source": [
    "someVar.numpy()"
   ]
  },
  {
   "cell_type": "code",
   "execution_count": 63,
   "metadata": {
    "colab": {
     "base_uri": "https://localhost:8080/"
    },
    "executionInfo": {
     "elapsed": 34,
     "status": "ok",
     "timestamp": 1632501662166,
     "user": {
      "displayName": "Katarzyna Zdon",
      "photoUrl": "https://lh3.googleusercontent.com/a-/AOh14GiARqKbxpY3hHGMO_F7XjDfiV2SxWfGDu0U_h6X=s64",
      "userId": "13184890358615580748"
     },
     "user_tz": -120
    },
    "id": "_fdrdttaJxYr",
    "outputId": "92cd55e2-438d-4958-fdaf-a755982d7c83"
   },
   "outputs": [
    {
     "data": {
      "text/plain": [
       "<tf.Variable 'warstwa_3:0' shape=(2, 3) dtype=float32, numpy=\n",
       "array([[ 6.,  7.,  8.],\n",
       "       [ 9., 10., 11.]], dtype=float32)>"
      ]
     },
     "execution_count": 63,
     "metadata": {},
     "output_type": "execute_result"
    }
   ],
   "source": [
    "# Możliwa zmiana wartosci\n",
    "someVar.assign(np.arange(6,12).reshape(2,3))\n",
    "someVar"
   ]
  },
  {
   "cell_type": "code",
   "execution_count": 64,
   "metadata": {
    "colab": {
     "base_uri": "https://localhost:8080/"
    },
    "executionInfo": {
     "elapsed": 34,
     "status": "ok",
     "timestamp": 1632501662166,
     "user": {
      "displayName": "Katarzyna Zdon",
      "photoUrl": "https://lh3.googleusercontent.com/a-/AOh14GiARqKbxpY3hHGMO_F7XjDfiV2SxWfGDu0U_h6X=s64",
      "userId": "13184890358615580748"
     },
     "user_tz": -120
    },
    "id": "_fdrdttaJxYr",
    "outputId": "92cd55e2-438d-4958-fdaf-a755982d7c83"
   },
   "outputs": [
    {
     "ename": "ValueError",
     "evalue": "Cannot assign value to variable ' warstwa_3:0': Shape mismatch.The variable shape (2, 3), and the assigned value shape (3, 2) are incompatible.",
     "output_type": "error",
     "traceback": [
      "\u001b[0;31m---------------------------------------------------------------------------\u001b[0m",
      "\u001b[0;31mValueError\u001b[0m                                Traceback (most recent call last)",
      "Cell \u001b[0;32mIn [64], line 2\u001b[0m\n\u001b[1;32m      1\u001b[0m \u001b[39m# bledny kształt przypisywanych wartości\u001b[39;00m\n\u001b[0;32m----> 2\u001b[0m someVar\u001b[39m.\u001b[39massign(np\u001b[39m.\u001b[39marange(\u001b[39m6\u001b[39m,\u001b[39m12\u001b[39m)\u001b[39m.\u001b[39mreshape(\u001b[39m3\u001b[39m,\u001b[39m2\u001b[39m))\n\u001b[1;32m      3\u001b[0m someVar\n",
      "File \u001b[0;32m~/anaconda3/envs/geo_env_tensor/lib/python3.9/site-packages/tensorflow/python/ops/resource_variable_ops.py:933\u001b[0m, in \u001b[0;36mBaseResourceVariable.assign\u001b[0;34m(self, value, use_locking, name, read_value)\u001b[0m\n\u001b[1;32m    931\u001b[0m   \u001b[39melse\u001b[39;00m:\n\u001b[1;32m    932\u001b[0m     tensor_name \u001b[39m=\u001b[39m \u001b[39m\"\u001b[39m\u001b[39m \u001b[39m\u001b[39m\"\u001b[39m \u001b[39m+\u001b[39m \u001b[39mstr\u001b[39m(\u001b[39mself\u001b[39m\u001b[39m.\u001b[39mname)\n\u001b[0;32m--> 933\u001b[0m   \u001b[39mraise\u001b[39;00m \u001b[39mValueError\u001b[39;00m(\n\u001b[1;32m    934\u001b[0m       (\u001b[39mf\u001b[39m\u001b[39m\"\u001b[39m\u001b[39mCannot assign value to variable \u001b[39m\u001b[39m'\u001b[39m\u001b[39m{\u001b[39;00mtensor_name\u001b[39m}\u001b[39;00m\u001b[39m'\u001b[39m\u001b[39m: Shape mismatch.\u001b[39m\u001b[39m\"\u001b[39m\n\u001b[1;32m    935\u001b[0m        \u001b[39mf\u001b[39m\u001b[39m\"\u001b[39m\u001b[39mThe variable shape \u001b[39m\u001b[39m{\u001b[39;00m\u001b[39mself\u001b[39m\u001b[39m.\u001b[39m_shape\u001b[39m}\u001b[39;00m\u001b[39m, and the \u001b[39m\u001b[39m\"\u001b[39m\n\u001b[1;32m    936\u001b[0m        \u001b[39mf\u001b[39m\u001b[39m\"\u001b[39m\u001b[39massigned value shape \u001b[39m\u001b[39m{\u001b[39;00mvalue_tensor\u001b[39m.\u001b[39mshape\u001b[39m}\u001b[39;00m\u001b[39m are incompatible.\u001b[39m\u001b[39m\"\u001b[39m))\n\u001b[1;32m    937\u001b[0m kwargs \u001b[39m=\u001b[39m {}\n\u001b[1;32m    938\u001b[0m \u001b[39mif\u001b[39;00m forward_compat\u001b[39m.\u001b[39mforward_compatible(\u001b[39m2022\u001b[39m, \u001b[39m3\u001b[39m, \u001b[39m23\u001b[39m):\n\u001b[1;32m    939\u001b[0m   \u001b[39m# If the shape is fully defined, we do a runtime check with the shape of\u001b[39;00m\n\u001b[1;32m    940\u001b[0m   \u001b[39m# value.\u001b[39;00m\n",
      "\u001b[0;31mValueError\u001b[0m: Cannot assign value to variable ' warstwa_3:0': Shape mismatch.The variable shape (2, 3), and the assigned value shape (3, 2) are incompatible."
     ]
    }
   ],
   "source": [
    "# bledny kształt przypisywanych wartości\n",
    "someVar.assign(np.arange(6,12).reshape(3,2))\n",
    "someVar"
   ]
  },
  {
   "cell_type": "code",
   "execution_count": 65,
   "metadata": {
    "colab": {
     "base_uri": "https://localhost:8080/"
    },
    "executionInfo": {
     "elapsed": 33,
     "status": "ok",
     "timestamp": 1632501662167,
     "user": {
      "displayName": "Katarzyna Zdon",
      "photoUrl": "https://lh3.googleusercontent.com/a-/AOh14GiARqKbxpY3hHGMO_F7XjDfiV2SxWfGDu0U_h6X=s64",
      "userId": "13184890358615580748"
     },
     "user_tz": -120
    },
    "id": "IPeS9rdSJxYt",
    "outputId": "66c12f9a-0363-40b2-9fe3-4fdfc0174ab2"
   },
   "outputs": [
    {
     "data": {
      "text/plain": [
       "array([[1., 1., 1.],\n",
       "       [1., 1., 1.]])"
      ]
     },
     "execution_count": 65,
     "metadata": {},
     "output_type": "execute_result"
    }
   ],
   "source": [
    "np.ones(shape=(2,3))"
   ]
  },
  {
   "cell_type": "code",
   "execution_count": 66,
   "metadata": {
    "colab": {
     "base_uri": "https://localhost:8080/"
    },
    "executionInfo": {
     "elapsed": 29,
     "status": "ok",
     "timestamp": 1632501662167,
     "user": {
      "displayName": "Katarzyna Zdon",
      "photoUrl": "https://lh3.googleusercontent.com/a-/AOh14GiARqKbxpY3hHGMO_F7XjDfiV2SxWfGDu0U_h6X=s64",
      "userId": "13184890358615580748"
     },
     "user_tz": -120
    },
    "id": "4c_qbGZuJxYu",
    "outputId": "60376164-100f-48bc-c5ff-f2546fb25518"
   },
   "outputs": [
    {
     "data": {
      "text/plain": [
       "<tf.Variable 'warstwa_3:0' shape=(2, 3) dtype=float32, numpy=\n",
       "array([[ 7.,  8.,  9.],\n",
       "       [10., 11., 12.]], dtype=float32)>"
      ]
     },
     "execution_count": 66,
     "metadata": {},
     "output_type": "execute_result"
    }
   ],
   "source": [
    "someVar.assign_add(np.ones(shape=(2,3)))\n",
    "someVar"
   ]
  },
  {
   "cell_type": "code",
   "execution_count": 67,
   "metadata": {},
   "outputs": [
    {
     "data": {
      "text/plain": [
       "<tf.Tensor: shape=(3, 2), dtype=float32, numpy=\n",
       "array([[ 7.,  8.],\n",
       "       [ 9., 10.],\n",
       "       [11., 12.]], dtype=float32)>"
      ]
     },
     "execution_count": 67,
     "metadata": {},
     "output_type": "execute_result"
    }
   ],
   "source": [
    "# zmiana kształtu tensora\n",
    "tf.reshape(someVar, (3,2))"
   ]
  },
  {
   "cell_type": "markdown",
   "metadata": {
    "id": "to5lOv7xJxYu"
   },
   "source": [
    "### obliczenia macierzone "
   ]
  },
  {
   "cell_type": "code",
   "execution_count": 74,
   "metadata": {
    "colab": {
     "base_uri": "https://localhost:8080/"
    },
    "executionInfo": {
     "elapsed": 536,
     "status": "ok",
     "timestamp": 1632503359159,
     "user": {
      "displayName": "Katarzyna Zdon",
      "photoUrl": "https://lh3.googleusercontent.com/a-/AOh14GiARqKbxpY3hHGMO_F7XjDfiV2SxWfGDu0U_h6X=s64",
      "userId": "13184890358615580748"
     },
     "user_tz": -120
    },
    "id": "TUkw2RxIJxYv",
    "outputId": "95a16569-7106-4e2c-e739-b0a322740d27"
   },
   "outputs": [
    {
     "data": {
      "text/plain": [
       "<tf.Tensor: shape=(10,), dtype=int64, numpy=array([ 0,  2,  4,  6,  8, 10, 12, 14, 16, 18])>"
      ]
     },
     "execution_count": 74,
     "metadata": {},
     "output_type": "execute_result"
    }
   ],
   "source": [
    "a = tf.constant(np.arange(10))\n",
    "b = tf.constant(np.arange(10))\n",
    "c = tf.add(a, b)\n",
    "c"
   ]
  },
  {
   "cell_type": "code",
   "execution_count": 75,
   "metadata": {},
   "outputs": [
    {
     "data": {
      "text/plain": [
       "<tf.Tensor: shape=(10,), dtype=int64, numpy=array([ 0,  2,  4,  6,  8, 10, 12, 14, 16, 18])>"
      ]
     },
     "execution_count": 75,
     "metadata": {},
     "output_type": "execute_result"
    }
   ],
   "source": [
    "tf.add(\n",
    "    tf.constant(np.arange(10)),\n",
    "    tf.constant(np.arange(10))\n",
    ")"
   ]
  },
  {
   "cell_type": "code",
   "execution_count": 84,
   "metadata": {},
   "outputs": [
    {
     "data": {
      "text/plain": [
       "<tf.Tensor: shape=(10,), dtype=int32, numpy=array([ 5,  6,  7,  8,  9, 10, 11, 12, 13, 14], dtype=int32)>"
      ]
     },
     "execution_count": 84,
     "metadata": {},
     "output_type": "execute_result"
    }
   ],
   "source": [
    "tf.add(\n",
    "    tf.constant(np.arange(10),dtype=\"int32\"),\n",
    "    tf.constant(5)\n",
    ")"
   ]
  },
  {
   "cell_type": "code",
   "execution_count": 85,
   "metadata": {
    "colab": {
     "base_uri": "https://localhost:8080/"
    },
    "executionInfo": {
     "elapsed": 211,
     "status": "ok",
     "timestamp": 1632503420487,
     "user": {
      "displayName": "Katarzyna Zdon",
      "photoUrl": "https://lh3.googleusercontent.com/a-/AOh14GiARqKbxpY3hHGMO_F7XjDfiV2SxWfGDu0U_h6X=s64",
      "userId": "13184890358615580748"
     },
     "user_tz": -120
    },
    "id": "1ukNQ7QsJxYw",
    "outputId": "d348fb44-9b0d-4f4c-9282-2910829c797f"
   },
   "outputs": [
    {
     "name": "stdout",
     "output_type": "stream",
     "text": [
      "[0 1 2 3 4 5 6 7 8 9]\n",
      "+\n",
      "[0 1 2 3 4 5 6 7 8 9]\n",
      "=\n",
      "[ 0  2  4  6  8 10 12 14 16 18]\n"
     ]
    }
   ],
   "source": [
    "print(f\"{a}\\n+\\n{b}\\n=\\n{c}\")"
   ]
  },
  {
   "cell_type": "code",
   "execution_count": 86,
   "metadata": {},
   "outputs": [],
   "source": [
    "tmp_vec = np.arange(10)"
   ]
  },
  {
   "cell_type": "code",
   "execution_count": 87,
   "metadata": {},
   "outputs": [
    {
     "data": {
      "text/plain": [
       "45"
      ]
     },
     "execution_count": 87,
     "metadata": {},
     "output_type": "execute_result"
    }
   ],
   "source": [
    "tmp_vec.sum()"
   ]
  },
  {
   "cell_type": "code",
   "execution_count": 88,
   "metadata": {},
   "outputs": [
    {
     "data": {
      "text/plain": [
       "<tf.Tensor: shape=(10,), dtype=int64, numpy=array([0, 1, 2, 3, 4, 5, 6, 7, 8, 9])>"
      ]
     },
     "execution_count": 88,
     "metadata": {},
     "output_type": "execute_result"
    }
   ],
   "source": [
    "a"
   ]
  },
  {
   "cell_type": "code",
   "execution_count": 94,
   "metadata": {},
   "outputs": [
    {
     "data": {
      "text/plain": [
       "<tf.Tensor: shape=(), dtype=int64, numpy=45>"
      ]
     },
     "execution_count": 94,
     "metadata": {},
     "output_type": "execute_result"
    }
   ],
   "source": [
    "tf.reduce_sum(a, axis=0)"
   ]
  },
  {
   "cell_type": "code",
   "execution_count": 91,
   "metadata": {},
   "outputs": [
    {
     "data": {
      "text/plain": [
       "<tf.Tensor: shape=(3, 3), dtype=int64, numpy=\n",
       "array([[0, 1, 2],\n",
       "       [3, 4, 5],\n",
       "       [6, 7, 8]])>"
      ]
     },
     "execution_count": 91,
     "metadata": {},
     "output_type": "execute_result"
    }
   ],
   "source": [
    "tmp_mat = tf.constant(np.arange(9).reshape(3,3))\n",
    "tmp_mat"
   ]
  },
  {
   "cell_type": "code",
   "execution_count": 95,
   "metadata": {},
   "outputs": [
    {
     "data": {
      "text/plain": [
       "<tf.Tensor: shape=(), dtype=int64, numpy=36>"
      ]
     },
     "execution_count": 95,
     "metadata": {},
     "output_type": "execute_result"
    }
   ],
   "source": [
    "tf.reduce_sum(tmp_mat)"
   ]
  },
  {
   "cell_type": "code",
   "execution_count": 92,
   "metadata": {},
   "outputs": [
    {
     "data": {
      "text/plain": [
       "<tf.Tensor: shape=(3,), dtype=int64, numpy=array([ 9, 12, 15])>"
      ]
     },
     "execution_count": 92,
     "metadata": {},
     "output_type": "execute_result"
    }
   ],
   "source": [
    "tf.reduce_sum(tmp_mat, axis=0)"
   ]
  },
  {
   "cell_type": "code",
   "execution_count": 93,
   "metadata": {},
   "outputs": [
    {
     "data": {
      "text/plain": [
       "<tf.Tensor: shape=(3,), dtype=int64, numpy=array([ 3, 12, 21])>"
      ]
     },
     "execution_count": 93,
     "metadata": {},
     "output_type": "execute_result"
    }
   ],
   "source": [
    "tf.reduce_sum(tmp_mat, axis=1)"
   ]
  },
  {
   "cell_type": "code",
   "execution_count": 96,
   "metadata": {
    "colab": {
     "base_uri": "https://localhost:8080/"
    },
    "executionInfo": {
     "elapsed": 8,
     "status": "ok",
     "timestamp": 1632503359162,
     "user": {
      "displayName": "Katarzyna Zdon",
      "photoUrl": "https://lh3.googleusercontent.com/a-/AOh14GiARqKbxpY3hHGMO_F7XjDfiV2SxWfGDu0U_h6X=s64",
      "userId": "13184890358615580748"
     },
     "user_tz": -120
    },
    "id": "wYgmoYx8JxYw",
    "outputId": "bcfc4829-e24e-4670-a759-7113eb7bb899"
   },
   "outputs": [
    {
     "name": "stdout",
     "output_type": "stream",
     "text": [
      "[[0]\n",
      " [1]\n",
      " [2]\n",
      " [3]\n",
      " [4]\n",
      " [5]\n",
      " [6]\n",
      " [7]\n",
      " [8]\n",
      " [9]]\n",
      "*\n",
      "[[0 1 2 3 4 5 6 7 8 9]]\n",
      "=\n",
      "[[ 0  0  0  0  0  0  0  0  0  0]\n",
      " [ 0  1  2  3  4  5  6  7  8  9]\n",
      " [ 0  2  4  6  8 10 12 14 16 18]\n",
      " [ 0  3  6  9 12 15 18 21 24 27]\n",
      " [ 0  4  8 12 16 20 24 28 32 36]\n",
      " [ 0  5 10 15 20 25 30 35 40 45]\n",
      " [ 0  6 12 18 24 30 36 42 48 54]\n",
      " [ 0  7 14 21 28 35 42 49 56 63]\n",
      " [ 0  8 16 24 32 40 48 56 64 72]\n",
      " [ 0  9 18 27 36 45 54 63 72 81]]\n"
     ]
    }
   ],
   "source": [
    "# Mnożenie macierzy\n",
    "a = np.arange(10).reshape(10,1)\n",
    "b = np.arange(10).reshape(1,10)\n",
    "d = tf.matmul(a ,b)\n",
    "print(f\"{a}\\n*\\n{b}\\n=\\n{d.numpy()}\")"
   ]
  },
  {
   "cell_type": "code",
   "execution_count": 99,
   "metadata": {},
   "outputs": [
    {
     "name": "stdout",
     "output_type": "stream",
     "text": [
      "[[0 1 2 3 4 5 6 7 8 9]]\n",
      "*\n",
      "[[0]\n",
      " [1]\n",
      " [2]\n",
      " [3]\n",
      " [4]\n",
      " [5]\n",
      " [6]\n",
      " [7]\n",
      " [8]\n",
      " [9]]\n",
      "=\n",
      "[[285]]\n"
     ]
    }
   ],
   "source": [
    "# Mnożenie macierzy - II\n",
    "a = np.arange(10).reshape(10,1)\n",
    "b = np.arange(10).reshape(1,10)\n",
    "d = tf.matmul(b ,a)\n",
    "print(f\"{b}\\n*\\n{a}\\n=\\n{d.numpy()}\")"
   ]
  },
  {
   "cell_type": "code",
   "execution_count": 101,
   "metadata": {},
   "outputs": [
    {
     "name": "stdout",
     "output_type": "stream",
     "text": [
      "[0. 1. 2. 3. 4. 5. 6. 7. 8. 9.]\n",
      "*\n",
      "[0. 1. 2. 3. 4. 5. 6. 7. 8. 9.]\n",
      "=\n",
      "[ 0.  1.  4.  9. 16. 25. 36. 49. 64. 81.]\n"
     ]
    }
   ],
   "source": [
    "# Mnożenie elementów\n",
    "a = tf.constant(np.arange(10), dtype=float)\n",
    "b = tf.constant(np.arange(10), dtype=float)\n",
    "d = a*b\n",
    "print(f\"{b}\\n*\\n{a}\\n=\\n{d.numpy()}\")"
   ]
  },
  {
   "cell_type": "code",
   "execution_count": 102,
   "metadata": {
    "colab": {
     "base_uri": "https://localhost:8080/"
    },
    "executionInfo": {
     "elapsed": 8,
     "status": "ok",
     "timestamp": 1632503359163,
     "user": {
      "displayName": "Katarzyna Zdon",
      "photoUrl": "https://lh3.googleusercontent.com/a-/AOh14GiARqKbxpY3hHGMO_F7XjDfiV2SxWfGDu0U_h6X=s64",
      "userId": "13184890358615580748"
     },
     "user_tz": -120
    },
    "id": "WnPWuHELJxYx",
    "outputId": "248bf77b-80c5-47b2-8a15-e21ca83b0b4e"
   },
   "outputs": [
    {
     "name": "stdout",
     "output_type": "stream",
     "text": [
      "[0. 1. 2. 3. 4. 5. 6. 7. 8. 9.]\n",
      "*\n",
      "5.0\n",
      "=\n",
      "[ 0.  5. 10. 15. 20. 25. 30. 35. 40. 45.]\n"
     ]
    }
   ],
   "source": [
    "a = tf.constant(np.arange(10), dtype=float)\n",
    "b = tf.constant(5.0)\n",
    "d = a*b\n",
    "print(f\"{a}\\n*\\n{b}\\n=\\n{d}\")"
   ]
  },
  {
   "cell_type": "markdown",
   "metadata": {
    "id": "7Zs95y0aJxYy"
   },
   "source": [
    "### gradient tape\n",
    "Mechanizm automatycznego wyznaczania gradientów z podanego fragmentu modelu"
   ]
  },
  {
   "cell_type": "markdown",
   "metadata": {
    "id": "0GHR_btvJxYy"
   },
   "source": [
    "Równanie wielomianu:\n",
    "\\begin{equation*}\n",
    "poly(w_1, w_2) = 3*w_1^2+4*w_2^3\n",
    "\\end{equation*}"
   ]
  },
  {
   "cell_type": "code",
   "execution_count": 103,
   "metadata": {
    "id": "8nHg0sOIJxYz"
   },
   "outputs": [],
   "source": [
    "w1 = tf.Variable([2.0])\n",
    "w2 = tf.Variable([3.0])"
   ]
  },
  {
   "cell_type": "code",
   "execution_count": 106,
   "metadata": {
    "colab": {
     "base_uri": "https://localhost:8080/"
    },
    "executionInfo": {
     "elapsed": 27,
     "status": "ok",
     "timestamp": 1632501662173,
     "user": {
      "displayName": "Katarzyna Zdon",
      "photoUrl": "https://lh3.googleusercontent.com/a-/AOh14GiARqKbxpY3hHGMO_F7XjDfiV2SxWfGDu0U_h6X=s64",
      "userId": "13184890358615580748"
     },
     "user_tz": -120
    },
    "id": "4VwJVnKYJxYz",
    "outputId": "02e755aa-d932-491b-ba50-4cf7de3fdcab"
   },
   "outputs": [
    {
     "name": "stdout",
     "output_type": "stream",
     "text": [
      "grad = [12.], [108.]\n"
     ]
    }
   ],
   "source": [
    "# Modele można składac z różnych częsci: funkcji, kilku równań, nie musza to być pojedyncze równania:\n",
    "# np. poly = 3*w1**2 + 4*w2**3\n",
    "# wszystko co jest pod taśmą będzie brane pod uwagę podczas liczenia gradientu\n",
    "with tf.GradientTape() as tape:\n",
    "    part1 = 4*w2**3\n",
    "    poly = 3*w1**2 + part1\n",
    "    # 3*w1^2 + 4*w2^3\n",
    "    \n",
    "grad = tape.gradient(poly, [w1, w2])\n",
    "# po w1 -> 3*2*w1 + 0 -> 3*2*2 = 12 (pochodna po w1)\n",
    "# po w2 -> 0 + 4*3*w2^2 -> 4*3*3^2 = 108 (pochodna po w2)\n",
    "print(f\"grad = {grad[0].numpy()}, {grad[1].numpy()}\")"
   ]
  },
  {
   "cell_type": "code",
   "execution_count": null,
   "metadata": {
    "colab": {
     "base_uri": "https://localhost:8080/"
    },
    "executionInfo": {
     "elapsed": 26,
     "status": "ok",
     "timestamp": 1632501662174,
     "user": {
      "displayName": "Katarzyna Zdon",
      "photoUrl": "https://lh3.googleusercontent.com/a-/AOh14GiARqKbxpY3hHGMO_F7XjDfiV2SxWfGDu0U_h6X=s64",
      "userId": "13184890358615580748"
     },
     "user_tz": -120
    },
    "id": "1qQnmzLbJxY0",
    "outputId": "02db9971-ca6f-4f5c-c62b-ee321434af11"
   },
   "outputs": [],
   "source": [
    "s = 3\n",
    "x_init = [1,2,3]\n",
    "tf_vars = []\n",
    "for i in range(s):\n",
    "    tf_vars.append(tf.Variable([x_init[i]]))\n",
    "tf_vars"
   ]
  },
  {
   "cell_type": "markdown",
   "metadata": {},
   "source": [
    "a*x^0 + b*x^1 + c*x^2\n",
    "a*x1^0 + b*x2^1 + c*x3^2"
   ]
  },
  {
   "cell_type": "markdown",
   "metadata": {
    "id": "YQcKHMUiJxY1"
   },
   "source": [
    "### Zadanie - pochodna sparametryzowanego wielomianu\n",
    "Napisz funkcję która przyjmie jako parametr:\n",
    "- stopień wielomianu\n",
    "- wartość inicjalizującą X\n",
    "- wektor stałych współczynników przy X\n",
    "\n",
    "Zwracać funkcja powinna wartość gradientu.\\\n",
    "Przykładowo dla wielomianu drugiego rzędu: a+bx+cx^2\\\n",
    "Pochodna po x zwrócić powinna wynik z: 0+b+2*c*x\\\n",
    "wskazówki:\n",
    "- x to zmienne tensorflowa\n",
    "- wspołczynniki (a, b, c, ...) to stałe tensorflowa"
   ]
  },
  {
   "cell_type": "code",
   "execution_count": 112,
   "metadata": {},
   "outputs": [],
   "source": [
    "def calcPolyDer(xInit, params):\n",
    "    \"\"\"\n",
    "    Function to calculate derivate of a polynomial with some init values of x and params.\n",
    "    Poly can looks like: a+bx+cx^2+...\n",
    "    :param xInit: init value of X\n",
    "    :param params: list of parameters values a, b, c, ...; len of params describes order of polynomial, first order is a+bx, second a+bx+cx^2 and so on\n",
    "    \"\"\"\n",
    "    # define x\n",
    "    x = tf.Variable(xInit)\n",
    "    # define list of constants\n",
    "    consts = [tf.constant(val) for val in params]\n",
    "    #define polynomial\n",
    "    def polyFun(x, consts):\n",
    "        # first part of polynomial, just first constant\n",
    "        y = consts[0]\n",
    "        # loop through rest of consts\n",
    "        for i in range(1, len(consts)):\n",
    "            # adding to the last part power of x to order given by index\n",
    "            y = y + consts[i]*tf.pow(x, i)\n",
    "        return y\n",
    "    # tape\n",
    "    with tf.GradientTape() as tape:\n",
    "        # use polynomial function\n",
    "        y = polyFun(x, consts)\n",
    "    # unroll tape and take derivative and poly \n",
    "    return tape.gradient(y, x), polyFun(x, consts)"
   ]
  },
  {
   "cell_type": "code",
   "execution_count": 114,
   "metadata": {},
   "outputs": [
    {
     "name": "stdout",
     "output_type": "stream",
     "text": [
      "Poly derivative: 23.0\n",
      "Poly value: 27.0\n"
     ]
    }
   ],
   "source": [
    "der, poly_out = calcPolyDer(2.0, [1.0,3.0,5.0])\n",
    "print(f\"Poly derivative: {der.numpy()}\")\n",
    "print(f\"Poly value: {poly_out.numpy()}\")"
   ]
  },
  {
   "cell_type": "markdown",
   "metadata": {
    "id": "CiCWYPOuJxY3"
   },
   "source": [
    "---\n",
    "## Dopasowanie funkcji liniowej\n",
    "[source](https://www.tensorflow.org/tutorials/customization/custom_training)"
   ]
  },
  {
   "cell_type": "markdown",
   "metadata": {
    "id": "vQuBNhajJxY3"
   },
   "source": [
    "### Define the model\n",
    "model funkcji liniowej, y=w*x+b\\\n",
    "w, b - wagi modelu\n",
    "x - wejście modelu\n",
    "y - wyjście modelu"
   ]
  },
  {
   "cell_type": "code",
   "execution_count": 52,
   "metadata": {
    "id": "_r0Atmf2JxY4"
   },
   "outputs": [],
   "source": [
    "# zbudowanie modelu jako klasy\n",
    "class Model_klasa(object):\n",
    "  def __init__(self, wInit, bInit):\n",
    "    \"\"\"\n",
    "    # Initialize the weights to `5.0` and the bias to `0.0`\n",
    "    # In practice, these should be initialized to random values (for example, with `tf.random.normal`)\n",
    "    \"\"\"\n",
    "    self.W = tf.Variable(wInit)\n",
    "    self.b = tf.Variable(bInit)\n",
    "\n",
    "  def __call__(self, x):\n",
    "    # param x: input data\n",
    "    return self.W * x + self.b"
   ]
  },
  {
   "cell_type": "code",
   "execution_count": 53,
   "metadata": {
    "id": "aO1ZYeXwJxY5"
   },
   "outputs": [],
   "source": [
    "# uruchamia się metoda __init__\n",
    "obiekt_model = Model_klasa(5.0, 1.0)"
   ]
  },
  {
   "cell_type": "code",
   "execution_count": 54,
   "metadata": {},
   "outputs": [
    {
     "data": {
      "text/plain": [
       "__main__.Model_klasa"
      ]
     },
     "execution_count": 54,
     "metadata": {},
     "output_type": "execute_result"
    }
   ],
   "source": [
    "type(obiekt_model)"
   ]
  },
  {
   "cell_type": "code",
   "execution_count": 7,
   "metadata": {},
   "outputs": [
    {
     "data": {
      "text/plain": [
       "<tf.Variable 'Variable:0' shape=() dtype=float32, numpy=5.0>"
      ]
     },
     "execution_count": 7,
     "metadata": {},
     "output_type": "execute_result"
    }
   ],
   "source": [
    "obiekt_model.W"
   ]
  },
  {
   "cell_type": "code",
   "execution_count": 9,
   "metadata": {},
   "outputs": [],
   "source": [
    "tmp_x = 2.0"
   ]
  },
  {
   "cell_type": "code",
   "execution_count": 10,
   "metadata": {
    "colab": {
     "base_uri": "https://localhost:8080/"
    },
    "executionInfo": {
     "elapsed": 223,
     "status": "ok",
     "timestamp": 1632505518005,
     "user": {
      "displayName": "Katarzyna Zdon",
      "photoUrl": "https://lh3.googleusercontent.com/a-/AOh14GiARqKbxpY3hHGMO_F7XjDfiV2SxWfGDu0U_h6X=s64",
      "userId": "13184890358615580748"
     },
     "user_tz": -120
    },
    "id": "KssbMNadJxY5",
    "outputId": "4eca9f45-f23b-4bea-9e25-26b6a544e163"
   },
   "outputs": [
    {
     "data": {
      "text/plain": [
       "<tf.Tensor: shape=(), dtype=float32, numpy=11.0>"
      ]
     },
     "execution_count": 10,
     "metadata": {},
     "output_type": "execute_result"
    }
   ],
   "source": [
    "# rozpakowany __call__\n",
    "# 5*2+1 = 11\n",
    "obiekt_model.W * tmp_x + obiekt_model.b"
   ]
  },
  {
   "cell_type": "code",
   "execution_count": 11,
   "metadata": {
    "colab": {
     "base_uri": "https://localhost:8080/"
    },
    "executionInfo": {
     "elapsed": 284,
     "status": "ok",
     "timestamp": 1632505520887,
     "user": {
      "displayName": "Katarzyna Zdon",
      "photoUrl": "https://lh3.googleusercontent.com/a-/AOh14GiARqKbxpY3hHGMO_F7XjDfiV2SxWfGDu0U_h6X=s64",
      "userId": "13184890358615580748"
     },
     "user_tz": -120
    },
    "id": "6hr1UyaNJxY5",
    "outputId": "001458ad-d05c-4e0b-9144-7434999b6e24"
   },
   "outputs": [
    {
     "data": {
      "text/plain": [
       "<tf.Tensor: shape=(), dtype=float32, numpy=11.0>"
      ]
     },
     "execution_count": 11,
     "metadata": {},
     "output_type": "execute_result"
    }
   ],
   "source": [
    "# __call__ wewnątrz obiektu\n",
    "obiekt_model(tmp_x)"
   ]
  },
  {
   "cell_type": "code",
   "execution_count": 12,
   "metadata": {
    "colab": {
     "base_uri": "https://localhost:8080/"
    },
    "executionInfo": {
     "elapsed": 218,
     "status": "ok",
     "timestamp": 1632505524419,
     "user": {
      "displayName": "Katarzyna Zdon",
      "photoUrl": "https://lh3.googleusercontent.com/a-/AOh14GiARqKbxpY3hHGMO_F7XjDfiV2SxWfGDu0U_h6X=s64",
      "userId": "13184890358615580748"
     },
     "user_tz": -120
    },
    "id": "OEazAvirJxY6",
    "outputId": "c71f69fa-c89e-46c3-cead-13f7b307076f"
   },
   "outputs": [
    {
     "data": {
      "text/plain": [
       "11.0"
      ]
     },
     "execution_count": 12,
     "metadata": {},
     "output_type": "execute_result"
    }
   ],
   "source": [
    "# __call__ wewnątrz obiektu\n",
    "# aby dostać się do samej wartości to należy dodać metodę .numpy()\n",
    "obiekt_model(tmp_x).numpy()"
   ]
  },
  {
   "cell_type": "code",
   "execution_count": 13,
   "metadata": {
    "id": "4fDovHeqJxY7"
   },
   "outputs": [],
   "source": [
    "# poprzez .() uruchamiamy metodę __call__ assert testuje czy wszystko działa\n",
    "assert obiekt_model(tmp_x).numpy() == 11.0"
   ]
  },
  {
   "cell_type": "code",
   "execution_count": 14,
   "metadata": {
    "colab": {
     "base_uri": "https://localhost:8080/"
    },
    "executionInfo": {
     "elapsed": 233,
     "status": "ok",
     "timestamp": 1632497155615,
     "user": {
      "displayName": "Katarzyna Zdon",
      "photoUrl": "https://lh3.googleusercontent.com/a-/AOh14GiARqKbxpY3hHGMO_F7XjDfiV2SxWfGDu0U_h6X=s64",
      "userId": "13184890358615580748"
     },
     "user_tz": -120
    },
    "id": "ZBTBltMqJxY7",
    "outputId": "b5b8f6bc-a43a-40ec-f304-40bad9df9dfb"
   },
   "outputs": [
    {
     "data": {
      "text/plain": [
       "array([ 6., 11., 26.], dtype=float32)"
      ]
     },
     "execution_count": 14,
     "metadata": {},
     "output_type": "execute_result"
    }
   ],
   "source": [
    "# wyznaczenie wektora wyjść, wektor liczb zamiast skalara\n",
    "obiekt_model([1.0, tmp_x, 5.0]).numpy()"
   ]
  },
  {
   "cell_type": "markdown",
   "metadata": {
    "id": "pusAtIVOJxY8"
   },
   "source": [
    "### Define a loss function\n",
    "Błąd średniokwadratowy pomiędzy wartością przewidywaną oraz referencyjną.\\\n",
    "Można dopisać do klasy."
   ]
  },
  {
   "cell_type": "code",
   "execution_count": 15,
   "metadata": {
    "colab": {
     "base_uri": "https://localhost:8080/"
    },
    "executionInfo": {
     "elapsed": 220,
     "status": "ok",
     "timestamp": 1632497180035,
     "user": {
      "displayName": "Katarzyna Zdon",
      "photoUrl": "https://lh3.googleusercontent.com/a-/AOh14GiARqKbxpY3hHGMO_F7XjDfiV2SxWfGDu0U_h6X=s64",
      "userId": "13184890358615580748"
     },
     "user_tz": -120
    },
    "id": "anwF2OdCJxY8",
    "outputId": "b6358c67-64b6-47d2-c0fb-530e245b0935"
   },
   "outputs": [
    {
     "data": {
      "text/plain": [
       "3.5"
      ]
     },
     "execution_count": 15,
     "metadata": {},
     "output_type": "execute_result"
    }
   ],
   "source": [
    "np.array([1.0, 2.0, 3.0, 4.0, 5.0, 6.0]).mean()"
   ]
  },
  {
   "cell_type": "code",
   "execution_count": 16,
   "metadata": {
    "colab": {
     "base_uri": "https://localhost:8080/"
    },
    "executionInfo": {
     "elapsed": 265,
     "status": "ok",
     "timestamp": 1632497311509,
     "user": {
      "displayName": "Katarzyna Zdon",
      "photoUrl": "https://lh3.googleusercontent.com/a-/AOh14GiARqKbxpY3hHGMO_F7XjDfiV2SxWfGDu0U_h6X=s64",
      "userId": "13184890358615580748"
     },
     "user_tz": -120
    },
    "id": "VWIGXjn2JxY9",
    "outputId": "fa5cd660-0c50-49ea-a55c-c87a8ee0d750"
   },
   "outputs": [
    {
     "data": {
      "text/plain": [
       "<tf.Tensor: shape=(), dtype=float32, numpy=3.5>"
      ]
     },
     "execution_count": 16,
     "metadata": {},
     "output_type": "execute_result"
    }
   ],
   "source": [
    "tf.reduce_mean([1.0, 2.0, 3.0, 4.0, 5.0, 6.0])"
   ]
  },
  {
   "cell_type": "code",
   "execution_count": 17,
   "metadata": {
    "colab": {
     "base_uri": "https://localhost:8080/"
    },
    "executionInfo": {
     "elapsed": 228,
     "status": "ok",
     "timestamp": 1632497325973,
     "user": {
      "displayName": "Katarzyna Zdon",
      "photoUrl": "https://lh3.googleusercontent.com/a-/AOh14GiARqKbxpY3hHGMO_F7XjDfiV2SxWfGDu0U_h6X=s64",
      "userId": "13184890358615580748"
     },
     "user_tz": -120
    },
    "id": "SJqumiYiJxY9",
    "outputId": "88ef0c8a-3c2b-4f86-ef6a-1758e36e4d53"
   },
   "outputs": [
    {
     "name": "stdout",
     "output_type": "stream",
     "text": [
      "[[1. 2. 3.]\n",
      " [4. 5. 6.]]\n"
     ]
    }
   ],
   "source": [
    "print(np.array([[1.0, 2.0, 3.0], [4.0, 5.0, 6.0]]))"
   ]
  },
  {
   "cell_type": "code",
   "execution_count": 18,
   "metadata": {},
   "outputs": [
    {
     "data": {
      "text/plain": [
       "3.5"
      ]
     },
     "execution_count": 18,
     "metadata": {},
     "output_type": "execute_result"
    }
   ],
   "source": [
    "tf.reduce_mean([[1.0, 2.0, 3.0], [4.0, 5.0, 6.0]]).numpy()"
   ]
  },
  {
   "cell_type": "code",
   "execution_count": 19,
   "metadata": {
    "colab": {
     "base_uri": "https://localhost:8080/"
    },
    "executionInfo": {
     "elapsed": 215,
     "status": "ok",
     "timestamp": 1632497409681,
     "user": {
      "displayName": "Katarzyna Zdon",
      "photoUrl": "https://lh3.googleusercontent.com/a-/AOh14GiARqKbxpY3hHGMO_F7XjDfiV2SxWfGDu0U_h6X=s64",
      "userId": "13184890358615580748"
     },
     "user_tz": -120
    },
    "id": "Pvy0XEkGJxY-",
    "outputId": "9b2fc317-4b90-4753-b9a0-18c9c34d880d"
   },
   "outputs": [
    {
     "data": {
      "text/plain": [
       "array([2., 5.], dtype=float32)"
      ]
     },
     "execution_count": 19,
     "metadata": {},
     "output_type": "execute_result"
    }
   ],
   "source": [
    "tf.reduce_mean([[1.0, 2.0, 3.0], [4.0, 5.0, 6.0]], axis=1).numpy()"
   ]
  },
  {
   "cell_type": "code",
   "execution_count": 20,
   "metadata": {
    "colab": {
     "base_uri": "https://localhost:8080/"
    },
    "executionInfo": {
     "elapsed": 302,
     "status": "ok",
     "timestamp": 1632497437179,
     "user": {
      "displayName": "Katarzyna Zdon",
      "photoUrl": "https://lh3.googleusercontent.com/a-/AOh14GiARqKbxpY3hHGMO_F7XjDfiV2SxWfGDu0U_h6X=s64",
      "userId": "13184890358615580748"
     },
     "user_tz": -120
    },
    "id": "UED82JrIJxY_",
    "outputId": "d83a83e7-ca32-4517-ea00-437d04bb4926"
   },
   "outputs": [
    {
     "data": {
      "text/plain": [
       "array([4, 2, 0])"
      ]
     },
     "execution_count": 20,
     "metadata": {},
     "output_type": "execute_result"
    }
   ],
   "source": [
    "# y_target - y_pred\n",
    "np.array([5, 4, 3]) - np.array([1, 2, 3])"
   ]
  },
  {
   "cell_type": "code",
   "execution_count": 21,
   "metadata": {
    "colab": {
     "base_uri": "https://localhost:8080/"
    },
    "executionInfo": {
     "elapsed": 245,
     "status": "ok",
     "timestamp": 1632497442782,
     "user": {
      "displayName": "Katarzyna Zdon",
      "photoUrl": "https://lh3.googleusercontent.com/a-/AOh14GiARqKbxpY3hHGMO_F7XjDfiV2SxWfGDu0U_h6X=s64",
      "userId": "13184890358615580748"
     },
     "user_tz": -120
    },
    "id": "g9i3QbYgJxY_",
    "outputId": "d38239cc-ee04-4d50-9065-fff9f7679d04"
   },
   "outputs": [
    {
     "data": {
      "text/plain": [
       "array([16,  4,  0])"
      ]
     },
     "execution_count": 21,
     "metadata": {},
     "output_type": "execute_result"
    }
   ],
   "source": [
    "# (y_target - y_pred)**2\n",
    "np.power(np.array([5, 4, 3]) - np.array([1, 2, 3]), 2)"
   ]
  },
  {
   "cell_type": "code",
   "execution_count": 147,
   "metadata": {
    "colab": {
     "base_uri": "https://localhost:8080/"
    },
    "executionInfo": {
     "elapsed": 216,
     "status": "ok",
     "timestamp": 1632497462196,
     "user": {
      "displayName": "Katarzyna Zdon",
      "photoUrl": "https://lh3.googleusercontent.com/a-/AOh14GiARqKbxpY3hHGMO_F7XjDfiV2SxWfGDu0U_h6X=s64",
      "userId": "13184890358615580748"
     },
     "user_tz": -120
    },
    "id": "gsJQBK0hJxZA",
    "outputId": "704363a3-276a-4ce5-90c1-409912c17e8e"
   },
   "outputs": [
    {
     "data": {
      "text/plain": [
       "6.666666666666667"
      ]
     },
     "execution_count": 147,
     "metadata": {},
     "output_type": "execute_result"
    }
   ],
   "source": [
    "# ((y_target - y_pred)**2) średnia\n",
    "np.mean(np.power(np.array([5, 4, 3]) - np.array([1, 2, 3]), 2))"
   ]
  },
  {
   "cell_type": "code",
   "execution_count": 22,
   "metadata": {
    "id": "AciarQkbJxZB"
   },
   "outputs": [],
   "source": [
    "# złożone dla TensorFlow\n",
    "def lossMSE(predicted_y, target_y):\n",
    "  return tf.reduce_mean(tf.pow(predicted_y - target_y, 2))"
   ]
  },
  {
   "cell_type": "code",
   "execution_count": 23,
   "metadata": {
    "colab": {
     "base_uri": "https://localhost:8080/"
    },
    "executionInfo": {
     "elapsed": 223,
     "status": "ok",
     "timestamp": 1632497539939,
     "user": {
      "displayName": "Katarzyna Zdon",
      "photoUrl": "https://lh3.googleusercontent.com/a-/AOh14GiARqKbxpY3hHGMO_F7XjDfiV2SxWfGDu0U_h6X=s64",
      "userId": "13184890358615580748"
     },
     "user_tz": -120
    },
    "id": "iiPcu-kfJxZB",
    "outputId": "b38bf077-8017-4c25-88f5-6a1eb7ab07e6"
   },
   "outputs": [
    {
     "data": {
      "text/plain": [
       "6.666666666666667"
      ]
     },
     "execution_count": 23,
     "metadata": {},
     "output_type": "execute_result"
    }
   ],
   "source": [
    "wynik = lossMSE(np.array([5., 4., 3.]), np.array([1., 2., 3.]))\n",
    "wynik.numpy()"
   ]
  },
  {
   "cell_type": "markdown",
   "metadata": {
    "id": "MXEzg6-MJxZC"
   },
   "source": [
    "### Obtain training data\n",
    "Definiujemy wartości referencyjne, które chcielibyśmy aby model uzyskał i na ich podstawie budujemy dataset treningowy."
   ]
  },
  {
   "cell_type": "code",
   "execution_count": 37,
   "metadata": {
    "colab": {
     "base_uri": "https://localhost:8080/",
     "height": 437
    },
    "executionInfo": {
     "elapsed": 707,
     "status": "ok",
     "timestamp": 1632505600402,
     "user": {
      "displayName": "Katarzyna Zdon",
      "photoUrl": "https://lh3.googleusercontent.com/a-/AOh14GiARqKbxpY3hHGMO_F7XjDfiV2SxWfGDu0U_h6X=s64",
      "userId": "13184890358615580748"
     },
     "user_tz": -120
    },
    "id": "LHvrd0iRJxZC",
    "outputId": "ef6cf98e-e1e9-4cc2-8cd4-3f57e3a0820f"
   },
   "outputs": [
    {
     "data": {
      "image/png": "[encoded data removed]",
      "text/plain": [
       "<Figure size 640x480 with 1 Axes>"
      ]
     },
     "metadata": {},
     "output_type": "display_data"
    }
   ],
   "source": [
    "TRUE_W = 3.0\n",
    "TRUE_b = 1.0\n",
    "NUM_EXAMPLES = 1000\n",
    "\n",
    "# wejście jako losowe wartości\n",
    "inputs  = tf.random.normal(shape=[NUM_EXAMPLES])\n",
    "# szum do zaburzenia wartości\n",
    "noise   = tf.random.normal(shape=[NUM_EXAMPLES])\n",
    "# wyjście referencyjne\n",
    "outputs_clear = inputs * TRUE_W + TRUE_b\n",
    "outputs_noise = inputs * TRUE_W + TRUE_b + noise\n",
    "\n",
    "plt.scatter(inputs, outputs_noise, c='b')\n",
    "plt.scatter(inputs, outputs_clear, c='y')\n",
    "plt.legend([\"noise\", \"clear\"])\n",
    "plt.show()"
   ]
  },
  {
   "cell_type": "markdown",
   "metadata": {
    "id": "qj720lw3JxZD"
   },
   "source": [
    "### Present dumb model\n",
    "Wyświetlenie wartości treningowych oraz wyjścia z nienauczonego modelu."
   ]
  },
  {
   "cell_type": "code",
   "execution_count": 41,
   "metadata": {
    "id": "wVIsQHkSJxZD"
   },
   "outputs": [],
   "source": [
    "# tworzymy niezbyt mądry model\n",
    "nasz_model = Model_klasa(5.0, -1.0)"
   ]
  },
  {
   "cell_type": "code",
   "execution_count": 42,
   "metadata": {
    "colab": {
     "base_uri": "https://localhost:8080/",
     "height": 454
    },
    "executionInfo": {
     "elapsed": 768,
     "status": "ok",
     "timestamp": 1632505608838,
     "user": {
      "displayName": "Katarzyna Zdon",
      "photoUrl": "https://lh3.googleusercontent.com/a-/AOh14GiARqKbxpY3hHGMO_F7XjDfiV2SxWfGDu0U_h6X=s64",
      "userId": "13184890358615580748"
     },
     "user_tz": -120
    },
    "id": "Zm_puWAxJxZE",
    "outputId": "f1d2b7c7-7c58-4a98-920d-9e49e0b3d18b"
   },
   "outputs": [
    {
     "data": {
      "image/png": "[encoded data removed]",
      "text/plain": [
       "<Figure size 640x480 with 1 Axes>"
      ]
     },
     "metadata": {},
     "output_type": "display_data"
    },
    {
     "name": "stdout",
     "output_type": "stream",
     "text": [
      "Current loss: 7.374890\n"
     ]
    }
   ],
   "source": [
    "# wykresy\n",
    "plt.scatter(inputs, outputs_clear, c='b')\n",
    "plt.scatter(inputs, nasz_model(inputs), c='r')\n",
    "plt.legend([\"referencja\", \"nasz model\"])\n",
    "plt.show()\n",
    "# policzenie błędu dla obecnych wartości parametrów modelu\n",
    "print('Current loss: %1.6f' % lossMSE(nasz_model(inputs), outputs_clear).numpy())"
   ]
  },
  {
   "cell_type": "code",
   "execution_count": 43,
   "metadata": {
    "colab": {
     "base_uri": "https://localhost:8080/",
     "height": 454
    },
    "executionInfo": {
     "elapsed": 797,
     "status": "ok",
     "timestamp": 1632505605391,
     "user": {
      "displayName": "Katarzyna Zdon",
      "photoUrl": "https://lh3.googleusercontent.com/a-/AOh14GiARqKbxpY3hHGMO_F7XjDfiV2SxWfGDu0U_h6X=s64",
      "userId": "13184890358615580748"
     },
     "user_tz": -120
    },
    "id": "TVgDJBoZJxZV",
    "outputId": "9a7efaf8-4095-4bb4-8512-4269a6e87ea5"
   },
   "outputs": [
    {
     "data": {
      "image/png": "[encoded data removed]",
      "text/plain": [
       "<Figure size 640x480 with 1 Axes>"
      ]
     },
     "metadata": {},
     "output_type": "display_data"
    },
    {
     "name": "stdout",
     "output_type": "stream",
     "text": [
      "Current loss: 7.374890\n"
     ]
    }
   ],
   "source": [
    "# wykresy\n",
    "plt.scatter(inputs, outputs_noise, c='g')\n",
    "plt.scatter(inputs, outputs_clear, c='b')\n",
    "plt.scatter(inputs, nasz_model(inputs), c='r')\n",
    "plt.legend([\"zaszumione wyjścia\", \"referencja\", \"nasz model\"])\n",
    "plt.show()\n",
    "# policzenie błędu dla obecnych wartości parametrów modelu\n",
    "print('Current loss: %1.6f' % lossMSE(nasz_model(inputs), outputs_clear).numpy())"
   ]
  },
  {
   "cell_type": "code",
   "execution_count": 44,
   "metadata": {},
   "outputs": [
    {
     "data": {
      "text/plain": [
       "'2.11.0'"
      ]
     },
     "execution_count": 44,
     "metadata": {},
     "output_type": "execute_result"
    }
   ],
   "source": [
    "tf.__version__"
   ]
  },
  {
   "cell_type": "markdown",
   "metadata": {
    "id": "kdumpuBKJxZW"
   },
   "source": [
    "### Training function\n",
    "- Tworzymy funkcję trenującą model.\n",
    "- Korzystamy z mechanizmu gradient tape.\n",
    "- Po policzeniu błędu, rozwijamy taśmę i wyznaczamy pochodne funkcji błędu po konkretnych wagach\n",
    "- Wykorzystując pochodne korygujemy wagi z uwzględnieniem learning_rate'u\n"
   ]
  },
  {
   "cell_type": "code",
   "execution_count": 55,
   "metadata": {
    "id": "i12q8me2JxZX"
   },
   "outputs": [],
   "source": [
    "def train(model, inputs, outputs_ref, learning_rate):\n",
    "    # definicja taśmy\n",
    "    with tf.GradientTape() as t:\n",
    "        # wyznaczenie błędu\n",
    "        # tutaj jest uruchomiony cały model i policzony błąd\n",
    "        # więc pod taśmę wchodzi cały model wraz z funkcją błędu !!!!\n",
    "        # feed forward\n",
    "        y_pred = model(inputs)\n",
    "        current_loss = lossMSE(y_pred, outputs_ref)\n",
    "    # odwijamy taśmę i otrzymujemy pochodne\n",
    "    # backprop\n",
    "    dW, db = t.gradient(current_loss, [model.W, model.b])\n",
    "    # korekta wag\n",
    "    # W = W - lr*dW\n",
    "    model.W.assign_sub(learning_rate * dW)\n",
    "    # b = b - lr*db\n",
    "    model.b.assign_sub(learning_rate * db)\n",
    "    # tutaj nasze W i b mają inne wartości\n",
    "    \n",
    "    # zwracamy błąd, może się przyda\n",
    "    \n",
    "    return current_loss"
   ]
  },
  {
   "cell_type": "markdown",
   "metadata": {
    "id": "clawJh2PJxZY"
   },
   "source": [
    "### Training loop\n",
    "\n",
    "- wykonanie kilku epok, czyli treningów na zbiorze treningowym\n",
    "- zbieranie skorygowanych wag\n",
    "- wyświetlenie wykresu zmiany wag oraz błędu"
   ]
  },
  {
   "cell_type": "code",
   "execution_count": 50,
   "metadata": {
    "colab": {
     "base_uri": "https://localhost:8080/",
     "height": 1000
    },
    "executionInfo": {
     "elapsed": 682,
     "status": "ok",
     "timestamp": 1632507878785,
     "user": {
      "displayName": "Katarzyna Zdon",
      "photoUrl": "https://lh3.googleusercontent.com/a-/AOh14GiARqKbxpY3hHGMO_F7XjDfiV2SxWfGDu0U_h6X=s64",
      "userId": "13184890358615580748"
     },
     "user_tz": -120
    },
    "id": "tR9VMvSBJxZY",
    "outputId": "b2440578-e5b9-4bb1-c032-509185e51665"
   },
   "outputs": [
    {
     "name": "stdout",
     "output_type": "stream",
     "text": [
      "Epoch  0: W=7.00 b=-3.00, loss=30.23336\n",
      "Epoch  1: W=3.54 b=0.88, loss=1.22414\n",
      "Epoch  2: W=3.09 b=0.98, loss=0.98422\n",
      "Epoch  3: W=3.04 b=0.99, loss=0.98146\n",
      "Epoch  4: W=3.03 b=1.00, loss=0.98143\n",
      "Epoch  5: W=3.03 b=1.00, loss=0.98143\n",
      "Epoch  6: W=3.03 b=1.00, loss=0.98143\n",
      "Epoch  7: W=3.03 b=1.00, loss=0.98143\n",
      "Epoch  8: W=3.03 b=1.00, loss=0.98143\n",
      "Epoch  9: W=3.03 b=1.00, loss=0.98143\n",
      "Epoch 10: W=3.03 b=1.00, loss=0.98143\n",
      "Epoch 11: W=3.03 b=1.00, loss=0.98143\n",
      "Epoch 12: W=3.03 b=1.00, loss=0.98143\n",
      "Epoch 13: W=3.03 b=1.00, loss=0.98143\n",
      "Epoch 14: W=3.03 b=1.00, loss=0.98143\n",
      "Epoch 15: W=3.03 b=1.00, loss=0.98143\n",
      "Epoch 16: W=3.03 b=1.00, loss=0.98143\n",
      "Epoch 17: W=3.03 b=1.00, loss=0.98143\n",
      "Epoch 18: W=3.03 b=1.00, loss=0.98143\n",
      "Epoch 19: W=3.03 b=1.00, loss=0.98143\n",
      "Epoch 20: W=3.03 b=1.00, loss=0.98143\n",
      "Epoch 21: W=3.03 b=1.00, loss=0.98143\n",
      "Epoch 22: W=3.03 b=1.00, loss=0.98143\n",
      "Epoch 23: W=3.03 b=1.00, loss=0.98143\n",
      "Epoch 24: W=3.03 b=1.00, loss=0.98143\n",
      "Epoch 25: W=3.03 b=1.00, loss=0.98143\n",
      "Epoch 26: W=3.03 b=1.00, loss=0.98143\n",
      "Epoch 27: W=3.03 b=1.00, loss=0.98143\n",
      "Epoch 28: W=3.03 b=1.00, loss=0.98143\n",
      "Epoch 29: W=3.03 b=1.00, loss=0.98143\n",
      "Epoch 30: W=3.03 b=1.00, loss=0.98143\n",
      "Epoch 31: W=3.03 b=1.00, loss=0.98143\n",
      "Epoch 32: W=3.03 b=1.00, loss=0.98143\n",
      "Epoch 33: W=3.03 b=1.00, loss=0.98143\n",
      "Epoch 34: W=3.03 b=1.00, loss=0.98143\n",
      "Epoch 35: W=3.03 b=1.00, loss=0.98143\n",
      "Epoch 36: W=3.03 b=1.00, loss=0.98143\n",
      "Epoch 37: W=3.03 b=1.00, loss=0.98143\n",
      "Epoch 38: W=3.03 b=1.00, loss=0.98143\n",
      "Epoch 39: W=3.03 b=1.00, loss=0.98143\n",
      "Epoch 40: W=3.03 b=1.00, loss=0.98143\n",
      "Epoch 41: W=3.03 b=1.00, loss=0.98143\n",
      "Epoch 42: W=3.03 b=1.00, loss=0.98143\n",
      "Epoch 43: W=3.03 b=1.00, loss=0.98143\n",
      "Epoch 44: W=3.03 b=1.00, loss=0.98143\n",
      "Epoch 45: W=3.03 b=1.00, loss=0.98143\n",
      "Epoch 46: W=3.03 b=1.00, loss=0.98143\n",
      "Epoch 47: W=3.03 b=1.00, loss=0.98143\n",
      "Epoch 48: W=3.03 b=1.00, loss=0.98143\n",
      "Epoch 49: W=3.03 b=1.00, loss=0.98143\n"
     ]
    },
    {
     "data": {
      "image/png": "[encoded data removed]",
      "text/plain": [
       "<Figure size 640x480 with 1 Axes>"
      ]
     },
     "metadata": {},
     "output_type": "display_data"
    },
    {
     "data": {
      "image/png": "[encoded data removed]",
      "text/plain": [
       "<Figure size 640x480 with 1 Axes>"
      ]
     },
     "metadata": {},
     "output_type": "display_data"
    },
    {
     "name": "stdout",
     "output_type": "stream",
     "text": [
      "CPU times: user 616 ms, sys: 250 ms, total: 867 ms\n",
      "Wall time: 419 ms\n"
     ]
    }
   ],
   "source": [
    "%%time\n",
    "# nowy świeży model\n",
    "nasz_model = Model_klasa(7.0, -3.0)\n",
    "\n",
    "# kontenery na wagi oraz błąd\n",
    "Ws, bs, ls = [], [], []\n",
    "# liczba epok do wykonania treningu\n",
    "epochs = range(50)\n",
    "# idziemy po epokach\n",
    "for epoch in epochs:\n",
    "    # zbieramy aktualne wartości wag\n",
    "    Ws.append(nasz_model.W.numpy())\n",
    "    bs.append(nasz_model.b.numpy())\n",
    "\n",
    "    # trenujemy nasz_model wraz z zebraniem wartości błędu\n",
    "    current_loss = train(nasz_model, inputs, outputs_noise, learning_rate=0.5)\n",
    "    # poszerzamy liste błędów\n",
    "    ls.append(current_loss.numpy())\n",
    "    print('Epoch %2d: W=%1.2f b=%1.2f, loss=%2.5f' %\n",
    "        (epoch, Ws[-1], bs[-1], current_loss))\n",
    "\n",
    "# Let's plot it all\n",
    "plt.plot(epochs, Ws, 'r',\n",
    "         epochs, bs, 'b')\n",
    "plt.plot([TRUE_W] * len(epochs), 'r--',\n",
    "         [TRUE_b] * len(epochs), 'b--')\n",
    "plt.legend(['W', 'b', 'True W', 'True b'])\n",
    "plt.show()\n",
    "plt.plot(epochs, ls)\n",
    "plt.show()"
   ]
  },
  {
   "cell_type": "markdown",
   "metadata": {
    "id": "wj6Z-8XTJxZZ"
   },
   "source": [
    "### Present good model"
   ]
  },
  {
   "cell_type": "code",
   "execution_count": 51,
   "metadata": {
    "id": "PFLZ5pPwJxZZ",
    "outputId": "fcf4733b-3137-4a82-bd33-8e42fc4a8ca5"
   },
   "outputs": [
    {
     "data": {
      "image/png": "[encoded data removed]",
      "text/plain": [
       "<Figure size 640x480 with 1 Axes>"
      ]
     },
     "metadata": {},
     "output_type": "display_data"
    },
    {
     "name": "stdout",
     "output_type": "stream",
     "text": [
      "CLEAR data | Current loss: 0.000889\n",
      "NOISE data | Current loss: 0.981431\n"
     ]
    }
   ],
   "source": [
    "# wykresy\n",
    "plt.scatter(inputs, outputs_noise, c='g')\n",
    "plt.scatter(inputs, outputs_clear, c='b')\n",
    "plt.scatter(inputs, nasz_model(inputs), c='r')\n",
    "plt.legend([\"zaszumione wyjścia\", \"referencja\", \"nasz model\"])\n",
    "plt.show()\n",
    "# policzenie błędu dla obecnych wartości parametrów modelu\n",
    "print('CLEAR data | Current loss: %1.6f' % lossMSE(nasz_model(inputs), outputs_clear).numpy())\n",
    "print('NOISE data | Current loss: %1.6f' % lossMSE(nasz_model(inputs), outputs_noise).numpy())"
   ]
  },
  {
   "cell_type": "markdown",
   "metadata": {
    "id": "BCT9aYgQJxZZ"
   },
   "source": [
    "---\n",
    "## Prosta sieć neuronowa\n",
    "Zbudujemy prostą sieć neuronową z jedną warstwą ukrytą.\n",
    "Wykorzystamy ją do rozwiązania problemu XOR. Jest to potencjalne banalne zadanie, które jednak jest nieliniowe.\\\n",
    "Tabela wartości logicznych XOR\\\n",
    "\n",
    "X1  | X2  | Y_XOR\\\n",
    " 1  | 1   | 0\\\n",
    " 0  | 0   | 0\\\n",
    " 1  | 0   | 1\\\n",
    " 0  | 1   | 1\n",
    "\n",
    "Parametry sieci:\n",
    "- Wejście będzie dwuelementowe.\n",
    "- Natomiast wyjście będzie pojedyncze.\n",
    "- Warstwa ukryta może być dowolnej wielkości."
   ]
  },
  {
   "cell_type": "markdown",
   "metadata": {
    "id": "i3lligffFbjG"
   },
   "source": [
    "![image.png](data:image/png;base64,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)"
   ]
  },
  {
   "cell_type": "markdown",
   "metadata": {
    "id": "lsvzuW0LJxZa"
   },
   "source": [
    "### Dane treningowe"
   ]
  },
  {
   "cell_type": "code",
   "execution_count": null,
   "metadata": {
    "colab": {
     "base_uri": "https://localhost:8080/"
    },
    "executionInfo": {
     "elapsed": 280,
     "status": "ok",
     "timestamp": 1632551878689,
     "user": {
      "displayName": "Katarzyna Zdon",
      "photoUrl": "https://lh3.googleusercontent.com/a-/AOh14GiARqKbxpY3hHGMO_F7XjDfiV2SxWfGDu0U_h6X=s64",
      "userId": "13184890358615580748"
     },
     "user_tz": -120
    },
    "id": "q44qjvFEJxZa",
    "outputId": "1eae6861-d3e6-4f56-d283-3b8030fc556e"
   },
   "outputs": [],
   "source": [
    "X = np.array([\n",
    "    [1,1],\n",
    "    [0,0],\n",
    "    [1,0],\n",
    "    [0,1]\n",
    "], dtype=np.float32)\n",
    "X"
   ]
  },
  {
   "cell_type": "code",
   "execution_count": null,
   "metadata": {
    "colab": {
     "base_uri": "https://localhost:8080/"
    },
    "executionInfo": {
     "elapsed": 278,
     "status": "ok",
     "timestamp": 1632551885429,
     "user": {
      "displayName": "Katarzyna Zdon",
      "photoUrl": "https://lh3.googleusercontent.com/a-/AOh14GiARqKbxpY3hHGMO_F7XjDfiV2SxWfGDu0U_h6X=s64",
      "userId": "13184890358615580748"
     },
     "user_tz": -120
    },
    "id": "dLGLl6AkJxZa",
    "outputId": "e5d661dd-5e0a-42b8-e465-90828ebed539"
   },
   "outputs": [],
   "source": [
    "Y = np.array([\n",
    "    0,\n",
    "    0,\n",
    "    1,\n",
    "    1\n",
    "], dtype=np.float32)\n",
    "Y"
   ]
  },
  {
   "cell_type": "markdown",
   "metadata": {
    "id": "GEKflNRyJxZb"
   },
   "source": [
    "### Definicja modelu\n",
    "- 2 wejścia\n",
    "- 1 wyjście\n",
    "- 1 warstwa ukryta z 3 neuronami\n",
    "- połączenia warstwa każdy z każdym\n",
    "- warstwa wejściowa to w sumie same wejścia\n",
    "- aktywacja relu na warstiwe ukrytej, wyjściowa z logit"
   ]
  },
  {
   "cell_type": "code",
   "execution_count": null,
   "metadata": {
    "colab": {
     "base_uri": "https://localhost:8080/"
    },
    "executionInfo": {
     "elapsed": 10,
     "status": "ok",
     "timestamp": 1632552000903,
     "user": {
      "displayName": "Katarzyna Zdon",
      "photoUrl": "https://lh3.googleusercontent.com/a-/AOh14GiARqKbxpY3hHGMO_F7XjDfiV2SxWfGDu0U_h6X=s64",
      "userId": "13184890358615580748"
     },
     "user_tz": -120
    },
    "id": "SbyARLBLJxZc",
    "outputId": "b6554698-78bc-4527-fd68-4b6cf43df262"
   },
   "outputs": [],
   "source": [
    "tf.random.normal([2, 3]).numpy()"
   ]
  },
  {
   "cell_type": "code",
   "execution_count": null,
   "metadata": {
    "executionInfo": {
     "elapsed": 257,
     "status": "ok",
     "timestamp": 1632549006603,
     "user": {
      "displayName": "Katarzyna Zdon",
      "photoUrl": "https://lh3.googleusercontent.com/a-/AOh14GiARqKbxpY3hHGMO_F7XjDfiV2SxWfGDu0U_h6X=s64",
      "userId": "13184890358615580748"
     },
     "user_tz": -120
    },
    "id": "XU_4kxnFJxZd"
   },
   "outputs": [],
   "source": [
    "# zbudowanie modelu jako klasy\n",
    "class modelANN(object):\n",
    "    \"\"\"\n",
    "    Simple Neural Network\n",
    "    \"\"\"\n",
    "    def __init__(self, hNum, lr):\n",
    "        \"\"\"\n",
    "        :param hNum: number of neurons in hidden layer\n",
    "        :param lr: leraning rate\n",
    "        \"\"\"\n",
    "        # inicjalizacja learnig rate'u\n",
    "        # wielkość ta parametryzuje wielkość korekt wag sieci\n",
    "        self.lr = lr\n",
    "        \n",
    "        # ilość wejść\n",
    "        self.inNum = 2\n",
    "        # ilość wyjść\n",
    "        self.outNum = 1\n",
    "        \n",
    "        #inicjalizacja wag\n",
    "        #warstwa wejściowa to same wejścia, wszystko leci na ukrytą\n",
    "        \n",
    "        # warstwa ukryta, hNum neuronów, po dwa wejścia na każdy neuron\n",
    "        self.W_h = tf.Variable(tf.random.normal([self.inNum,hNum]))\n",
    "        self.b_h = tf.Variable(tf.zeros([hNum]))\n",
    "        \n",
    "        # warstwa wyjściowa, self.outNum neuron z hNum wejściami\n",
    "        self.W_out = tf.Variable(tf.random.normal([hNum,self.outNum]))\n",
    "        self.b_out = tf.Variable(tf.zeros([self.outNum]))\n",
    "\n",
    "    def predict(self, x):\n",
    "        \"\"\"\n",
    "        :param x: input data, 2D - [batch, features], batch could be None, also could be one row of feature, but also 2D\n",
    "        \"\"\"\n",
    "        # feed forward\n",
    "        # wejściowa warstwa\n",
    "        layer_in = x\n",
    "        # warstwa ukryta\n",
    "            # mnożymy przez wagi i dodajemy biasy\n",
    "        layer_hidden = tf.add(tf.matmul(layer_in, self.W_h), self.b_h)\n",
    "            # przechodzimy z sygnałem przez funkcję aktywacji\n",
    "        layer_hidden = tf.nn.relu(layer_hidden)\n",
    "        \n",
    "        # warstwa wyjściowa\n",
    "            # mnożymy przez wagi i dodajemy biasy\n",
    "        layer_out = tf.add(tf.matmul(layer_hidden, self.W_out), self.b_out)\n",
    "            # przechodzimy z sygnałem przez funkcję aktywacji\n",
    "            # sigmoid z tego względu, aby otrzymać znormalizowane wyjście w zakresie 0-1\n",
    "        layer_out = tf.nn.sigmoid(layer_out)\n",
    "        return layer_out\n",
    "\n",
    "    def weightsUpdate(self, dW_h, db_h, dW_out, db_out):\n",
    "        \"\"\"\n",
    "        :param dW_h:  hidden layer weights derivative\n",
    "        :param db_h:  hidden layer bias derivative\n",
    "        :param dW_out:  out layer weights derivative\n",
    "        :param db_out:  out layer bias derivative\n",
    "        \"\"\"\n",
    "        # korekta wag warstwy ukrytej\n",
    "        self.W_h.assign_sub(self.lr * dW_h)\n",
    "        # korekta biasu warstwy ukrytej\n",
    "        self.b_h.assign_sub(self.lr * db_h)\n",
    "        # korekta wag warstwy wyjściowej\n",
    "        self.W_out.assign_sub(self.lr * dW_out)\n",
    "        # korekta biasu warstwy wyjściowej\n",
    "        self.b_out.assign_sub(self.lr * db_out)\n",
    "    \n",
    "    def lossMSE(self, y_pred, y_true):\n",
    "        \"\"\"\n",
    "        :param y_pred: predicted data, from model\n",
    "        :param y_true: true output from model\n",
    "        \"\"\"\n",
    "        # zmiana kształtu referencji na potrzeby oblcizeń macierzowych\n",
    "        y_true = tf.reshape(y_true, (-1, self.outNum))\n",
    "        return tf.reduce_mean(tf.square(y_pred - y_true))\n",
    "    \n",
    "    def fit(self, x, y_true):\n",
    "        \"\"\"\n",
    "        :param x: training data\n",
    "        :param y_true: connected to x, real output\n",
    "        \"\"\"\n",
    "        # definicja taśmy\n",
    "        with tf.GradientTape() as t:\n",
    "            # wyznaczenie błędu\n",
    "            # tutaj jest uruchomiony cały model i policzony błąd\n",
    "            # więc pod taśmę wchodzi cały model wraz z funkcją błędu !!!!\n",
    "            y_pred = self.predict(x)\n",
    "            current_loss = self.lossMSE(y_pred, y_true)\n",
    "        # odwijamy taśmę i otrzymujemy pochodne\n",
    "        dW_h, db_h, dW_out, db_out = t.gradient(current_loss, [self.W_h, self.b_h, self.W_out, self.b_out])\n",
    "        # korygujemy wagi\n",
    "        self.weightsUpdate(dW_h, db_h, dW_out, db_out)\n",
    "        # błąd zwracamy do świata zewnętrznego\n",
    "        return current_loss"
   ]
  },
  {
   "cell_type": "code",
   "execution_count": null,
   "metadata": {
    "executionInfo": {
     "elapsed": 246,
     "status": "ok",
     "timestamp": 1632553546743,
     "user": {
      "displayName": "Katarzyna Zdon",
      "photoUrl": "https://lh3.googleusercontent.com/a-/AOh14GiARqKbxpY3hHGMO_F7XjDfiV2SxWfGDu0U_h6X=s64",
      "userId": "13184890358615580748"
     },
     "user_tz": -120
    },
    "id": "t1G-Nc5LJxZe"
   },
   "outputs": [],
   "source": [
    "modelAnn = modelANN(3, 0.1)"
   ]
  },
  {
   "cell_type": "code",
   "execution_count": null,
   "metadata": {
    "colab": {
     "base_uri": "https://localhost:8080/"
    },
    "executionInfo": {
     "elapsed": 275,
     "status": "ok",
     "timestamp": 1632553568356,
     "user": {
      "displayName": "Katarzyna Zdon",
      "photoUrl": "https://lh3.googleusercontent.com/a-/AOh14GiARqKbxpY3hHGMO_F7XjDfiV2SxWfGDu0U_h6X=s64",
      "userId": "13184890358615580748"
     },
     "user_tz": -120
    },
    "id": "NNs-NHPKJxZf",
    "outputId": "3d1939e6-381a-4687-d285-f265a818e618"
   },
   "outputs": [],
   "source": [
    "modelAnn.W_h.numpy()"
   ]
  },
  {
   "cell_type": "code",
   "execution_count": null,
   "metadata": {
    "colab": {
     "base_uri": "https://localhost:8080/"
    },
    "executionInfo": {
     "elapsed": 241,
     "status": "ok",
     "timestamp": 1632553605768,
     "user": {
      "displayName": "Katarzyna Zdon",
      "photoUrl": "https://lh3.googleusercontent.com/a-/AOh14GiARqKbxpY3hHGMO_F7XjDfiV2SxWfGDu0U_h6X=s64",
      "userId": "13184890358615580748"
     },
     "user_tz": -120
    },
    "id": "MFsgSlSeJxZf",
    "outputId": "c9efbc91-7709-4a73-a635-570147a17e52"
   },
   "outputs": [],
   "source": [
    "modelAnn.b_h.numpy()"
   ]
  },
  {
   "cell_type": "code",
   "execution_count": null,
   "metadata": {
    "colab": {
     "base_uri": "https://localhost:8080/"
    },
    "executionInfo": {
     "elapsed": 241,
     "status": "ok",
     "timestamp": 1632553621687,
     "user": {
      "displayName": "Katarzyna Zdon",
      "photoUrl": "https://lh3.googleusercontent.com/a-/AOh14GiARqKbxpY3hHGMO_F7XjDfiV2SxWfGDu0U_h6X=s64",
      "userId": "13184890358615580748"
     },
     "user_tz": -120
    },
    "id": "W06BFpkHJxZg",
    "outputId": "1c9d8f8c-2a0e-4656-bd07-a04461d64098"
   },
   "outputs": [],
   "source": [
    "modelAnn.W_out.numpy()"
   ]
  },
  {
   "cell_type": "code",
   "execution_count": null,
   "metadata": {
    "colab": {
     "base_uri": "https://localhost:8080/"
    },
    "executionInfo": {
     "elapsed": 6,
     "status": "ok",
     "timestamp": 1632549011862,
     "user": {
      "displayName": "Katarzyna Zdon",
      "photoUrl": "https://lh3.googleusercontent.com/a-/AOh14GiARqKbxpY3hHGMO_F7XjDfiV2SxWfGDu0U_h6X=s64",
      "userId": "13184890358615580748"
     },
     "user_tz": -120
    },
    "id": "Vp76mRQPJxZg",
    "outputId": "6a91f594-f897-4dbe-834f-b2f17e551e9e"
   },
   "outputs": [],
   "source": [
    "modelAnn.b_out.numpy()"
   ]
  },
  {
   "cell_type": "code",
   "execution_count": null,
   "metadata": {
    "colab": {
     "base_uri": "https://localhost:8080/"
    },
    "executionInfo": {
     "elapsed": 232,
     "status": "ok",
     "timestamp": 1632553648650,
     "user": {
      "displayName": "Katarzyna Zdon",
      "photoUrl": "https://lh3.googleusercontent.com/a-/AOh14GiARqKbxpY3hHGMO_F7XjDfiV2SxWfGDu0U_h6X=s64",
      "userId": "13184890358615580748"
     },
     "user_tz": -120
    },
    "id": "78tF35vkJxZh",
    "outputId": "3c33610f-eea1-4629-ebaa-d638973799b6"
   },
   "outputs": [],
   "source": [
    "modelAnn.predict([[0.0, 1.0]]).numpy()"
   ]
  },
  {
   "cell_type": "code",
   "execution_count": null,
   "metadata": {
    "colab": {
     "base_uri": "https://localhost:8080/"
    },
    "executionInfo": {
     "elapsed": 258,
     "status": "ok",
     "timestamp": 1632553681303,
     "user": {
      "displayName": "Katarzyna Zdon",
      "photoUrl": "https://lh3.googleusercontent.com/a-/AOh14GiARqKbxpY3hHGMO_F7XjDfiV2SxWfGDu0U_h6X=s64",
      "userId": "13184890358615580748"
     },
     "user_tz": -120
    },
    "id": "pMlT95RpJxZh",
    "outputId": "584167d6-79f1-4320-90e5-2c9443675be6"
   },
   "outputs": [],
   "source": [
    "modelAnn.fit([[1.0, 0.0]], 1.0)"
   ]
  },
  {
   "cell_type": "markdown",
   "metadata": {
    "id": "EBRSzUtXJxZh"
   },
   "source": [
    "### Sprawdzamy\n",
    "trenujemy w pętli i zbieramy błąd"
   ]
  },
  {
   "cell_type": "code",
   "execution_count": null,
   "metadata": {
    "executionInfo": {
     "elapsed": 244,
     "status": "ok",
     "timestamp": 1632553724224,
     "user": {
      "displayName": "Katarzyna Zdon",
      "photoUrl": "https://lh3.googleusercontent.com/a-/AOh14GiARqKbxpY3hHGMO_F7XjDfiV2SxWfGDu0U_h6X=s64",
      "userId": "13184890358615580748"
     },
     "user_tz": -120
    },
    "id": "CuNVvDLkJxZh"
   },
   "outputs": [],
   "source": [
    "# definiujemy model\n",
    "tf.random.set_seed(100)\n",
    "modelAnn = modelANN(3, 0.1)"
   ]
  },
  {
   "cell_type": "code",
   "execution_count": null,
   "metadata": {
    "executionInfo": {
     "elapsed": 248,
     "status": "ok",
     "timestamp": 1632553768437,
     "user": {
      "displayName": "Katarzyna Zdon",
      "photoUrl": "https://lh3.googleusercontent.com/a-/AOh14GiARqKbxpY3hHGMO_F7XjDfiV2SxWfGDu0U_h6X=s64",
      "userId": "13184890358615580748"
     },
     "user_tz": -120
    },
    "id": "Q-5mw4pNJxZi"
   },
   "outputs": [],
   "source": [
    "# lista przechowująca błąd z każdej epoki\n",
    "lossList = []"
   ]
  },
  {
   "cell_type": "code",
   "execution_count": null,
   "metadata": {
    "executionInfo": {
     "elapsed": 245,
     "status": "ok",
     "timestamp": 1632553776551,
     "user": {
      "displayName": "Katarzyna Zdon",
      "photoUrl": "https://lh3.googleusercontent.com/a-/AOh14GiARqKbxpY3hHGMO_F7XjDfiV2SxWfGDu0U_h6X=s64",
      "userId": "13184890358615580748"
     },
     "user_tz": -120
    },
    "id": "VM0xj5MrJxZi"
   },
   "outputs": [],
   "source": [
    "# ilość epok\n",
    "epochsNum = 1500"
   ]
  },
  {
   "cell_type": "code",
   "execution_count": null,
   "metadata": {
    "executionInfo": {
     "elapsed": 3808,
     "status": "ok",
     "timestamp": 1632553868850,
     "user": {
      "displayName": "Katarzyna Zdon",
      "photoUrl": "https://lh3.googleusercontent.com/a-/AOh14GiARqKbxpY3hHGMO_F7XjDfiV2SxWfGDu0U_h6X=s64",
      "userId": "13184890358615580748"
     },
     "user_tz": -120
    },
    "id": "xIqKPOzOJxZi"
   },
   "outputs": [],
   "source": [
    "# trening modelu\n",
    "for i in range(epochsNum):\n",
    "    tmpLoss = modelAnn.fit(X, Y)\n",
    "    lossList.append(tmpLoss.numpy())"
   ]
  },
  {
   "cell_type": "code",
   "execution_count": null,
   "metadata": {
    "colab": {
     "base_uri": "https://localhost:8080/",
     "height": 636
    },
    "executionInfo": {
     "elapsed": 589,
     "status": "ok",
     "timestamp": 1632549023187,
     "user": {
      "displayName": "Katarzyna Zdon",
      "photoUrl": "https://lh3.googleusercontent.com/a-/AOh14GiARqKbxpY3hHGMO_F7XjDfiV2SxWfGDu0U_h6X=s64",
      "userId": "13184890358615580748"
     },
     "user_tz": -120
    },
    "id": "NX2Oco_GJxZj",
    "outputId": "b2212f4f-3576-4151-fbe8-45a892d38b90"
   },
   "outputs": [],
   "source": [
    "# wykres błędu\n",
    "fig = plt.figure(figsize=(15,10))\n",
    "plt.plot(lossList)\n",
    "plt.xlabel(\"Epochs\")\n",
    "plt.ylabel(\"loss MSE\")\n",
    "plt.title(f\"last loss: {lossList[-1]:.2}\")\n",
    "plt.show()"
   ]
  },
  {
   "cell_type": "code",
   "execution_count": null,
   "metadata": {
    "colab": {
     "base_uri": "https://localhost:8080/"
    },
    "executionInfo": {
     "elapsed": 25,
     "status": "ok",
     "timestamp": 1632549023189,
     "user": {
      "displayName": "Katarzyna Zdon",
      "photoUrl": "https://lh3.googleusercontent.com/a-/AOh14GiARqKbxpY3hHGMO_F7XjDfiV2SxWfGDu0U_h6X=s64",
      "userId": "13184890358615580748"
     },
     "user_tz": -120
    },
    "id": "kRyKw5_3JxZj",
    "outputId": "5cc49550-0015-4225-8098-461947beb6c6"
   },
   "outputs": [],
   "source": [
    "# jak to wyszło\n",
    "print(f\"Wyjście z sieci:\\n{modelAnn.predict(X)}\")"
   ]
  },
  {
   "cell_type": "code",
   "execution_count": null,
   "metadata": {
    "colab": {
     "base_uri": "https://localhost:8080/"
    },
    "executionInfo": {
     "elapsed": 20,
     "status": "ok",
     "timestamp": 1632549023191,
     "user": {
      "displayName": "Katarzyna Zdon",
      "photoUrl": "https://lh3.googleusercontent.com/a-/AOh14GiARqKbxpY3hHGMO_F7XjDfiV2SxWfGDu0U_h6X=s64",
      "userId": "13184890358615580748"
     },
     "user_tz": -120
    },
    "id": "ZwOGg9SbJxZj",
    "outputId": "4036a480-6233-4486-cdf3-28ef22699ffb"
   },
   "outputs": [],
   "source": [
    "np.greater_equal(modelAnn.predict(X).numpy(),0.5).astype(np.int)"
   ]
  },
  {
   "cell_type": "code",
   "execution_count": null,
   "metadata": {
    "colab": {
     "base_uri": "https://localhost:8080/"
    },
    "executionInfo": {
     "elapsed": 16,
     "status": "ok",
     "timestamp": 1632549023192,
     "user": {
      "displayName": "Katarzyna Zdon",
      "photoUrl": "https://lh3.googleusercontent.com/a-/AOh14GiARqKbxpY3hHGMO_F7XjDfiV2SxWfGDu0U_h6X=s64",
      "userId": "13184890358615580748"
     },
     "user_tz": -120
    },
    "id": "N5AenQeQJxZk",
    "outputId": "3a00b29c-cecc-4752-85eb-91cf487df1a2"
   },
   "outputs": [],
   "source": [
    "# referencja\n",
    "print(f\"Co powinno być:\\n{Y.reshape(-1,1)}\")"
   ]
  },
  {
   "cell_type": "code",
   "execution_count": null,
   "metadata": {
    "colab": {
     "base_uri": "https://localhost:8080/",
     "height": 636
    },
    "executionInfo": {
     "elapsed": 479,
     "status": "ok",
     "timestamp": 1632549023660,
     "user": {
      "displayName": "Katarzyna Zdon",
      "photoUrl": "https://lh3.googleusercontent.com/a-/AOh14GiARqKbxpY3hHGMO_F7XjDfiV2SxWfGDu0U_h6X=s64",
      "userId": "13184890358615580748"
     },
     "user_tz": -120
    },
    "id": "KkA8tuo1JxZk",
    "outputId": "83194c84-c51c-4670-f4e4-5b964c582c05"
   },
   "outputs": [],
   "source": [
    "# wykres błędu\n",
    "fig = plt.figure(figsize=(15,10))\n",
    "plt.plot(lossList)\n",
    "plt.xlabel(\"Epochs\")\n",
    "plt.ylabel(\"loss MSE\")\n",
    "plt.title(f\"last loss: {lossList[-1]:.2}\")\n",
    "plt.show()"
   ]
  },
  {
   "cell_type": "markdown",
   "metadata": {
    "id": "-Jjyp1_kJxZk"
   },
   "source": [
    "### Dodatkowo policzymy r^2"
   ]
  },
  {
   "cell_type": "code",
   "execution_count": null,
   "metadata": {
    "executionInfo": {
     "elapsed": 275,
     "status": "ok",
     "timestamp": 1632554063749,
     "user": {
      "displayName": "Katarzyna Zdon",
      "photoUrl": "https://lh3.googleusercontent.com/a-/AOh14GiARqKbxpY3hHGMO_F7XjDfiV2SxWfGDu0U_h6X=s64",
      "userId": "13184890358615580748"
     },
     "user_tz": -120
    },
    "id": "kj5_jRbUJxZl"
   },
   "outputs": [],
   "source": [
    "from sklearn.metrics import r2_score"
   ]
  },
  {
   "cell_type": "code",
   "execution_count": null,
   "metadata": {
    "colab": {
     "base_uri": "https://localhost:8080/"
    },
    "executionInfo": {
     "elapsed": 256,
     "status": "ok",
     "timestamp": 1632554077798,
     "user": {
      "displayName": "Katarzyna Zdon",
      "photoUrl": "https://lh3.googleusercontent.com/a-/AOh14GiARqKbxpY3hHGMO_F7XjDfiV2SxWfGDu0U_h6X=s64",
      "userId": "13184890358615580748"
     },
     "user_tz": -120
    },
    "id": "-MuVcqu8JxZl",
    "outputId": "e9033399-664a-4395-c44d-5f8a18bf8445"
   },
   "outputs": [],
   "source": [
    "Y_pred = modelAnn.predict(X).numpy()\n",
    "Y_pred"
   ]
  },
  {
   "cell_type": "code",
   "execution_count": null,
   "metadata": {
    "colab": {
     "base_uri": "https://localhost:8080/"
    },
    "executionInfo": {
     "elapsed": 332,
     "status": "ok",
     "timestamp": 1632554083281,
     "user": {
      "displayName": "Katarzyna Zdon",
      "photoUrl": "https://lh3.googleusercontent.com/a-/AOh14GiARqKbxpY3hHGMO_F7XjDfiV2SxWfGDu0U_h6X=s64",
      "userId": "13184890358615580748"
     },
     "user_tz": -120
    },
    "id": "G1SoPz5nJxZl",
    "outputId": "f9a6d113-a603-426b-c573-1299631c0e02"
   },
   "outputs": [],
   "source": [
    "r2_score(Y, Y_pred)"
   ]
  },
  {
   "cell_type": "markdown",
   "metadata": {
    "id": "-5XyQl2fJxZm"
   },
   "source": [
    "### Wnioski\n",
    "- sieć dobrze dopasowuje się do danych treningowych\n",
    "- błąd spada\n",
    "- r^2 bliskie 1"
   ]
  },
  {
   "cell_type": "markdown",
   "metadata": {
    "id": "GPJ84iGr-YpT"
   },
   "source": [
    "![image.png](data:image/png;base64,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)"
   ]
  },
  {
   "cell_type": "markdown",
   "metadata": {
    "id": "b5BDx27aJxZm"
   },
   "source": [
    "### Zadanie - rozbudowa sieci\n",
    "Należy rozbudować model sieci neuronowej z punktu 4.2 o następujące części:\n",
    "- drugą warstwę ukrytą, co za tym idzie\n",
    "    - wagi i biasy\n",
    "    - operacje feed forward\n",
    "    - pochodne\n",
    "    - update wag\n",
    "- możliwość ustawienia funkcji aktywacji relu lub sigmoid na wszystkich warstwach ukrytych\n",
    "- możliwość ustawienia ilość neuronów niezależnie na wszystkich warstwach ukrytych"
   ]
  },
  {
   "cell_type": "markdown",
   "metadata": {
    "id": "uWiqYoHl-_OC"
   },
   "source": [
    "![image.png](data:image/png;base64,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)"
   ]
  },
  {
   "cell_type": "markdown",
   "metadata": {
    "id": "pDn4OtMXJxZr"
   },
   "source": [
    "---\n",
    "## Głęboka sieć neuronowa\n",
    "- budować będziemy podobną, ale znacznie bardziej głęboką sieć neuronową\n",
    "- zadaniem będzie rozwiązanie problemu klasyfikacji raka sklearn.datasets.load_breast_cancer()\n",
    "- model sieci będzie wielowarstwowy\n",
    "- ustawiać będziemy mogli dowolną liczbę warstw ukrytych\n",
    "- funkcja błędu dla klasyfikacji: ```softmax_cross_entropy_with_logits``` : https://www.tensorflow.org/api_docs/python/tf/nn/softmax_cross_entropy_with_logits\n",
    "- dodamy optymalizator\n",
    "- dodamy warstwę(mechanizm) dropout"
   ]
  },
  {
   "cell_type": "markdown",
   "metadata": {
    "id": "ZQsMxwJyJxZr"
   },
   "source": [
    "### dane"
   ]
  },
  {
   "cell_type": "code",
   "execution_count": null,
   "metadata": {
    "executionInfo": {
     "elapsed": 251,
     "status": "ok",
     "timestamp": 1632558097587,
     "user": {
      "displayName": "Katarzyna Zdon",
      "photoUrl": "https://lh3.googleusercontent.com/a-/AOh14GiARqKbxpY3hHGMO_F7XjDfiV2SxWfGDu0U_h6X=s64",
      "userId": "13184890358615580748"
     },
     "user_tz": -120
    },
    "id": "c5ppjxABJxZs"
   },
   "outputs": [],
   "source": [
    "from sklearn.datasets import load_breast_cancer\n",
    "data = load_breast_cancer()"
   ]
  },
  {
   "cell_type": "code",
   "execution_count": null,
   "metadata": {
    "colab": {
     "base_uri": "https://localhost:8080/"
    },
    "executionInfo": {
     "elapsed": 16,
     "status": "ok",
     "timestamp": 1632535275361,
     "user": {
      "displayName": "Katarzyna Zdon",
      "photoUrl": "https://lh3.googleusercontent.com/a-/AOh14GiARqKbxpY3hHGMO_F7XjDfiV2SxWfGDu0U_h6X=s64",
      "userId": "13184890358615580748"
     },
     "user_tz": -120
    },
    "id": "PDOoXDOZJxZs",
    "outputId": "05e015a8-126a-4e22-f169-6dbf1b3a2dcd"
   },
   "outputs": [],
   "source": [
    "print(data.DESCR)"
   ]
  },
  {
   "cell_type": "code",
   "execution_count": null,
   "metadata": {
    "colab": {
     "base_uri": "https://localhost:8080/"
    },
    "executionInfo": {
     "elapsed": 256,
     "status": "ok",
     "timestamp": 1632558228046,
     "user": {
      "displayName": "Katarzyna Zdon",
      "photoUrl": "https://lh3.googleusercontent.com/a-/AOh14GiARqKbxpY3hHGMO_F7XjDfiV2SxWfGDu0U_h6X=s64",
      "userId": "13184890358615580748"
     },
     "user_tz": -120
    },
    "id": "A4rQ1W9pDZdo",
    "outputId": "d3c472d1-80cc-427d-914d-e1303d77141b"
   },
   "outputs": [],
   "source": [
    "data"
   ]
  },
  {
   "cell_type": "code",
   "execution_count": null,
   "metadata": {
    "colab": {
     "base_uri": "https://localhost:8080/"
    },
    "executionInfo": {
     "elapsed": 524,
     "status": "ok",
     "timestamp": 1632560365316,
     "user": {
      "displayName": "Katarzyna Zdon",
      "photoUrl": "https://lh3.googleusercontent.com/a-/AOh14GiARqKbxpY3hHGMO_F7XjDfiV2SxWfGDu0U_h6X=s64",
      "userId": "13184890358615580748"
     },
     "user_tz": -120
    },
    "id": "MDbrAhXtJxZv",
    "outputId": "ce60b708-d2a3-4015-86b0-6afbf4ce8cb7"
   },
   "outputs": [],
   "source": [
    "data.data.shape"
   ]
  },
  {
   "cell_type": "code",
   "execution_count": null,
   "metadata": {
    "colab": {
     "base_uri": "https://localhost:8080/"
    },
    "executionInfo": {
     "elapsed": 17,
     "status": "ok",
     "timestamp": 1632560366409,
     "user": {
      "displayName": "Katarzyna Zdon",
      "photoUrl": "https://lh3.googleusercontent.com/a-/AOh14GiARqKbxpY3hHGMO_F7XjDfiV2SxWfGDu0U_h6X=s64",
      "userId": "13184890358615580748"
     },
     "user_tz": -120
    },
    "id": "XbADaPG-JxZw",
    "outputId": "16d3ce23-85b6-4446-9c57-7129603b3844"
   },
   "outputs": [],
   "source": [
    "data.target"
   ]
  },
  {
   "cell_type": "code",
   "execution_count": null,
   "metadata": {
    "colab": {
     "base_uri": "https://localhost:8080/"
    },
    "executionInfo": {
     "elapsed": 22,
     "status": "ok",
     "timestamp": 1632560366748,
     "user": {
      "displayName": "Katarzyna Zdon",
      "photoUrl": "https://lh3.googleusercontent.com/a-/AOh14GiARqKbxpY3hHGMO_F7XjDfiV2SxWfGDu0U_h6X=s64",
      "userId": "13184890358615580748"
     },
     "user_tz": -120
    },
    "id": "Jl-yfe56JxZw",
    "outputId": "68609f2a-3dd2-4449-c9ac-6c2c1764bfbd"
   },
   "outputs": [],
   "source": [
    "data.feature_names"
   ]
  },
  {
   "cell_type": "code",
   "execution_count": null,
   "metadata": {
    "colab": {
     "base_uri": "https://localhost:8080/"
    },
    "executionInfo": {
     "elapsed": 23,
     "status": "ok",
     "timestamp": 1632560367391,
     "user": {
      "displayName": "Katarzyna Zdon",
      "photoUrl": "https://lh3.googleusercontent.com/a-/AOh14GiARqKbxpY3hHGMO_F7XjDfiV2SxWfGDu0U_h6X=s64",
      "userId": "13184890358615580748"
     },
     "user_tz": -120
    },
    "id": "T9h05fcLJxZx",
    "outputId": "a08d3a4b-6c3b-4d8d-b97a-923804e523b5"
   },
   "outputs": [],
   "source": [
    "data.target_names"
   ]
  },
  {
   "cell_type": "code",
   "execution_count": null,
   "metadata": {
    "colab": {
     "base_uri": "https://localhost:8080/"
    },
    "executionInfo": {
     "elapsed": 24,
     "status": "ok",
     "timestamp": 1632560368597,
     "user": {
      "displayName": "Katarzyna Zdon",
      "photoUrl": "https://lh3.googleusercontent.com/a-/AOh14GiARqKbxpY3hHGMO_F7XjDfiV2SxWfGDu0U_h6X=s64",
      "userId": "13184890358615580748"
     },
     "user_tz": -120
    },
    "id": "uoKf9qUJJxZx",
    "outputId": "9e138721-249d-42b0-9e48-d9a367996b42"
   },
   "outputs": [],
   "source": [
    "classNum = len(data.target_names)\n",
    "print(f\"target_names: {data.target_names}\\nclassNum: {classNum}\")"
   ]
  },
  {
   "cell_type": "code",
   "execution_count": null,
   "metadata": {
    "executionInfo": {
     "elapsed": 14,
     "status": "ok",
     "timestamp": 1632560368875,
     "user": {
      "displayName": "Katarzyna Zdon",
      "photoUrl": "https://lh3.googleusercontent.com/a-/AOh14GiARqKbxpY3hHGMO_F7XjDfiV2SxWfGDu0U_h6X=s64",
      "userId": "13184890358615580748"
     },
     "user_tz": -120
    },
    "id": "XW_FDCQlJxZy"
   },
   "outputs": [],
   "source": [
    "x = data.data.astype(np.float32)\n",
    "y = data.target.astype(np.float32)"
   ]
  },
  {
   "cell_type": "code",
   "execution_count": null,
   "metadata": {
    "colab": {
     "base_uri": "https://localhost:8080/"
    },
    "executionInfo": {
     "elapsed": 45,
     "status": "ok",
     "timestamp": 1632560369985,
     "user": {
      "displayName": "Katarzyna Zdon",
      "photoUrl": "https://lh3.googleusercontent.com/a-/AOh14GiARqKbxpY3hHGMO_F7XjDfiV2SxWfGDu0U_h6X=s64",
      "userId": "13184890358615580748"
     },
     "user_tz": -120
    },
    "id": "0f8__eOyJxZy",
    "outputId": "14d1fa9d-5d06-49e6-9f97-fe41168b1343"
   },
   "outputs": [],
   "source": [
    "classVals, classCnts = np.unique(y, return_counts=True)\n",
    "for oneName, oneVal, oneCnt in zip(data.target_names, classVals, classCnts):\n",
    "    print(f\"{oneName} {oneVal}: {oneCnt}\")"
   ]
  },
  {
   "cell_type": "code",
   "execution_count": null,
   "metadata": {
    "colab": {
     "base_uri": "https://localhost:8080/",
     "height": 601
    },
    "executionInfo": {
     "elapsed": 539,
     "status": "ok",
     "timestamp": 1632560370504,
     "user": {
      "displayName": "Katarzyna Zdon",
      "photoUrl": "https://lh3.googleusercontent.com/a-/AOh14GiARqKbxpY3hHGMO_F7XjDfiV2SxWfGDu0U_h6X=s64",
      "userId": "13184890358615580748"
     },
     "user_tz": -120
    },
    "id": "0ebnRPL0JxZy",
    "outputId": "1a7bdb27-6aa6-48a0-86b9-d75a12f3db6f"
   },
   "outputs": [],
   "source": [
    "fig = plt.figure(figsize=(20,10))\n",
    "plt.bar(data.target_names, classCnts)\n",
    "plt.show()"
   ]
  },
  {
   "cell_type": "code",
   "execution_count": null,
   "metadata": {
    "colab": {
     "base_uri": "https://localhost:8080/",
     "height": 259
    },
    "executionInfo": {
     "elapsed": 31,
     "status": "ok",
     "timestamp": 1632560370510,
     "user": {
      "displayName": "Katarzyna Zdon",
      "photoUrl": "https://lh3.googleusercontent.com/a-/AOh14GiARqKbxpY3hHGMO_F7XjDfiV2SxWfGDu0U_h6X=s64",
      "userId": "13184890358615580748"
     },
     "user_tz": -120
    },
    "id": "0Tl7Zjt-JxZz",
    "outputId": "13d6e3bc-0bd3-4e71-e85c-53cbd14755ea"
   },
   "outputs": [],
   "source": [
    "dfX = pd.DataFrame(data=x, columns=data.feature_names)\n",
    "dfX.head()"
   ]
  },
  {
   "cell_type": "code",
   "execution_count": null,
   "metadata": {
    "colab": {
     "base_uri": "https://localhost:8080/"
    },
    "executionInfo": {
     "elapsed": 46,
     "status": "ok",
     "timestamp": 1632560371981,
     "user": {
      "displayName": "Katarzyna Zdon",
      "photoUrl": "https://lh3.googleusercontent.com/a-/AOh14GiARqKbxpY3hHGMO_F7XjDfiV2SxWfGDu0U_h6X=s64",
      "userId": "13184890358615580748"
     },
     "user_tz": -120
    },
    "id": "wWxJwtrkJxZz",
    "outputId": "0891a7ac-de76-46d8-c9ca-73f0b5463fa3"
   },
   "outputs": [],
   "source": [
    "dfX.info()"
   ]
  },
  {
   "cell_type": "code",
   "execution_count": null,
   "metadata": {
    "colab": {
     "base_uri": "https://localhost:8080/",
     "height": 352
    },
    "executionInfo": {
     "elapsed": 17,
     "status": "ok",
     "timestamp": 1632560372391,
     "user": {
      "displayName": "Katarzyna Zdon",
      "photoUrl": "https://lh3.googleusercontent.com/a-/AOh14GiARqKbxpY3hHGMO_F7XjDfiV2SxWfGDu0U_h6X=s64",
      "userId": "13184890358615580748"
     },
     "user_tz": -120
    },
    "id": "0uPPU_UbJxZz",
    "outputId": "7a7d1fc4-6645-44a1-a1ec-9ba43e2bea46"
   },
   "outputs": [],
   "source": [
    "dfX.describe(include=\"all\")"
   ]
  },
  {
   "cell_type": "code",
   "execution_count": null,
   "metadata": {
    "colab": {
     "base_uri": "https://localhost:8080/",
     "height": 618
    },
    "executionInfo": {
     "elapsed": 527,
     "status": "ok",
     "timestamp": 1632560374362,
     "user": {
      "displayName": "Katarzyna Zdon",
      "photoUrl": "https://lh3.googleusercontent.com/a-/AOh14GiARqKbxpY3hHGMO_F7XjDfiV2SxWfGDu0U_h6X=s64",
      "userId": "13184890358615580748"
     },
     "user_tz": -120
    },
    "id": "97jQhfBXJxZ0",
    "outputId": "4e1fbe47-ac60-452d-a798-c69d163d232c"
   },
   "outputs": [],
   "source": [
    "dfX.boxplot(column=list(data.feature_names)[20:30],figsize=(20,10))"
   ]
  },
  {
   "cell_type": "code",
   "execution_count": null,
   "metadata": {
    "colab": {
     "base_uri": "https://localhost:8080/",
     "height": 352
    },
    "executionInfo": {
     "elapsed": 229,
     "status": "ok",
     "timestamp": 1632535294372,
     "user": {
      "displayName": "Katarzyna Zdon",
      "photoUrl": "https://lh3.googleusercontent.com/a-/AOh14GiARqKbxpY3hHGMO_F7XjDfiV2SxWfGDu0U_h6X=s64",
      "userId": "13184890358615580748"
     },
     "user_tz": -120
    },
    "id": "gnRgWzQt17jT",
    "outputId": "9dc17467-0f44-4e86-f8f5-9b316f0f45ac"
   },
   "outputs": [],
   "source": [
    "dfX.describe(include=\"all\")"
   ]
  },
  {
   "cell_type": "code",
   "execution_count": null,
   "metadata": {
    "colab": {
     "base_uri": "https://localhost:8080/",
     "height": 636
    },
    "executionInfo": {
     "elapsed": 616,
     "status": "ok",
     "timestamp": 1632535296026,
     "user": {
      "displayName": "Katarzyna Zdon",
      "photoUrl": "https://lh3.googleusercontent.com/a-/AOh14GiARqKbxpY3hHGMO_F7XjDfiV2SxWfGDu0U_h6X=s64",
      "userId": "13184890358615580748"
     },
     "user_tz": -120
    },
    "id": "twnO49OBJxZ0",
    "outputId": "64ba731d-f668-4aba-f7bc-8f3af8fbda1c"
   },
   "outputs": [],
   "source": [
    "dfMetrics = dfX.describe(include=\"all\")\n",
    "choosenIdx = 4\n",
    "nameOfMetric = dfMetrics.index[choosenIdx]\n",
    "fig = plt.figure(figsize=(20,10))\n",
    "plt.plot(dfMetrics.iloc[choosenIdx].values, marker=\"o\", linestyle=\"\")\n",
    "plt.xlabel(\"features\")\n",
    "plt.ylabel(f\"{nameOfMetric} values\")\n",
    "plt.title(nameOfMetric)\n",
    "plt.show()"
   ]
  },
  {
   "cell_type": "code",
   "execution_count": null,
   "metadata": {
    "executionInfo": {
     "elapsed": 277,
     "status": "ok",
     "timestamp": 1632560382325,
     "user": {
      "displayName": "Katarzyna Zdon",
      "photoUrl": "https://lh3.googleusercontent.com/a-/AOh14GiARqKbxpY3hHGMO_F7XjDfiV2SxWfGDu0U_h6X=s64",
      "userId": "13184890358615580748"
     },
     "user_tz": -120
    },
    "id": "HgOsNgNXJxZ1"
   },
   "outputs": [],
   "source": [
    "from sklearn.preprocessing import MinMaxScaler"
   ]
  },
  {
   "cell_type": "code",
   "execution_count": null,
   "metadata": {
    "executionInfo": {
     "elapsed": 19,
     "status": "ok",
     "timestamp": 1632560382893,
     "user": {
      "displayName": "Katarzyna Zdon",
      "photoUrl": "https://lh3.googleusercontent.com/a-/AOh14GiARqKbxpY3hHGMO_F7XjDfiV2SxWfGDu0U_h6X=s64",
      "userId": "13184890358615580748"
     },
     "user_tz": -120
    },
    "id": "B5ijO2HJJxZ1"
   },
   "outputs": [],
   "source": [
    "x = MinMaxScaler().fit_transform(x)"
   ]
  },
  {
   "cell_type": "code",
   "execution_count": null,
   "metadata": {
    "colab": {
     "base_uri": "https://localhost:8080/"
    },
    "executionInfo": {
     "elapsed": 9,
     "status": "ok",
     "timestamp": 1632560383476,
     "user": {
      "displayName": "Katarzyna Zdon",
      "photoUrl": "https://lh3.googleusercontent.com/a-/AOh14GiARqKbxpY3hHGMO_F7XjDfiV2SxWfGDu0U_h6X=s64",
      "userId": "13184890358615580748"
     },
     "user_tz": -120
    },
    "id": "mGj6nZ_8JxZ1",
    "outputId": "8b0cb7d7-d859-4311-8d4f-3c367318503c"
   },
   "outputs": [],
   "source": [
    "for i in range(x.shape[1]):\n",
    "    print(f\"{i} mean: {x[:,i].mean():.2} std: {x[:, i].std():.2}\")"
   ]
  },
  {
   "cell_type": "code",
   "execution_count": null,
   "metadata": {
    "colab": {
     "base_uri": "https://localhost:8080/",
     "height": 601
    },
    "executionInfo": {
     "elapsed": 1294,
     "status": "ok",
     "timestamp": 1632535331695,
     "user": {
      "displayName": "Katarzyna Zdon",
      "photoUrl": "https://lh3.googleusercontent.com/a-/AOh14GiARqKbxpY3hHGMO_F7XjDfiV2SxWfGDu0U_h6X=s64",
      "userId": "13184890358615580748"
     },
     "user_tz": -120
    },
    "id": "FStMX0Q4JxZ2",
    "outputId": "f609f762-7660-4c2c-f418-9e74e2b34964"
   },
   "outputs": [],
   "source": [
    "fig = plt.figure(figsize=(20,10))\n",
    "plt.boxplot(x)\n",
    "plt.show()"
   ]
  },
  {
   "cell_type": "raw",
   "metadata": {
    "id": "GyU68_W5JxZ2"
   },
   "source": [
    "0 -> [1, 0, 0]\n",
    "1 -> [0, 1, 0]\n",
    "2 -> [0, 0, 1]"
   ]
  },
  {
   "cell_type": "code",
   "execution_count": null,
   "metadata": {
    "executionInfo": {
     "elapsed": 460,
     "status": "ok",
     "timestamp": 1632560389659,
     "user": {
      "displayName": "Katarzyna Zdon",
      "photoUrl": "https://lh3.googleusercontent.com/a-/AOh14GiARqKbxpY3hHGMO_F7XjDfiV2SxWfGDu0U_h6X=s64",
      "userId": "13184890358615580748"
     },
     "user_tz": -120
    },
    "id": "2xIGry1mJxZ3"
   },
   "outputs": [],
   "source": [
    "from sklearn.preprocessing import OneHotEncoder"
   ]
  },
  {
   "cell_type": "code",
   "execution_count": null,
   "metadata": {
    "colab": {
     "base_uri": "https://localhost:8080/"
    },
    "executionInfo": {
     "elapsed": 17,
     "status": "ok",
     "timestamp": 1632560389966,
     "user": {
      "displayName": "Katarzyna Zdon",
      "photoUrl": "https://lh3.googleusercontent.com/a-/AOh14GiARqKbxpY3hHGMO_F7XjDfiV2SxWfGDu0U_h6X=s64",
      "userId": "13184890358615580748"
     },
     "user_tz": -120
    },
    "id": "Id_1dZ_jJxZ3",
    "outputId": "361b67a1-9f12-4135-b455-994438a0b71f"
   },
   "outputs": [],
   "source": [
    "y"
   ]
  },
  {
   "cell_type": "code",
   "execution_count": null,
   "metadata": {
    "colab": {
     "base_uri": "https://localhost:8080/"
    },
    "executionInfo": {
     "elapsed": 272,
     "status": "ok",
     "timestamp": 1632560393734,
     "user": {
      "displayName": "Katarzyna Zdon",
      "photoUrl": "https://lh3.googleusercontent.com/a-/AOh14GiARqKbxpY3hHGMO_F7XjDfiV2SxWfGDu0U_h6X=s64",
      "userId": "13184890358615580748"
     },
     "user_tz": -120
    },
    "id": "QHc_NPKKJxZ3",
    "outputId": "ec11cbe7-e9dc-4c5d-baa9-80c0372c9466"
   },
   "outputs": [],
   "source": [
    "y.reshape(-1, 1)"
   ]
  },
  {
   "cell_type": "code",
   "execution_count": null,
   "metadata": {
    "colab": {
     "base_uri": "https://localhost:8080/"
    },
    "executionInfo": {
     "elapsed": 262,
     "status": "ok",
     "timestamp": 1632560396601,
     "user": {
      "displayName": "Katarzyna Zdon",
      "photoUrl": "https://lh3.googleusercontent.com/a-/AOh14GiARqKbxpY3hHGMO_F7XjDfiV2SxWfGDu0U_h6X=s64",
      "userId": "13184890358615580748"
     },
     "user_tz": -120
    },
    "id": "6pTeYMqBJxZ4",
    "outputId": "7186f568-8eef-49bc-81d1-7c9dab918ff4"
   },
   "outputs": [],
   "source": [
    "y = y.reshape(-1, 1)\n",
    "y = OneHotEncoder(sparse=False).fit_transform(y)\n",
    "y"
   ]
  },
  {
   "cell_type": "code",
   "execution_count": null,
   "metadata": {
    "executionInfo": {
     "elapsed": 338,
     "status": "ok",
     "timestamp": 1632560400741,
     "user": {
      "displayName": "Katarzyna Zdon",
      "photoUrl": "https://lh3.googleusercontent.com/a-/AOh14GiARqKbxpY3hHGMO_F7XjDfiV2SxWfGDu0U_h6X=s64",
      "userId": "13184890358615580748"
     },
     "user_tz": -120
    },
    "id": "pqvaPYBdJxZ4"
   },
   "outputs": [],
   "source": [
    "from sklearn.model_selection import train_test_split"
   ]
  },
  {
   "cell_type": "code",
   "execution_count": null,
   "metadata": {
    "executionInfo": {
     "elapsed": 26,
     "status": "ok",
     "timestamp": 1632560401178,
     "user": {
      "displayName": "Katarzyna Zdon",
      "photoUrl": "https://lh3.googleusercontent.com/a-/AOh14GiARqKbxpY3hHGMO_F7XjDfiV2SxWfGDu0U_h6X=s64",
      "userId": "13184890358615580748"
     },
     "user_tz": -120
    },
    "id": "KMjVtq0ZJxZ4"
   },
   "outputs": [],
   "source": [
    "x_train, x_test, y_train, y_test = train_test_split(x, y, test_size=0.2, random_state=42)"
   ]
  },
  {
   "cell_type": "code",
   "execution_count": null,
   "metadata": {
    "colab": {
     "base_uri": "https://localhost:8080/"
    },
    "executionInfo": {
     "elapsed": 24,
     "status": "ok",
     "timestamp": 1632560401179,
     "user": {
      "displayName": "Katarzyna Zdon",
      "photoUrl": "https://lh3.googleusercontent.com/a-/AOh14GiARqKbxpY3hHGMO_F7XjDfiV2SxWfGDu0U_h6X=s64",
      "userId": "13184890358615580748"
     },
     "user_tz": -120
    },
    "id": "IlFFlG97JxZ5",
    "outputId": "c77ed11b-9101-42b3-f131-5daaef6acf05"
   },
   "outputs": [],
   "source": [
    "x_train.shape"
   ]
  },
  {
   "cell_type": "code",
   "execution_count": null,
   "metadata": {
    "colab": {
     "base_uri": "https://localhost:8080/"
    },
    "executionInfo": {
     "elapsed": 19,
     "status": "ok",
     "timestamp": 1632560401641,
     "user": {
      "displayName": "Katarzyna Zdon",
      "photoUrl": "https://lh3.googleusercontent.com/a-/AOh14GiARqKbxpY3hHGMO_F7XjDfiV2SxWfGDu0U_h6X=s64",
      "userId": "13184890358615580748"
     },
     "user_tz": -120
    },
    "id": "U-ybqL-4JxZ5",
    "outputId": "025dfe56-8fa7-4430-a5d7-b12adcd3d0eb"
   },
   "outputs": [],
   "source": [
    "x_test.shape"
   ]
  },
  {
   "cell_type": "markdown",
   "metadata": {
    "id": "i4aixHPSJxZ6"
   },
   "source": [
    "### model\n",
    "- model będzie miał możliwość ustawienia wielkości wejścia oraz wyjścia\n",
    "- ustawić również będzie można ilość warstw ukrytych\n",
    "- ponadto w każdej z warstw ustawić będzie można:\n",
    "    - ilość neuronów\n",
    "    - funkcję aktywacji"
   ]
  },
  {
   "cell_type": "code",
   "execution_count": null,
   "metadata": {
    "colab": {
     "base_uri": "https://localhost:8080/"
    },
    "executionInfo": {
     "elapsed": 658,
     "status": "ok",
     "timestamp": 1632558904295,
     "user": {
      "displayName": "Katarzyna Zdon",
      "photoUrl": "https://lh3.googleusercontent.com/a-/AOh14GiARqKbxpY3hHGMO_F7XjDfiV2SxWfGDu0U_h6X=s64",
      "userId": "13184890358615580748"
     },
     "user_tz": -120
    },
    "id": "cEFqU0pqF002",
    "outputId": "f90fa3e1-399e-4cb1-aefc-cbcc86ab884b"
   },
   "outputs": [],
   "source": [
    "list(range(1, len([5, 3, 4, 5, 6])))"
   ]
  },
  {
   "cell_type": "code",
   "execution_count": null,
   "metadata": {
    "executionInfo": {
     "elapsed": 254,
     "status": "ok",
     "timestamp": 1632560031296,
     "user": {
      "displayName": "Katarzyna Zdon",
      "photoUrl": "https://lh3.googleusercontent.com/a-/AOh14GiARqKbxpY3hHGMO_F7XjDfiV2SxWfGDu0U_h6X=s64",
      "userId": "13184890358615580748"
     },
     "user_tz": -120
    },
    "id": "_aC-LXvRJxZ6"
   },
   "outputs": [],
   "source": [
    "class modelDNN(object):\n",
    "    def __init__(self, inSize, outSize, outAct, hiddenNum, hiddenAct, opt, job_type):\n",
    "        self.lr = tf.Variable(0.0, dtype=\"float\")\n",
    "        \n",
    "        self.W_h = []\n",
    "        self.b_h = []\n",
    "        \n",
    "        #pierwsza ukryta\n",
    "        self.W_h.append(tf.Variable(tf.random.normal([inSize, hiddenNum[0]])))\n",
    "        self.b_h.append(tf.Variable(tf.zeros([hiddenNum[0]])))\n",
    "        \n",
    "        # kolejne ukryte\n",
    "        for i in range(1, len(hiddenNum)):\n",
    "            self.W_h.append(tf.Variable(tf.random.normal([hiddenNum[i-1], hiddenNum[i]])))\n",
    "            self.b_h.append(tf.Variable(tf.zeros([hiddenNum[i]])))\n",
    "        \n",
    "        # warstwa wyjściowa\n",
    "        self.W_out = tf.Variable(tf.random.normal([hiddenNum[-1], outSize]))\n",
    "        self.b_out = tf.Variable(tf.zeros([outSize]))\n",
    "        \n",
    "        self.inSize = inSize\n",
    "        self.outSize = outSize\n",
    "        self.outAct = outAct\n",
    "        self.hiddenAct = hiddenAct\n",
    "        \n",
    "        self.optimizer = opt\n",
    "        \n",
    "        self.job_type = job_type\n",
    "        \n",
    "    def predict(self, x):\n",
    "        layer_in = x\n",
    "        \n",
    "        # pierwsza warstwa ukryta\n",
    "        layer_hidden = tf.add(tf.matmul(layer_in, self.W_h[0]), self.b_h[0])\n",
    "        layer_hidden = self.hiddenAct[0](layer_hidden)\n",
    "        \n",
    "        # kolejne warstwy ukryte\n",
    "        for i in range(1, len(self.W_h)):\n",
    "            layer_hidden = tf.add(tf.matmul(layer_hidden, self.W_h[i]), self.b_h[i])\n",
    "            layer_hidden = self.hiddenAct[i](layer_hidden)\n",
    "\n",
    "        # warstwa wyjściowa\n",
    "        layer_out = tf.add(tf.matmul(layer_hidden, self.W_out), self.b_out)\n",
    "        if self.outAct != None:\n",
    "            layer_out = self.outAct(layer_out)\n",
    "        \n",
    "        return layer_out\n",
    "    \n",
    "    def lossFun(self, y_pred, y_true):\n",
    "        y_true = tf.reshape(y_true, (-1, self.outSize))\n",
    "        if self.job_type == \"class\":\n",
    "            return tf.reduce_mean(tf.nn.softmax_cross_entropy_with_logits(y_true, y_pred))\n",
    "        elif self.job_type == \"regr\":\n",
    "            return tf.reduce_mean(tf.square(y_pred - y_true))\n",
    "    \n",
    "    def fit(self, x, y_true, lr=None):\n",
    "        if lr != None:\n",
    "            self.optimizer.learning_rate.assign(lr)\n",
    "            \n",
    "        with tf.GradientTape() as t:\n",
    "            y_pred = self.predict(x)\n",
    "            current_loss = self.lossFun(y_pred, y_true)\n",
    "            \n",
    "        gradient = t.gradient(\n",
    "            current_loss,\n",
    "            [*self.W_h, *self.b_h, self.W_out, self.b_out]\n",
    "        )\n",
    "        \n",
    "        self.optimizer.apply_gradients(zip(\n",
    "            gradient,\n",
    "            [*self.W_h, *self.b_h, self.W_out, self.b_out]\n",
    "        ))\n",
    "        \n",
    "        return current_loss"
   ]
  },
  {
   "cell_type": "markdown",
   "metadata": {
    "id": "jMnkabGaqGPi"
   },
   "source": [
    "![image.png](data:image/png;base64,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)"
   ]
  },
  {
   "cell_type": "markdown",
   "metadata": {
    "id": "rVdfjlPBJxZ6"
   },
   "source": [
    "### sprawdźmy na xor'ze"
   ]
  },
  {
   "cell_type": "code",
   "execution_count": null,
   "metadata": {
    "executionInfo": {
     "elapsed": 229,
     "status": "ok",
     "timestamp": 1632560035363,
     "user": {
      "displayName": "Katarzyna Zdon",
      "photoUrl": "https://lh3.googleusercontent.com/a-/AOh14GiARqKbxpY3hHGMO_F7XjDfiV2SxWfGDu0U_h6X=s64",
      "userId": "13184890358615580748"
     },
     "user_tz": -120
    },
    "id": "1VIDZ9dOJxZ7"
   },
   "outputs": [],
   "source": [
    "inSize = 2\n",
    "outSize = 1\n",
    "outAct = tf.nn.sigmoid\n",
    "hiddenNum = [3, 5, 7, 9]\n",
    "hiddenAct = [tf.nn.relu for i in range(len(hiddenNum))]\n",
    "opt = tf.optimizers.SGD()\n",
    "job_type = \"regr\"\n",
    "nowyModel = modelDNN(inSize, outSize, outAct, hiddenNum, hiddenAct, opt, job_type)"
   ]
  },
  {
   "cell_type": "code",
   "execution_count": null,
   "metadata": {
    "colab": {
     "base_uri": "https://localhost:8080/"
    },
    "executionInfo": {
     "elapsed": 228,
     "status": "ok",
     "timestamp": 1632560044169,
     "user": {
      "displayName": "Katarzyna Zdon",
      "photoUrl": "https://lh3.googleusercontent.com/a-/AOh14GiARqKbxpY3hHGMO_F7XjDfiV2SxWfGDu0U_h6X=s64",
      "userId": "13184890358615580748"
     },
     "user_tz": -120
    },
    "id": "gxWgyYhMJxZ7",
    "outputId": "05b20435-7e22-4003-fd0f-c221efffd1fa"
   },
   "outputs": [],
   "source": [
    "nowyModel.W_h"
   ]
  },
  {
   "cell_type": "code",
   "execution_count": null,
   "metadata": {
    "colab": {
     "base_uri": "https://localhost:8080/"
    },
    "executionInfo": {
     "elapsed": 417,
     "status": "ok",
     "timestamp": 1632560109470,
     "user": {
      "displayName": "Katarzyna Zdon",
      "photoUrl": "https://lh3.googleusercontent.com/a-/AOh14GiARqKbxpY3hHGMO_F7XjDfiV2SxWfGDu0U_h6X=s64",
      "userId": "13184890358615580748"
     },
     "user_tz": -120
    },
    "id": "qKOFQTUOJxZ7",
    "outputId": "5896bce2-f084-4faf-c88e-642bf49741a8"
   },
   "outputs": [],
   "source": [
    "X"
   ]
  },
  {
   "cell_type": "code",
   "execution_count": null,
   "metadata": {
    "colab": {
     "base_uri": "https://localhost:8080/"
    },
    "executionInfo": {
     "elapsed": 279,
     "status": "ok",
     "timestamp": 1632560120736,
     "user": {
      "displayName": "Katarzyna Zdon",
      "photoUrl": "https://lh3.googleusercontent.com/a-/AOh14GiARqKbxpY3hHGMO_F7XjDfiV2SxWfGDu0U_h6X=s64",
      "userId": "13184890358615580748"
     },
     "user_tz": -120
    },
    "id": "6PskCaCtJxZ8",
    "outputId": "3449d8bf-4330-4a2f-fbc2-dce72f8b8cd7"
   },
   "outputs": [],
   "source": [
    "nowyModel.predict(X).numpy()"
   ]
  },
  {
   "cell_type": "code",
   "execution_count": null,
   "metadata": {
    "colab": {
     "base_uri": "https://localhost:8080/"
    },
    "executionInfo": {
     "elapsed": 287,
     "status": "ok",
     "timestamp": 1632560133909,
     "user": {
      "displayName": "Katarzyna Zdon",
      "photoUrl": "https://lh3.googleusercontent.com/a-/AOh14GiARqKbxpY3hHGMO_F7XjDfiV2SxWfGDu0U_h6X=s64",
      "userId": "13184890358615580748"
     },
     "user_tz": -120
    },
    "id": "vwc106J8JxZ8",
    "outputId": "20142449-8e2d-4306-c9e8-1dd80eeb9ac6"
   },
   "outputs": [],
   "source": [
    "nowyModel.lossFun(nowyModel.predict(X), Y)"
   ]
  },
  {
   "cell_type": "code",
   "execution_count": null,
   "metadata": {
    "colab": {
     "base_uri": "https://localhost:8080/",
     "height": 574
    },
    "executionInfo": {
     "elapsed": 9078,
     "status": "ok",
     "timestamp": 1632560217675,
     "user": {
      "displayName": "Katarzyna Zdon",
      "photoUrl": "https://lh3.googleusercontent.com/a-/AOh14GiARqKbxpY3hHGMO_F7XjDfiV2SxWfGDu0U_h6X=s64",
      "userId": "13184890358615580748"
     },
     "user_tz": -120
    },
    "id": "-bq6PEJNJxZ8",
    "outputId": "78e199bf-e6e4-4d1d-b8ef-a5c7e8709cc6"
   },
   "outputs": [],
   "source": [
    "lossList = []\n",
    "epochsNum = 1500\n",
    "for i in range(epochsNum):\n",
    "    tmpLoss = nowyModel.fit(X, Y, 0.1).numpy()\n",
    "    lossList.append(tmpLoss)\n",
    "print(\"wartość y po treningu:\\n{0}\".format(nowyModel.predict(X)))\n",
    "print(\"powinno być:\\n{0}\".format(Y))\n",
    "plt.plot(np.arange(epochsNum),lossList)\n",
    "y_pred = nowyModel.predict(X).numpy().reshape(-1)\n",
    "r2_score(Y, y_pred)"
   ]
  },
  {
   "cell_type": "markdown",
   "metadata": {
    "id": "Ju8LqzUmJxZ9"
   },
   "source": [
    "### trening i test na większym zbiorze"
   ]
  },
  {
   "cell_type": "code",
   "execution_count": null,
   "metadata": {
    "executionInfo": {
     "elapsed": 244,
     "status": "ok",
     "timestamp": 1632560324412,
     "user": {
      "displayName": "Katarzyna Zdon",
      "photoUrl": "https://lh3.googleusercontent.com/a-/AOh14GiARqKbxpY3hHGMO_F7XjDfiV2SxWfGDu0U_h6X=s64",
      "userId": "13184890358615580748"
     },
     "user_tz": -120
    },
    "id": "L7xxufbUJxZ9"
   },
   "outputs": [],
   "source": [
    "from sklearn.metrics import classification_report"
   ]
  },
  {
   "cell_type": "markdown",
   "metadata": {
    "id": "7Tb5K6g2JxZ9"
   },
   "source": [
    "#### wszystkie dane naraz wprowadzamy do metody fit"
   ]
  },
  {
   "cell_type": "code",
   "execution_count": null,
   "metadata": {
    "colab": {
     "base_uri": "https://localhost:8080/"
    },
    "executionInfo": {
     "elapsed": 251,
     "status": "ok",
     "timestamp": 1632560415539,
     "user": {
      "displayName": "Katarzyna Zdon",
      "photoUrl": "https://lh3.googleusercontent.com/a-/AOh14GiARqKbxpY3hHGMO_F7XjDfiV2SxWfGDu0U_h6X=s64",
      "userId": "13184890358615580748"
     },
     "user_tz": -120
    },
    "id": "PBCMt3pRJxZ-",
    "outputId": "f87bb177-8dff-46d4-a940-29681c9f9ca1"
   },
   "outputs": [],
   "source": [
    "classNum"
   ]
  },
  {
   "cell_type": "code",
   "execution_count": null,
   "metadata": {
    "colab": {
     "base_uri": "https://localhost:8080/"
    },
    "executionInfo": {
     "elapsed": 247,
     "status": "ok",
     "timestamp": 1632560447239,
     "user": {
      "displayName": "Katarzyna Zdon",
      "photoUrl": "https://lh3.googleusercontent.com/a-/AOh14GiARqKbxpY3hHGMO_F7XjDfiV2SxWfGDu0U_h6X=s64",
      "userId": "13184890358615580748"
     },
     "user_tz": -120
    },
    "id": "FKG0ytlcL23z",
    "outputId": "51f05835-1f0d-4efb-a8a7-8ff3ec2fbab1"
   },
   "outputs": [],
   "source": [
    "y"
   ]
  },
  {
   "cell_type": "code",
   "execution_count": null,
   "metadata": {
    "colab": {
     "base_uri": "https://localhost:8080/",
     "height": 1000
    },
    "executionInfo": {
     "elapsed": 2189,
     "status": "ok",
     "timestamp": 1632560679936,
     "user": {
      "displayName": "Katarzyna Zdon",
      "photoUrl": "https://lh3.googleusercontent.com/a-/AOh14GiARqKbxpY3hHGMO_F7XjDfiV2SxWfGDu0U_h6X=s64",
      "userId": "13184890358615580748"
     },
     "user_tz": -120
    },
    "id": "IUKARK1oJxZ-",
    "outputId": "7ca55fd1-3359-4a9d-bb47-4e813259e002"
   },
   "outputs": [],
   "source": [
    "inSize = x.shape[1]\n",
    "outSize = classNum\n",
    "\n",
    "outAct = None\n",
    "hiddenNum = [16, 24, 32]\n",
    "hiddenAct = [tf.nn.relu for i in range(len(hiddenNum))]\n",
    "opt = tf.optimizers.Adam()\n",
    "job_type = \"class\"\n",
    "nowyModel = modelDNN(inSize, outSize, outAct, hiddenNum, hiddenAct, opt, job_type)\n",
    "\n",
    "lr = None #0.001 - tf.optimizers.Adam().learning_rate\n",
    "epochsNum = 150\n",
    "lossList = []\n",
    "\n",
    "for i in range(epochsNum):\n",
    "    tmpLoss = nowyModel.fit(\n",
    "                        x_train,\n",
    "                        y_train,\n",
    "                        lr=lr\n",
    "                        )\n",
    "    #print(f\"curr loss: {tmpLoss}\")\n",
    "    lossList.append(tmpLoss)\n",
    "\n",
    "# skromna prezentacja na mniejszym zbiorze z testu\n",
    "y_pred = tf.nn.softmax(\n",
    "            nowyModel.predict(\n",
    "                x_test[:25]\n",
    "            )\n",
    "          ).numpy().argmax(axis=1)\n",
    "          \n",
    "print(f\"Wyjścia z sieci:\\n{y_pred}\")\n",
    "print(f\"Co powinno być:\\n{y_test[:25].argmax(axis=1)}\")\n",
    "\n",
    "# sprawdzamy na zbiorze treningowym\n",
    "print(\"\\nRaport klasyfikacji na zbiorze treningowym\")\n",
    "y_pred = tf.nn.softmax(\n",
    "            nowyModel.predict(\n",
    "                x_train\n",
    "            )\n",
    "          ).numpy().argmax(axis=1)\n",
    "print(classification_report(y_train.argmax(axis=1), y_pred))\n",
    "\n",
    "# testujemy na całości\n",
    "print(\"\\nRaport klasyfikacji na zbiorze testowym\")\n",
    "y_pred = tf.nn.softmax(\n",
    "            nowyModel.predict(\n",
    "                x_test\n",
    "            )\n",
    "          ).numpy().argmax(axis=1)\n",
    "print(classification_report(y_test.argmax(axis=1), y_pred))\n",
    "print(\"\\n\")\n",
    "fig = plt.figure(figsize=(20,10))\n",
    "plt.plot(lossList)\n",
    "\n",
    "plt.show()"
   ]
  },
  {
   "cell_type": "markdown",
   "metadata": {
    "id": "8PaDl2EPJxZ_"
   },
   "source": [
    "#### batchujemy dane - dzielimy na paczki i kawałkami zasilamy metodę fit"
   ]
  },
  {
   "cell_type": "code",
   "execution_count": null,
   "metadata": {
    "colab": {
     "base_uri": "https://localhost:8080/"
    },
    "executionInfo": {
     "elapsed": 609,
     "status": "ok",
     "timestamp": 1632536285493,
     "user": {
      "displayName": "Katarzyna Zdon",
      "photoUrl": "https://lh3.googleusercontent.com/a-/AOh14GiARqKbxpY3hHGMO_F7XjDfiV2SxWfGDu0U_h6X=s64",
      "userId": "13184890358615580748"
     },
     "user_tz": -120
    },
    "id": "n2xMvrf1JxZ_",
    "outputId": "2c7e5d88-f68b-4de8-95b4-976bd256e863"
   },
   "outputs": [],
   "source": [
    "x_train.shape"
   ]
  },
  {
   "cell_type": "code",
   "execution_count": null,
   "metadata": {
    "colab": {
     "base_uri": "https://localhost:8080/",
     "height": 1000
    },
    "executionInfo": {
     "elapsed": 11118,
     "status": "ok",
     "timestamp": 1632561370143,
     "user": {
      "displayName": "Katarzyna Zdon",
      "photoUrl": "https://lh3.googleusercontent.com/a-/AOh14GiARqKbxpY3hHGMO_F7XjDfiV2SxWfGDu0U_h6X=s64",
      "userId": "13184890358615580748"
     },
     "user_tz": -120
    },
    "id": "_VDyrdQtJxZ_",
    "outputId": "629ad358-8022-48e7-fa0b-d6f1cbb5a89d"
   },
   "outputs": [],
   "source": [
    "inSize = x.shape[1]\n",
    "outSize = classNum\n",
    "outAct = None\n",
    "hiddenNum = [16, 24, 32]\n",
    "hiddenAct = [tf.nn.relu for i in range(len(hiddenNum))]\n",
    "opt = tf.optimizers.Adam()\n",
    "job_type = \"class\"\n",
    "nowyModel = modelDNN(inSize, outSize, outAct, hiddenNum, hiddenAct, opt, job_type)\n",
    "\n",
    "# współczynnik uczenia, mały -> wolno, duży -> szybko\n",
    "lr = None #0.001\n",
    "\n",
    "lossList = []\n",
    "\n",
    "epochNum = 150\n",
    "\n",
    "batchSize = 60\n",
    "batchNum = int(x_train.shape[0]/batchSize)\n",
    "lastBatch = x_train.shape[0]%batchSize\n",
    "\n",
    "if lastBatch>0:\n",
    "    batchNum += 1\n",
    "\n",
    "for e in range(epochNum):\n",
    "    \n",
    "    # bierzemy kawałki datasetu\n",
    "    for i in range(batchNum):\n",
    "        batchStart = i * batchSize\n",
    "        batchEnd = batchStart + batchSize\n",
    "\n",
    "        if lastBatch>0 and i == batchNum - 1:\n",
    "            batchEnd = batchStart+lastBatch\n",
    "\n",
    "        lossList.append(nowyModel.fit(x_train[batchStart:batchEnd],\n",
    "                                           y_train[batchStart:batchEnd],\n",
    "                                           lr \n",
    "                                           ).numpy())\n",
    "    \"\"\" \n",
    "    # na pełnym datsecie\n",
    "    lossList.append(nowyModel.fit(x_train,\n",
    "                                  y_train,\n",
    "                                  lr\n",
    "                                  ).numpy())\n",
    "    \"\"\"\n",
    "\n",
    "# skromna prezentacja na mniejszym zbiorze z testu\n",
    "y_pred = tf.nn.softmax(\n",
    "            nowyModel.predict(\n",
    "                x_test[:25]\n",
    "            )\n",
    "          ).numpy().argmax(axis=1)\n",
    "print(f\"Wyjścia z sieci:\\n{y_pred}\")\n",
    "print(f\"Co powinno być:\\n{y_test[:25].argmax(axis=1)}\")\n",
    "\n",
    "# sprawdzamy na zbiorze treningowym\n",
    "print(\"\\nRaport klasyfikacji na zbiorze treningowym\")\n",
    "y_pred = tf.nn.softmax(\n",
    "            nowyModel.predict(\n",
    "                x_train\n",
    "            )\n",
    "          ).numpy().argmax(axis=1)\n",
    "print(classification_report(y_train.argmax(axis=1), y_pred))\n",
    "\n",
    "# testujemy na całości\n",
    "print(\"\\nRaport klasyfikacji na zbiorze testowym\")\n",
    "y_pred = tf.nn.softmax(\n",
    "            nowyModel.predict(\n",
    "                x_test\n",
    "            )\n",
    "          ).numpy().argmax(axis=1)\n",
    "print(classification_report(y_test.argmax(axis=1), y_pred))\n",
    "print(\"\\n\")\n",
    "fig = plt.figure(figsize=(20,10))\n",
    "plt.plot(lossList)\n",
    "plt.show()"
   ]
  },
  {
   "cell_type": "markdown",
   "metadata": {
    "id": "OSbNpkm7JxaA"
   },
   "source": [
    "### Zadanie - badanie funkcjonowania sieci\n",
    "1. Wykonaj kilka eksperymentów z różnymi parametrami budowy sieci, aby zaobserwować jak się zachowuje.\n",
    "2. Spróbuj uzyskać jak najlepszy wynik.\n",
    "3. Dodaj do metody fit() zwracanie gradientów.\n",
    "4. Zbieraj wartości gradientów podczas treningu.\n",
    "5. Licz co epokę skuteczność(lub inną metrykę, jak precision lub recall) jaką osiąga sieć i również zbieraj do listy.\n",
    "5. Sporządź na koniec wykresy wszystkich powyższych wartości"
   ]
  },
  {
   "cell_type": "markdown",
   "metadata": {
    "id": "hd9qb9RoJxaA"
   },
   "source": [
    "#### rozszerzenie modelu o zwracanie gradientów"
   ]
  },
  {
   "cell_type": "markdown",
   "metadata": {
    "id": "UCF9If7vJxaB"
   },
   "source": [
    "#### zamknięcie pod jedną funkcję\n",
    "Chcemy cały proces treningu oraz liczenia wyników zamknąć w jedną funkcję.\\\n",
    "Brzodko wygląda, ale ułatwia proces eksperymentowania."
   ]
  },
  {
   "cell_type": "markdown",
   "metadata": {
    "id": "Sq0hSLluJxaC"
   },
   "source": [
    "#### badanie"
   ]
  }
 ],
 "metadata": {
  "colab": {
   "collapsed_sections": [
    "T5K9H9q3JxYh",
    "kR11zooJJxYi",
    "I1IwEZHqJxYj",
    "URY1PEApJxYn",
    "to5lOv7xJxYu",
    "7Zs95y0aJxYy",
    "YQcKHMUiJxY1",
    "vQuBNhajJxY3",
    "pusAtIVOJxY8",
    "qj720lw3JxZD",
    "kdumpuBKJxZW",
    "clawJh2PJxZY",
    "wj6Z-8XTJxZZ"
   ],
   "name": "intro_tf_sol.ipynb",
   "provenance": [
    {
     "file_id": "19AED7j7J1PtLDLV74QbuDQccfJaMg6oL",
     "timestamp": 1632510869245
    }
   ]
  },
  "kernelspec": {
   "display_name": "geo_env_tensor",
   "language": "python",
   "name": "python3"
  },
  "language_info": {
   "codemirror_mode": {
    "name": "ipython",
    "version": 3
   },
   "file_extension": ".py",
   "mimetype": "text/x-python",
   "name": "python",
   "nbconvert_exporter": "python",
   "pygments_lexer": "ipython3",
   "version": "3.9.13"
  },
  "toc": {
   "base_numbering": 1,
   "nav_menu": {},
   "number_sections": true,
   "sideBar": true,
   "skip_h1_title": true,
   "title_cell": "Table of Contents",
   "title_sidebar": "Contents",
   "toc_cell": true,
   "toc_position": {
    "height": "861.094px",
    "left": "184px",
    "top": "149px",
    "width": "302.635px"
   },
   "toc_section_display": true,
   "toc_window_display": true
  },
  "vscode": {
   "interpreter": {
    "hash": "7211a4da66cb4e2b5dde131264ef0b419988e975e76a4ae98a04aa58c3f0128e"
   }
  }
 },
 "nbformat": 4,
 "nbformat_minor": 1
}
