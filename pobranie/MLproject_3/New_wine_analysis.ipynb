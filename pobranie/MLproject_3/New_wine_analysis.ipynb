{
 "cells": [
  {
   "cell_type": "code",
   "execution_count": 1,
   "metadata": {},
   "outputs": [],
   "source": [
    "import pandas as pd\n",
    "import seaborn as sns\n",
    "import matplotlib.pyplot as plt\n",
    "import ipywidgets as widgets\n",
    "from ipywidgets import interact,Dropdown, FloatSlider\n",
    "from traitlets import directional_link\n",
    "from IPython.display import display\n",
    "import time\n",
    "import warnings\n",
    "warnings.filterwarnings('ignore')\n",
    "sns.set()"
   ]
  },
  {
   "cell_type": "code",
   "execution_count": null,
   "metadata": {},
   "outputs": [],
   "source": [
    "# My Table of content\n",
    "- [Section 1](#id-section1)\n",
    "- [Section 2](#id-section2)\n",
    "\n",
    "<div id='id-section1'/>\n",
    "## Section 1\n",
    "<div id='id-section2'/>\n",
    "## Section 2"
   ]
  },
  {
   "cell_type": "code",
   "execution_count": 2,
   "metadata": {},
   "outputs": [],
   "source": [
    "df_red = pd.read_csv('winequality-red.csv',sep=';')\n",
    "df_white = pd.read_csv('winequality-white.csv',sep=';')"
   ]
  },
  {
   "cell_type": "code",
   "execution_count": 3,
   "metadata": {},
   "outputs": [],
   "source": [
    "df_red[\"type\"] = 'red'\n",
    "df_white[\"type\"] = 'white'"
   ]
  },
  {
   "cell_type": "code",
   "execution_count": 4,
   "metadata": {},
   "outputs": [],
   "source": [
    "df = pd.concat([df_red, df_white], axis=0)"
   ]
  },
  {
   "cell_type": "code",
   "execution_count": 5,
   "metadata": {},
   "outputs": [],
   "source": [
    "# Renaming columns:\n",
    "for col in df.columns:\n",
    "    if col != 'pH':\n",
    "        df.rename(columns={col:col.capitalize()}, inplace=True)"
   ]
  },
  {
   "cell_type": "code",
   "execution_count": 6,
   "metadata": {},
   "outputs": [],
   "source": [
    "df = df.reset_index(drop=True)"
   ]
  },
  {
   "cell_type": "code",
   "execution_count": 7,
   "metadata": {},
   "outputs": [
    {
     "name": "stdout",
     "output_type": "stream",
     "text": [
      "Fixed acidity        : ==============> 0.00%\n",
      "Volatile acidity     : ==============> 0.00%\n",
      "Citric acid          : ==============> 0.00%\n",
      "Residual sugar       : ==============> 0.00%\n",
      "Chlorides            : ==============> 0.00%\n",
      "Free sulfur dioxide  : ==============> 0.00%\n",
      "Total sulfur dioxide : ==============> 0.00%\n",
      "Density              : ==============> 0.00%\n",
      "pH                   : ==============> 0.00%\n",
      "Sulphates            : ==============> 0.00%\n",
      "Alcohol              : ==============> 0.00%\n",
      "Quality              : ==============> 0.00%\n",
      "Type                 : ==============> 0.00%\n"
     ]
    }
   ],
   "source": [
    "# Searching for null values if present\n",
    "for column in df.columns:\n",
    "    missing = df[column].isna().sum() / df.shape[0]\n",
    "    print(f\"{column:{21}}: ==============> {missing * 100:.2f}%\")"
   ]
  },
  {
   "cell_type": "code",
   "execution_count": 8,
   "metadata": {},
   "outputs": [
    {
     "data": {
      "text/plain": [
       "['Fixed acidity',\n",
       " 'Volatile acidity',\n",
       " 'Citric acid',\n",
       " 'Residual sugar',\n",
       " 'Chlorides',\n",
       " 'Free sulfur dioxide',\n",
       " 'Total sulfur dioxide',\n",
       " 'Density',\n",
       " 'pH',\n",
       " 'Sulphates',\n",
       " 'Alcohol']"
      ]
     },
     "execution_count": 8,
     "metadata": {},
     "output_type": "execute_result"
    }
   ],
   "source": [
    "# Detailed analysis of correlations between data\n",
    "numerical_columns = [column for column in df.columns if df[column].dtype == \"float\"]\n",
    "numerical_columns"
   ]
  },
  {
   "cell_type": "code",
   "execution_count": 9,
   "metadata": {},
   "outputs": [
    {
     "data": {
      "text/plain": [
       "['Quality', 'Type']"
      ]
     },
     "execution_count": 9,
     "metadata": {},
     "output_type": "execute_result"
    }
   ],
   "source": [
    "categorical_columns = [column for column in df.columns if df[column].dtype in [\"object\", \"int64\"]]\n",
    "categorical_columns"
   ]
  },
  {
   "cell_type": "code",
   "execution_count": 121,
   "metadata": {},
   "outputs": [
    {
     "name": "stdout",
     "output_type": "stream",
     "text": [
      "<class 'pandas.core.frame.DataFrame'>\n",
      "RangeIndex: 6497 entries, 0 to 6496\n",
      "Data columns (total 13 columns):\n",
      " #   Column                Non-Null Count  Dtype  \n",
      "---  ------                --------------  -----  \n",
      " 0   Fixed acidity         6497 non-null   float64\n",
      " 1   Volatile acidity      6497 non-null   float64\n",
      " 2   Citric acid           6497 non-null   float64\n",
      " 3   Residual sugar        6497 non-null   float64\n",
      " 4   Chlorides             6497 non-null   float64\n",
      " 5   Free sulfur dioxide   6497 non-null   float64\n",
      " 6   Total sulfur dioxide  6497 non-null   float64\n",
      " 7   Density               6497 non-null   float64\n",
      " 8   pH                    6497 non-null   float64\n",
      " 9   Sulphates             6497 non-null   float64\n",
      " 10  Alcohol               6497 non-null   float64\n",
      " 11  Quality               6497 non-null   int64  \n",
      " 12  Type                  6497 non-null   object \n",
      "dtypes: float64(11), int64(1), object(1)\n",
      "memory usage: 660.0+ KB\n"
     ]
    }
   ],
   "source": [
    "df.info()"
   ]
  },
  {
   "cell_type": "code",
   "execution_count": 161,
   "metadata": {},
   "outputs": [],
   "source": [
    "def cat_data_analysis(df):\n",
    "\n",
    "    categorical_menu = widgets.Dropdown(options=categorical_columns,\n",
    "                                        value=categorical_columns[0],\n",
    "                                        description=\"Column: \")\n",
    "\n",
    "    opt1_values = sorted([str(x) for x in df[categorical_menu.value].unique()])\n",
    "    opt1_values.append('all') \n",
    "\n",
    "    opt1 = widgets.Dropdown(options=opt1_values,\n",
    "                            value='all',\n",
    "                            description=\"Options: \")\n",
    "\n",
    "    categorical_menu_hue = widgets.Dropdown(options=categorical_columns,\n",
    "                                            value=categorical_columns[1],\n",
    "                                            description=\"Hue: \")\n",
    "\n",
    "    opt2_values = sorted([str(x) for x in df[categorical_menu_hue.value].unique()])\n",
    "    opt2_values.append('all')\n",
    "\n",
    "    opt2 = widgets.Dropdown(options=opt2_values,\n",
    "                            value='all',\n",
    "                            description=\"Options: \")\n",
    "    property_distribution = widgets.Dropdown(options=numerical_columns,\n",
    "                                            value=numerical_columns[0],\n",
    "                                            description=\"Property: \")\n",
    "\n",
    "    box1 = widgets.VBox([categorical_menu,opt1])\n",
    "    box2 = widgets.VBox([categorical_menu_hue,opt2])\n",
    "    category_box = widgets.HBox([box1,box2,property_distribution])\n",
    "\n",
    "    out = widgets.Output()\n",
    "    out2 = widgets.Output()\n",
    "    cat_box_out = widgets.HBox([out,out2])\n",
    "\n",
    "\n",
    "    def update_dropdown1(change):\n",
    "\n",
    "        opt1_options = sorted([str(x) for x in df[categorical_menu.value].unique()])\n",
    "        opt1_options.append('all')\n",
    "        opt1.options = opt1_options\n",
    "        opt1.value = 'all'\n",
    "\n",
    "    def update_dropdown2(change):\n",
    "\n",
    "        opt2_options = sorted([str(x) for x in df[categorical_menu_hue.value].unique()])\n",
    "        opt2_options.append('all')\n",
    "        opt2.options = opt2_options\n",
    "        opt2.value = 'all'\n",
    "\n",
    "    \n",
    "    def common_filtering(column,hue,option1,option2,property):\n",
    "\n",
    "        column = categorical_menu.value\n",
    "        hue = categorical_menu_hue.value\n",
    "        option1 = opt1.value\n",
    "        option2 = opt2.value\n",
    "        property = property_distribution.value\n",
    "\n",
    "        if option1 != 'all':\n",
    "                filtered_data = df[df[column].astype('string')==option1]\n",
    "        else:\n",
    "                filtered_data = df\n",
    "\n",
    "        \n",
    "        with out:\n",
    "            out.clear_output(wait=True)\n",
    "            if option2 == 'all':\n",
    "                p = sns.countplot(data=filtered_data, x=column, hue=hue)\n",
    "                if len(filtered_data[column].unique()) > 4:\n",
    "                    p.tick_params(axis='x', rotation=90)\n",
    "                plt.show()\n",
    "            else:\n",
    "                try:\n",
    "                    p = sns.countplot(data=filtered_data[filtered_data[hue].astype('string')==option2], x=column)\n",
    "                    plt.show()\n",
    "                except ValueError:\n",
    "                    print(\"No samples meeting the selected parameters!\")\n",
    "            \n",
    "            \n",
    "        with out2:\n",
    "            out2.clear_output(wait=True)\n",
    "            if option2 == 'all':\n",
    "                p2 = sns.histplot(data=filtered_data[property])\n",
    "                plt.show()\n",
    "            else:\n",
    "                try:\n",
    "                    p2 = sns.histplot(data=filtered_data[filtered_data[hue].astype('string')==option2][property])\n",
    "                    plt.show()\n",
    "                except ValueError:\n",
    "                    print(\"No samples meeting the selected parameters!\")\n",
    "\n",
    "\n",
    "    def categorical_menu_eventhandler(change):\n",
    "        update_dropdown1(change.new)\n",
    "        common_filtering(change.new, categorical_menu_hue.value,opt1.value,opt2.value,property_distribution.value)\n",
    "        \n",
    "\n",
    "    def categorical_menu_hue_eventhandler(change):\n",
    "        update_dropdown2(change.new)\n",
    "        common_filtering(categorical_menu.value, change.new,opt1.value,opt2.value,property_distribution.value)\n",
    "\n",
    "    def opt1_eventhandler(change):\n",
    "        common_filtering(categorical_menu.value, categorical_menu_hue.value,change.new,opt2.value, property_distribution.value)\n",
    "\n",
    "    def opt2_eventhandler(change):\n",
    "        common_filtering(categorical_menu.value, categorical_menu_hue.value,opt1.value,change.new,property_distribution.value)\n",
    "\n",
    "    def property_eventhandler(change):\n",
    "        common_filtering(categorical_menu.value, categorical_menu_hue.value,opt1.value,opt2.value,change.new)\n",
    "\n",
    "    categorical_menu.observe(categorical_menu_eventhandler, names='value')\n",
    "    categorical_menu_hue.observe(categorical_menu_hue_eventhandler, names='value')\n",
    "    opt1.observe(opt1_eventhandler, names='value')\n",
    "    opt2.observe(opt2_eventhandler, names='value')\n",
    "    property_distribution.observe(property_eventhandler, names='value')\n",
    "\n",
    "    display(category_box,cat_box_out)"
   ]
  },
  {
   "cell_type": "code",
   "execution_count": 162,
   "metadata": {},
   "outputs": [
    {
     "data": {
      "application/vnd.jupyter.widget-view+json": {
       "model_id": "bcfe258668df4b098e54b5a87b5716ed",
       "version_major": 2,
       "version_minor": 0
      },
      "text/plain": [
       "HBox(children=(VBox(children=(Dropdown(description='Column: ', options=('Quality', 'Type'), value='Quality'), …"
      ]
     },
     "metadata": {},
     "output_type": "display_data"
    },
    {
     "data": {
      "application/vnd.jupyter.widget-view+json": {
       "model_id": "67f52df467c346f18ddbaf30e86a175b",
       "version_major": 2,
       "version_minor": 0
      },
      "text/plain": [
       "HBox(children=(Output(), Output()))"
      ]
     },
     "metadata": {},
     "output_type": "display_data"
    }
   ],
   "source": [
    "cat_data_analysis(df)"
   ]
  },
  {
   "cell_type": "code",
   "execution_count": 163,
   "metadata": {},
   "outputs": [],
   "source": [
    "def num_data_analysis(df):\n",
    "    \n",
    "    n1 = widgets.Dropdown(options=numerical_columns,\n",
    "                    value = numerical_columns[0],\n",
    "                    description=\"Column 1: \")\n",
    "\n",
    "    n2 = widgets.Dropdown(options=numerical_columns,\n",
    "                        value = numerical_columns[1],\n",
    "                        description=\"Column 2: \")\n",
    "\n",
    "    n3 = widgets.Dropdown(options=categorical_columns,\n",
    "                                    description=\"Hue: \")\n",
    "\n",
    "    d3_options = sorted([str(x) for x in df[n3.value].unique()])\n",
    "    d3_options.append('all')\n",
    "\n",
    "    d3 = widgets.Dropdown(options=d3_options,\n",
    "                        value=\"all\",\n",
    "                        description=\"Options: \")\n",
    "\n",
    "    s1 = widgets.FloatRangeSlider(min = df[n1.value].min(), max = df[n1.value].max(), value=(df[n1.value].min(), df[n1.value].max()),  description='Value range: ')\n",
    "    s2 = widgets.FloatRangeSlider(min = df[n2.value].min(), max = df[n2.value].max(), value=(df[n2.value].min(), df[n2.value].max()), description='Value range: ')\n",
    "    n1_box = widgets.VBox([n1,s1])\n",
    "    n2_box = widgets.VBox([n2,s2])\n",
    "    n3_box = widgets.VBox([n3,d3])\n",
    "    numeric_box = widgets.HBox([n1_box,n2_box,n3_box])\n",
    "\n",
    "    out = widgets.Output()\n",
    "    out2 = widgets.Output()\n",
    "    num_box_out = widgets.HBox(children=[out,out2])\n",
    "\n",
    "\n",
    "    def draw_plot2(column1,column2,hue,slider1,slider2,dropdown3,filtered_data):\n",
    "        \n",
    "        column1 = n1.value\n",
    "        column2 = n2.value\n",
    "        hue = n3.value\n",
    "        slider1 = s1.value\n",
    "        slider2=s2.value\n",
    "        dropdown3 = d3.value\n",
    "\n",
    "        print(f\"\"\"\n",
    "        {column1} min value: {filtered_data[column1].min():.2f}\n",
    "        {column1} max value: {filtered_data[column1].max():.2f}\n",
    "        {column2} min value: {filtered_data[column2].min():.2f}\n",
    "        {column2} max value: {filtered_data[column2].max():.2f}\"\"\")\n",
    "\n",
    "        if dropdown3 == 'all':\n",
    "\n",
    "            fig, axes = plt.subplots(1, 2,figsize=(10, 5.75))\n",
    "            fig.suptitle(f'Data distribution for wines of different {hue.lower()}')\n",
    "            sns.boxplot(data=filtered_data, x=hue, y=column1,showmeans=True,meanprops={\"markeredgecolor\": \"yellow\"},ax=axes[0])\n",
    "            sns.boxplot(data=filtered_data, x=hue, y=column2,showmeans=True,meanprops={\"markeredgecolor\": \"yellow\"},ax=axes[1])\n",
    "            plt.show()\n",
    "            \n",
    "        else:\n",
    "\n",
    "            if hue=='Type':\n",
    "                fig, axes = plt.subplots(1, 2,figsize=(10, 5.75))\n",
    "                fig.suptitle(f'Data distribution for {dropdown3} wines')\n",
    "                sns.boxplot(data=filtered_data, x='Quality', y=column1,showmeans=True,meanprops={\"markeredgecolor\": \"yellow\"},ax=axes[0])\n",
    "                sns.boxplot(data=filtered_data, x='Quality', y=column2,showmeans=True,meanprops={\"markeredgecolor\": \"yellow\"},ax=axes[1])\n",
    "                plt.show()\n",
    "                \n",
    "            else:\n",
    "                fig, axes = plt.subplots(1, 2, figsize=(10, 5.75))\n",
    "                fig.suptitle(f'Data distribution for \"{dropdown3}\" quality wines')\n",
    "                sns.boxplot(data=filtered_data, x='Type', y=column1,showmeans=True,meanprops={\"markeredgecolor\": \"yellow\"},ax=axes[0])\n",
    "                sns.boxplot(data=filtered_data, x='Type', y=column2,showmeans=True,meanprops={\"markeredgecolor\": \"yellow\"},ax=axes[1])\n",
    "                plt.show()\n",
    "                \n",
    "        \n",
    "\n",
    "    def draw_plot1(column1,column2,hue,slider1,slider2,dropdown3,filtered_data):\n",
    "\n",
    "        column1 = n1.value\n",
    "        column2 = n2.value\n",
    "        hue = n3.value\n",
    "        slider1 = s1.value\n",
    "        slider2=s2.value\n",
    "        dropdown3 = d3.value\n",
    "        \n",
    "        print(f\"\"\"\n",
    "        Correlation coefficient: {filtered_data[column1].corr(filtered_data[column2]):.3f}\n",
    "        Number of samples: {filtered_data[column1].count()}\n",
    "        {column1} mean value: {filtered_data[column1].mean():.2f}\n",
    "        {column2} mean value: {filtered_data[column2].mean():.2f}\"\"\")\n",
    "\n",
    "\n",
    "        if dropdown3 == 'all':\n",
    "            p = sns.jointplot(data=filtered_data,x=column1,y=column2,hue=hue)\n",
    "            p.fig.suptitle(f\"Relationship between the '{column1.lower()}' and '{column2.lower()}'\\n variables for wines of different {hue.lower()}\")\n",
    "            p.fig.tight_layout()\n",
    "            plt.figure(figsize=(10,5.75))\n",
    "            plt.show()\n",
    "            \n",
    "            \n",
    "        else:\n",
    "            if hue == 'Quality':\n",
    "                p = sns.jointplot(data=filtered_data,x=column1,y=column2,hue='Type')\n",
    "                p.fig.suptitle(f\"Relationship between the '{column1.lower()}' and '{column2.lower()}'\\n variables for wines of different types\")\n",
    "                p.fig.tight_layout()\n",
    "                plt.figure(figsize=(10,5.75))\n",
    "                plt.show()\n",
    "                \n",
    "\n",
    "            else:\n",
    "                p = sns.jointplot(data=filtered_data,x=column1,y=column2,hue='Quality')\n",
    "                p.fig.suptitle(f\"Relationship between the '{column1.lower()}' and '{column2.lower()}'\\n variables for wines of different quality\")\n",
    "                p.fig.tight_layout()\n",
    "                plt.figure(figsize=(10,5.75))\n",
    "                plt.show()\n",
    "                \n",
    "\n",
    "    def common_data_filter(column1,column2,hue,slider1,slider2,dropdown3):\n",
    "\n",
    "        column1 = n1.value\n",
    "        column2 = n2.value\n",
    "        hue = n3.value\n",
    "        slider1 = s1.value\n",
    "        slider2=s2.value\n",
    "        dropdown3 = d3.value\n",
    "\n",
    "        filtered_data = df[(df[column1] < slider1[1]+0.01) & (df[column1] >= slider1[0])\n",
    "                        & (df[column2] >= slider2[0]) & (df[column2] < slider2[1]+0.01)]\n",
    "                        \n",
    "        if dropdown3 == 'all':\n",
    "            filtered_data\n",
    "        else:\n",
    "            if hue =='Type':\n",
    "                filtered_data = filtered_data[filtered_data[hue]==dropdown3]\n",
    "            else:\n",
    "                filtered_data = filtered_data[filtered_data[hue]==int(dropdown3)]\n",
    "\n",
    "\n",
    "        with out:\n",
    "            out.clear_output(wait=True)\n",
    "            draw_plot1(column1,column2,hue,slider1,slider2,dropdown3,filtered_data)\n",
    "            \n",
    "            \n",
    "        with out2:\n",
    "            out2.clear_output(wait=True)\n",
    "            draw_plot2(column1,column2,hue,slider1,slider2,dropdown3,filtered_data)\n",
    "            \n",
    "                \n",
    "    def update_slider1(change):\n",
    "\n",
    "        s1.min = 0\n",
    "        s1.max =1000\n",
    "        s1.max=df[n1.value].max()\n",
    "        s1.min = df[n1.value].min()\n",
    "        s1.value = (df[n1.value].min(), df[n1.value].max())\n",
    "        \n",
    "    def update_slider2(change):\n",
    "        \n",
    "        s2.min = 0\n",
    "        s2.max =1000\n",
    "        s2.max=df[n2.value].max()\n",
    "        s2.min = df[n2.value].min()\n",
    "        s2.value = (df[n2.value].min(),df[n2.value].max())\n",
    "    \n",
    "    def update_dropdown3(change):\n",
    "\n",
    "        d3_options = sorted([str(x) for x in df[n3.value].unique()])\n",
    "        d3_options.append('all')\n",
    "        d3.options=d3_options\n",
    "        d3.value = 'all' \n",
    "        update_slider1(change.new)\n",
    "        common_data_filter(change.new, n2.value,n3.value, s1.value,s2.value,d3.value)\n",
    "\n",
    "    def n1_menu_eventhandler(change):\n",
    "        update_slider1(change.new)\n",
    "        common_data_filter(change.new, n2.value, n3.value, s1.value,s2.value,d3.value)\n",
    "        \n",
    "    def n2_menu_eventhandler(change):\n",
    "        update_slider2(change.new)\n",
    "        common_data_filter(n1.value, change.new,n3.value, s1.value,s2.value,d3.value)\n",
    "    \n",
    "    def n3_menu_eventhandler(change):\n",
    "        update_dropdown3(change.new)\n",
    "        common_data_filter(n1.value, n2.value,change.new, s1.value,s2.value,d3.value)\n",
    "\n",
    "    def s1_eventhandler(change):\n",
    "        common_data_filter(n1.value, n2.value,n3.value, change.new,s2.value,d3.value)\n",
    "\n",
    "    def s2_eventhandler(change):\n",
    "        common_data_filter(n1.value, n2.value,n3.value, s1.value,change.new,d3.value)\n",
    "    \n",
    "    def d3_eventhandler(change):\n",
    "        common_data_filter(n1.value, n2.value,n3.value, s1.value,s2.value,change.new)\n",
    "\n",
    "    n1.observe(n1_menu_eventhandler, names='value')\n",
    "    n2.observe(n2_menu_eventhandler, names='value')\n",
    "    n3.observe(n3_menu_eventhandler, names='value') \n",
    "    s1.observe(s1_eventhandler, names='value')\n",
    "    s2.observe(s2_eventhandler, names='value')\n",
    "    d3.observe(d3_eventhandler, names='value')\n",
    "    \n",
    "    display(numeric_box, num_box_out)"
   ]
  },
  {
   "cell_type": "code",
   "execution_count": 165,
   "metadata": {},
   "outputs": [
    {
     "data": {
      "application/vnd.jupyter.widget-view+json": {
       "model_id": "a6c82773b1eb44cc8c2cad5d2db5eb26",
       "version_major": 2,
       "version_minor": 0
      },
      "text/plain": [
       "HBox(children=(VBox(children=(Dropdown(description='Column 1: ', options=('Fixed acidity', 'Volatile acidity',…"
      ]
     },
     "metadata": {},
     "output_type": "display_data"
    },
    {
     "data": {
      "application/vnd.jupyter.widget-view+json": {
       "model_id": "79912b3c01914512b710eed4117166e5",
       "version_major": 2,
       "version_minor": 0
      },
      "text/plain": [
       "HBox(children=(Output(), Output()))"
      ]
     },
     "metadata": {},
     "output_type": "display_data"
    }
   ],
   "source": [
    "num_data_analysis(df)"
   ]
  }
 ],
 "metadata": {
  "kernelspec": {
   "display_name": "geo_env",
   "language": "python",
   "name": "python3"
  },
  "language_info": {
   "codemirror_mode": {
    "name": "ipython",
    "version": 3
   },
   "file_extension": ".py",
   "mimetype": "text/x-python",
   "name": "python",
   "nbconvert_exporter": "python",
   "pygments_lexer": "ipython3",
   "version": "3.9.13 | packaged by conda-forge | (main, May 27 2022, 16:56:21) \n[GCC 10.3.0]"
  },
  "orig_nbformat": 4,
  "vscode": {
   "interpreter": {
    "hash": "9feb94bda0cc3f99404f23ad369af0776fd31ede1a2e8a5a9b9f4c896a250c19"
   }
  }
 },
 "nbformat": 4,
 "nbformat_minor": 2
}
