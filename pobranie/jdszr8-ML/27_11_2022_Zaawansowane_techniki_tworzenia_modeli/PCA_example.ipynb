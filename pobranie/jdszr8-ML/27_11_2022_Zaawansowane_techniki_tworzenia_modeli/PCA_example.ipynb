{
 "cells": [
  {
   "cell_type": "markdown",
   "metadata": {
    "id": "jrdc4MAChHP3"
   },
   "source": [
    "### PCA example\n",
    "PCA to najbardziej popularny algorytm redukcji wymiarów. W ogólnym skrócie polega on na rzutowaniu danych do przestrzeni o mniejszej liczbie wymiarów tak, aby jak najlepiej zachować strukturę danych. "
   ]
  },
  {
   "cell_type": "markdown",
   "metadata": {
    "id": "Q9PPgqvohHP6"
   },
   "source": [
    "Poniżej przykład wykorzystania PCA do redukcji wymiarów na podstawie zbioru o Bankach na podstawie raportów dostępnych na stronie www.PRnews.pl na dzień 2019-10-15."
   ]
  },
  {
   "cell_type": "code",
   "execution_count": null,
   "metadata": {
    "ExecuteTime": {
     "end_time": "2019-10-15T20:27:37.539578Z",
     "start_time": "2019-10-15T20:27:27.814350Z"
    },
    "id": "SnBmUC4fhHP8"
   },
   "outputs": [],
   "source": [
    "import pandas as pd\n",
    "import os\n",
    "import seaborn as sns\n",
    "import matplotlib.pyplot as plt\n",
    "\n",
    "from sklearn.preprocessing import MinMaxScaler, StandardScaler, LabelEncoder\n",
    "from sklearn.decomposition import PCA\n",
    "\n",
    "seed = 2019"
   ]
  },
  {
   "cell_type": "markdown",
   "metadata": {
    "ExecuteTime": {
     "end_time": "2019-06-24T10:07:57.804776Z",
     "start_time": "2019-06-24T10:07:57.796736Z"
    },
    "id": "iFibQBwbhHP-"
   },
   "source": [
    "#### Import danych"
   ]
  },
  {
   "cell_type": "code",
   "execution_count": null,
   "metadata": {
    "ExecuteTime": {
     "end_time": "2019-10-15T20:27:38.777064Z",
     "start_time": "2019-10-15T20:27:37.543566Z"
    },
    "id": "tY2acG73hHP-"
   },
   "outputs": [],
   "source": [
    "df = pd.read_excel('./data/data.xlsx', sheet_name='dataframe')\n",
    "df.sort_values(by='2019Q2_aktywa', ascending=False).head()"
   ]
  },
  {
   "cell_type": "markdown",
   "metadata": {
    "id": "0srrhvuIhHP_"
   },
   "source": [
    "#### Preprocessing zbioru: standaryzacja i obsłużenie pustych wartości.   "
   ]
  },
  {
   "cell_type": "markdown",
   "metadata": {
    "id": "AuTd0jM3hHQA"
   },
   "source": [
    "Przed wykonaniem PCA należy dokonać standaryzacji zbioru danych (średnia = 0, wariancja = 1) ze względu na różną skalę jaka może występować w zmiennych - np. waga i dochody. Dane są następnie normalizowane (skalowane do przedziału [0,1]).\n",
    "<br/>\n",
    "\n",
    "Dodatkowo implementacja PCA w pakiecie scikit-learn nie obsługuje pustych wartości, dlatego też należy odpowiednio je obsłużyć. \n",
    "<br/>\n",
    "\n",
    "**Uwaga**: W tym przypadku zapominamy, że mamy jakikolwiek zbiór do walidacji\\testowania modelu (jak ma to miejsce dla uczenia nadzorowanego) i wykonujemy funkcję fit_transform() na całym zbiorze (który może być traktowany jako zbiór treningowy). Dla uczenia nadzorowanego wykonywalibyśmy też krok następny, czyli funkcję transform() na zbiorze walidacyjnym\\testowym."
   ]
  },
  {
   "cell_type": "code",
   "execution_count": null,
   "metadata": {
    "ExecuteTime": {
     "end_time": "2019-10-15T20:27:38.897095Z",
     "start_time": "2019-10-15T20:27:38.781064Z"
    },
    "id": "ruQ04ykjhHQB"
   },
   "outputs": [],
   "source": [
    "def apply_scalers(df, columns_to_exclude=None):\n",
    "    if columns_to_exclude:\n",
    "        exclude_filter = ~df.columns.isin(columns_to_exclude) \n",
    "    else:\n",
    "        exclude_filter = ~df.columns.isin([]) \n",
    "    for column in df.iloc[:, exclude_filter].columns:\n",
    "        df[column] = df[column].astype(float)\n",
    "\n",
    "    df.loc[:, exclude_filter] = StandardScaler().fit_transform(df.loc[:, exclude_filter])\n",
    "    return df\n",
    "\n",
    "df = apply_scalers(df, columns_to_exclude=['Nazwa'])\n",
    "df.sort_values(by='2019Q2_aktywa', ascending=False).head()"
   ]
  },
  {
   "cell_type": "markdown",
   "metadata": {
    "id": "oSyTOMxShHQB"
   },
   "source": [
    "#### PCA"
   ]
  },
  {
   "cell_type": "markdown",
   "metadata": {
    "id": "uylkccF9hHQC"
   },
   "source": [
    "W celu wykonania analizy głównych składowych można wykorzystać funkcję *PCA* z pakietu *sklearn.decomposition*. Najważniejsze parametry funkcji: \n",
    "\n",
    "* *n_components* - liczba *n* czynników w nowej przestrzeni \n",
    "* *svd_solver* - typ dekompozycji macierzy. Dostępne wartości: *auto, full, arpack, randomized*\n",
    "\n",
    "Więcej o parametrach: https://scikit-learn.org/stable/modules/generated/sklearn.decomposition.PCA.html"
   ]
  },
  {
   "cell_type": "code",
   "execution_count": null,
   "metadata": {
    "ExecuteTime": {
     "end_time": "2019-10-15T20:27:38.920613Z",
     "start_time": "2019-10-15T20:27:38.901095Z"
    },
    "id": "5KoRHodahHQD"
   },
   "outputs": [],
   "source": [
    "# kolumny do wykluczenia (te na których nie chcemy PCA)\n",
    "exclude_filter = ~df.columns.isin(['Nazwa']) \n",
    "# liczba głównych składowych\n",
    "pca = PCA(n_components = 3)\n",
    "# przeliczenie\n",
    "principal_components = pca.fit_transform(df.loc[:, exclude_filter])"
   ]
  },
  {
   "cell_type": "code",
   "execution_count": null,
   "metadata": {
    "ExecuteTime": {
     "end_time": "2019-10-15T20:27:38.957123Z",
     "start_time": "2019-10-15T20:27:38.925120Z"
    },
    "id": "JNPuXZumhHQE"
   },
   "outputs": [],
   "source": [
    "principal_df = pd.DataFrame(data = principal_components, \n",
    "                           columns = ['principal component 1',\n",
    "                                      'principal component 2',\n",
    "                                      'principal component 3']\n",
    "                           )\n",
    "\n",
    "principal_df['Nazwa'] = df['Nazwa']\n",
    "principal_df"
   ]
  },
  {
   "cell_type": "code",
   "execution_count": null,
   "metadata": {
    "id": "d-GfHD3xhHQF"
   },
   "outputs": [],
   "source": [
    "!pip install chart-studio"
   ]
  },
  {
   "cell_type": "code",
   "execution_count": null,
   "metadata": {
    "ExecuteTime": {
     "end_time": "2019-10-15T20:27:43.202629Z",
     "start_time": "2019-10-15T20:27:38.961122Z"
    },
    "id": "bRLtHG29hHQF"
   },
   "outputs": [],
   "source": [
    "import pandas as pd\n",
    "import seaborn as sns\n",
    "\n",
    "from chart_studio import plotly as py\n",
    "#import plotly.plotly as py\n",
    "import plotly.graph_objs as go\n",
    "from plotly.offline import download_plotlyjs, init_notebook_mode, plot, iplot\n",
    "\n",
    "init_notebook_mode(connected=True)"
   ]
  },
  {
   "cell_type": "code",
   "execution_count": null,
   "metadata": {
    "ExecuteTime": {
     "end_time": "2019-10-15T20:27:45.734775Z",
     "start_time": "2019-10-15T20:27:43.206630Z"
    },
    "id": "5HMT8lmqhHQG"
   },
   "outputs": [],
   "source": [
    "trace0 = go.Scatter(\n",
    "    x = principal_df['principal component 1'],\n",
    "    y = principal_df['principal component 2'],\n",
    "    text=principal_df['Nazwa'],\n",
    "    textposition=\"top center\",\n",
    "    name = 'Piony',\n",
    "    mode = 'markers+text',\n",
    "    marker = dict(\n",
    "        size = 10,\n",
    "        color = 'rgb(228,26,28)',\n",
    "        line = dict(\n",
    "            width = 1,\n",
    "            color = 'rgb(0, 0, 0)'\n",
    "        )\n",
    "    )\n",
    ")\n",
    "\n",
    "data = [trace0]\n",
    "\n",
    "layout = dict(title = 'Podobieństwo Banków na podstawie PCA',\n",
    "              yaxis = dict(zeroline = False, title ='PC2 (principal component 2)'),\n",
    "              xaxis = dict(zeroline = False, title ='PC1 (principal component 1)')\n",
    "             )\n",
    "\n",
    "fig = dict(data=data, layout=layout)\n",
    "iplot(fig, filename='styled-scatter')"
   ]
  },
  {
   "cell_type": "markdown",
   "metadata": {
    "ExecuteTime": {
     "end_time": "2019-06-24T14:21:29.562934Z",
     "start_time": "2019-06-24T14:21:29.557924Z"
    },
    "id": "wu1wD3HZhHQH"
   },
   "source": [
    "#### PCA - jak dobrać liczbę komponentów? "
   ]
  },
  {
   "cell_type": "markdown",
   "metadata": {
    "id": "w4gJwjqDhHQH"
   },
   "source": [
    "Pierwszym ze sposób jest wizualizacja skumulowanej wartości wariancji w zależności od liczby komponentów. Z wykresu można  odczytać, że 4 pierwszych czynników może wyjaśnić ponad 95% całkowitej wariancji.  "
   ]
  },
  {
   "cell_type": "code",
   "execution_count": null,
   "metadata": {
    "ExecuteTime": {
     "end_time": "2019-10-15T20:27:46.050797Z",
     "start_time": "2019-10-15T20:27:45.738775Z"
    },
    "id": "q7wV_gxEhHQI"
   },
   "outputs": [],
   "source": [
    "import numpy as np\n",
    "\n",
    "pca = PCA().fit(df.loc[:, exclude_filter])\n",
    "plt.figure(figsize=(10,6))\n",
    "plt.plot(np.cumsum(pca.explained_variance_ratio_))\n",
    "plt.xlabel('number of components')\n",
    "plt.ylabel('cumulative explained variance');"
   ]
  },
  {
   "cell_type": "markdown",
   "metadata": {
    "id": "x0zo53gMhHQI"
   },
   "source": [
    "##### Wykorzystanie parametru svd_solver.\n",
    "\n",
    "Jeżeli **0 < *n_components* < 1** oraz ***svd_solver = 'full'*** to funkcja PCA wybiera liczbę komponentów, tak aby wielkość wariancji, którą należy wyjaśnić, była większa niż procent określony przez *n_components*."
   ]
  },
  {
   "cell_type": "code",
   "execution_count": null,
   "metadata": {
    "ExecuteTime": {
     "end_time": "2019-10-15T20:27:46.090794Z",
     "start_time": "2019-10-15T20:27:46.054791Z"
    },
    "id": "3rwj3KOPhHQJ"
   },
   "outputs": [],
   "source": [
    "pca = PCA(svd_solver='full', n_components=0.95)\n",
    "\n",
    "principal_components = pca.fit_transform(df.loc[:, exclude_filter])\n",
    "principal_df = pd.DataFrame(data=principal_components)\n",
    "principal_df.head()"
   ]
  },
  {
   "cell_type": "code",
   "execution_count": null,
   "metadata": {
    "id": "2VbnBRFbhHQJ"
   },
   "outputs": [],
   "source": []
  }
 ],
 "metadata": {
  "colab": {
   "provenance": []
  },
  "kernelspec": {
   "display_name": "Python 3 (ipykernel)",
   "language": "python",
   "name": "python3"
  },
  "language_info": {
   "codemirror_mode": {
    "name": "ipython",
    "version": 3
   },
   "file_extension": ".py",
   "mimetype": "text/x-python",
   "name": "python",
   "nbconvert_exporter": "python",
   "pygments_lexer": "ipython3",
   "version": "3.9.12"
  },
  "toc": {
   "base_numbering": 1,
   "nav_menu": {},
   "number_sections": true,
   "sideBar": true,
   "skip_h1_title": false,
   "title_cell": "Table of Contents",
   "title_sidebar": "Contents",
   "toc_cell": false,
   "toc_position": {},
   "toc_section_display": true,
   "toc_window_display": false
  },
  "varInspector": {
   "cols": {
    "lenName": 16,
    "lenType": 16,
    "lenVar": 40
   },
   "kernels_config": {
    "python": {
     "delete_cmd_postfix": "",
     "delete_cmd_prefix": "del ",
     "library": "var_list.py",
     "varRefreshCmd": "print(var_dic_list())"
    },
    "r": {
     "delete_cmd_postfix": ") ",
     "delete_cmd_prefix": "rm(",
     "library": "var_list.r",
     "varRefreshCmd": "cat(var_dic_list()) "
    }
   },
   "types_to_exclude": [
    "module",
    "function",
    "builtin_function_or_method",
    "instance",
    "_Feature"
   ],
   "window_display": false
  }
 },
 "nbformat": 4,
 "nbformat_minor": 1
}
