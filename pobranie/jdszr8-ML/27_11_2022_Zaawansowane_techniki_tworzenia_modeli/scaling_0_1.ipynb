{
 "cells": [
  {
   "cell_type": "markdown",
   "metadata": {},
   "source": [
    "### Skalowanie cech\n",
    "\n",
    "Skalowanie wartości cechy wykonuje się nastepująco:\n",
    "Obliczenie wartości minimalnej $X_{min}$ i maksymalnej $X_{max}$ cechy i przeskalowanie wartości do zakresu [0;1]\n",
    "$$X_{[0;1]} = \\frac{X-X_{min}}{X_{max}-X{min}}$$\n",
    "\n",
    "Nastepnie przeskalowanie otrzymanych wartości z zakresu [0;1] do żądanego nowego zakresu $[X_{s,min};X_{s,max}]$:\n",
    "\n",
    "$$X_s = X_{[0;1]}\\cdot(X_{s,max}-X_{s,min}) + X_{s,min}$$\n",
    "\n",
    "Skalowanie cech polega na przeliczeniu wartości cechy na wartości z danego zakresu, zwykle od 0 do 1 (wówczas $X_s=X_{[0;1]}$). Operację taką wykonuje się, gdyż w przypadku części modeli ML, większe wartości oznaczają bardziej istotny wpływ cechy na wynik predykcji. Jest to także istotne w przypadku algorytmów klasteryzacji, które posługują się odległością między punktami danych. W takim przypadku cecha, której zakres wartości to [-200;200] będzie wywierała znacznie większy wpływ na wynik grupowania niż cecha o zakresie wartości [-1;1]. \n",
    "\n",
    "Oczywiście niekiedy taka sytuacja moze być pożądana. Wówczas różne cechy można skalować w różny sposób np. [-1;1],[-5;5], itd., lub pozostawić bez skalowania.\n",
    "\n",
    "Moduł scikit-learn oferuje tę funkcjonalność w postaci obiektu [MinMaxScaler](https://scikit-learn.org/stable/modules/generated/sklearn.preprocessing.MinMaxScaler.html)"
   ]
  },
  {
   "cell_type": "code",
   "execution_count": 1,
   "metadata": {},
   "outputs": [],
   "source": [
    "import numpy as np\n",
    "from sklearn.preprocessing import MinMaxScaler"
   ]
  },
  {
   "cell_type": "code",
   "execution_count": 2,
   "metadata": {},
   "outputs": [],
   "source": [
    "?MinMaxScaler"
   ]
  },
  {
   "cell_type": "markdown",
   "metadata": {},
   "source": [
    "#### Przykład dla pojedynczej cechy (kolumny danych)\n",
    "\n",
    "Poniżej utworzona zostanie macierz zawierająca liczby zmienno przecinkowe."
   ]
  },
  {
   "cell_type": "code",
   "execution_count": 3,
   "metadata": {},
   "outputs": [
    {
     "data": {
      "text/plain": [
       "(5, 1)"
      ]
     },
     "execution_count": 3,
     "metadata": {},
     "output_type": "execute_result"
    }
   ],
   "source": [
    "x = np.array([0.1, 10., 15., -5.1, 6.2], ndmin=2).transpose()\n",
    "x.shape"
   ]
  },
  {
   "cell_type": "code",
   "execution_count": 4,
   "metadata": {},
   "outputs": [
    {
     "data": {
      "text/plain": [
       "array([[ 0.1],\n",
       "       [10. ],\n",
       "       [15. ],\n",
       "       [-5.1],\n",
       "       [ 6.2]])"
      ]
     },
     "execution_count": 4,
     "metadata": {},
     "output_type": "execute_result"
    }
   ],
   "source": [
    "x"
   ]
  },
  {
   "cell_type": "markdown",
   "metadata": {},
   "source": [
    "Utworzenie obiektu klasy `MinMaxScaler` wykonuje się poprzez konstruktor klasy `MinMaxScaler`. "
   ]
  },
  {
   "cell_type": "code",
   "execution_count": 18,
   "metadata": {},
   "outputs": [],
   "source": [
    "my_scaler = MinMaxScaler(clip=True)"
   ]
  },
  {
   "cell_type": "markdown",
   "metadata": {},
   "source": [
    "W chwili obecnej obiekt `my_scaler` jest \"pusty\" i nie zawiera żadnych danych. W celu jego pełnego określenia należy użyć metody `fit`, a jako argumentu użyć macierzy z wartościami."
   ]
  },
  {
   "cell_type": "code",
   "execution_count": 19,
   "metadata": {},
   "outputs": [
    {
     "data": {
      "text/plain": [
       "MinMaxScaler(clip=True)"
      ]
     },
     "execution_count": 19,
     "metadata": {},
     "output_type": "execute_result"
    }
   ],
   "source": [
    "my_scaler.fit(x)"
   ]
  },
  {
   "cell_type": "markdown",
   "metadata": {},
   "source": [
    "W pełni określony scaler posiada pola charakteryzujące dane wejściowe, np. wartość maksymalną i minimalną:"
   ]
  },
  {
   "cell_type": "code",
   "execution_count": 20,
   "metadata": {},
   "outputs": [
    {
     "data": {
      "text/plain": [
       "[array([-5.1]), array([15.])]"
      ]
     },
     "execution_count": 20,
     "metadata": {},
     "output_type": "execute_result"
    }
   ],
   "source": [
    "[my_scaler.data_min_, my_scaler.data_max_]"
   ]
  },
  {
   "cell_type": "markdown",
   "metadata": {},
   "source": [
    "W celu dokonania transformacji danych zgodnie z zasadami określonymi przez `my_scaler` należy użyć metody `transform`. Poniżej zastosowanie tej metody do tablicy x, na podstawie, której utworzono scaler:"
   ]
  },
  {
   "cell_type": "code",
   "execution_count": 21,
   "metadata": {},
   "outputs": [
    {
     "data": {
      "text/plain": [
       "array([[0.25870647],\n",
       "       [0.75124378],\n",
       "       [1.        ],\n",
       "       [0.        ],\n",
       "       [0.56218905]])"
      ]
     },
     "execution_count": 21,
     "metadata": {},
     "output_type": "execute_result"
    }
   ],
   "source": [
    "xs = my_scaler.transform(x)\n",
    "xs"
   ]
  },
  {
   "cell_type": "markdown",
   "metadata": {},
   "source": [
    "Poniżej wykonano skalowanie dla nowych danych (np. zbiór testowy):"
   ]
  },
  {
   "cell_type": "code",
   "execution_count": 22,
   "metadata": {},
   "outputs": [
    {
     "data": {
      "text/plain": [
       "array([[ 5.],\n",
       "       [ 2.],\n",
       "       [-6.],\n",
       "       [16.]])"
      ]
     },
     "execution_count": 22,
     "metadata": {},
     "output_type": "execute_result"
    }
   ],
   "source": [
    "x_nowy = np.array([5., 2., -6, 16.],ndmin=2).transpose()\n",
    "x_nowy"
   ]
  },
  {
   "cell_type": "markdown",
   "metadata": {},
   "source": [
    "Transformacja nowych danych.\n",
    "\n",
    "**Uwaga:** W przypadku wprowadzania nowych danych, które zawierają wartości większe (mniejsze) od maksimum (minimum) zaobserwowanego w danych zwrócone wartości moga okazać się większe (mniejsze) od założonych granic, tu: [0;1]. Jest to poprawne. Jeżeli wartości mają być przycięte do danego zakresu to w konsruktorze należy przekazac argument `clip=True`: `my_scaler = MinMaxScaler(clip=True)` (od wersji sklearn 0.24)"
   ]
  },
  {
   "cell_type": "code",
   "execution_count": 17,
   "metadata": {},
   "outputs": [
    {
     "data": {
      "text/plain": [
       "array([[ 0.50248756],\n",
       "       [ 0.35323383],\n",
       "       [-0.04477612],\n",
       "       [ 1.04975124]])"
      ]
     },
     "execution_count": 17,
     "metadata": {},
     "output_type": "execute_result"
    }
   ],
   "source": [
    "x_nowy_s = my_scaler.transform(x_nowy)\n",
    "x_nowy_s"
   ]
  },
  {
   "cell_type": "markdown",
   "metadata": {},
   "source": [
    "#### MinMaxScaler może działać na więcej niż jednej kolumnie, wówczas skaluje każdą cechę niezależnie"
   ]
  },
  {
   "cell_type": "code",
   "execution_count": 23,
   "metadata": {},
   "outputs": [
    {
     "data": {
      "text/plain": [
       "array([[ 2.000e+00,  1.000e-01],\n",
       "       [ 6.000e+00,  1.000e-02],\n",
       "       [ 2.000e+02,  2.000e-02],\n",
       "       [-4.500e+02,  2.000e-02],\n",
       "       [ 1.050e+02,  1.000e-02],\n",
       "       [ 3.441e+02,  4.000e-02],\n",
       "       [-3.300e+01,  3.200e-02]])"
      ]
     },
     "execution_count": 23,
     "metadata": {},
     "output_type": "execute_result"
    }
   ],
   "source": [
    "X = np.array([[ 2. , 6.  , 200.  , -450.,  105.  , 344.1, -33.],\n",
    "              [ 0.1, 0.01,   0.02,    0.02,  0.01,   0.04,  0.032]]).transpose()\n",
    "X"
   ]
  },
  {
   "cell_type": "markdown",
   "metadata": {},
   "source": [
    "Utworzenie nowego scalera i wypisanie wartości minimalnych i maksymalnych"
   ]
  },
  {
   "cell_type": "code",
   "execution_count": 28,
   "metadata": {},
   "outputs": [
    {
     "data": {
      "text/plain": [
       "[array([-4.5e+02,  1.0e-02]), array([3.441e+02, 1.000e-01])]"
      ]
     },
     "execution_count": 28,
     "metadata": {},
     "output_type": "execute_result"
    }
   ],
   "source": [
    "my_scaler1 = MinMaxScaler(clip=True)\n",
    "my_scaler1.fit(X)\n",
    "[my_scaler1.data_min_, my_scaler1.data_max_]"
   ]
  },
  {
   "cell_type": "code",
   "execution_count": 29,
   "metadata": {},
   "outputs": [
    {
     "data": {
      "text/plain": [
       "array([[0.56919783, 1.        ],\n",
       "       [0.57423498, 0.        ],\n",
       "       [0.81853671, 0.11111111],\n",
       "       [0.        , 0.11111111],\n",
       "       [0.69890442, 0.        ],\n",
       "       [1.        , 0.33333333],\n",
       "       [0.52512278, 0.24444444]])"
      ]
     },
     "execution_count": 29,
     "metadata": {},
     "output_type": "execute_result"
    }
   ],
   "source": [
    "Xs = my_scaler1.transform(X)\n",
    "Xs"
   ]
  },
  {
   "cell_type": "markdown",
   "metadata": {},
   "source": [
    "Poniżej wykonano skalowanie dla nowych danych (np. zbiór testowy):"
   ]
  },
  {
   "cell_type": "code",
   "execution_count": 30,
   "metadata": {},
   "outputs": [
    {
     "data": {
      "text/plain": [
       "array([[ 1.00e+02,  1.00e-03],\n",
       "       [ 4.50e+01,  1.10e-01],\n",
       "       [-1.02e+02,  1.25e-01]])"
      ]
     },
     "execution_count": 30,
     "metadata": {},
     "output_type": "execute_result"
    }
   ],
   "source": [
    "X_nowy =  np.array([[100.,   45., -102.],\n",
    "                    [  0.001, 0.11,  0.125 ]]).transpose()\n",
    "X_nowy"
   ]
  },
  {
   "cell_type": "code",
   "execution_count": 31,
   "metadata": {},
   "outputs": [
    {
     "data": {
      "text/plain": [
       "array([[0.69260798, 0.        ],\n",
       "       [0.62334719, 1.        ],\n",
       "       [0.43823196, 1.        ]])"
      ]
     },
     "execution_count": 31,
     "metadata": {},
     "output_type": "execute_result"
    }
   ],
   "source": [
    "X_nowy_s = my_scaler1.transform(X_nowy)\n",
    "X_nowy_s"
   ]
  },
  {
   "cell_type": "markdown",
   "metadata": {},
   "source": [
    "### Skalowane kolumn do różnych zakresów\n",
    "\n",
    "W części modeli możliwe jest wpynięcie na istotność cechy poprzez zmianę jej zakresu. Zazwyczaj cecha o większym zakresie będzie ważniejsza (np. będzie miała większy wpływ na obliczenie odległości między punktami). W takim przypadku możliwe jest przeskalowanie różnych cech do różnych zakresów wartości.\n",
    "\n",
    "Poniżej utworzono dwa różne slcalery i przeskalowano każdą kolumnę oddzielnie, a następnie dokonano konkatenacji nowych kolumn."
   ]
  },
  {
   "cell_type": "code",
   "execution_count": 32,
   "metadata": {},
   "outputs": [
    {
     "data": {
      "text/plain": [
       "array([[ 2.000e+00,  1.000e-01],\n",
       "       [ 6.000e+00,  1.000e-02],\n",
       "       [ 2.000e+02,  2.000e-02],\n",
       "       [-4.500e+02,  2.000e-02],\n",
       "       [ 1.050e+02,  1.000e-02],\n",
       "       [ 3.441e+02,  4.000e-02],\n",
       "       [-3.300e+01,  3.200e-02]])"
      ]
     },
     "execution_count": 32,
     "metadata": {},
     "output_type": "execute_result"
    }
   ],
   "source": [
    "X = np.array([[ 2. , 6.  , 200.  , -450.,  105.  , 344.1, -33.],\n",
    "              [ 0.1, 0.01,   0.02,    0.02,  0.01,   0.04,  0.032]]).transpose()\n",
    "X"
   ]
  },
  {
   "cell_type": "code",
   "execution_count": 33,
   "metadata": {},
   "outputs": [],
   "source": [
    "my_scalerA = MinMaxScaler(feature_range=(-1,1))\n",
    "my_scalerB = MinMaxScaler(feature_range=(-10,10))"
   ]
  },
  {
   "cell_type": "code",
   "execution_count": 34,
   "metadata": {},
   "outputs": [
    {
     "data": {
      "text/plain": [
       "array([[   2. ],\n",
       "       [   6. ],\n",
       "       [ 200. ],\n",
       "       [-450. ],\n",
       "       [ 105. ],\n",
       "       [ 344.1],\n",
       "       [ -33. ]])"
      ]
     },
     "execution_count": 34,
     "metadata": {},
     "output_type": "execute_result"
    }
   ],
   "source": [
    "X[:,0].reshape((-1,1))"
   ]
  },
  {
   "cell_type": "code",
   "execution_count": 35,
   "metadata": {},
   "outputs": [
    {
     "data": {
      "text/plain": [
       "MinMaxScaler(feature_range=(-1, 1))"
      ]
     },
     "execution_count": 35,
     "metadata": {},
     "output_type": "execute_result"
    }
   ],
   "source": [
    "my_scalerA.fit(X[:,0].reshape((-1,1)))"
   ]
  },
  {
   "cell_type": "code",
   "execution_count": 36,
   "metadata": {},
   "outputs": [
    {
     "data": {
      "text/plain": [
       "MinMaxScaler(feature_range=(-10, 10))"
      ]
     },
     "execution_count": 36,
     "metadata": {},
     "output_type": "execute_result"
    }
   ],
   "source": [
    "my_scalerB.fit(X[:,1].reshape((-1,1)))"
   ]
  },
  {
   "cell_type": "code",
   "execution_count": 37,
   "metadata": {},
   "outputs": [
    {
     "data": {
      "text/plain": [
       "array([[  0.13839567,  10.        ],\n",
       "       [  0.14846997, -10.        ],\n",
       "       [  0.63707342,  -7.77777778],\n",
       "       [ -1.        ,  -7.77777778],\n",
       "       [  0.39780884, -10.        ],\n",
       "       [  1.        ,  -3.33333333],\n",
       "       [  0.05024556,  -5.11111111]])"
      ]
     },
     "execution_count": 37,
     "metadata": {},
     "output_type": "execute_result"
    }
   ],
   "source": [
    "Xs1 = np.concatenate((my_scalerA.transform(X[:,0].reshape((-1,1))), my_scalerB.transform(X[:,1].reshape((-1,1)))),axis=1)\n",
    "Xs1"
   ]
  }
 ],
 "metadata": {
  "kernelspec": {
   "display_name": "Python 3 (ipykernel)",
   "language": "python",
   "name": "python3"
  },
  "language_info": {
   "codemirror_mode": {
    "name": "ipython",
    "version": 3
   },
   "file_extension": ".py",
   "mimetype": "text/x-python",
   "name": "python",
   "nbconvert_exporter": "python",
   "pygments_lexer": "ipython3",
   "version": "3.9.12"
  },
  "toc": {
   "base_numbering": 1,
   "nav_menu": {},
   "number_sections": false,
   "sideBar": false,
   "skip_h1_title": false,
   "title_cell": "Table of Contents",
   "title_sidebar": "Contents",
   "toc_cell": true,
   "toc_position": {},
   "toc_section_display": true,
   "toc_window_display": false
  }
 },
 "nbformat": 4,
 "nbformat_minor": 4
}
