{
 "cells": [
  {
   "cell_type": "markdown",
   "metadata": {
    "id": "r0YSVzW8g5F8",
    "toc": true
   },
   "source": [
    "<h1>Table of Contents<span class=\"tocSkip\"></span></h1>\n",
    "<div class=\"toc\"><ul class=\"toc-item\"><li><span><a href=\"#Normalizacja\" data-toc-modified-id=\"Normalizacja-1\">Normalizacja</a></span><ul class=\"toc-item\"><li><span><a href=\"#Wartości-odstające\" data-toc-modified-id=\"Wartości-odstające-1.1\">Wartości odstające</a></span></li><li><span><a href=\"#Klasyfikacja\" data-toc-modified-id=\"Klasyfikacja-1.2\">Klasyfikacja</a></span></li>"
   ]
  },
  {
   "cell_type": "markdown",
   "metadata": {
    "id": "Cs2uz5M1g5F-"
   },
   "source": [
    "## Normalizacja"
   ]
  },
  {
   "cell_type": "markdown",
   "metadata": {
    "id": "YGlj5gczg5GC"
   },
   "source": [
    "### Wartości odstające"
   ]
  },
  {
   "cell_type": "markdown",
   "metadata": {
    "id": "_mfukmqdg5GC"
   },
   "source": [
    "**Obserwacja odstająca**, element odstający (ang. **outlier**) – obserwacja relatywnie odległa od pozostałych elementów próby."
   ]
  },
  {
   "cell_type": "markdown",
   "metadata": {
    "id": "yH5Y0wYrg5GD"
   },
   "source": [
    "https://upload.wikimedia.org/wikipedia/commons/thumb/d/d1/Elements_of_a_boxplot_en.svg/2560px-Elements_of_a_boxplot_en.svg.png"
   ]
  },
  {
   "cell_type": "markdown",
   "metadata": {
    "id": "Tig3DmFTg5GF"
   },
   "source": [
    "**IQR** (od ang. interquartile range) - rozstęp ćwiartkowy, rozstęp międzykwartylowy - różnica między trzecim a pierwszym kwartylem."
   ]
  },
  {
   "cell_type": "code",
   "execution_count": null,
   "metadata": {
    "id": "8Rrz34kYg5GF"
   },
   "outputs": [],
   "source": [
    "import numpy as np\n",
    "from scipy.stats import iqr"
   ]
  },
  {
   "cell_type": "markdown",
   "metadata": {
    "id": "Bxa4TMPpg5GH"
   },
   "source": [
    "### Klasyfikacja\n",
    "\n",
    "Wykorzystamy zestaw danych dotyczącego win. Niestety, klasy są nieopisane, więc nie możemy nadać sensownej interpretacji tym klasom, ale wnioskować można, czy klasy są możliwe do opisania na podstawie danych."
   ]
  },
  {
   "cell_type": "code",
   "execution_count": null,
   "metadata": {
    "id": "c1tpRhyGg5GI"
   },
   "outputs": [],
   "source": [
    "from sklearn.datasets import load_wine\n",
    "\n",
    "import pandas as pd\n",
    "import numpy as np\n",
    "\n",
    "from sklearn import preprocessing\n",
    "from matplotlib import pyplot as plt"
   ]
  },
  {
   "cell_type": "code",
   "execution_count": null,
   "metadata": {
    "id": "eiepCQuhg5GI"
   },
   "outputs": [],
   "source": [
    "data = load_wine()\n",
    "print(data.DESCR)"
   ]
  },
  {
   "cell_type": "code",
   "execution_count": null,
   "metadata": {
    "id": "mga3K7zmg5GJ"
   },
   "outputs": [],
   "source": [
    "# Przygotowanie pandasowej ramki danych\n",
    "df = pd.DataFrame(data.data, columns = data.feature_names)\n",
    "df.head()"
   ]
  },
  {
   "cell_type": "code",
   "execution_count": null,
   "metadata": {
    "id": "N2bSlIyhg5GK"
   },
   "outputs": [],
   "source": [
    "cols = ['alcohol', 'malic_acid']\n",
    "## Normalizacja do rozkładu normalnego (wiekszość algorytmów wymaga takiego dostosowania)\n",
    "std_scale = preprocessing.StandardScaler().fit(df[cols])\n",
    "df_std = std_scale.transform(df[cols])\n",
    "\n",
    "## Normalizacja do zakresu (podatne na wartości odstające, nieco prostsze obliczeniowo)\n",
    "minmax_scale = preprocessing.MinMaxScaler().fit(df[cols])\n",
    "df_minmax = minmax_scale.transform(df[cols])"
   ]
  },
  {
   "cell_type": "markdown",
   "metadata": {
    "id": "Bx2_rYSTg5GL"
   },
   "source": [
    "Normalizacja jest niezbędnym krokiem. Miary mają sens, gdy zakładamy równą ważność każdej zmiennej, a jeżeli zmienne mają różną skalę, ich wpływ na wartość funkcji dystansu jest zróznicowany - co powoduje, że konkretna zmienna będzie bardziej istotna w klasyfikacji. Aby uniknąć tego efektu (czasem może on być pożądany), należy doprowadzić do sytuacji, gdzie wszystkie zmienne mają taką samą skalę. Proces ten nazywamy normalizacją.\n",
    "\n",
    "Najczęstsze dwa sposoby normalizacji danych to liniowe skalowanie każdej zmiennej do określonego zakresu (skalowanie min-max, zaimplementowane przez klasę `MinMaxScaler`), oraz przeskalowanie danych w taki sposób, aby miały średnią i wariancję odpowiednio (0, 1). Ten drugi sposób nazywa się standaryzacją danych.\n",
    "\n",
    "Zobaczmy, jak będą wyglądały statystyki dwóch wybranych zmiennych po zastosowaniu normalizacji."
   ]
  },
  {
   "cell_type": "code",
   "execution_count": null,
   "metadata": {
    "id": "2P6faT-Jg5GL"
   },
   "outputs": [],
   "source": [
    "print('original \\n', pd.DataFrame(df[cols]).describe(), '\\n')\n",
    "print('min max \\n', pd.DataFrame(df_minmax).describe(), '\\n')\n",
    "print('z score \\n', pd.DataFrame(df_std).describe(), '\\n')"
   ]
  },
  {
   "cell_type": "markdown",
   "metadata": {
    "id": "KCjIUr9Vg5GM"
   },
   "source": [
    "Aby poprawić naszą intuicję, zwizualizujmy jak układają się znormalizowane zestawy danych na układzie współrzędnych. Zauważ, jakie są centra każdej z chmur punktów oraz jakie są granice danych znormalizowanych przez min-max."
   ]
  },
  {
   "cell_type": "code",
   "execution_count": null,
   "metadata": {
    "id": "FzJxYHjGg5GM"
   },
   "outputs": [],
   "source": [
    "# Jak poszczególne metryki wpływają na zachowanie naszego zbioru danych?\n",
    "\n",
    "plt.figure(figsize=(12,8))\n",
    "\n",
    "plt.scatter(df['alcohol'], df['malic_acid'],\n",
    "        color='green', label='input scale', alpha=0.5)\n",
    "\n",
    "plt.scatter(df_std[:,0], df_std[:,1], color='red',\n",
    "        label='Standardized', alpha=0.3)\n",
    "\n",
    "plt.scatter(df_minmax[:,0], df_minmax[:,1],\n",
    "        color='blue', label='min-max scaled', alpha=0.3)\n",
    "\n",
    "plt.title('alcohol and malic_acid content of the wine dataset')\n",
    "plt.xlabel('alcohol')\n",
    "plt.ylabel('malic_acid')\n",
    "plt.legend(loc='upper left')\n",
    "plt.grid()\n",
    "\n",
    "plt.tight_layout()\n",
    "plt.show()"
   ]
  },
  {
   "cell_type": "markdown",
   "metadata": {
    "id": "g7Ej7nqDg5GM"
   },
   "source": [
    "Istotną wadą min-max jest podatność na wartości odstające. Zwróć uwagę na to, jak dodanie nowej obserwacji bardzo mocno ogranicza zakres wartości min-max, natomiast prawie nie wpływa na ustandaryzowaną chmurę punktów."
   ]
  },
  {
   "cell_type": "code",
   "execution_count": null,
   "metadata": {
    "id": "RDTEi6gYg5GN"
   },
   "outputs": [],
   "source": [
    "# Dodajmy punkt odstający\n",
    "new_df = df[cols].append([{\"alcohol\": 20, \"malic_acid\": 8}])\n",
    "\n",
    "new_df_std = preprocessing.StandardScaler().fit_transform(new_df)\n",
    "new_df_minmax = preprocessing.MinMaxScaler().fit_transform(new_df)"
   ]
  },
  {
   "cell_type": "code",
   "execution_count": null,
   "metadata": {
    "id": "D7LRZxUog5GN"
   },
   "outputs": [],
   "source": [
    "plt.figure(figsize=(12,8))\n",
    "\n",
    "plt.scatter(new_df['alcohol'], new_df['malic_acid'],\n",
    "        color='green', label='input scale', alpha=0.5)\n",
    "\n",
    "plt.scatter(new_df_std[:,0], new_df_std[:,1], color='red',\n",
    "        label='Standardized', alpha=0.3)\n",
    "\n",
    "plt.scatter(new_df_minmax[:,0], new_df_minmax[:,1],\n",
    "        color='blue', label='min-max scaled', alpha=0.3)\n",
    "\n",
    "plt.title('alcohol and malic_acid content of the wine dataset')\n",
    "plt.xlabel('alcohol')\n",
    "plt.ylabel('malic_acid')\n",
    "plt.legend(loc='upper left')\n",
    "\n",
    "plt.grid()\n",
    "\n",
    "plt.tight_layout()\n",
    "plt.show()"
   ]
  },
  {
   "cell_type": "markdown",
   "metadata": {
    "id": "oMKsL-mtg5GO"
   },
   "source": [
    "Procedurą, którą należałoby zastosować jest odcięcie wartości odstających - da to pewność, że większość danych znajdzie się w oczekiwanym zakresie danych. Najprostszym sposobem jest odcięcie wartości wzdłuż każdej osi, które nie mieszczą się w określonym zakresie.\n",
    "\n",
    "Na naszych zajęciach poznamy dwie metody - poniżej opisane jest odcinanie wartości leżących powyżej kilku odchyleń standardowych w naszym zestawie danych oraz metoda oparta o dystans między kwartylami (dla przypomnienia, pierwszy i trzeci kwartyl to wartości, które są większe lub równe 25% i 75% danych).\n",
    "\n",
    "Istnieją także bardziej zaawansowane metody odcinania wartości odstających, opisane tu: https://scikit-learn.org/stable/modules/outlier_detection.html"
   ]
  },
  {
   "cell_type": "code",
   "execution_count": null,
   "metadata": {
    "id": "uN5Hjrlhg5GO"
   },
   "outputs": [],
   "source": [
    "### Usunięcie wartości odstających - trzy odchylenia standardowe\n",
    "\n",
    "def rm_out(df):\n",
    "    df_out = df.copy()\n",
    "    means, stdevs = {}, {}\n",
    "    for column in df_out.columns:\n",
    "        means[column] = df_out[column].mean()\n",
    "        stdevs[column] = df_out[column].std()\n",
    "    for column in df_out.columns:\n",
    "        lower = means[column] - 3 * stdevs[column]\n",
    "        upper = means[column] + 3 * stdevs[column]\n",
    "        index = (lower < df_out[column]) & (df_out[column] < upper)\n",
    "        df_out = df_out[index]\n",
    "    df_out.index = range(len(df_out))\n",
    "    return df_out"
   ]
  },
  {
   "cell_type": "markdown",
   "metadata": {
    "id": "BcfZbjakg5GP"
   },
   "source": [
    "Usunięcie wartości odstających pozwala nam spodziewać się, że obydwa sposoby normalizacji przeskalują nasze dane we w miarę jednolity sposób."
   ]
  },
  {
   "cell_type": "code",
   "execution_count": null,
   "metadata": {
    "id": "C1TtjCrXg5GP"
   },
   "outputs": [],
   "source": [
    "clipped_df = rm_out(new_df)\n",
    "clipped_df_std = preprocessing.StandardScaler().fit_transform(clipped_df)\n",
    "clipped_df_minmax = preprocessing.MinMaxScaler().fit_transform(clipped_df)\n",
    "\n",
    "plt.figure(figsize=(12,8))\n",
    "plt.scatter(clipped_df['alcohol'], clipped_df['malic_acid'],\n",
    "        color='green', label='input scale', alpha=0.5)\n",
    "\n",
    "plt.scatter(clipped_df_std[:,0], clipped_df_std[:,1], color='red',\n",
    "        label='Standardized', alpha=0.3)\n",
    "\n",
    "plt.scatter(clipped_df_minmax[:,0], clipped_df_minmax[:,1],\n",
    "        color='blue', label='min-max scaled', alpha=0.3)\n",
    "\n",
    "plt.title('alcohol and malic_acid content of the wine dataset')\n",
    "plt.xlabel('alcohol')\n",
    "plt.ylabel('malic_acid')\n",
    "plt.legend(loc='upper left')\n",
    "plt.grid()\n",
    "\n",
    "plt.tight_layout()\n",
    "plt.show()"
   ]
  }
 ],
 "metadata": {
  "colab": {
   "provenance": []
  },
  "kernelspec": {
   "display_name": "Python 3 (ipykernel)",
   "language": "python",
   "name": "python3"
  },
  "language_info": {
   "codemirror_mode": {
    "name": "ipython",
    "version": 3
   },
   "file_extension": ".py",
   "mimetype": "text/x-python",
   "name": "python",
   "nbconvert_exporter": "python",
   "pygments_lexer": "ipython3",
   "version": "3.9.12"
  },
  "toc": {
   "base_numbering": 1,
   "nav_menu": {},
   "number_sections": false,
   "sideBar": false,
   "skip_h1_title": false,
   "title_cell": "Table of Contents",
   "title_sidebar": "Contents",
   "toc_cell": true,
   "toc_position": {},
   "toc_section_display": true,
   "toc_window_display": false
  }
 },
 "nbformat": 4,
 "nbformat_minor": 1
}
