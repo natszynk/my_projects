{
 "cells": [
  {
   "cell_type": "markdown",
   "metadata": {},
   "source": [
    "### Standaryzacja cech\n",
    "\n",
    "Standaryzacja polega na odjęciu od każdego elementu cechy jej średniej i podzieleniu przez odchylenie standardowe, zgodnie ze wzorem: \n",
    "\n",
    "$$u=\\frac{X-\\bar{X}}{s}$$ "
   ]
  },
  {
   "cell_type": "code",
   "execution_count": null,
   "metadata": {},
   "outputs": [],
   "source": [
    "import numpy as np\n",
    "from sklearn.preprocessing import StandardScaler"
   ]
  },
  {
   "cell_type": "markdown",
   "metadata": {},
   "source": [
    "#### Przykład dla pojedynczej cechy (kolumny danych)\n",
    "\n",
    "Poniżej utworzona zostanie macierz zawierająca liczby zmienno przecinkowe."
   ]
  },
  {
   "cell_type": "code",
   "execution_count": null,
   "metadata": {},
   "outputs": [],
   "source": [
    "x = np.array([0.1, 10., 15., -5.1, 6.2], ndmin=2).transpose()\n",
    "x.shape"
   ]
  },
  {
   "cell_type": "code",
   "execution_count": null,
   "metadata": {},
   "outputs": [],
   "source": [
    "x"
   ]
  },
  {
   "cell_type": "markdown",
   "metadata": {},
   "source": [
    "Utworzenie obiektu klasy `StandardScaler` wykonuje się poprzez konstruktor klasy `StandardScaler`. "
   ]
  },
  {
   "cell_type": "code",
   "execution_count": null,
   "metadata": {},
   "outputs": [],
   "source": [
    "my_scaler = StandardScaler()"
   ]
  },
  {
   "cell_type": "markdown",
   "metadata": {},
   "source": [
    "W chwili obecnej obiekt `my_scaler` jest \"pusty\" i nie zawiera żadnych danych. W celu jego pełnego określenia należy użyć metody `fit`, a jako argumentu użyć macierzy z wartościami."
   ]
  },
  {
   "cell_type": "code",
   "execution_count": null,
   "metadata": {},
   "outputs": [],
   "source": [
    "my_scaler.fit(x)"
   ]
  },
  {
   "cell_type": "markdown",
   "metadata": {},
   "source": [
    "W pełni określony scaler posiada pola charakteryzujące dane wejściowe, np. średnią oraz wariancję:"
   ]
  },
  {
   "cell_type": "code",
   "execution_count": null,
   "metadata": {},
   "outputs": [],
   "source": [
    "[my_scaler.mean_, my_scaler.var_]"
   ]
  },
  {
   "cell_type": "markdown",
   "metadata": {},
   "source": [
    "W celu dokonania transformacji danych zgodnie z zasadami określonymi przez `my_scaler` należy użyć metody `transform`. Poniżej zastosowanie tej metody do tablicy x, na podstawie, której utworzono scaler:"
   ]
  },
  {
   "cell_type": "code",
   "execution_count": null,
   "metadata": {},
   "outputs": [],
   "source": [
    "xs = my_scaler.transform(x)\n",
    "xs"
   ]
  },
  {
   "cell_type": "markdown",
   "metadata": {},
   "source": [
    "Poniżej wykonano skalowanie dla nowych danych (np. zbiór testowy):"
   ]
  },
  {
   "cell_type": "code",
   "execution_count": null,
   "metadata": {},
   "outputs": [],
   "source": [
    "x_nowy = np.array([5., 2., -6, 16.], ndmin=2).transpose()\n",
    "x_nowy"
   ]
  },
  {
   "cell_type": "markdown",
   "metadata": {},
   "source": [
    "Transformacja nowych danych."
   ]
  },
  {
   "cell_type": "code",
   "execution_count": null,
   "metadata": {},
   "outputs": [],
   "source": [
    "x_nowy_s = my_scaler.transform(x_nowy)\n",
    "x_nowy_s"
   ]
  },
  {
   "cell_type": "markdown",
   "metadata": {},
   "source": [
    "#### StandardScaler może działać na więcej niż jednej kolumnie, wówczas skaluje każdą cechę niezależnie"
   ]
  },
  {
   "cell_type": "code",
   "execution_count": null,
   "metadata": {},
   "outputs": [],
   "source": [
    "X = np.array([[ 2. , 6.  , 200.  , -450.,  105.  , 344.1, -33.],\n",
    "              [ 0.1, 0.01,   0.02,    0.02,  0.01,   0.04,  0.032]]).transpose()\n",
    "X"
   ]
  },
  {
   "cell_type": "markdown",
   "metadata": {},
   "source": [
    "Utworzenie nowego scalera i wypisanie średniej i wariancji"
   ]
  },
  {
   "cell_type": "code",
   "execution_count": null,
   "metadata": {},
   "outputs": [],
   "source": [
    "my_scaler1 = StandardScaler()\n",
    "my_scaler1.fit(X)\n",
    "[my_scaler1.mean_, my_scaler1.var_]"
   ]
  },
  {
   "cell_type": "code",
   "execution_count": null,
   "metadata": {},
   "outputs": [],
   "source": [
    "Xs = my_scaler1.transform(X)\n",
    "Xs"
   ]
  },
  {
   "cell_type": "markdown",
   "metadata": {},
   "source": [
    "Poniżej wykonano skalowanie dla nowych danych (np. zbiór testowy):"
   ]
  },
  {
   "cell_type": "code",
   "execution_count": null,
   "metadata": {},
   "outputs": [],
   "source": [
    "X_nowy =  np.array([[100.,   45., -102.],\n",
    "                    [  0.001, 0.11,  0.125 ]]).transpose()\n",
    "X_nowy"
   ]
  },
  {
   "cell_type": "code",
   "execution_count": null,
   "metadata": {
    "scrolled": true
   },
   "outputs": [],
   "source": [
    "X_nowy_s = my_scaler1.transform(X_nowy)\n",
    "X_nowy_s"
   ]
  }
 ],
 "metadata": {
  "kernelspec": {
   "display_name": "Python 3 (ipykernel)",
   "language": "python",
   "name": "python3"
  },
  "language_info": {
   "codemirror_mode": {
    "name": "ipython",
    "version": 3
   },
   "file_extension": ".py",
   "mimetype": "text/x-python",
   "name": "python",
   "nbconvert_exporter": "python",
   "pygments_lexer": "ipython3",
   "version": "3.9.12"
  },
  "toc": {
   "base_numbering": 1,
   "nav_menu": {},
   "number_sections": false,
   "sideBar": false,
   "skip_h1_title": false,
   "title_cell": "Table of Contents",
   "title_sidebar": "Contents",
   "toc_cell": true,
   "toc_position": {},
   "toc_section_display": true,
   "toc_window_display": false
  }
 },
 "nbformat": 4,
 "nbformat_minor": 4
}
