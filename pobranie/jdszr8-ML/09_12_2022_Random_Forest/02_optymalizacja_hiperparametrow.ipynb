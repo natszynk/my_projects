{
 "cells": [
  {
   "cell_type": "markdown",
   "id": "8dccf237",
   "metadata": {
    "toc": true
   },
   "source": [
    "<h1>Table of Contents<span class=\"tocSkip\"></span></h1>\n",
    "<div class=\"toc\"><ul class=\"toc-item\"><li><span><a href=\"#Optymalizacja-hiperparametrów\" data-toc-modified-id=\"Optymalizacja-hiperparametrów-1\">Optymalizacja hiperparametrów</a></span><ul class=\"toc-item\"><li><span><a href=\"#GridSearchCV\" data-toc-modified-id=\"GridSearchCV-1.1\">GridSearchCV</a></span></li><li><span><a href=\"#RandomizedSearchCV\" data-toc-modified-id=\"RandomizedSearchCV-1.2\">RandomizedSearchCV</a></span></li><li><span><a href=\"#Zadanie\" data-toc-modified-id=\"Zadanie-1.3\">Zadanie</a></span></li></ul></li></ul></div>"
   ]
  },
  {
   "cell_type": "code",
   "execution_count": null,
   "id": "95e114f3",
   "metadata": {},
   "outputs": [],
   "source": [
    "import numpy as np\n",
    "import pandas as pd\n",
    "\n",
    "from sklearn.datasets import load_digits\n",
    "\n",
    "from sklearn.model_selection import GridSearchCV, RandomizedSearchCV #https://scikit-learn.org/stable/auto_examples/model_selection/plot_randomized_search.html\n",
    "from sklearn.model_selection import train_test_split\n",
    "\n",
    "from sklearn.ensemble import RandomForestClassifier\n",
    "\n",
    "from sklearn.metrics import f1_score, accuracy_score, make_scorer"
   ]
  },
  {
   "cell_type": "code",
   "execution_count": null,
   "id": "586bbc9e",
   "metadata": {},
   "outputs": [],
   "source": [
    "# Dane digits\n",
    "digits = load_digits()\n",
    "X, y = digits.data, digits.target"
   ]
  },
  {
   "cell_type": "code",
   "execution_count": null,
   "id": "3b970c93-c729-46f2-b6f9-aa1db7747905",
   "metadata": {},
   "outputs": [],
   "source": [
    "#https://scikit-learn.org/stable/modules/cross_validation.html\n",
    "\n",
    "from sklearn.model_selection import cross_val_score\n",
    "from sklearn.tree import DecisionTreeClassifier\n",
    "\n",
    "clf = DecisionTreeClassifier(random_state=0)\n",
    "\n",
    "cross_val_score(clf, X, y, cv=10).mean()"
   ]
  },
  {
   "cell_type": "code",
   "execution_count": null,
   "id": "363edb3b-2397-4d9c-bfde-60b0e7778e47",
   "metadata": {},
   "outputs": [],
   "source": [
    "clf2 = RandomForestClassifier(random_state=0)\n",
    "\n",
    "cross_val_score(clf2, X, y, cv=10).mean()"
   ]
  },
  {
   "cell_type": "markdown",
   "id": "776c1e8e",
   "metadata": {},
   "source": [
    "# Optymalizacja hiperparametrów"
   ]
  },
  {
   "cell_type": "markdown",
   "id": "729c7d1a",
   "metadata": {},
   "source": [
    "## GridSearchCV"
   ]
  },
  {
   "cell_type": "markdown",
   "id": "c3921112",
   "metadata": {},
   "source": [
    "Dokumentacja: https://scikit-learn.org/stable/modules/generated/sklearn.model_selection.GridSearchCV.html\n",
    "\n",
    "W metodzie GridSearchCV otrzymamy wyniki z cross walidacji dla wszystkich kombinacji jakie podamy w słowniku parametrów. Metodę tą możemy zasosować dla wszystkich modeli biblioteki sklearn."
   ]
  },
  {
   "cell_type": "code",
   "execution_count": null,
   "id": "541340df",
   "metadata": {},
   "outputs": [],
   "source": [
    "param_grid = {\"max_depth\": [3, None],\n",
    "              \"max_features\": list(range(1,10))\n",
    "             }\n",
    "print(param_grid)"
   ]
  },
  {
   "cell_type": "code",
   "execution_count": null,
   "id": "6ef23ca6",
   "metadata": {},
   "outputs": [],
   "source": [
    "rf_classifier = RandomForestClassifier(random_state=1)\n",
    "\n",
    "grid_search = GridSearchCV(rf_classifier, param_grid=param_grid, cv=5, verbose=0)\n",
    "grid_search.fit(X, y)"
   ]
  },
  {
   "cell_type": "markdown",
   "id": "775c6cee",
   "metadata": {},
   "source": [
    "cv_results_ Zawiera wyniki dla wszystkich kombinacji parametrów z każdej próbki walidacyjnej oraz zagregowane statystyki."
   ]
  },
  {
   "cell_type": "code",
   "execution_count": null,
   "id": "e77ec414",
   "metadata": {},
   "outputs": [],
   "source": [
    "grid_search.cv_results_"
   ]
  },
  {
   "cell_type": "code",
   "execution_count": null,
   "id": "fdfda422-71c8-43c7-a9f0-b54bd6e68dc7",
   "metadata": {},
   "outputs": [],
   "source": [
    "best_param_no = grid_search.best_index_ "
   ]
  },
  {
   "cell_type": "code",
   "execution_count": null,
   "id": "d40ea924-71c8-4502-8658-d8a3d96f57c4",
   "metadata": {},
   "outputs": [],
   "source": [
    "best_param_no"
   ]
  },
  {
   "cell_type": "code",
   "execution_count": null,
   "id": "0eabd9f0-d2b7-4aec-aecb-dfb558bf6071",
   "metadata": {},
   "outputs": [],
   "source": [
    "grid_search.best_params_"
   ]
  },
  {
   "cell_type": "code",
   "execution_count": null,
   "id": "5246b4aa-5ffd-4f0d-b00c-7f2f2c3291de",
   "metadata": {},
   "outputs": [],
   "source": [
    "grid_search.best_score_"
   ]
  },
  {
   "cell_type": "code",
   "execution_count": null,
   "id": "eec372e6",
   "metadata": {},
   "outputs": [],
   "source": [
    "print('Best params set:', grid_search.best_params_, '(no. {0})'.format(best_param_no))\n",
    "print('Best params score:', grid_search.best_score_ )"
   ]
  },
  {
   "cell_type": "markdown",
   "id": "9e62a205",
   "metadata": {},
   "source": [
    "## RandomizedSearchCV"
   ]
  },
  {
   "cell_type": "markdown",
   "id": "12f1730d",
   "metadata": {},
   "source": [
    "Dokumentacja: https://scikit-learn.org/stable/modules/generated/sklearn.model_selection.RandomizedSearchCV.html\n",
    "\n",
    "Podobną metodą zajdowania parametrów jest RandomizedSearchCV. W tym przypadku w przeciwieństwie do GridSearchCV nie będziemy budować modeli dla wszytkich możliwych kombinacji a dla losowo wybranych. W ten sposób może nie znajdziemy tego możliwie najlepszego zestawu ale w dużo krótszym czasie zbliżymy się do niego, dzięki czemu będziemy mogli zawęzić poszukiwania."
   ]
  },
  {
   "cell_type": "code",
   "execution_count": null,
   "id": "bdc342c0",
   "metadata": {},
   "outputs": [],
   "source": [
    "def grid_combination(grid):\n",
    "    total_params = 1 \n",
    "    for par in grid:\n",
    "        total_params  = total_params * len(grid[par])\n",
    "    return total_params"
   ]
  },
  {
   "cell_type": "code",
   "execution_count": null,
   "id": "53814e4d",
   "metadata": {},
   "outputs": [],
   "source": [
    "param_grid = {\"max_depth\": [3, None],\n",
    "              \"max_features\": list(range(1,6)),\n",
    "              \"n_estimators\": [10, 50, 100, 200],\n",
    "              \"min_samples_leaf\": [1, 3, 5]}\n",
    "\n",
    "print(param_grid)\n",
    "print(f'Liczba wszystkich kombinacji: {grid_combination(param_grid)}')"
   ]
  },
  {
   "cell_type": "markdown",
   "id": "6ea601c6",
   "metadata": {},
   "source": [
    "Score używany w metodach RandomizedSearchCV, GridSearchCV to standardowa miara jakości dla danego modelu sklearn. Przkładowo w przypadku Random Forest jest to accuracy ale możemy podać inną funkcję metryki. Można skorzystać z wszystkich z pakietu sklearn.metris i obiektu make_scorer, który z miary robi odpowiedni scorer."
   ]
  },
  {
   "cell_type": "code",
   "execution_count": null,
   "id": "a1500f49-f7ae-45ff-8813-ed6219657f17",
   "metadata": {},
   "outputs": [],
   "source": [
    "from sklearn.metrics import SCORERS\n",
    "\n",
    "SCORERS.keys()"
   ]
  },
  {
   "cell_type": "code",
   "execution_count": null,
   "id": "440e226d",
   "metadata": {},
   "outputs": [],
   "source": [
    "random_search = RandomizedSearchCV(rf_classifier,\n",
    "                                   param_distributions=param_grid,\n",
    "                                   cv=5,\n",
    "                                   n_iter=10, #!\n",
    "                                   verbose=1, \n",
    "                                   scoring='accuracy',\n",
    "                                   #scoring='roc_auc', #multiclass format is not supported - miara dla klasyfikacji dla 2 klas\n",
    "                                   #scoring=make_scorer(f1_score , average='macro'),\n",
    "                                   random_state=99)\n",
    "random_search.fit(X, y)"
   ]
  },
  {
   "cell_type": "code",
   "execution_count": null,
   "id": "bc4f3893",
   "metadata": {},
   "outputs": [],
   "source": [
    "random_search.cv_results_"
   ]
  },
  {
   "cell_type": "code",
   "execution_count": null,
   "id": "5971540a-47ab-4bae-b4af-69e9dc0c5688",
   "metadata": {},
   "outputs": [],
   "source": [
    "random_search.best_params_"
   ]
  },
  {
   "cell_type": "code",
   "execution_count": null,
   "id": "ccc80235-8c53-47ea-890e-c79110f4c4e2",
   "metadata": {},
   "outputs": [],
   "source": [
    "random_search.best_score_"
   ]
  },
  {
   "cell_type": "code",
   "execution_count": null,
   "id": "1acb2d47",
   "metadata": {},
   "outputs": [],
   "source": [
    "ranks = random_search.cv_results_['rank_test_score']\n",
    "score = random_search.cv_results_['mean_test_score']\n",
    "\n",
    "n = 4\n",
    "\n",
    "for i in range(n):\n",
    "    idx = np.where(ranks == i + 1)[0][0]\n",
    "    print(random_search.cv_results_['params'][idx])\n",
    "    print(score[idx])"
   ]
  },
  {
   "cell_type": "markdown",
   "id": "9dbff0a1",
   "metadata": {},
   "source": [
    "## Zadanie"
   ]
  },
  {
   "cell_type": "markdown",
   "id": "9cf013cb",
   "metadata": {},
   "source": [
    "1. Pobierz zbiór danych Titanic zawierający informacje o posażerach titanica. Zadaniem będzie stworzenie możliwie najlepszego modelu Random Forest prognozującego czy dany pasażer przeżył katastrofę:\n",
    "\n",
    "2. Oczyść ze zbędnych kolumn (PassengerId,Name,Cabin,Ticket) i zdumifikuj odpowiednie zmienne. Uwaga! pamiętaj, że czasem zmienne numeryczne tak naprawdę mają charakter kategoryczny.\n",
    "\n",
    "3. Podziel zbiór na treningowy i testowy w stosunku 80 - 20. (Użyj random state 0)\n",
    "\n",
    "4. Znajdź możliwie najlepsze parametry, korzystając z RandomizedSearchCV lub GridSearchCV. (Możesz przetestować działanie obu).\n",
    "\n",
    "5. Dla najlepszego zestawu hiperparametrów wytrenuj ostateczny model na całym zbiorze treningowym.\n",
    "\n",
    "6. Policz accuracy na zbiorze testowym i pochwal się wynikiem :)"
   ]
  },
  {
   "cell_type": "markdown",
   "id": "6bb58f34",
   "metadata": {},
   "source": [
    "Przygotowanie danych:"
   ]
  },
  {
   "cell_type": "markdown",
   "id": "125ad471",
   "metadata": {},
   "source": [
    "survival - 0 = No, 1 = Yes \\\n",
    "pclas - Ticket clas 1 = 1st, 2 = 2nd, 3 = 3rd \\\n",
    "sex Sex \\\n",
    "Age - Age in years \\\n",
    "sibsp - # of siblings / spouses aboard the Titanic \\\n",
    "parch - # of parents / children aboard the Titanic \\\n",
    "ticket - Ticket number \\\n",
    "fare - Passenger fare \\\n",
    "cabin - Cabin number \\\n",
    "embarked - Port of Embarkation: C = Cherbourg, Q = Queenstown, S = Southampton "
   ]
  },
  {
   "cell_type": "markdown",
   "id": "8774f98a-34e5-4657-9037-6b27e9e5facb",
   "metadata": {},
   "source": [
    "Inna opcja selekcji hiperparametrów:"
   ]
  },
  {
   "cell_type": "markdown",
   "id": "63398004-232e-4400-8db6-bb7730d9aea0",
   "metadata": {},
   "source": [
    "http://hyperopt.github.io/hyperopt/"
   ]
  },
  {
   "cell_type": "code",
   "execution_count": null,
   "id": "f36cdcf5-f927-4344-a065-860d9f41af8e",
   "metadata": {},
   "outputs": [],
   "source": []
  }
 ],
 "metadata": {
  "kernelspec": {
   "display_name": "Python 3 (ipykernel)",
   "language": "python",
   "name": "python3"
  },
  "language_info": {
   "codemirror_mode": {
    "name": "ipython",
    "version": 3
   },
   "file_extension": ".py",
   "mimetype": "text/x-python",
   "name": "python",
   "nbconvert_exporter": "python",
   "pygments_lexer": "ipython3",
   "version": "3.9.12"
  },
  "toc": {
   "base_numbering": 1,
   "nav_menu": {},
   "number_sections": false,
   "sideBar": false,
   "skip_h1_title": false,
   "title_cell": "Table of Contents",
   "title_sidebar": "Contents",
   "toc_cell": true,
   "toc_position": {},
   "toc_section_display": true,
   "toc_window_display": false
  }
 },
 "nbformat": 4,
 "nbformat_minor": 5
}
