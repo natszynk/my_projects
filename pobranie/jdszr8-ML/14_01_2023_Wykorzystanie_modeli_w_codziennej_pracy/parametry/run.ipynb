{
 "cells": [
  {
   "cell_type": "code",
   "execution_count": 1,
   "id": "4d0565f4",
   "metadata": {},
   "outputs": [
    {
     "name": "stderr",
     "output_type": "stream",
     "text": [
      "08:19:47 [test_script:INFO]: Result: 2\n"
     ]
    }
   ],
   "source": [
    "!python test_script.py"
   ]
  },
  {
   "cell_type": "code",
   "execution_count": 4,
   "id": "f8ce802a",
   "metadata": {},
   "outputs": [
    {
     "name": "stderr",
     "output_type": "stream",
     "text": [
      "08:21:43 [test_script:INFO]: Result: -12\n"
     ]
    }
   ],
   "source": [
    "!python test_script.py --num1 2 --num2 14 --operation \"sub\""
   ]
  },
  {
   "cell_type": "code",
   "execution_count": 5,
   "id": "1bd607f7",
   "metadata": {},
   "outputs": [
    {
     "name": "stderr",
     "output_type": "stream",
     "text": [
      "08:51:16 [train_model:INFO]: Start train script\n",
      "08:51:27 [train_model:INFO]: Train model compleate! Acc: 0.8461538461538461 F1: 0.8461538461538461\n",
      "08:51:27 [train_model:INFO]: Script finished!\n",
      "08:51:27 [train_model:INFO]: took 11.2 seconds\n"
     ]
    }
   ],
   "source": [
    "!python train_model.py"
   ]
  },
  {
   "cell_type": "code",
   "execution_count": 7,
   "id": "45e15bdb",
   "metadata": {},
   "outputs": [],
   "source": [
    "import pandas as pd\n",
    "obj = pd.read_pickle('models\\\\20230115_.pkl')"
   ]
  },
  {
   "cell_type": "code",
   "execution_count": 8,
   "id": "6a77a319",
   "metadata": {},
   "outputs": [
    {
     "data": {
      "text/plain": [
       "RandomForestClassifier(max_features=5, min_samples_leaf=3)"
      ]
     },
     "execution_count": 8,
     "metadata": {},
     "output_type": "execute_result"
    }
   ],
   "source": [
    "obj"
   ]
  },
  {
   "cell_type": "code",
   "execution_count": 9,
   "id": "73356ce5",
   "metadata": {},
   "outputs": [],
   "source": [
    "obj.max_features = 3"
   ]
  },
  {
   "cell_type": "code",
   "execution_count": 10,
   "id": "bd680d66",
   "metadata": {},
   "outputs": [
    {
     "data": {
      "text/plain": [
       "RandomForestClassifier(max_features=3, min_samples_leaf=3)"
      ]
     },
     "execution_count": 10,
     "metadata": {},
     "output_type": "execute_result"
    }
   ],
   "source": [
    "obj"
   ]
  },
  {
   "cell_type": "code",
   "execution_count": 11,
   "id": "dde83022",
   "metadata": {},
   "outputs": [
    {
     "name": "stderr",
     "output_type": "stream",
     "text": [
      "08:58:51 [train_model:INFO]: Start train script\n",
      "08:59:03 [train_model:INFO]: Train model compleate! Acc: 0.8041958041958042 F1: 0.8041958041958042\n",
      "08:59:03 [train_model:INFO]: Script finished!\n",
      "08:59:03 [train_model:INFO]: took 12.0 seconds\n"
     ]
    }
   ],
   "source": [
    "!python train_model.py --random_state 0"
   ]
  }
 ],
 "metadata": {
  "kernelspec": {
   "display_name": "Python 3 (ipykernel)",
   "language": "python",
   "name": "python3"
  },
  "language_info": {
   "codemirror_mode": {
    "name": "ipython",
    "version": 3
   },
   "file_extension": ".py",
   "mimetype": "text/x-python",
   "name": "python",
   "nbconvert_exporter": "python",
   "pygments_lexer": "ipython3",
   "version": "3.9.12"
  }
 },
 "nbformat": 4,
 "nbformat_minor": 5
}
