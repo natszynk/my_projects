{
  "cells": [
    {
      "cell_type": "markdown",
      "metadata": {
        "toc": true,
        "id": "7TpNrFO9d74w"
      },
      "source": [
        "<h1>Table of Contents<span class=\"tocSkip\"></span></h1>\n",
        "<div class=\"toc\"><ul class=\"toc-item\"><li><span><a href=\"#wczytywanie-danych-z-pliku-data/salary.csv\" data-toc-modified-id=\"wczytywanie-danych-z-pliku-data/salary.csv-1\"><span class=\"toc-item-num\">1&nbsp;&nbsp;</span>wczytywanie danych z pliku data/salary.csv</a></span></li><li><span><a href=\"#modelowanie\" data-toc-modified-id=\"modelowanie-2\"><span class=\"toc-item-num\">2&nbsp;&nbsp;</span>modelowanie</a></span></li><li><span><a href=\"#rysowanie-wykresu-regresji-liniowej\" data-toc-modified-id=\"rysowanie-wykresu-regresji-liniowej-3\"><span class=\"toc-item-num\">3&nbsp;&nbsp;</span>rysowanie wykresu regresji liniowej</a></span></li><li><span><a href=\"#r-kwadrat\" data-toc-modified-id=\"r-kwadrat-4\"><span class=\"toc-item-num\">4&nbsp;&nbsp;</span>r kwadrat</a></span></li><li><span><a href=\"#predykcja\" data-toc-modified-id=\"predykcja-5\"><span class=\"toc-item-num\">5&nbsp;&nbsp;</span>predykcja</a></span></li></ul></div>"
      ]
    },
    {
      "cell_type": "code",
      "execution_count": null,
      "metadata": {
        "id": "_yot2woGd743"
      },
      "outputs": [],
      "source": [
        "import pandas as pd\n",
        "import numpy as np\n",
        "import matplotlib.pyplot as plt\n",
        "from sklearn.linear_model import LinearRegression"
      ]
    },
    {
      "cell_type": "markdown",
      "metadata": {
        "id": "yNg0szzPd746"
      },
      "source": [
        "# Modelowanie regresji liniowej w sklearn"
      ]
    },
    {
      "cell_type": "markdown",
      "metadata": {
        "id": "O-8nP54ad747"
      },
      "source": [
        "### wczytywanie danych z pliku data/salary.csv"
      ]
    },
    {
      "cell_type": "markdown",
      "metadata": {
        "id": "knHdVtD8d748"
      },
      "source": [
        "### modelowanie"
      ]
    },
    {
      "cell_type": "markdown",
      "metadata": {
        "id": "Wx4sDEAyd749"
      },
      "source": [
        "### rysowanie wykresu regresji liniowej"
      ]
    },
    {
      "cell_type": "markdown",
      "metadata": {
        "id": "_xu4Waoqd74-"
      },
      "source": [
        "### r kwadrat"
      ]
    },
    {
      "cell_type": "markdown",
      "metadata": {
        "id": "SHeN3eZOd74_"
      },
      "source": [
        "### predykcja"
      ]
    }
  ],
  "metadata": {
    "kernelspec": {
      "display_name": "Python 3 (ipykernel)",
      "language": "python",
      "name": "python3"
    },
    "language_info": {
      "codemirror_mode": {
        "name": "ipython",
        "version": 3
      },
      "file_extension": ".py",
      "mimetype": "text/x-python",
      "name": "python",
      "nbconvert_exporter": "python",
      "pygments_lexer": "ipython3",
      "version": "3.9.7"
    },
    "toc": {
      "base_numbering": 1,
      "nav_menu": {},
      "number_sections": true,
      "sideBar": true,
      "skip_h1_title": true,
      "title_cell": "Table of Contents",
      "title_sidebar": "Contents",
      "toc_cell": true,
      "toc_position": {
        "height": "533.6px",
        "left": "123px",
        "top": "209px",
        "width": "307.2px"
      },
      "toc_section_display": true,
      "toc_window_display": true
    },
    "colab": {
      "provenance": []
    }
  },
  "nbformat": 4,
  "nbformat_minor": 0
}