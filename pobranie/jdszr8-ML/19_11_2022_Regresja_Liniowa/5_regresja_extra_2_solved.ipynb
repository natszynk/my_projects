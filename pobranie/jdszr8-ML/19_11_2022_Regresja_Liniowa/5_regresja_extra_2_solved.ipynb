{
 "cells": [
  {
   "cell_type": "markdown",
   "metadata": {
    "id": "8pIJoljneJ9s",
    "toc": true
   },
   "source": [
    "<h1>Table of Contents<span class=\"tocSkip\"></span></h1>\n",
    "<div class=\"toc\"><ul class=\"toc-item\"><li><span><a href=\"#dataset-&quot;beer.csv&quot;\" data-toc-modified-id=\"dataset-&quot;beer.csv&quot;-1\"><span class=\"toc-item-num\">1&nbsp;&nbsp;</span>dataset \"beer.csv\"</a></span><ul class=\"toc-item\"><li><span><a href=\"#wybieramy-pary-zmiennych-i-sprawdzić-ich-zależność-regresją-liniową-i-r^2\" data-toc-modified-id=\"wybieramy-pary-zmiennych-i-sprawdzić-ich-zależność-regresją-liniową-i-r^2-1.1\"><span class=\"toc-item-num\">1.1&nbsp;&nbsp;</span>wybieramy pary zmiennych i sprawdzić ich zależność regresją liniową i r^2</a></span></li><li><span><a href=\"#sprawdzamy-czy-i-gdzie-sa-nulle\" data-toc-modified-id=\"sprawdzamy-czy-i-gdzie-sa-nulle-1.2\"><span class=\"toc-item-num\">1.2&nbsp;&nbsp;</span>sprawdzamy czy i gdzie sa nulle</a></span></li><li><span><a href=\"#modelowanie\" data-toc-modified-id=\"modelowanie-1.3\"><span class=\"toc-item-num\">1.3&nbsp;&nbsp;</span>modelowanie</a></span></li></ul></li><li><span><a href=\"#Multi-regression\" data-toc-modified-id=\"Multi-regression-2\"><span class=\"toc-item-num\">2&nbsp;&nbsp;</span>Multi regression</a></span></li></ul></div>"
   ]
  },
  {
   "cell_type": "code",
   "execution_count": 36,
   "metadata": {
    "id": "iqYchGEueJ9v"
   },
   "outputs": [],
   "source": [
    "import pandas as pd\n",
    "import numpy as np\n",
    "import matplotlib.pyplot as plt\n",
    "from sklearn.linear_model import LinearRegression\n",
    "from sklearn.metrics import r2_score"
   ]
  },
  {
   "cell_type": "code",
   "execution_count": 37,
   "metadata": {
    "id": "eCKOxqQ7eJ9x"
   },
   "outputs": [],
   "source": [
    "# jeśli nie korzystasz z poniższej paczki, to wykomentuj te dwie linie poniżej\n",
    "from jupyterthemes import jtplot\n",
    "jtplot.style(theme=\"monokai\", context=\"notebook\", ticks=True, grid=False)"
   ]
  },
  {
   "cell_type": "markdown",
   "metadata": {
    "id": "Fe4kzhcZeJ9y"
   },
   "source": [
    "## dataset \"beer.csv\"\n",
    "### wybieramy pary zmiennych i sprawdzić ich zależność regresją liniową i r^2"
   ]
  },
  {
   "cell_type": "code",
   "execution_count": 38,
   "metadata": {},
   "outputs": [],
   "source": [
    "df = pd.read_csv('data/beer.csv')"
   ]
  },
  {
   "cell_type": "code",
   "execution_count": 39,
   "metadata": {},
   "outputs": [
    {
     "data": {
      "text/html": [
       "<div>\n",
       "<style scoped>\n",
       "    .dataframe tbody tr th:only-of-type {\n",
       "        vertical-align: middle;\n",
       "    }\n",
       "\n",
       "    .dataframe tbody tr th {\n",
       "        vertical-align: top;\n",
       "    }\n",
       "\n",
       "    .dataframe thead th {\n",
       "        text-align: right;\n",
       "    }\n",
       "</style>\n",
       "<table border=\"1\" class=\"dataframe\">\n",
       "  <thead>\n",
       "    <tr style=\"text-align: right;\">\n",
       "      <th></th>\n",
       "      <th>Data</th>\n",
       "      <th>Temperatura Media (C)</th>\n",
       "      <th>Temperatura Minima (C)</th>\n",
       "      <th>Temperatura Maxima (C)</th>\n",
       "      <th>Precipitacao (mm)</th>\n",
       "      <th>Final de Semana</th>\n",
       "      <th>Consumo de cerveja (litros)</th>\n",
       "    </tr>\n",
       "  </thead>\n",
       "  <tbody>\n",
       "    <tr>\n",
       "      <th>0</th>\n",
       "      <td>2015-01-01</td>\n",
       "      <td>27,3</td>\n",
       "      <td>23,9</td>\n",
       "      <td>32,5</td>\n",
       "      <td>0</td>\n",
       "      <td>0.00</td>\n",
       "      <td>25.46</td>\n",
       "    </tr>\n",
       "    <tr>\n",
       "      <th>1</th>\n",
       "      <td>2015-01-02</td>\n",
       "      <td>27,02</td>\n",
       "      <td>24,5</td>\n",
       "      <td>33,5</td>\n",
       "      <td>0</td>\n",
       "      <td>0.00</td>\n",
       "      <td>28.97</td>\n",
       "    </tr>\n",
       "    <tr>\n",
       "      <th>2</th>\n",
       "      <td>2015-01-03</td>\n",
       "      <td>24,82</td>\n",
       "      <td>22,4</td>\n",
       "      <td>29,9</td>\n",
       "      <td>0</td>\n",
       "      <td>1.00</td>\n",
       "      <td>30.81</td>\n",
       "    </tr>\n",
       "    <tr>\n",
       "      <th>3</th>\n",
       "      <td>2015-01-04</td>\n",
       "      <td>23,98</td>\n",
       "      <td>21,5</td>\n",
       "      <td>28,6</td>\n",
       "      <td>1,2</td>\n",
       "      <td>1.00</td>\n",
       "      <td>29.80</td>\n",
       "    </tr>\n",
       "    <tr>\n",
       "      <th>4</th>\n",
       "      <td>2015-01-05</td>\n",
       "      <td>23,82</td>\n",
       "      <td>21</td>\n",
       "      <td>28,3</td>\n",
       "      <td>0</td>\n",
       "      <td>0.00</td>\n",
       "      <td>28.90</td>\n",
       "    </tr>\n",
       "  </tbody>\n",
       "</table>\n",
       "</div>"
      ],
      "text/plain": [
       "         Data Temperatura Media (C) Temperatura Minima (C)  \\\n",
       "0  2015-01-01                  27,3                   23,9   \n",
       "1  2015-01-02                 27,02                   24,5   \n",
       "2  2015-01-03                 24,82                   22,4   \n",
       "3  2015-01-04                 23,98                   21,5   \n",
       "4  2015-01-05                 23,82                     21   \n",
       "\n",
       "  Temperatura Maxima (C) Precipitacao (mm)  Final de Semana  \\\n",
       "0                   32,5                 0             0.00   \n",
       "1                   33,5                 0             0.00   \n",
       "2                   29,9                 0             1.00   \n",
       "3                   28,6               1,2             1.00   \n",
       "4                   28,3                 0             0.00   \n",
       "\n",
       "   Consumo de cerveja (litros)  \n",
       "0                        25.46  \n",
       "1                        28.97  \n",
       "2                        30.81  \n",
       "3                        29.80  \n",
       "4                        28.90  "
      ]
     },
     "execution_count": 39,
     "metadata": {},
     "output_type": "execute_result"
    }
   ],
   "source": [
    "df.head()"
   ]
  },
  {
   "cell_type": "markdown",
   "metadata": {},
   "source": [
    "Precipitacao (mm) - Opady (mm)\n",
    "\n",
    "Final de Semana - koniec tygodnia\n",
    "\n",
    "Consumo de cerveja (litros) - Spożycie piwa (litry)"
   ]
  },
  {
   "cell_type": "code",
   "execution_count": 40,
   "metadata": {},
   "outputs": [
    {
     "name": "stdout",
     "output_type": "stream",
     "text": [
      "<class 'pandas.core.frame.DataFrame'>\n",
      "RangeIndex: 941 entries, 0 to 940\n",
      "Data columns (total 7 columns):\n",
      " #   Column                       Non-Null Count  Dtype  \n",
      "---  ------                       --------------  -----  \n",
      " 0   Data                         365 non-null    object \n",
      " 1   Temperatura Media (C)        365 non-null    object \n",
      " 2   Temperatura Minima (C)       365 non-null    object \n",
      " 3   Temperatura Maxima (C)       365 non-null    object \n",
      " 4   Precipitacao (mm)            365 non-null    object \n",
      " 5   Final de Semana              365 non-null    float64\n",
      " 6   Consumo de cerveja (litros)  365 non-null    float64\n",
      "dtypes: float64(2), object(5)\n",
      "memory usage: 51.6+ KB\n"
     ]
    }
   ],
   "source": [
    "df.info()"
   ]
  },
  {
   "cell_type": "code",
   "execution_count": 41,
   "metadata": {},
   "outputs": [
    {
     "name": "stdout",
     "output_type": "stream",
     "text": [
      "0 Data\n",
      "1 Temperatura Media (C)\n",
      "2 Temperatura Minima (C)\n",
      "3 Temperatura Maxima (C)\n",
      "4 Precipitacao (mm)\n",
      "5 Final de Semana\n",
      "6 Consumo de cerveja (litros)\n"
     ]
    }
   ],
   "source": [
    "for k in df.keys():\n",
    "    tmpNum = df.columns.get_loc(k)\n",
    "    print(tmpNum, k)"
   ]
  },
  {
   "cell_type": "markdown",
   "metadata": {
    "id": "E12nQuDReJ9z"
   },
   "source": [
    "### sprawdzamy czy i gdzie sa nulle"
   ]
  },
  {
   "cell_type": "code",
   "execution_count": 42,
   "metadata": {},
   "outputs": [
    {
     "data": {
      "text/plain": [
       "(941, 7)"
      ]
     },
     "execution_count": 42,
     "metadata": {},
     "output_type": "execute_result"
    }
   ],
   "source": [
    "df.shape"
   ]
  },
  {
   "cell_type": "code",
   "execution_count": 43,
   "metadata": {},
   "outputs": [
    {
     "data": {
      "text/plain": [
       "6587"
      ]
     },
     "execution_count": 43,
     "metadata": {},
     "output_type": "execute_result"
    }
   ],
   "source": [
    "df.size"
   ]
  },
  {
   "cell_type": "code",
   "execution_count": 44,
   "metadata": {},
   "outputs": [
    {
     "name": "stdout",
     "output_type": "stream",
     "text": [
      "How many nulls  4032\n"
     ]
    }
   ],
   "source": [
    "#czy i ile jest nulli\n",
    "print('How many nulls ', df.isnull().sum().sum())"
   ]
  },
  {
   "cell_type": "code",
   "execution_count": 45,
   "metadata": {},
   "outputs": [
    {
     "data": {
      "text/plain": [
       "4032"
      ]
     },
     "execution_count": 45,
     "metadata": {},
     "output_type": "execute_result"
    }
   ],
   "source": [
    "df.isnull().sum().sum()"
   ]
  },
  {
   "cell_type": "code",
   "execution_count": 46,
   "metadata": {},
   "outputs": [
    {
     "data": {
      "text/plain": [
       "array([[0., 0., 0., ..., 0., 0., 0.],\n",
       "       [0., 0., 0., ..., 0., 0., 0.],\n",
       "       [0., 0., 0., ..., 0., 0., 0.],\n",
       "       ...,\n",
       "       [1., 1., 1., ..., 1., 1., 1.],\n",
       "       [1., 1., 1., ..., 1., 1., 1.],\n",
       "       [1., 1., 1., ..., 1., 1., 1.]])"
      ]
     },
     "execution_count": 46,
     "metadata": {},
     "output_type": "execute_result"
    }
   ],
   "source": [
    "whereAreNulls = df.isnull().to_numpy().astype(float)\n",
    "whereAreNulls"
   ]
  },
  {
   "cell_type": "code",
   "execution_count": 47,
   "metadata": {},
   "outputs": [
    {
     "data": {
      "text/html": [
       "<div>\n",
       "<style scoped>\n",
       "    .dataframe tbody tr th:only-of-type {\n",
       "        vertical-align: middle;\n",
       "    }\n",
       "\n",
       "    .dataframe tbody tr th {\n",
       "        vertical-align: top;\n",
       "    }\n",
       "\n",
       "    .dataframe thead th {\n",
       "        text-align: right;\n",
       "    }\n",
       "</style>\n",
       "<table border=\"1\" class=\"dataframe\">\n",
       "  <thead>\n",
       "    <tr style=\"text-align: right;\">\n",
       "      <th></th>\n",
       "      <th>Data</th>\n",
       "      <th>Temperatura Media (C)</th>\n",
       "      <th>Temperatura Minima (C)</th>\n",
       "      <th>Temperatura Maxima (C)</th>\n",
       "      <th>Precipitacao (mm)</th>\n",
       "      <th>Final de Semana</th>\n",
       "      <th>Consumo de cerveja (litros)</th>\n",
       "    </tr>\n",
       "  </thead>\n",
       "  <tbody>\n",
       "    <tr>\n",
       "      <th>936</th>\n",
       "      <td>NaN</td>\n",
       "      <td>NaN</td>\n",
       "      <td>NaN</td>\n",
       "      <td>NaN</td>\n",
       "      <td>NaN</td>\n",
       "      <td>NaN</td>\n",
       "      <td>NaN</td>\n",
       "    </tr>\n",
       "    <tr>\n",
       "      <th>937</th>\n",
       "      <td>NaN</td>\n",
       "      <td>NaN</td>\n",
       "      <td>NaN</td>\n",
       "      <td>NaN</td>\n",
       "      <td>NaN</td>\n",
       "      <td>NaN</td>\n",
       "      <td>NaN</td>\n",
       "    </tr>\n",
       "    <tr>\n",
       "      <th>938</th>\n",
       "      <td>NaN</td>\n",
       "      <td>NaN</td>\n",
       "      <td>NaN</td>\n",
       "      <td>NaN</td>\n",
       "      <td>NaN</td>\n",
       "      <td>NaN</td>\n",
       "      <td>NaN</td>\n",
       "    </tr>\n",
       "    <tr>\n",
       "      <th>939</th>\n",
       "      <td>NaN</td>\n",
       "      <td>NaN</td>\n",
       "      <td>NaN</td>\n",
       "      <td>NaN</td>\n",
       "      <td>NaN</td>\n",
       "      <td>NaN</td>\n",
       "      <td>NaN</td>\n",
       "    </tr>\n",
       "    <tr>\n",
       "      <th>940</th>\n",
       "      <td>NaN</td>\n",
       "      <td>NaN</td>\n",
       "      <td>NaN</td>\n",
       "      <td>NaN</td>\n",
       "      <td>NaN</td>\n",
       "      <td>NaN</td>\n",
       "      <td>NaN</td>\n",
       "    </tr>\n",
       "  </tbody>\n",
       "</table>\n",
       "</div>"
      ],
      "text/plain": [
       "    Data Temperatura Media (C) Temperatura Minima (C) Temperatura Maxima (C)  \\\n",
       "936  NaN                   NaN                    NaN                    NaN   \n",
       "937  NaN                   NaN                    NaN                    NaN   \n",
       "938  NaN                   NaN                    NaN                    NaN   \n",
       "939  NaN                   NaN                    NaN                    NaN   \n",
       "940  NaN                   NaN                    NaN                    NaN   \n",
       "\n",
       "    Precipitacao (mm)  Final de Semana  Consumo de cerveja (litros)  \n",
       "936               NaN              NaN                          NaN  \n",
       "937               NaN              NaN                          NaN  \n",
       "938               NaN              NaN                          NaN  \n",
       "939               NaN              NaN                          NaN  \n",
       "940               NaN              NaN                          NaN  "
      ]
     },
     "execution_count": 47,
     "metadata": {},
     "output_type": "execute_result"
    }
   ],
   "source": [
    "df.tail()"
   ]
  },
  {
   "cell_type": "code",
   "execution_count": 48,
   "metadata": {},
   "outputs": [
    {
     "data": {
      "text/plain": [
       "[<matplotlib.lines.Line2D at 0x2a76f4bc130>,\n",
       " <matplotlib.lines.Line2D at 0x2a76f4bc220>,\n",
       " <matplotlib.lines.Line2D at 0x2a76f4bc340>,\n",
       " <matplotlib.lines.Line2D at 0x2a76f4bc460>,\n",
       " <matplotlib.lines.Line2D at 0x2a76f4bc580>,\n",
       " <matplotlib.lines.Line2D at 0x2a76f4bc6a0>,\n",
       " <matplotlib.lines.Line2D at 0x2a76f4bc7c0>]"
      ]
     },
     "execution_count": 48,
     "metadata": {},
     "output_type": "execute_result"
    },
    {
     "data": {
      "image/png": "[encoded data removed]",
      "text/plain": [
       "<Figure size 576x504 with 1 Axes>"
      ]
     },
     "metadata": {},
     "output_type": "display_data"
    }
   ],
   "source": [
    "plt.plot(whereAreNulls, marker='.', markersize=4, linestyle='none')"
   ]
  },
  {
   "cell_type": "code",
   "execution_count": 49,
   "metadata": {},
   "outputs": [],
   "source": [
    "df = df.dropna()"
   ]
  },
  {
   "cell_type": "code",
   "execution_count": 50,
   "metadata": {},
   "outputs": [
    {
     "data": {
      "text/html": [
       "<div>\n",
       "<style scoped>\n",
       "    .dataframe tbody tr th:only-of-type {\n",
       "        vertical-align: middle;\n",
       "    }\n",
       "\n",
       "    .dataframe tbody tr th {\n",
       "        vertical-align: top;\n",
       "    }\n",
       "\n",
       "    .dataframe thead th {\n",
       "        text-align: right;\n",
       "    }\n",
       "</style>\n",
       "<table border=\"1\" class=\"dataframe\">\n",
       "  <thead>\n",
       "    <tr style=\"text-align: right;\">\n",
       "      <th></th>\n",
       "      <th>Data</th>\n",
       "      <th>Temperatura Media (C)</th>\n",
       "      <th>Temperatura Minima (C)</th>\n",
       "      <th>Temperatura Maxima (C)</th>\n",
       "      <th>Precipitacao (mm)</th>\n",
       "      <th>Final de Semana</th>\n",
       "      <th>Consumo de cerveja (litros)</th>\n",
       "    </tr>\n",
       "  </thead>\n",
       "  <tbody>\n",
       "    <tr>\n",
       "      <th>0</th>\n",
       "      <td>2015-01-01</td>\n",
       "      <td>27,3</td>\n",
       "      <td>23,9</td>\n",
       "      <td>32,5</td>\n",
       "      <td>0</td>\n",
       "      <td>0.00</td>\n",
       "      <td>25.46</td>\n",
       "    </tr>\n",
       "    <tr>\n",
       "      <th>1</th>\n",
       "      <td>2015-01-02</td>\n",
       "      <td>27,02</td>\n",
       "      <td>24,5</td>\n",
       "      <td>33,5</td>\n",
       "      <td>0</td>\n",
       "      <td>0.00</td>\n",
       "      <td>28.97</td>\n",
       "    </tr>\n",
       "    <tr>\n",
       "      <th>2</th>\n",
       "      <td>2015-01-03</td>\n",
       "      <td>24,82</td>\n",
       "      <td>22,4</td>\n",
       "      <td>29,9</td>\n",
       "      <td>0</td>\n",
       "      <td>1.00</td>\n",
       "      <td>30.81</td>\n",
       "    </tr>\n",
       "    <tr>\n",
       "      <th>3</th>\n",
       "      <td>2015-01-04</td>\n",
       "      <td>23,98</td>\n",
       "      <td>21,5</td>\n",
       "      <td>28,6</td>\n",
       "      <td>1,2</td>\n",
       "      <td>1.00</td>\n",
       "      <td>29.80</td>\n",
       "    </tr>\n",
       "    <tr>\n",
       "      <th>4</th>\n",
       "      <td>2015-01-05</td>\n",
       "      <td>23,82</td>\n",
       "      <td>21</td>\n",
       "      <td>28,3</td>\n",
       "      <td>0</td>\n",
       "      <td>0.00</td>\n",
       "      <td>28.90</td>\n",
       "    </tr>\n",
       "    <tr>\n",
       "      <th>...</th>\n",
       "      <td>...</td>\n",
       "      <td>...</td>\n",
       "      <td>...</td>\n",
       "      <td>...</td>\n",
       "      <td>...</td>\n",
       "      <td>...</td>\n",
       "      <td>...</td>\n",
       "    </tr>\n",
       "    <tr>\n",
       "      <th>360</th>\n",
       "      <td>2015-12-27</td>\n",
       "      <td>24</td>\n",
       "      <td>21,1</td>\n",
       "      <td>28,2</td>\n",
       "      <td>13,6</td>\n",
       "      <td>1.00</td>\n",
       "      <td>32.31</td>\n",
       "    </tr>\n",
       "    <tr>\n",
       "      <th>361</th>\n",
       "      <td>2015-12-28</td>\n",
       "      <td>22,64</td>\n",
       "      <td>21,1</td>\n",
       "      <td>26,7</td>\n",
       "      <td>0</td>\n",
       "      <td>0.00</td>\n",
       "      <td>26.09</td>\n",
       "    </tr>\n",
       "    <tr>\n",
       "      <th>362</th>\n",
       "      <td>2015-12-29</td>\n",
       "      <td>21,68</td>\n",
       "      <td>20,3</td>\n",
       "      <td>24,1</td>\n",
       "      <td>10,3</td>\n",
       "      <td>0.00</td>\n",
       "      <td>22.31</td>\n",
       "    </tr>\n",
       "    <tr>\n",
       "      <th>363</th>\n",
       "      <td>2015-12-30</td>\n",
       "      <td>21,38</td>\n",
       "      <td>19,3</td>\n",
       "      <td>22,4</td>\n",
       "      <td>6,3</td>\n",
       "      <td>0.00</td>\n",
       "      <td>20.47</td>\n",
       "    </tr>\n",
       "    <tr>\n",
       "      <th>364</th>\n",
       "      <td>2015-12-31</td>\n",
       "      <td>24,76</td>\n",
       "      <td>20,2</td>\n",
       "      <td>29</td>\n",
       "      <td>0</td>\n",
       "      <td>0.00</td>\n",
       "      <td>22.45</td>\n",
       "    </tr>\n",
       "  </tbody>\n",
       "</table>\n",
       "<p>365 rows × 7 columns</p>\n",
       "</div>"
      ],
      "text/plain": [
       "           Data Temperatura Media (C) Temperatura Minima (C)  \\\n",
       "0    2015-01-01                  27,3                   23,9   \n",
       "1    2015-01-02                 27,02                   24,5   \n",
       "2    2015-01-03                 24,82                   22,4   \n",
       "3    2015-01-04                 23,98                   21,5   \n",
       "4    2015-01-05                 23,82                     21   \n",
       "..          ...                   ...                    ...   \n",
       "360  2015-12-27                    24                   21,1   \n",
       "361  2015-12-28                 22,64                   21,1   \n",
       "362  2015-12-29                 21,68                   20,3   \n",
       "363  2015-12-30                 21,38                   19,3   \n",
       "364  2015-12-31                 24,76                   20,2   \n",
       "\n",
       "    Temperatura Maxima (C) Precipitacao (mm)  Final de Semana  \\\n",
       "0                     32,5                 0             0.00   \n",
       "1                     33,5                 0             0.00   \n",
       "2                     29,9                 0             1.00   \n",
       "3                     28,6               1,2             1.00   \n",
       "4                     28,3                 0             0.00   \n",
       "..                     ...               ...              ...   \n",
       "360                   28,2              13,6             1.00   \n",
       "361                   26,7                 0             0.00   \n",
       "362                   24,1              10,3             0.00   \n",
       "363                   22,4               6,3             0.00   \n",
       "364                     29                 0             0.00   \n",
       "\n",
       "     Consumo de cerveja (litros)  \n",
       "0                          25.46  \n",
       "1                          28.97  \n",
       "2                          30.81  \n",
       "3                          29.80  \n",
       "4                          28.90  \n",
       "..                           ...  \n",
       "360                        32.31  \n",
       "361                        26.09  \n",
       "362                        22.31  \n",
       "363                        20.47  \n",
       "364                        22.45  \n",
       "\n",
       "[365 rows x 7 columns]"
      ]
     },
     "execution_count": 50,
     "metadata": {},
     "output_type": "execute_result"
    }
   ],
   "source": [
    "df"
   ]
  },
  {
   "cell_type": "code",
   "execution_count": 51,
   "metadata": {},
   "outputs": [
    {
     "name": "stdout",
     "output_type": "stream",
     "text": [
      "<class 'pandas.core.frame.DataFrame'>\n",
      "Int64Index: 365 entries, 0 to 364\n",
      "Data columns (total 7 columns):\n",
      " #   Column                       Non-Null Count  Dtype  \n",
      "---  ------                       --------------  -----  \n",
      " 0   Data                         365 non-null    object \n",
      " 1   Temperatura Media (C)        365 non-null    object \n",
      " 2   Temperatura Minima (C)       365 non-null    object \n",
      " 3   Temperatura Maxima (C)       365 non-null    object \n",
      " 4   Precipitacao (mm)            365 non-null    object \n",
      " 5   Final de Semana              365 non-null    float64\n",
      " 6   Consumo de cerveja (litros)  365 non-null    float64\n",
      "dtypes: float64(2), object(5)\n",
      "memory usage: 22.8+ KB\n"
     ]
    }
   ],
   "source": [
    "df.info()"
   ]
  },
  {
   "cell_type": "code",
   "execution_count": 52,
   "metadata": {},
   "outputs": [],
   "source": [
    "df['Data'] = pd.to_datetime(df['Data'])"
   ]
  },
  {
   "cell_type": "code",
   "execution_count": 53,
   "metadata": {},
   "outputs": [],
   "source": [
    "np.set_printoptions(suppress=True)\n",
    "pd.set_option('display.float_format', lambda x: '%.2f' % x)"
   ]
  },
  {
   "cell_type": "code",
   "execution_count": 54,
   "metadata": {},
   "outputs": [
    {
     "data": {
      "text/plain": [
       "0     1420070400.00\n",
       "1     1420156800.00\n",
       "2     1420243200.00\n",
       "3     1420329600.00\n",
       "4     1420416000.00\n",
       "           ...     \n",
       "360   1451174400.00\n",
       "361   1451260800.00\n",
       "362   1451347200.00\n",
       "363   1451433600.00\n",
       "364   1451520000.00\n",
       "Name: Data, Length: 365, dtype: float64"
      ]
     },
     "execution_count": 54,
     "metadata": {},
     "output_type": "execute_result"
    }
   ],
   "source": [
    "(df['Data'] - pd.to_datetime('1970-01-01')).dt.total_seconds()"
   ]
  },
  {
   "cell_type": "code",
   "execution_count": 55,
   "metadata": {},
   "outputs": [
    {
     "name": "stderr",
     "output_type": "stream",
     "text": [
      "No artists with labels found to put in legend.  Note that artists whose label start with an underscore are ignored when legend() is called with no argument.\n"
     ]
    },
    {
     "data": {
      "text/plain": [
       "<matplotlib.legend.Legend at 0x2a770e0c9d0>"
      ]
     },
     "execution_count": 55,
     "metadata": {},
     "output_type": "execute_result"
    },
    {
     "data": {
      "image/png": "[encoded data removed]",
      "text/plain": [
       "<Figure size 720x720 with 1 Axes>"
      ]
     },
     "metadata": {},
     "output_type": "display_data"
    }
   ],
   "source": [
    "#zalezne od temperatury Maxima (C)\n",
    "# x = np.array(df.iloc[:, 3].replace({',': '.'}, regex=True)).astype(float)\n",
    "\n",
    "#zalezne od czasu\n",
    "x = np.array((df['Data'] - pd.to_datetime('1970-01-01')).dt.total_seconds())\n",
    "\n",
    "#jako odpowiedz ilosc skonsumowanego piwa\n",
    "# y = np.array(df.iloc[:, 6])\n",
    "\n",
    "#jako odpowiedz temperatura Minima (C)       \n",
    "y = np.array(df.iloc[:, 2].replace({',': '.'}, regex=True)).astype(float)\n",
    "\n",
    "fig = plt.figure(figsize=(10,10))\n",
    "plt.plot(x,y, linestyle='none', marker = 'o')\n",
    "plt.legend()"
   ]
  },
  {
   "cell_type": "markdown",
   "metadata": {
    "id": "3DG7NJhBeJ92"
   },
   "source": [
    "### modelowanie"
   ]
  },
  {
   "cell_type": "code",
   "execution_count": 56,
   "metadata": {},
   "outputs": [
    {
     "data": {
      "text/plain": [
       "LinearRegression()"
      ]
     },
     "execution_count": 56,
     "metadata": {},
     "output_type": "execute_result"
    }
   ],
   "source": [
    "#przygotowanie danych\n",
    "x = x.reshape(-1,1)\n",
    "y = y.reshape(-1,1)\n",
    "#model\n",
    "model =LinearRegression()\n",
    "#uczenie\n",
    "model.fit(x,y)"
   ]
  },
  {
   "cell_type": "code",
   "execution_count": 57,
   "metadata": {},
   "outputs": [
    {
     "data": {
      "text/plain": [
       "0.02892737726507888"
      ]
     },
     "execution_count": 57,
     "metadata": {},
     "output_type": "execute_result"
    }
   ],
   "source": [
    "model.score(x,y)"
   ]
  },
  {
   "cell_type": "code",
   "execution_count": 58,
   "metadata": {},
   "outputs": [],
   "source": [
    "a = model.coef_[0][0]\n",
    "b = model.intercept_[0]"
   ]
  },
  {
   "cell_type": "code",
   "execution_count": 59,
   "metadata": {},
   "outputs": [],
   "source": [
    "def linear_function(a,b,x):\n",
    "    return a*x + b"
   ]
  },
  {
   "cell_type": "code",
   "execution_count": 60,
   "metadata": {},
   "outputs": [],
   "source": [
    "x_reg = x\n",
    "y_reg = linear_function(a,b,x_reg)"
   ]
  },
  {
   "cell_type": "code",
   "execution_count": 61,
   "metadata": {},
   "outputs": [
    {
     "data": {
      "image/png": "[encoded data removed]",
      "text/plain": [
       "<Figure size 720x720 with 1 Axes>"
      ]
     },
     "metadata": {},
     "output_type": "display_data"
    }
   ],
   "source": [
    "fig = plt.figure(figsize = (10,10))\n",
    "plt.plot(x,y, linestyle='none', marker='o', markersize=8, label='real points')\n",
    "plt.plot(x_reg, y_reg, label = 'regression model')\n",
    "plt.legend()\n",
    "plt.xlabel(df.keys()[0], fontsize=18)\n",
    "plt.xlabel(df.keys()[2], fontsize=18)\n",
    "plt.show()"
   ]
  },
  {
   "cell_type": "markdown",
   "metadata": {
    "id": "UR5Sn-cQeJ92"
   },
   "source": [
    "## Multi regression\n",
    "Dopasowywanie modelu regresji liniowej wielu zmiennych."
   ]
  },
  {
   "cell_type": "code",
   "execution_count": 62,
   "metadata": {},
   "outputs": [
    {
     "data": {
      "text/plain": [
       "['Data',\n",
       " 'Temperatura Media (C)',\n",
       " 'Temperatura Minima (C)',\n",
       " 'Temperatura Maxima (C)',\n",
       " 'Precipitacao (mm)',\n",
       " 'Final de Semana',\n",
       " 'Consumo de cerveja (litros)']"
      ]
     },
     "execution_count": 62,
     "metadata": {},
     "output_type": "execute_result"
    }
   ],
   "source": [
    "list(df.keys())"
   ]
  },
  {
   "cell_type": "code",
   "execution_count": 63,
   "metadata": {},
   "outputs": [],
   "source": [
    "x1 = np.array(df.iloc[:,2].replace({',':'.'}, regex=True)).astype(float)\n",
    "x2 = np.array(df.iloc[:,3].replace({',':'.'}, regex=True)).astype(float)"
   ]
  },
  {
   "cell_type": "code",
   "execution_count": 64,
   "metadata": {},
   "outputs": [
    {
     "data": {
      "text/plain": [
       "(365, 2)"
      ]
     },
     "execution_count": 64,
     "metadata": {},
     "output_type": "execute_result"
    }
   ],
   "source": [
    "x = np.concatenate(\n",
    "    (\n",
    "        x1.reshape(-1,1),\n",
    "        x2.reshape(-1,1),\n",
    "    ),\n",
    "    axis=1\n",
    ")\n",
    "x.shape"
   ]
  },
  {
   "cell_type": "code",
   "execution_count": 66,
   "metadata": {
    "collapsed": true
   },
   "outputs": [
    {
     "data": {
      "text/plain": [
       "array([[23.9, 32.5],\n",
       "       [24.5, 33.5],\n",
       "       [22.4, 29.9],\n",
       "       [21.5, 28.6],\n",
       "       [21. , 28.3],\n",
       "       [20.1, 30.5],\n",
       "       [19.5, 33.7],\n",
       "       [19.5, 32.8],\n",
       "       [21.9, 34. ],\n",
       "       [22.1, 34.2],\n",
       "       [22.2, 34.8],\n",
       "       [21.4, 35.4],\n",
       "       [21.2, 34.8],\n",
       "       [21.3, 34. ],\n",
       "       [21.5, 32.8],\n",
       "       [22.3, 32.7],\n",
       "       [22. , 35.8],\n",
       "       [23.4, 35.6],\n",
       "       [22.7, 36.5],\n",
       "       [23.3, 35.6],\n",
       "       [22.7, 30.9],\n",
       "       [19.2, 26.1],\n",
       "       [18.5, 26.1],\n",
       "       [19. , 29.4],\n",
       "       [18.1, 30. ],\n",
       "       [18.9, 28.7],\n",
       "       [20.5, 28.7],\n",
       "       [20.1, 29.9],\n",
       "       [21.5, 29.2],\n",
       "       [20.9, 26.9],\n",
       "       [18.5, 24.3],\n",
       "       [20.6, 28. ],\n",
       "       [20.7, 26.5],\n",
       "       [18. , 31.1],\n",
       "       [19.9, 23.7],\n",
       "       [19.1, 22.9],\n",
       "       [17.9, 25.4],\n",
       "       [17.3, 28.7],\n",
       "       [17.1, 29.5],\n",
       "       [19.3, 30.7],\n",
       "       [20.1, 29. ],\n",
       "       [19.9, 30.4],\n",
       "       [23.1, 32.7],\n",
       "       [22.5, 32.1],\n",
       "       [21.1, 31.6],\n",
       "       [20. , 27.6],\n",
       "       [18.8, 27.3],\n",
       "       [19.7, 28. ],\n",
       "       [19.9, 26.4],\n",
       "       [19.9, 28.5],\n",
       "       [21.7, 28.2],\n",
       "       [21.4, 31.1],\n",
       "       [20.4, 30.8],\n",
       "       [20.7, 31.4],\n",
       "       [20.5, 31.9],\n",
       "       [19.3, 29.3],\n",
       "       [19.2, 30.3],\n",
       "       [20.4, 31.4],\n",
       "       [19.7, 27.7],\n",
       "       [18.2, 26.3],\n",
       "       [17.2, 29.2],\n",
       "       [19.5, 29.5],\n",
       "       [18.9, 30.5],\n",
       "       [19.7, 31.6],\n",
       "       [19.4, 28.5],\n",
       "       [19.4, 26.6],\n",
       "       [19.7, 24.4],\n",
       "       [19.7, 23.3],\n",
       "       [21.2, 26.9],\n",
       "       [20.1, 28.1],\n",
       "       [19.2, 26.9],\n",
       "       [20. , 26.6],\n",
       "       [19.9, 27.9],\n",
       "       [19.1, 26.8],\n",
       "       [18.6, 29.4],\n",
       "       [18.6, 25.6],\n",
       "       [19.7, 24.1],\n",
       "       [19.2, 27.1],\n",
       "       [18.9, 28.2],\n",
       "       [18.5, 25.3],\n",
       "       [18.1, 22.8],\n",
       "       [17.1, 23.3],\n",
       "       [17.4, 26.3],\n",
       "       [17.1, 27.9],\n",
       "       [18.3, 29.8],\n",
       "       [18. , 30.8],\n",
       "       [19.1, 29.5],\n",
       "       [20.5, 26.6],\n",
       "       [19. , 25.9],\n",
       "       [20.1, 29. ],\n",
       "       [19.2, 27.5],\n",
       "       [18.2, 26.2],\n",
       "       [16.3, 27.2],\n",
       "       [17.9, 29.4],\n",
       "       [20.1, 26.4],\n",
       "       [18.5, 27.7],\n",
       "       [16.1, 20. ],\n",
       "       [14.7, 24.3],\n",
       "       [15.9, 25.6],\n",
       "       [17. , 25.5]])"
      ]
     },
     "execution_count": 66,
     "metadata": {},
     "output_type": "execute_result"
    }
   ],
   "source": [
    "x[:100]"
   ]
  },
  {
   "cell_type": "code",
   "execution_count": null,
   "metadata": {},
   "outputs": [],
   "source": [
    "[89,892,90]"
   ]
  },
  {
   "cell_type": "code",
   "execution_count": 67,
   "metadata": {},
   "outputs": [
    {
     "name": "stderr",
     "output_type": "stream",
     "text": [
      "C:\\Users\\karol\\anaconda\\lib\\site-packages\\sklearn\\linear_model\\_base.py:141: FutureWarning: 'normalize' was deprecated in version 1.0 and will be removed in 1.2.\n",
      "If you wish to scale the data, use Pipeline with a StandardScaler in a preprocessing stage. To reproduce the previous behavior:\n",
      "\n",
      "from sklearn.pipeline import make_pipeline\n",
      "\n",
      "model = make_pipeline(StandardScaler(with_mean=False), LinearRegression())\n",
      "\n",
      "If you wish to pass a sample_weight parameter, you need to pass it as a fit parameter to each step of the pipeline as follows:\n",
      "\n",
      "kwargs = {s[0] + '__sample_weight': sample_weight for s in model.steps}\n",
      "model.fit(X, y, **kwargs)\n",
      "\n",
      "\n",
      "  warnings.warn(\n"
     ]
    },
    {
     "data": {
      "text/plain": [
       "LinearRegression(normalize=True)"
      ]
     },
     "execution_count": 67,
     "metadata": {},
     "output_type": "execute_result"
    }
   ],
   "source": [
    "# modelujemy\n",
    "multi_regr = LinearRegression(normalize=True)\n",
    "multi_regr.fit(x,y)"
   ]
  },
  {
   "cell_type": "code",
   "execution_count": 68,
   "metadata": {},
   "outputs": [
    {
     "data": {
      "text/plain": [
       "1.0"
      ]
     },
     "execution_count": 68,
     "metadata": {},
     "output_type": "execute_result"
    }
   ],
   "source": [
    "# sprawdzam r2\n",
    "r2_score(y, multi_regr.predict(x))"
   ]
  },
  {
   "cell_type": "code",
   "execution_count": 72,
   "metadata": {},
   "outputs": [
    {
     "data": {
      "text/plain": [
       "array([[ 1., -0.]])"
      ]
     },
     "execution_count": 72,
     "metadata": {},
     "output_type": "execute_result"
    }
   ],
   "source": [
    "multi_regr.coef_"
   ]
  },
  {
   "cell_type": "code",
   "execution_count": 73,
   "metadata": {},
   "outputs": [
    {
     "data": {
      "text/plain": [
       "array([-0.])"
      ]
     },
     "execution_count": 73,
     "metadata": {},
     "output_type": "execute_result"
    }
   ],
   "source": [
    "multi_regr.intercept_"
   ]
  },
  {
   "cell_type": "code",
   "execution_count": 69,
   "metadata": {},
   "outputs": [],
   "source": [
    "# rysujemy przestrzeń 3D\n",
    "from mpl_toolkits.mplot3d import axes3d"
   ]
  },
  {
   "cell_type": "code",
   "execution_count": 70,
   "metadata": {},
   "outputs": [],
   "source": [
    "# tworzymy macierze danych\n",
    "X1, X2 = np.meshgrid(x1, x2, indexing='xy')\n",
    "Z = np.zeros((x1.size, x2.size))\n",
    "\n",
    "for (i,j),v in np.ndenumerate(Z):\n",
    "        Z[i,j] = multi_regr.predict(np.stack([X1[i,j], X2[i,j]]).reshape(1, -1))"
   ]
  },
  {
   "cell_type": "code",
   "execution_count": 75,
   "metadata": {},
   "outputs": [
    {
     "name": "stderr",
     "output_type": "stream",
     "text": [
      "C:\\Users\\karol\\AppData\\Local\\Temp\\ipykernel_21244\\1467516302.py:5: MatplotlibDeprecationWarning: Axes3D(fig) adding itself to the figure is deprecated since 3.4. Pass the keyword argument auto_add_to_figure=False and use fig.add_axes(ax) to suppress this warning. The default value of auto_add_to_figure will change to False in mpl3.5 and True values will no longer work in 3.6.  This is consistent with other Axes classes.\n",
      "  ax = axes3d.Axes3D(fig)\n"
     ]
    },
    {
     "data": {
      "image/png": "[encoded data removed]",
      "text/plain": [
       "<Figure size 576x504 with 1 Axes>"
      ]
     },
     "metadata": {},
     "output_type": "display_data"
    }
   ],
   "source": [
    "# Create plot\n",
    "fig = plt.figure()\n",
    "fig.suptitle('Consumo vs Temperatura', fontsize=20)\n",
    "\n",
    "ax = axes3d.Axes3D(fig)\n",
    "\n",
    "ax.plot_surface(X1, X2, Z, rstride=10, cstride=5, alpha=0.4)\n",
    "ax.scatter3D(x1, x2, y, c='y')\n",
    "\n",
    "\n",
    "ax.set_xlabel('Temperatura Minima')\n",
    "ax.set_xlim(0,50)\n",
    "ax.set_ylabel('Temperatura Maxima')\n",
    "ax.set_ylim(ymin=0)\n",
    "ax.set_zlabel('Consumo');\n",
    "\n",
    "ax.view_init(20, -25)\n",
    "\n",
    "plt.show()"
   ]
  }
 ],
 "metadata": {
  "colab": {
   "provenance": []
  },
  "kernelspec": {
   "display_name": "Python 3 (ipykernel)",
   "language": "python",
   "name": "python3"
  },
  "language_info": {
   "codemirror_mode": {
    "name": "ipython",
    "version": 3
   },
   "file_extension": ".py",
   "mimetype": "text/x-python",
   "name": "python",
   "nbconvert_exporter": "python",
   "pygments_lexer": "ipython3",
   "version": "3.9.12"
  },
  "toc": {
   "base_numbering": 1,
   "nav_menu": {},
   "number_sections": true,
   "sideBar": true,
   "skip_h1_title": true,
   "title_cell": "Table of Contents",
   "title_sidebar": "Contents",
   "toc_cell": true,
   "toc_position": {},
   "toc_section_display": true,
   "toc_window_display": true
  }
 },
 "nbformat": 4,
 "nbformat_minor": 1
}
