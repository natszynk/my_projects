{
 "cells": [
  {
   "cell_type": "markdown",
   "metadata": {
    "id": "IPxeIRNpb2I8",
    "toc": true
   },
   "source": [
    "<h1>Table of Contents<span class=\"tocSkip\"></span></h1>\n",
    "<div class=\"toc\"><ul class=\"toc-item\"><li><span><a href=\"#Zadanie\" data-toc-modified-id=\"Zadanie-1\"><span class=\"toc-item-num\">1&nbsp;&nbsp;</span>Zadanie</a></span><ul class=\"toc-item\"><li><span><a href=\"#Na-początku-wczytaj-dane-data/height.csv\" data-toc-modified-id=\"Na-początku-wczytaj-dane-data/height.csv-1.1\"><span class=\"toc-item-num\">1.1&nbsp;&nbsp;</span>Na początku wczytaj dane <i>data/height.csv</i></a></span></li><li><span><a href=\"#Narysuj-wykres-wysokości-w-czasie\" data-toc-modified-id=\"Narysuj-wykres-wysokości-w-czasie-1.2\"><span class=\"toc-item-num\">1.2&nbsp;&nbsp;</span>Narysuj wykres wysokości w czasie</a></span></li><li><span><a href=\"#Z-pierwszego-i-ostatniego-punktu-wyznacz-równanie-prostej-na-podstawie-poniższych-wzorów\" data-toc-modified-id=\"Z-pierwszego-i-ostatniego-punktu-wyznacz-równanie-prostej-na-podstawie-poniższych-wzorów-1.3\"><span class=\"toc-item-num\">1.3&nbsp;&nbsp;</span>Z pierwszego i ostatniego punktu wyznacz równanie prostej na podstawie poniższych wzorów</a></span></li></ul></li><li><span><a href=\"#Składamy-regresję-liniową.\" data-toc-modified-id=\"Składamy-regresję-liniową.-2\"><span class=\"toc-item-num\">2&nbsp;&nbsp;</span>Składamy regresję liniową.</a></span><ul class=\"toc-item\"><li><span><a href=\"#Implementacja-równania-regresji-liniowej-w-następującej-kolejności:\" data-toc-modified-id=\"Implementacja-równania-regresji-liniowej-w-następującej-kolejności:-2.1\"><span class=\"toc-item-num\">2.1&nbsp;&nbsp;</span>Implementacja równania regresji liniowej w następującej kolejności:</a></span></li><li><span><a href=\"#Zadanie-Narysuj-wykres-regresji-liniowej\" data-toc-modified-id=\"Zadanie-Narysuj-wykres-regresji-liniowej-2.2\"><span class=\"toc-item-num\">2.2&nbsp;&nbsp;</span>Zadanie Narysuj wykres regresji liniowej</a></span></li><li><span><a href=\"#Współczynnik-determinacji\" data-toc-modified-id=\"Współczynnik-determinacji-2.3\"><span class=\"toc-item-num\">2.3&nbsp;&nbsp;</span>Współczynnik determinacji</a></span></li><li><span><a href=\"#Wykres-reszt\" data-toc-modified-id=\"Wykres-reszt-2.4\"><span class=\"toc-item-num\">2.4&nbsp;&nbsp;</span>Wykres reszt</a></span></li></ul></li></ul></div>"
   ]
  },
  {
   "cell_type": "markdown",
   "metadata": {
    "id": "dcepyr55b2JV"
   },
   "source": [
    "# Prosty przykład regresji liniowej"
   ]
  },
  {
   "cell_type": "code",
   "execution_count": 2,
   "metadata": {
    "id": "ZRpOFYbPb2Jb"
   },
   "outputs": [],
   "source": [
    "import pandas as pd\n",
    "import numpy as np\n",
    "import matplotlib.pyplot as plt\n",
    "import math"
   ]
  },
  {
   "cell_type": "code",
   "execution_count": 2,
   "metadata": {},
   "outputs": [],
   "source": [
    "# from jupyterthemes import jtplot\n",
    "# jtplot.style(theme=\"monokai\", context=\"notebook\", ticks=True, grid=False)"
   ]
  },
  {
   "cell_type": "markdown",
   "metadata": {
    "id": "FbvPXjjrb2Jj"
   },
   "source": [
    "## Zadanie\n",
    "### Na początku wczytaj dane <I>data/height.csv</I>"
   ]
  },
  {
   "cell_type": "code",
   "execution_count": 3,
   "metadata": {},
   "outputs": [],
   "source": [
    "df = pd.read_csv(\"data/height.csv\")"
   ]
  },
  {
   "cell_type": "code",
   "execution_count": 4,
   "metadata": {},
   "outputs": [
    {
     "data": {
      "text/html": [
       "<div>\n",
       "<style scoped>\n",
       "    .dataframe tbody tr th:only-of-type {\n",
       "        vertical-align: middle;\n",
       "    }\n",
       "\n",
       "    .dataframe tbody tr th {\n",
       "        vertical-align: top;\n",
       "    }\n",
       "\n",
       "    .dataframe thead th {\n",
       "        text-align: right;\n",
       "    }\n",
       "</style>\n",
       "<table border=\"1\" class=\"dataframe\">\n",
       "  <thead>\n",
       "    <tr style=\"text-align: right;\">\n",
       "      <th></th>\n",
       "      <th>Height</th>\n",
       "    </tr>\n",
       "  </thead>\n",
       "  <tbody>\n",
       "    <tr>\n",
       "      <th>0</th>\n",
       "      <td>1.47</td>\n",
       "    </tr>\n",
       "    <tr>\n",
       "      <th>1</th>\n",
       "      <td>1.50</td>\n",
       "    </tr>\n",
       "    <tr>\n",
       "      <th>2</th>\n",
       "      <td>1.52</td>\n",
       "    </tr>\n",
       "    <tr>\n",
       "      <th>3</th>\n",
       "      <td>1.55</td>\n",
       "    </tr>\n",
       "    <tr>\n",
       "      <th>4</th>\n",
       "      <td>1.57</td>\n",
       "    </tr>\n",
       "  </tbody>\n",
       "</table>\n",
       "</div>"
      ],
      "text/plain": [
       "   Height\n",
       "0    1.47\n",
       "1    1.50\n",
       "2    1.52\n",
       "3    1.55\n",
       "4    1.57"
      ]
     },
     "execution_count": 4,
     "metadata": {},
     "output_type": "execute_result"
    }
   ],
   "source": [
    "df.head()"
   ]
  },
  {
   "cell_type": "code",
   "execution_count": 5,
   "metadata": {},
   "outputs": [
    {
     "data": {
      "text/plain": [
       "(15, 1)"
      ]
     },
     "execution_count": 5,
     "metadata": {},
     "output_type": "execute_result"
    }
   ],
   "source": [
    "df.shape"
   ]
  },
  {
   "cell_type": "markdown",
   "metadata": {
    "id": "48-HjsP6b2Jo"
   },
   "source": [
    "### Narysuj wykres wysokości w czasie"
   ]
  },
  {
   "cell_type": "code",
   "execution_count": 6,
   "metadata": {},
   "outputs": [
    {
     "data": {
      "text/plain": [
       "array([1.47, 1.5 , 1.52, 1.55, 1.57, 1.6 , 1.63, 1.65, 1.68, 1.7 , 1.73,\n",
       "       1.75, 1.78, 1.8 , 1.83])"
      ]
     },
     "execution_count": 6,
     "metadata": {},
     "output_type": "execute_result"
    }
   ],
   "source": [
    "# Naszym 'czasem' jest indeks\n",
    "# Biblioteki do ML przyjmują dane w postaci NumPy; może dokonać sobie konwersji z DataFrames\n",
    "heightArr = df['Height'].to_numpy()\n",
    "heightArr"
   ]
  },
  {
   "cell_type": "code",
   "execution_count": 7,
   "metadata": {},
   "outputs": [
    {
     "data": {
      "text/plain": [
       "15"
      ]
     },
     "execution_count": 7,
     "metadata": {},
     "output_type": "execute_result"
    }
   ],
   "source": [
    "len(heightArr)"
   ]
  },
  {
   "cell_type": "code",
   "execution_count": 9,
   "metadata": {},
   "outputs": [
    {
     "data": {
      "image/png": "[encoded data removed]",
      "text/plain": [
       "<Figure size 640x480 with 1 Axes>"
      ]
     },
     "metadata": {},
     "output_type": "display_data"
    }
   ],
   "source": [
    "plt.plot(heightArr, linestyle='none', marker = 'o')\n",
    "pass"
   ]
  },
  {
   "cell_type": "markdown",
   "metadata": {
    "id": "BZyTSZSHb2Js"
   },
   "source": [
    "### Z pierwszego i ostatniego punktu wyznacz równanie prostej na podstawie poniższych wzorów\n",
    "\n",
    "\n",
    "$$\n",
    "a = \\frac{y_B-y_A}{x_B-x_A} \\\\\n",
    "b = y_A-ax_A\\\\\n",
    "\\\\\n",
    "\\text{A,B - skrajne punkty o współrzędnych (x,y)} \\\\\n",
    "\\text{a - slope} \\\\\n",
    "\\text{b - intercept} \\\\\n",
    "$$\n"
   ]
  },
  {
   "cell_type": "code",
   "execution_count": 10,
   "metadata": {},
   "outputs": [
    {
     "data": {
      "text/plain": [
       "(0, 1.47)"
      ]
     },
     "execution_count": 10,
     "metadata": {},
     "output_type": "execute_result"
    }
   ],
   "source": [
    "A = (0, heightArr[0])\n",
    "A "
   ]
  },
  {
   "cell_type": "code",
   "execution_count": 11,
   "metadata": {},
   "outputs": [],
   "source": [
    "# heightArr.size -1"
   ]
  },
  {
   "cell_type": "code",
   "execution_count": 12,
   "metadata": {},
   "outputs": [
    {
     "data": {
      "text/plain": [
       "(14, 1.83)"
      ]
     },
     "execution_count": 12,
     "metadata": {},
     "output_type": "execute_result"
    }
   ],
   "source": [
    "B = (heightArr.size -1, heightArr[heightArr.size -1])\n",
    "B"
   ]
  },
  {
   "cell_type": "code",
   "execution_count": 13,
   "metadata": {},
   "outputs": [
    {
     "name": "stdout",
     "output_type": "stream",
     "text": [
      "A = (0, 1.47), B = (14, 1.83)\n"
     ]
    }
   ],
   "source": [
    "print(f'A = {A}, B = {B}')"
   ]
  },
  {
   "cell_type": "code",
   "execution_count": 14,
   "metadata": {},
   "outputs": [
    {
     "data": {
      "text/plain": [
       "0.02571428571428572"
      ]
     },
     "execution_count": 14,
     "metadata": {},
     "output_type": "execute_result"
    }
   ],
   "source": [
    "a = ((B[1] - A[1]) / (B[0] - A[0]))\n",
    "a"
   ]
  },
  {
   "cell_type": "code",
   "execution_count": 15,
   "metadata": {},
   "outputs": [
    {
     "data": {
      "text/plain": [
       "1.47"
      ]
     },
     "execution_count": 15,
     "metadata": {},
     "output_type": "execute_result"
    }
   ],
   "source": [
    "b = A[1] - a*A[0]\n",
    "b"
   ]
  },
  {
   "cell_type": "code",
   "execution_count": 16,
   "metadata": {},
   "outputs": [
    {
     "name": "stdout",
     "output_type": "stream",
     "text": [
      "a = 0.026, b = 1.47\n"
     ]
    }
   ],
   "source": [
    "print('a = {0:.3f}, b = {1}'.format(a,b))"
   ]
  },
  {
   "cell_type": "code",
   "execution_count": 17,
   "metadata": {},
   "outputs": [],
   "source": [
    "def linear_function(a,b,x):\n",
    "    \"\"\"\n",
    "    nasza funkcja liniowa\"\"\"\n",
    "    return a*x + b"
   ]
  },
  {
   "cell_type": "code",
   "execution_count": 18,
   "metadata": {},
   "outputs": [],
   "source": [
    "#plt.plot (x, y)\n",
    "#plt.plot([x ze skrajnego pkt A, x ze skrajnego pkt B], [y ze skrajnego pkt A, y ze skrajnego pkt B])"
   ]
  },
  {
   "cell_type": "code",
   "execution_count": 19,
   "metadata": {},
   "outputs": [
    {
     "data": {
      "image/png": "[encoded data removed]",
      "text/plain": [
       "<Figure size 1000x1000 with 1 Axes>"
      ]
     },
     "metadata": {},
     "output_type": "display_data"
    }
   ],
   "source": [
    "#rysujemy wykres funkcji\n",
    "fig = plt.figure(figsize = (10,10))\n",
    "xDraw = np.arange(math.floor(A[0]) -1, math.ceil(B[0]) + 2)\n",
    "yDraw = linear_function(a,b,xDraw)\n",
    "plt.plot(xDraw, yDraw)\n",
    "plt.plot(heightArr, linestyle = 'none', marker = 'o')\n",
    "plt.plot([A[0], B[0]], [A[1], B[1]], linestyle= 'none', marker = 'o', markersize=6)\n",
    "plt.show()"
   ]
  },
  {
   "cell_type": "markdown",
   "metadata": {
    "id": "n_GhWtuGb2J0"
   },
   "source": [
    "## Składamy regresję liniową.\n",
    "Współczynnik kierunkowy (slope)\n",
    "$$\n",
    "a = \\frac{\\sum_{k=1}^n(x_i-x_{mean})(y_i-y_{mean})}{\\sum_{k=1}^n(x_i-x_{mean})^2}\\\\ \n",
    "\n",
    "x_i\\text{ - wartość współrzędnej x kolejnych punktów} \\\\\n",
    "y_i\\text{ - wartość współrzędnej y kolejnych punktów} \\\\\n",
    "x_{mean}\\text{ - średnia wartość współrzędnej x wszystkich punktów} \\\\\n",
    "y_{mean}\\text{ - średnia wartość współrzędnej y wszystkich punktów}\n",
    "$$\n",
    "\\\n",
    "Współczynnik przesunięcia (intercept)\n",
    "\\begin{equation*}\n",
    "b = y_{mean}-ax_{mean}\n",
    "\\end{equation*} "
   ]
  },
  {
   "cell_type": "markdown",
   "metadata": {
    "id": "U2nOWsv_b2J5"
   },
   "source": [
    "### Implementacja równania regresji liniowej w następującej kolejności:\n",
    "1. Średnia x\n",
    "2. Średnia y\n",
    "3. Wektor różnicy x od średniej x\n",
    "4. Wektor różnicy y od średniej y\n",
    "5. Kwadrat pkt. 3\n",
    "6. Iloczyn pkt.3 i pkt.4\n",
    "7. Suma pkt. 6\n",
    "8. Suma pkt. 5\n",
    "9. Współczynnik slope\n",
    "10. Współczynnik intercept"
   ]
  },
  {
   "cell_type": "code",
   "execution_count": 21,
   "metadata": {},
   "outputs": [
    {
     "name": "stdout",
     "output_type": "stream",
     "text": [
      "x.shape (15,)\n",
      "y.shape (15,)\n"
     ]
    }
   ],
   "source": [
    "y = heightArr\n",
    "x = np.arange(0, heightArr.size ,1)\n",
    "print('x.shape', x.shape)\n",
    "print('y.shape', y.shape)"
   ]
  },
  {
   "cell_type": "code",
   "execution_count": 22,
   "metadata": {},
   "outputs": [
    {
     "data": {
      "text/plain": [
       "array([ 0,  1,  2,  3,  4,  5,  6,  7,  8,  9, 10, 11, 12, 13, 14])"
      ]
     },
     "execution_count": 22,
     "metadata": {},
     "output_type": "execute_result"
    }
   ],
   "source": [
    "x"
   ]
  },
  {
   "cell_type": "code",
   "execution_count": 23,
   "metadata": {},
   "outputs": [
    {
     "data": {
      "text/plain": [
       "array([1.47, 1.5 , 1.52, 1.55, 1.57, 1.6 , 1.63, 1.65, 1.68, 1.7 , 1.73,\n",
       "       1.75, 1.78, 1.8 , 1.83])"
      ]
     },
     "execution_count": 23,
     "metadata": {},
     "output_type": "execute_result"
    }
   ],
   "source": [
    "y"
   ]
  },
  {
   "cell_type": "code",
   "execution_count": 24,
   "metadata": {},
   "outputs": [
    {
     "data": {
      "text/plain": [
       "7.0"
      ]
     },
     "execution_count": 24,
     "metadata": {},
     "output_type": "execute_result"
    }
   ],
   "source": [
    "x_mean = x.mean()\n",
    "x_mean"
   ]
  },
  {
   "cell_type": "code",
   "execution_count": 25,
   "metadata": {},
   "outputs": [
    {
     "data": {
      "text/plain": [
       "1.6506666666666665"
      ]
     },
     "execution_count": 25,
     "metadata": {},
     "output_type": "execute_result"
    }
   ],
   "source": [
    "y_mean = y.mean()\n",
    "y_mean"
   ]
  },
  {
   "cell_type": "code",
   "execution_count": 26,
   "metadata": {},
   "outputs": [
    {
     "data": {
      "text/plain": [
       "array([-7., -6., -5., -4., -3., -2., -1.,  0.,  1.,  2.,  3.,  4.,  5.,\n",
       "        6.,  7.])"
      ]
     },
     "execution_count": 26,
     "metadata": {},
     "output_type": "execute_result"
    }
   ],
   "source": [
    "x_sub = x - x_mean\n",
    "x_sub"
   ]
  },
  {
   "cell_type": "code",
   "execution_count": 27,
   "metadata": {},
   "outputs": [
    {
     "data": {
      "text/plain": [
       "array([-0.18066667, -0.15066667, -0.13066667, -0.10066667, -0.08066667,\n",
       "       -0.05066667, -0.02066667, -0.00066667,  0.02933333,  0.04933333,\n",
       "        0.07933333,  0.09933333,  0.12933333,  0.14933333,  0.17933333])"
      ]
     },
     "execution_count": 27,
     "metadata": {},
     "output_type": "execute_result"
    }
   ],
   "source": [
    "y_sub = y - y_mean\n",
    "y_sub"
   ]
  },
  {
   "cell_type": "code",
   "execution_count": 28,
   "metadata": {},
   "outputs": [
    {
     "data": {
      "text/plain": [
       "array([ 1.26466667,  0.904     ,  0.65333333,  0.40266667,  0.242     ,\n",
       "        0.10133333,  0.02066667, -0.        ,  0.02933333,  0.09866667,\n",
       "        0.238     ,  0.39733333,  0.64666667,  0.896     ,  1.25533333])"
      ]
     },
     "execution_count": 28,
     "metadata": {},
     "output_type": "execute_result"
    }
   ],
   "source": [
    "x_sub_times_y_sub = x_sub * y_sub\n",
    "x_sub_times_y_sub"
   ]
  },
  {
   "cell_type": "code",
   "execution_count": 29,
   "metadata": {},
   "outputs": [
    {
     "data": {
      "text/plain": [
       "array([49., 36., 25., 16.,  9.,  4.,  1.,  0.,  1.,  4.,  9., 16., 25.,\n",
       "       36., 49.])"
      ]
     },
     "execution_count": 29,
     "metadata": {},
     "output_type": "execute_result"
    }
   ],
   "source": [
    "#x_sub_sq = x_sub**2\n",
    "x_sub_sq = np.square(x_sub)\n",
    "x_sub_sq"
   ]
  },
  {
   "cell_type": "code",
   "execution_count": 30,
   "metadata": {},
   "outputs": [
    {
     "data": {
      "text/plain": [
       "7.15"
      ]
     },
     "execution_count": 30,
     "metadata": {},
     "output_type": "execute_result"
    }
   ],
   "source": [
    "xy_sum = x_sub_times_y_sub.sum()\n",
    "xy_sum"
   ]
  },
  {
   "cell_type": "code",
   "execution_count": 31,
   "metadata": {},
   "outputs": [
    {
     "data": {
      "text/plain": [
       "280.0"
      ]
     },
     "execution_count": 31,
     "metadata": {},
     "output_type": "execute_result"
    }
   ],
   "source": [
    "x_sum = x_sub_sq.sum()\n",
    "x_sum"
   ]
  },
  {
   "cell_type": "code",
   "execution_count": 32,
   "metadata": {},
   "outputs": [
    {
     "data": {
      "text/plain": [
       "0.025535714285714287"
      ]
     },
     "execution_count": 32,
     "metadata": {},
     "output_type": "execute_result"
    }
   ],
   "source": [
    "a = xy_sum/x_sum\n",
    "a"
   ]
  },
  {
   "cell_type": "code",
   "execution_count": 33,
   "metadata": {},
   "outputs": [
    {
     "data": {
      "text/plain": [
       "1.4719166666666665"
      ]
     },
     "execution_count": 33,
     "metadata": {},
     "output_type": "execute_result"
    }
   ],
   "source": [
    "b = y_mean - a * x_mean\n",
    "b"
   ]
  },
  {
   "cell_type": "markdown",
   "metadata": {
    "id": "77yYSpxab2KA"
   },
   "source": [
    "### Zadanie Narysuj wykres regresji liniowej"
   ]
  },
  {
   "cell_type": "code",
   "execution_count": 36,
   "metadata": {},
   "outputs": [
    {
     "data": {
      "image/png": "[encoded data removed]",
      "text/plain": [
       "<Figure size 1000x1000 with 1 Axes>"
      ]
     },
     "metadata": {},
     "output_type": "display_data"
    }
   ],
   "source": [
    "# Rysujemy wykres powyzszej funkcji\n",
    "fig = plt.figure(figsize = (10,10))\n",
    "xDraw = x\n",
    "yDraw = linear_function(a,b,xDraw)\n",
    "plt.plot(xDraw, yDraw)\n",
    "plt.plot(heightArr, linestyle = 'none', marker = 'o')\n",
    "plt.show()"
   ]
  },
  {
   "cell_type": "markdown",
   "metadata": {
    "id": "0KkzJjkbb2KH"
   },
   "source": [
    "### Współczynnik determinacji\n",
    "\n",
    "$$\n",
    "R^2 = \\frac{\\sum_{k=1}^n(y_{pred}-y_{mean})^2}{\\sum_{k=1}^n(y_{ref}-y_{mean})^2} \\\\\n",
    "\n",
    "\\\n",
    "\n",
    "y_{pred}\\text{ - wartość przewidywana współrzędnej y na podsatwie modelu regresji liniowej} \\\\\n",
    "y_{ref}\\text{ - wartość referencyjna współrzędnej y} \\\\\n",
    "y_{mean}\\text{ - wartość średnia współrzędnej y} \\\\\n",
    "$$"
   ]
  },
  {
   "cell_type": "code",
   "execution_count": 37,
   "metadata": {},
   "outputs": [],
   "source": [
    "y_ref = y\n",
    "y_pred = linear_function(a,b,x)"
   ]
  },
  {
   "cell_type": "code",
   "execution_count": 38,
   "metadata": {},
   "outputs": [],
   "source": [
    "def r_square(y_pred, y_ref, y_mean):\n",
    "    up = np.sum(np.square(y_ref - y_mean))    # góra równannia\n",
    "    down = np.sum(np.square(y_pred - y_mean)) # dół równania\n",
    "    return up/down"
   ]
  },
  {
   "cell_type": "code",
   "execution_count": 39,
   "metadata": {},
   "outputs": [
    {
     "name": "stdout",
     "output_type": "stream",
     "text": [
      "R^2 dla modelu regresji liniowej: \n",
      " 1.0006187751642297\n"
     ]
    }
   ],
   "source": [
    "print('R^2 dla modelu regresji liniowej: \\n', r_square(y_pred, y_ref, y_mean))"
   ]
  },
  {
   "cell_type": "code",
   "execution_count": 47,
   "metadata": {},
   "outputs": [],
   "source": [
    "#R^2 jest w zakresie 0-1 (0-100% wytłumaczenia wariancji modelu)"
   ]
  },
  {
   "cell_type": "code",
   "execution_count": 40,
   "metadata": {},
   "outputs": [],
   "source": [
    "#sklearn\n",
    "from sklearn.metrics import r2_score"
   ]
  },
  {
   "cell_type": "code",
   "execution_count": 41,
   "metadata": {},
   "outputs": [
    {
     "data": {
      "text/plain": [
       "0.9993816074817023"
      ]
     },
     "execution_count": 41,
     "metadata": {},
     "output_type": "execute_result"
    }
   ],
   "source": [
    "r2_score(y_ref, y_pred)"
   ]
  },
  {
   "cell_type": "markdown",
   "metadata": {
    "id": "qc-_U6ZOb2KL"
   },
   "source": [
    "### Wykres reszt"
   ]
  },
  {
   "cell_type": "code",
   "execution_count": 42,
   "metadata": {},
   "outputs": [
    {
     "data": {
      "text/plain": [
       "array([-0.00191667,  0.00254762, -0.0029881 ,  0.00147619, -0.00405952,\n",
       "        0.00040476,  0.00486905, -0.00066667,  0.00379762, -0.0017381 ,\n",
       "        0.00272619, -0.00280952,  0.00165476, -0.00388095,  0.00058333])"
      ]
     },
     "execution_count": 42,
     "metadata": {},
     "output_type": "execute_result"
    }
   ],
   "source": [
    "yerr = y_ref - y_pred\n",
    "yerr"
   ]
  },
  {
   "cell_type": "code",
   "execution_count": 43,
   "metadata": {},
   "outputs": [
    {
     "data": {
      "image/png": "[encoded data removed]",
      "text/plain": [
       "<Figure size 640x480 with 1 Axes>"
      ]
     },
     "metadata": {},
     "output_type": "display_data"
    }
   ],
   "source": [
    "plt.plot(yerr, linestyle='none', marker = 'o')\n",
    "plt.show()"
   ]
  },
  {
   "cell_type": "code",
   "execution_count": 44,
   "metadata": {},
   "outputs": [
    {
     "data": {
      "image/png": "[encoded data removed]",
      "text/plain": [
       "<Figure size 640x480 with 1 Axes>"
      ]
     },
     "metadata": {},
     "output_type": "display_data"
    }
   ],
   "source": [
    "plt.bar(x, np.abs(yerr))\n",
    "plt.show()"
   ]
  },
  {
   "cell_type": "code",
   "execution_count": 46,
   "metadata": {},
   "outputs": [
    {
     "data": {
      "image/png": "[encoded data removed]",
      "text/plain": [
       "<Figure size 640x480 with 1 Axes>"
      ]
     },
     "metadata": {},
     "output_type": "display_data"
    }
   ],
   "source": [
    "plt.hist(yerr, bins=10,edgecolor='black')\n",
    "plt.show()"
   ]
  }
 ],
 "metadata": {
  "colab": {
   "provenance": []
  },
  "kernelspec": {
   "display_name": "Python 3.8.13 ('geo_env')",
   "language": "python",
   "name": "python3"
  },
  "language_info": {
   "codemirror_mode": {
    "name": "ipython",
    "version": 3
   },
   "file_extension": ".py",
   "mimetype": "text/x-python",
   "name": "python",
   "nbconvert_exporter": "python",
   "pygments_lexer": "ipython3",
   "version": "3.8.13"
  },
  "toc": {
   "base_numbering": 1,
   "nav_menu": {},
   "number_sections": true,
   "sideBar": true,
   "skip_h1_title": true,
   "title_cell": "Table of Contents",
   "title_sidebar": "Contents",
   "toc_cell": true,
   "toc_position": {
    "height": "533.6px",
    "left": "106px",
    "top": "250px",
    "width": "307.2px"
   },
   "toc_section_display": true,
   "toc_window_display": true
  },
  "vscode": {
   "interpreter": {
    "hash": "6f09629a95fec6ed3ac22ed764583667a844c769370b55e5a4240b6229385ad5"
   }
  }
 },
 "nbformat": 4,
 "nbformat_minor": 1
}
