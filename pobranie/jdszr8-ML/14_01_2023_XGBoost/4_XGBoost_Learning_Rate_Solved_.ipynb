{
 "cells": [
  {
   "cell_type": "markdown",
   "metadata": {
    "id": "01RFd6SwsbwB"
   },
   "source": [
    "Wytrenujmy regresor i wykorzystajmy funkcję `xgb.cv`. Wykorzystajmy wcześniejszy zestaw danych `kc_house_data.csv`."
   ]
  },
  {
   "cell_type": "code",
   "execution_count": 1,
   "metadata": {
    "id": "QcKN6t43sbwM"
   },
   "outputs": [],
   "source": [
    "import pandas as pd\n",
    "import xgboost as xgb\n",
    "import numpy as np\n",
    "import matplotlib.pyplot as plt"
   ]
  },
  {
   "cell_type": "code",
   "execution_count": 2,
   "metadata": {
    "id": "mcFKWjy2sbwT",
    "outputId": "83065fc6-27d2-47da-cb15-98eded077799"
   },
   "outputs": [
    {
     "name": "stdout",
     "output_type": "stream",
     "text": [
      "<class 'pandas.core.frame.DataFrame'>\n",
      "RangeIndex: 21613 entries, 0 to 21612\n",
      "Data columns (total 21 columns):\n",
      " #   Column         Non-Null Count  Dtype  \n",
      "---  ------         --------------  -----  \n",
      " 0   id             21613 non-null  int64  \n",
      " 1   date           21613 non-null  object \n",
      " 2   price          21613 non-null  float64\n",
      " 3   bedrooms       21613 non-null  int64  \n",
      " 4   bathrooms      21613 non-null  float64\n",
      " 5   sqft_living    21613 non-null  int64  \n",
      " 6   sqft_lot       21613 non-null  int64  \n",
      " 7   floors         21613 non-null  float64\n",
      " 8   waterfront     21613 non-null  int64  \n",
      " 9   view           21613 non-null  int64  \n",
      " 10  condition      21613 non-null  int64  \n",
      " 11  grade          21613 non-null  int64  \n",
      " 12  sqft_above     21613 non-null  int64  \n",
      " 13  sqft_basement  21613 non-null  int64  \n",
      " 14  yr_built       21613 non-null  int64  \n",
      " 15  yr_renovated   21613 non-null  int64  \n",
      " 16  zipcode        21613 non-null  int64  \n",
      " 17  lat            21613 non-null  float64\n",
      " 18  long           21613 non-null  float64\n",
      " 19  sqft_living15  21613 non-null  int64  \n",
      " 20  sqft_lot15     21613 non-null  int64  \n",
      "dtypes: float64(5), int64(15), object(1)\n",
      "memory usage: 3.5+ MB\n"
     ]
    }
   ],
   "source": [
    "data = pd.read_csv(\"./data/kc_house_data.csv\")\n",
    "data.info()"
   ]
  },
  {
   "cell_type": "code",
   "execution_count": 3,
   "metadata": {
    "id": "3l92ejZLsbwX"
   },
   "outputs": [],
   "source": [
    "y = data.price\n",
    "x = data.drop(['id', 'date', 'price', 'zipcode'], axis=1)"
   ]
  },
  {
   "cell_type": "code",
   "execution_count": 4,
   "metadata": {
    "id": "UWPiuzbxsbwa",
    "outputId": "fdd711cc-66c4-4230-9fce-179d8d84c813"
   },
   "outputs": [
    {
     "data": {
      "text/plain": [
       "Index(['bedrooms', 'bathrooms', 'sqft_living', 'sqft_lot', 'floors',\n",
       "       'waterfront', 'view', 'condition', 'grade', 'sqft_above',\n",
       "       'sqft_basement', 'yr_built', 'yr_renovated', 'lat', 'long',\n",
       "       'sqft_living15', 'sqft_lot15'],\n",
       "      dtype='object')"
      ]
     },
     "execution_count": 4,
     "metadata": {},
     "output_type": "execute_result"
    }
   ],
   "source": [
    "x.columns"
   ]
  },
  {
   "cell_type": "code",
   "execution_count": 5,
   "metadata": {
    "id": "4clTc5QQsbwc",
    "outputId": "e2006e83-47b2-4770-cde2-ffee362cf901"
   },
   "outputs": [
    {
     "data": {
      "text/plain": [
       "array([221900., 538000., 180000., ..., 402101., 400000., 325000.])"
      ]
     },
     "execution_count": 5,
     "metadata": {},
     "output_type": "execute_result"
    }
   ],
   "source": [
    "y.values"
   ]
  },
  {
   "cell_type": "markdown",
   "metadata": {
    "id": "fjxRBSGAsbwf"
   },
   "source": [
    "Podział danych na cechy oraz wyjście i złożenie ich w macierz DMatrix"
   ]
  },
  {
   "cell_type": "code",
   "execution_count": 6,
   "metadata": {
    "id": "6m-3sRSvsbwg"
   },
   "outputs": [],
   "source": [
    "data_dm = xgb.DMatrix(data=x.values, label=y.values)"
   ]
  },
  {
   "cell_type": "code",
   "execution_count": 7,
   "metadata": {
    "id": "FugRoQMesbwm"
   },
   "outputs": [],
   "source": [
    "params = {\"objective\":\"reg:squarederror\", \"max_depth\":3, \"learning_rate\": 0.1}"
   ]
  },
  {
   "cell_type": "markdown",
   "metadata": {
    "id": "PzBmwy54sbwo"
   },
   "source": [
    "Lista parametrów learnig rate'u zawiera się w przedziale [0-1]."
   ]
  },
  {
   "cell_type": "markdown",
   "metadata": {
    "id": "7DXlawV4sbwp"
   },
   "source": [
    "przykłądowy dobor listy do hiperparametrow: \n",
    "\n",
    "lr_vals = [0.001, 0.01, 0.1] \n",
    "\n",
    "#przyklad jak sie nie dobiera wartosci [0,0.1,0.2, 0.3, 0.4....] Zazwyczaj robi sie to w mniejszych obszarach."
   ]
  },
  {
   "cell_type": "markdown",
   "metadata": {
    "id": "TcP_M9f1sbwr"
   },
   "source": [
    "Iterujemy po liście parametrów i wykonujemy cross walidację."
   ]
  },
  {
   "cell_type": "code",
   "execution_count": 20,
   "metadata": {
    "id": "NxBhES-4sbws",
    "outputId": "c0f9caef-7f0c-47d3-a5f2-1c31537987c2",
    "scrolled": true,
    "tags": []
   },
   "outputs": [
    {
     "data": {
      "text/html": [
       "<div>\n",
       "<style scoped>\n",
       "    .dataframe tbody tr th:only-of-type {\n",
       "        vertical-align: middle;\n",
       "    }\n",
       "\n",
       "    .dataframe tbody tr th {\n",
       "        vertical-align: top;\n",
       "    }\n",
       "\n",
       "    .dataframe thead th {\n",
       "        text-align: right;\n",
       "    }\n",
       "</style>\n",
       "<table border=\"1\" class=\"dataframe\">\n",
       "  <thead>\n",
       "    <tr style=\"text-align: right;\">\n",
       "      <th></th>\n",
       "      <th>train-rmse-mean</th>\n",
       "      <th>train-rmse-std</th>\n",
       "      <th>test-rmse-mean</th>\n",
       "      <th>test-rmse-std</th>\n",
       "    </tr>\n",
       "  </thead>\n",
       "  <tbody>\n",
       "    <tr>\n",
       "      <th>0</th>\n",
       "      <td>260248.187069</td>\n",
       "      <td>4865.838233</td>\n",
       "      <td>266326.457953</td>\n",
       "      <td>9236.067043</td>\n",
       "    </tr>\n",
       "    <tr>\n",
       "      <th>1</th>\n",
       "      <td>199750.025961</td>\n",
       "      <td>3810.215863</td>\n",
       "      <td>211259.027358</td>\n",
       "      <td>14776.077637</td>\n",
       "    </tr>\n",
       "    <tr>\n",
       "      <th>2</th>\n",
       "      <td>179864.933612</td>\n",
       "      <td>4137.756434</td>\n",
       "      <td>195163.564522</td>\n",
       "      <td>11530.792695</td>\n",
       "    </tr>\n",
       "    <tr>\n",
       "      <th>3</th>\n",
       "      <td>169497.349187</td>\n",
       "      <td>2278.972862</td>\n",
       "      <td>187129.034172</td>\n",
       "      <td>11236.891862</td>\n",
       "    </tr>\n",
       "    <tr>\n",
       "      <th>4</th>\n",
       "      <td>163159.770149</td>\n",
       "      <td>855.269809</td>\n",
       "      <td>183509.039237</td>\n",
       "      <td>12443.985513</td>\n",
       "    </tr>\n",
       "    <tr>\n",
       "      <th>5</th>\n",
       "      <td>157237.986487</td>\n",
       "      <td>1108.339815</td>\n",
       "      <td>178504.588899</td>\n",
       "      <td>11283.380884</td>\n",
       "    </tr>\n",
       "    <tr>\n",
       "      <th>6</th>\n",
       "      <td>152708.673544</td>\n",
       "      <td>1256.702028</td>\n",
       "      <td>175038.271188</td>\n",
       "      <td>10902.483187</td>\n",
       "    </tr>\n",
       "    <tr>\n",
       "      <th>7</th>\n",
       "      <td>149635.135639</td>\n",
       "      <td>871.160615</td>\n",
       "      <td>173210.710418</td>\n",
       "      <td>11886.425482</td>\n",
       "    </tr>\n",
       "    <tr>\n",
       "      <th>8</th>\n",
       "      <td>147434.395224</td>\n",
       "      <td>1076.704166</td>\n",
       "      <td>172251.806584</td>\n",
       "      <td>11426.911264</td>\n",
       "    </tr>\n",
       "    <tr>\n",
       "      <th>9</th>\n",
       "      <td>144677.331914</td>\n",
       "      <td>1423.367776</td>\n",
       "      <td>170170.886878</td>\n",
       "      <td>11025.180334</td>\n",
       "    </tr>\n",
       "    <tr>\n",
       "      <th>10</th>\n",
       "      <td>141250.975682</td>\n",
       "      <td>1146.413162</td>\n",
       "      <td>167433.242798</td>\n",
       "      <td>10933.664424</td>\n",
       "    </tr>\n",
       "    <tr>\n",
       "      <th>11</th>\n",
       "      <td>139010.590689</td>\n",
       "      <td>944.605555</td>\n",
       "      <td>165597.088361</td>\n",
       "      <td>9844.674102</td>\n",
       "    </tr>\n",
       "    <tr>\n",
       "      <th>12</th>\n",
       "      <td>137298.343854</td>\n",
       "      <td>256.869160</td>\n",
       "      <td>164995.212310</td>\n",
       "      <td>9582.446093</td>\n",
       "    </tr>\n",
       "    <tr>\n",
       "      <th>13</th>\n",
       "      <td>133169.565309</td>\n",
       "      <td>1235.278342</td>\n",
       "      <td>160897.881059</td>\n",
       "      <td>9133.883860</td>\n",
       "    </tr>\n",
       "    <tr>\n",
       "      <th>14</th>\n",
       "      <td>131247.069660</td>\n",
       "      <td>1531.872154</td>\n",
       "      <td>160574.407095</td>\n",
       "      <td>8499.699103</td>\n",
       "    </tr>\n",
       "    <tr>\n",
       "      <th>15</th>\n",
       "      <td>127976.405538</td>\n",
       "      <td>1285.469001</td>\n",
       "      <td>158204.106193</td>\n",
       "      <td>8680.116404</td>\n",
       "    </tr>\n",
       "    <tr>\n",
       "      <th>16</th>\n",
       "      <td>126452.702625</td>\n",
       "      <td>1098.241354</td>\n",
       "      <td>156947.980450</td>\n",
       "      <td>8547.435648</td>\n",
       "    </tr>\n",
       "    <tr>\n",
       "      <th>17</th>\n",
       "      <td>124851.696652</td>\n",
       "      <td>1341.543580</td>\n",
       "      <td>155889.984415</td>\n",
       "      <td>8573.144010</td>\n",
       "    </tr>\n",
       "    <tr>\n",
       "      <th>18</th>\n",
       "      <td>123399.461112</td>\n",
       "      <td>1188.922263</td>\n",
       "      <td>155128.638708</td>\n",
       "      <td>8634.135902</td>\n",
       "    </tr>\n",
       "    <tr>\n",
       "      <th>19</th>\n",
       "      <td>122133.968412</td>\n",
       "      <td>639.193313</td>\n",
       "      <td>154735.283607</td>\n",
       "      <td>7480.044735</td>\n",
       "    </tr>\n",
       "    <tr>\n",
       "      <th>20</th>\n",
       "      <td>121041.687333</td>\n",
       "      <td>748.650093</td>\n",
       "      <td>154011.210355</td>\n",
       "      <td>7782.758959</td>\n",
       "    </tr>\n",
       "    <tr>\n",
       "      <th>21</th>\n",
       "      <td>119680.084644</td>\n",
       "      <td>1109.373756</td>\n",
       "      <td>152917.630230</td>\n",
       "      <td>8767.426641</td>\n",
       "    </tr>\n",
       "    <tr>\n",
       "      <th>22</th>\n",
       "      <td>118333.779599</td>\n",
       "      <td>737.478417</td>\n",
       "      <td>152804.911980</td>\n",
       "      <td>7666.340138</td>\n",
       "    </tr>\n",
       "    <tr>\n",
       "      <th>23</th>\n",
       "      <td>117326.881383</td>\n",
       "      <td>572.842429</td>\n",
       "      <td>152127.293954</td>\n",
       "      <td>7217.001636</td>\n",
       "    </tr>\n",
       "    <tr>\n",
       "      <th>24</th>\n",
       "      <td>116594.792584</td>\n",
       "      <td>513.982908</td>\n",
       "      <td>151954.367134</td>\n",
       "      <td>7285.537699</td>\n",
       "    </tr>\n",
       "    <tr>\n",
       "      <th>25</th>\n",
       "      <td>115781.395016</td>\n",
       "      <td>332.496641</td>\n",
       "      <td>151829.402079</td>\n",
       "      <td>7541.108469</td>\n",
       "    </tr>\n",
       "    <tr>\n",
       "      <th>26</th>\n",
       "      <td>114930.079653</td>\n",
       "      <td>27.981246</td>\n",
       "      <td>151397.714281</td>\n",
       "      <td>7197.298506</td>\n",
       "    </tr>\n",
       "    <tr>\n",
       "      <th>27</th>\n",
       "      <td>114010.417094</td>\n",
       "      <td>322.262378</td>\n",
       "      <td>151312.702421</td>\n",
       "      <td>7000.677867</td>\n",
       "    </tr>\n",
       "    <tr>\n",
       "      <th>28</th>\n",
       "      <td>113418.620611</td>\n",
       "      <td>322.054290</td>\n",
       "      <td>151318.766869</td>\n",
       "      <td>6282.838959</td>\n",
       "    </tr>\n",
       "    <tr>\n",
       "      <th>29</th>\n",
       "      <td>112606.529335</td>\n",
       "      <td>293.144824</td>\n",
       "      <td>151110.575775</td>\n",
       "      <td>6651.791645</td>\n",
       "    </tr>\n",
       "    <tr>\n",
       "      <th>30</th>\n",
       "      <td>111971.153497</td>\n",
       "      <td>368.074978</td>\n",
       "      <td>150527.507301</td>\n",
       "      <td>6690.199026</td>\n",
       "    </tr>\n",
       "    <tr>\n",
       "      <th>31</th>\n",
       "      <td>111600.728458</td>\n",
       "      <td>183.949538</td>\n",
       "      <td>150244.954722</td>\n",
       "      <td>6679.286416</td>\n",
       "    </tr>\n",
       "    <tr>\n",
       "      <th>32</th>\n",
       "      <td>111069.941589</td>\n",
       "      <td>202.050302</td>\n",
       "      <td>149995.606739</td>\n",
       "      <td>6442.288357</td>\n",
       "    </tr>\n",
       "    <tr>\n",
       "      <th>33</th>\n",
       "      <td>110429.472492</td>\n",
       "      <td>175.694971</td>\n",
       "      <td>149862.422294</td>\n",
       "      <td>6608.687359</td>\n",
       "    </tr>\n",
       "    <tr>\n",
       "      <th>34</th>\n",
       "      <td>109940.476656</td>\n",
       "      <td>153.169427</td>\n",
       "      <td>149592.114025</td>\n",
       "      <td>6446.261086</td>\n",
       "    </tr>\n",
       "    <tr>\n",
       "      <th>35</th>\n",
       "      <td>109348.682797</td>\n",
       "      <td>344.107855</td>\n",
       "      <td>149715.554979</td>\n",
       "      <td>6825.682287</td>\n",
       "    </tr>\n",
       "    <tr>\n",
       "      <th>36</th>\n",
       "      <td>108623.426562</td>\n",
       "      <td>304.679375</td>\n",
       "      <td>149652.395431</td>\n",
       "      <td>6985.591059</td>\n",
       "    </tr>\n",
       "    <tr>\n",
       "      <th>37</th>\n",
       "      <td>108199.837199</td>\n",
       "      <td>335.928690</td>\n",
       "      <td>149531.351794</td>\n",
       "      <td>6823.883613</td>\n",
       "    </tr>\n",
       "    <tr>\n",
       "      <th>38</th>\n",
       "      <td>107567.769241</td>\n",
       "      <td>255.007141</td>\n",
       "      <td>149099.660805</td>\n",
       "      <td>6743.543252</td>\n",
       "    </tr>\n",
       "    <tr>\n",
       "      <th>39</th>\n",
       "      <td>107074.827778</td>\n",
       "      <td>65.640920</td>\n",
       "      <td>148973.198232</td>\n",
       "      <td>6642.132273</td>\n",
       "    </tr>\n",
       "    <tr>\n",
       "      <th>40</th>\n",
       "      <td>106702.430552</td>\n",
       "      <td>136.013585</td>\n",
       "      <td>148400.749666</td>\n",
       "      <td>5955.212361</td>\n",
       "    </tr>\n",
       "    <tr>\n",
       "      <th>41</th>\n",
       "      <td>106372.005506</td>\n",
       "      <td>49.812522</td>\n",
       "      <td>148793.527683</td>\n",
       "      <td>5398.003478</td>\n",
       "    </tr>\n",
       "    <tr>\n",
       "      <th>42</th>\n",
       "      <td>105786.019908</td>\n",
       "      <td>180.327438</td>\n",
       "      <td>148637.944742</td>\n",
       "      <td>5280.426296</td>\n",
       "    </tr>\n",
       "    <tr>\n",
       "      <th>43</th>\n",
       "      <td>105421.457710</td>\n",
       "      <td>342.446995</td>\n",
       "      <td>148840.932397</td>\n",
       "      <td>5077.643903</td>\n",
       "    </tr>\n",
       "    <tr>\n",
       "      <th>44</th>\n",
       "      <td>105038.870461</td>\n",
       "      <td>342.630503</td>\n",
       "      <td>148935.296152</td>\n",
       "      <td>5271.574200</td>\n",
       "    </tr>\n",
       "    <tr>\n",
       "      <th>45</th>\n",
       "      <td>104584.049453</td>\n",
       "      <td>347.029947</td>\n",
       "      <td>148875.687959</td>\n",
       "      <td>5119.223061</td>\n",
       "    </tr>\n",
       "    <tr>\n",
       "      <th>46</th>\n",
       "      <td>104193.968177</td>\n",
       "      <td>391.219871</td>\n",
       "      <td>148859.861886</td>\n",
       "      <td>5039.614793</td>\n",
       "    </tr>\n",
       "    <tr>\n",
       "      <th>47</th>\n",
       "      <td>103675.138740</td>\n",
       "      <td>456.257693</td>\n",
       "      <td>148551.425207</td>\n",
       "      <td>5192.549258</td>\n",
       "    </tr>\n",
       "    <tr>\n",
       "      <th>48</th>\n",
       "      <td>103151.897900</td>\n",
       "      <td>402.132007</td>\n",
       "      <td>148600.084207</td>\n",
       "      <td>5353.598214</td>\n",
       "    </tr>\n",
       "    <tr>\n",
       "      <th>49</th>\n",
       "      <td>102703.442846</td>\n",
       "      <td>366.209373</td>\n",
       "      <td>148453.538288</td>\n",
       "      <td>5150.642481</td>\n",
       "    </tr>\n",
       "  </tbody>\n",
       "</table>\n",
       "</div>"
      ],
      "text/plain": [
       "    train-rmse-mean  train-rmse-std  test-rmse-mean  test-rmse-std\n",
       "0     260248.187069     4865.838233   266326.457953    9236.067043\n",
       "1     199750.025961     3810.215863   211259.027358   14776.077637\n",
       "2     179864.933612     4137.756434   195163.564522   11530.792695\n",
       "3     169497.349187     2278.972862   187129.034172   11236.891862\n",
       "4     163159.770149      855.269809   183509.039237   12443.985513\n",
       "5     157237.986487     1108.339815   178504.588899   11283.380884\n",
       "6     152708.673544     1256.702028   175038.271188   10902.483187\n",
       "7     149635.135639      871.160615   173210.710418   11886.425482\n",
       "8     147434.395224     1076.704166   172251.806584   11426.911264\n",
       "9     144677.331914     1423.367776   170170.886878   11025.180334\n",
       "10    141250.975682     1146.413162   167433.242798   10933.664424\n",
       "11    139010.590689      944.605555   165597.088361    9844.674102\n",
       "12    137298.343854      256.869160   164995.212310    9582.446093\n",
       "13    133169.565309     1235.278342   160897.881059    9133.883860\n",
       "14    131247.069660     1531.872154   160574.407095    8499.699103\n",
       "15    127976.405538     1285.469001   158204.106193    8680.116404\n",
       "16    126452.702625     1098.241354   156947.980450    8547.435648\n",
       "17    124851.696652     1341.543580   155889.984415    8573.144010\n",
       "18    123399.461112     1188.922263   155128.638708    8634.135902\n",
       "19    122133.968412      639.193313   154735.283607    7480.044735\n",
       "20    121041.687333      748.650093   154011.210355    7782.758959\n",
       "21    119680.084644     1109.373756   152917.630230    8767.426641\n",
       "22    118333.779599      737.478417   152804.911980    7666.340138\n",
       "23    117326.881383      572.842429   152127.293954    7217.001636\n",
       "24    116594.792584      513.982908   151954.367134    7285.537699\n",
       "25    115781.395016      332.496641   151829.402079    7541.108469\n",
       "26    114930.079653       27.981246   151397.714281    7197.298506\n",
       "27    114010.417094      322.262378   151312.702421    7000.677867\n",
       "28    113418.620611      322.054290   151318.766869    6282.838959\n",
       "29    112606.529335      293.144824   151110.575775    6651.791645\n",
       "30    111971.153497      368.074978   150527.507301    6690.199026\n",
       "31    111600.728458      183.949538   150244.954722    6679.286416\n",
       "32    111069.941589      202.050302   149995.606739    6442.288357\n",
       "33    110429.472492      175.694971   149862.422294    6608.687359\n",
       "34    109940.476656      153.169427   149592.114025    6446.261086\n",
       "35    109348.682797      344.107855   149715.554979    6825.682287\n",
       "36    108623.426562      304.679375   149652.395431    6985.591059\n",
       "37    108199.837199      335.928690   149531.351794    6823.883613\n",
       "38    107567.769241      255.007141   149099.660805    6743.543252\n",
       "39    107074.827778       65.640920   148973.198232    6642.132273\n",
       "40    106702.430552      136.013585   148400.749666    5955.212361\n",
       "41    106372.005506       49.812522   148793.527683    5398.003478\n",
       "42    105786.019908      180.327438   148637.944742    5280.426296\n",
       "43    105421.457710      342.446995   148840.932397    5077.643903\n",
       "44    105038.870461      342.630503   148935.296152    5271.574200\n",
       "45    104584.049453      347.029947   148875.687959    5119.223061\n",
       "46    104193.968177      391.219871   148859.861886    5039.614793\n",
       "47    103675.138740      456.257693   148551.425207    5192.549258\n",
       "48    103151.897900      402.132007   148600.084207    5353.598214\n",
       "49    102703.442846      366.209373   148453.538288    5150.642481"
      ]
     },
     "execution_count": 20,
     "metadata": {},
     "output_type": "execute_result"
    }
   ],
   "source": [
    "params[\"learning_rate\"] = 0.8\n",
    "\n",
    "cv_results = xgb.cv(dtrain=data_dm, params=params, nfold=3, num_boost_round=50, \n",
    "                            metrics=\"rmse\", as_pandas=True, seed=123)\n",
    "cv_results"
   ]
  },
  {
   "cell_type": "markdown",
   "metadata": {
    "id": "vFuVXHxRsbwt",
    "tags": []
   },
   "source": [
    "Wykreślmy zależnośc błędu z dodawaniem kolejnych estymatorów."
   ]
  },
  {
   "cell_type": "code",
   "execution_count": 21,
   "metadata": {
    "id": "wxvInqvAsbwu",
    "outputId": "d4a2a807-a22d-486b-be70-ab9a5d713075"
   },
   "outputs": [
    {
     "data": {
      "text/plain": [
       "Text(0, 0.5, 'Bład estymacji')"
      ]
     },
     "execution_count": 21,
     "metadata": {},
     "output_type": "execute_result"
    },
    {
     "data": {
      "image/png": "[encoded data removed]",
      "text/plain": [
       "<Figure size 1080x504 with 1 Axes>"
      ]
     },
     "metadata": {
      "needs_background": "light"
     },
     "output_type": "display_data"
    }
   ],
   "source": [
    "plt.figure(figsize=(15, 7))\n",
    "plt.plot(cv_results['train-rmse-mean'])\n",
    "plt.plot(cv_results['test-rmse-mean'])\n",
    "plt.legend([\"train-rmse\", \"test-rmse\"])\n",
    "plt.xlabel(\"Liczba estymatorów\")\n",
    "plt.ylabel(\"Bład estymacji\")"
   ]
  },
  {
   "cell_type": "markdown",
   "metadata": {
    "id": "ASNKWultsbww"
   },
   "source": [
    "### Zadanie 4\n",
    "\n",
    "Korzystając z powyższego kodu stwórz wykres, na którym zostanie pokazana zależność funkcji zmiany błędu estymacji w trakcie uczenia w zależności od parametru `learning_rate`. Wykorzystaj wartości `learning_rate` z tabeli `lr_array`."
   ]
  },
  {
   "cell_type": "code",
   "execution_count": 23,
   "metadata": {
    "id": "EHEpb9ltsbwz"
   },
   "outputs": [],
   "source": [
    "lr_array = [0.3, 0.1, 0.03, 0.01, 0.003, 0.001] #jedna do wyboru"
   ]
  },
  {
   "cell_type": "code",
   "execution_count": null,
   "metadata": {
    "id": "c_y43_qNsbw3"
   },
   "outputs": [],
   "source": [
    "lr_array = [0.8, 0.5, 0.3, 0.1, 0.03, 0.01]"
   ]
  },
  {
   "cell_type": "code",
   "execution_count": 22,
   "metadata": {
    "id": "ftw5IOcjsbw1",
    "outputId": "a5fe1fff-5b07-415c-9392-abad1c1e76e0"
   },
   "outputs": [
    {
     "data": {
      "text/plain": [
       "{'objective': 'reg:squarederror', 'max_depth': 3, 'learning_rate': 0.8}"
      ]
     },
     "execution_count": 22,
     "metadata": {},
     "output_type": "execute_result"
    }
   ],
   "source": [
    "params"
   ]
  },
  {
   "cell_type": "code",
   "execution_count": 25,
   "metadata": {},
   "outputs": [
    {
     "name": "stdout",
     "output_type": "stream",
     "text": [
      "{'objective': 'reg:squarederror', 'max_depth': 3, 'learning_rate': 0.3}\n",
      "{'objective': 'reg:squarederror', 'max_depth': 3, 'learning_rate': 0.1}\n",
      "{'objective': 'reg:squarederror', 'max_depth': 3, 'learning_rate': 0.03}\n",
      "{'objective': 'reg:squarederror', 'max_depth': 3, 'learning_rate': 0.01}\n",
      "{'objective': 'reg:squarederror', 'max_depth': 3, 'learning_rate': 0.003}\n",
      "{'objective': 'reg:squarederror', 'max_depth': 3, 'learning_rate': 0.001}\n"
     ]
    },
    {
     "data": {
      "image/png": "[encoded data removed]",
      "text/plain": [
       "<Figure size 1080x576 with 1 Axes>"
      ]
     },
     "metadata": {
      "needs_background": "light"
     },
     "output_type": "display_data"
    }
   ],
   "source": [
    "plt.figure(figsize=(15, 8))\n",
    "\n",
    "for lr in lr_array:\n",
    "    params[\"learning_rate\"] = lr\n",
    "    print(params)\n",
    "    cv_results = xgb.cv(\n",
    "        dtrain=data_dm, \n",
    "        params=params, \n",
    "        num_boost_round=200, \n",
    "        metrics=\"rmse\", \n",
    "        as_pandas=True, \n",
    "        seed=123\n",
    "    )\n",
    "    plt.plot(cv_results['train-rmse-mean'])\n",
    "\n",
    "plt.xlabel(\"Liczba estymatorów\")\n",
    "plt.ylabel(\"Bład estymacji\")\n",
    "plt.legend(lr_array)\n",
    "plt.show()"
   ]
  },
  {
   "cell_type": "code",
   "execution_count": null,
   "metadata": {},
   "outputs": [],
   "source": []
  },
  {
   "cell_type": "code",
   "execution_count": null,
   "metadata": {},
   "outputs": [],
   "source": []
  }
 ],
 "metadata": {
  "colab": {
   "provenance": []
  },
  "kernelspec": {
   "display_name": "Python 3 (ipykernel)",
   "language": "python",
   "name": "python3"
  },
  "language_info": {
   "codemirror_mode": {
    "name": "ipython",
    "version": 3
   },
   "file_extension": ".py",
   "mimetype": "text/x-python",
   "name": "python",
   "nbconvert_exporter": "python",
   "pygments_lexer": "ipython3",
   "version": "3.9.12"
  }
 },
 "nbformat": 4,
 "nbformat_minor": 1
}
