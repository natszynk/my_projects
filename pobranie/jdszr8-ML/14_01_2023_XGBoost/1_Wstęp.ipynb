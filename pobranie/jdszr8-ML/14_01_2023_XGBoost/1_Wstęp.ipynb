{
 "cells": [
  {
   "cell_type": "markdown",
   "metadata": {
    "id": "dmLjP_3vsXkW"
   },
   "source": [
    "### Wstęp do xgboost\n",
    "\n",
    "Zaczynamy od importów"
   ]
  },
  {
   "cell_type": "code",
   "execution_count": null,
   "metadata": {
    "id": "sAeONwLUsXke"
   },
   "outputs": [],
   "source": [
    "! pip install xgboost     # czysty Python\n",
    "! conda install xgboost   # anaconda"
   ]
  },
  {
   "cell_type": "code",
   "execution_count": null,
   "metadata": {
    "id": "KPIYL1HrsXki"
   },
   "outputs": [],
   "source": [
    "import pandas as pd\n",
    "import xgboost as xgb\n",
    "import numpy as np\n",
    "import time"
   ]
  },
  {
   "cell_type": "markdown",
   "metadata": {
    "id": "DNd_jhZLsXkl"
   },
   "source": [
    "Zaczniemy od przejrzenia zestawu danych. Jest to problem regresyjny - jest to cennik mieszkań.\n",
    "\n",
    "URL: https://www.kaggle.com/shivachandel/kc-house-data\n",
    "\n",
    "Dane znajdują się w pliku `kc_house_data.csv`."
   ]
  },
  {
   "cell_type": "code",
   "execution_count": null,
   "metadata": {
    "id": "Yk964xY8sXkn",
    "outputId": "62367113-98a2-4f1a-cc43-98a752d1040e"
   },
   "outputs": [],
   "source": [
    "data = pd.read_csv(\"./data/kc_house_data.csv\")\n",
    "data.head()"
   ]
  },
  {
   "cell_type": "code",
   "execution_count": null,
   "metadata": {
    "id": "Ok1_GyuhsXkn",
    "outputId": "bc13ad3c-9a48-4c4c-af6d-fc5826a16b88"
   },
   "outputs": [],
   "source": [
    "# date - split to year\n",
    "data.info()"
   ]
  },
  {
   "cell_type": "markdown",
   "metadata": {
    "id": "rbsgu_x7sXkp"
   },
   "source": [
    "XGBoost jest oddzielną biblioteką niż sklearn. Jest ona kompatybilna z sklearn, natomiast posiada kilka rozszerzeń specyficznych do tej biblioteki. Rzućmy okiem na obiekt reprezentujący model, który będziemy uczyć:"
   ]
  },
  {
   "cell_type": "code",
   "execution_count": null,
   "metadata": {
    "id": "O0sd1DqLsXkp",
    "outputId": "1f892d30-caf3-4fb6-ab47-779ae1e4d256"
   },
   "outputs": [],
   "source": [
    "xgb.XGBRegressor?"
   ]
  },
  {
   "cell_type": "markdown",
   "metadata": {
    "id": "GAM2lMOWsXks"
   },
   "source": [
    "Część parametrów jest podobna do lasu losowego (`n_estimators`), część odzwierciedla równania, na których bazowana jest funkcja straty. Najbardziej interesujące parametry:\n",
    "\n",
    "- n_estimators\n",
    "- learning_rate\n",
    "- booster\n",
    "- objective\n",
    "\n",
    "Więcej na: https://xgboost.readthedocs.io/en/latest/parameter.html\n",
    "\n",
    "### Przykładowy trening"
   ]
  },
  {
   "cell_type": "code",
   "execution_count": null,
   "metadata": {
    "id": "2RSMYPYEsXkv"
   },
   "outputs": [],
   "source": [
    "y = data['price']\n",
    "x = data.drop(['id', 'price', 'date', 'zipcode'], axis=1)"
   ]
  },
  {
   "cell_type": "markdown",
   "metadata": {
    "id": "vFX3K8d_sXky"
   },
   "source": [
    "Podział danych na treningowe oraz testowe"
   ]
  },
  {
   "cell_type": "code",
   "execution_count": null,
   "metadata": {
    "id": "hkkyNKBxsXk0"
   },
   "outputs": [],
   "source": [
    "from sklearn.model_selection import train_test_split\n",
    "\n",
    "x_train, x_test, y_train, y_test = train_test_split(x, y, test_size=0.2)"
   ]
  },
  {
   "cell_type": "code",
   "execution_count": null,
   "metadata": {
    "id": "uRNU57spsXk1",
    "outputId": "9625d948-bd04-4e73-f3db-1d9f722da04d"
   },
   "outputs": [],
   "source": [
    "x_train.info()"
   ]
  },
  {
   "cell_type": "code",
   "execution_count": null,
   "metadata": {
    "id": "StZCAEYesXk2",
    "outputId": "a7d53806-60ac-424d-e6a2-4b1802b297fc"
   },
   "outputs": [],
   "source": [
    "x_train.bedrooms.value_counts()"
   ]
  },
  {
   "cell_type": "code",
   "execution_count": null,
   "metadata": {
    "id": "L7hRkslFsXk3",
    "outputId": "739f2efe-5266-4808-ae09-70b7a9c2b2f8"
   },
   "outputs": [],
   "source": [
    "x_train.waterfront.value_counts()"
   ]
  },
  {
   "cell_type": "code",
   "execution_count": null,
   "metadata": {
    "id": "h149cp5fsXk4",
    "outputId": "d5a0a418-860d-441f-bf6a-d72def62dffc"
   },
   "outputs": [],
   "source": [
    "x_train.view.value_counts()"
   ]
  },
  {
   "cell_type": "markdown",
   "metadata": {
    "id": "yiCrB1oIsXk4"
   },
   "source": [
    "Stworzenie regresora w XGBoost. Istotne parametry: `objective=\"reg:squarederror\"`, `booster=\"gbtree\"`. Seed to ustalenie ziarna losowania (reprodukowalność rozwiązań)"
   ]
  },
  {
   "cell_type": "code",
   "execution_count": null,
   "metadata": {
    "id": "eJU19xIxsXk6"
   },
   "outputs": [],
   "source": [
    "xg_reg = xgb.XGBRegressor(random_state=123, n_estimators=5, max_depth=7)"
   ]
  },
  {
   "cell_type": "code",
   "execution_count": null,
   "metadata": {
    "id": "VyzKjTAYsXk7",
    "outputId": "e40ac58f-8431-4bb8-840a-79a2dadd350b"
   },
   "outputs": [],
   "source": [
    "xg_reg"
   ]
  },
  {
   "cell_type": "code",
   "execution_count": null,
   "metadata": {
    "id": "0E2e9YoMsXk7",
    "outputId": "962331c5-7773-4198-d1a8-9312702b8992"
   },
   "outputs": [],
   "source": []
  },
  {
   "cell_type": "markdown",
   "metadata": {
    "id": "wVSWFT--sXk8"
   },
   "source": [
    "Trening modelu."
   ]
  },
  {
   "cell_type": "code",
   "execution_count": null,
   "metadata": {
    "id": "zoAW56VZsXk9",
    "outputId": "87bd1534-2c15-4877-fb89-d8b867377e4f"
   },
   "outputs": [],
   "source": [
    "%%time\n",
    "\n",
    "start = time.time()\n",
    "\n",
    "xg_reg.fit(x_train, y_train)\n",
    "\n",
    "end = time.time()\n",
    "print(\"time: \", end - start)"
   ]
  },
  {
   "cell_type": "markdown",
   "metadata": {
    "id": "uVwST-yQsXlA"
   },
   "source": [
    "Predykcja danych testowych"
   ]
  },
  {
   "cell_type": "code",
   "execution_count": null,
   "metadata": {
    "id": "ytbppYXUsXlB"
   },
   "outputs": [],
   "source": [
    "y_pred = xg_reg.predict(x_test)"
   ]
  },
  {
   "cell_type": "code",
   "execution_count": null,
   "metadata": {
    "id": "4xDJfPVSsXlC",
    "outputId": "f0431af2-dfee-4d91-8f23-882fb7967d02"
   },
   "outputs": [],
   "source": [
    "y_pred"
   ]
  },
  {
   "cell_type": "code",
   "execution_count": null,
   "metadata": {
    "id": "YQuCm34_sXlD",
    "outputId": "4fa02e34-d679-4db5-eb52-ab86806240a5"
   },
   "outputs": [],
   "source": [
    "xg_reg.score(x_test, y_test) #R^2"
   ]
  },
  {
   "cell_type": "markdown",
   "metadata": {
    "id": "Ky8Cqkc_sXlE"
   },
   "source": [
    "Obliczmy błąd RMSE (root mean squared error)"
   ]
  },
  {
   "cell_type": "code",
   "execution_count": null,
   "metadata": {
    "id": "i7XG7Es2sXlE"
   },
   "outputs": [],
   "source": [
    "from sklearn.metrics import mean_squared_error, mean_absolute_error\n",
    "import sklearn.metrics"
   ]
  },
  {
   "cell_type": "code",
   "execution_count": null,
   "metadata": {
    "id": "NWwaPe2SsXlF"
   },
   "outputs": [],
   "source": [
    "# np.sqrt(np.mean(((y_test - y_pred) ** 2)))\n",
    "\n",
    "# mean_squared_error(GROUNDTRUTH, PREDYKCJE)\n",
    "rmse = np.sqrt(mean_squared_error(y_test, y_pred))\n",
    "mae = sklearn.metrics.mean_absolute_error(y_test, y_pred)"
   ]
  },
  {
   "cell_type": "code",
   "execution_count": null,
   "metadata": {
    "id": "Hjyhj8I-sXlF",
    "outputId": "24829e7e-e242-41f1-ef43-9c9ac2eaf611"
   },
   "outputs": [],
   "source": [
    "print(\"RMSE - gbtree: \", rmse)\n",
    "print(\"MAE - gbtree: \", mae)"
   ]
  },
  {
   "cell_type": "code",
   "execution_count": null,
   "metadata": {
    "id": "lG_W-niEsXlH",
    "outputId": "92b11b61-035d-497a-913a-49eb81340faf"
   },
   "outputs": [],
   "source": [
    "import matplotlib.pyplot as plt\n",
    "\n",
    "plt.hist(np.abs(y_test - y_pred), bins=50);"
   ]
  },
  {
   "cell_type": "code",
   "execution_count": null,
   "metadata": {
    "id": "cIraWt8ksXlT"
   },
   "outputs": [],
   "source": [
    "y_pred = np.array([200, 240])\n",
    "y_true = np.array([150, 140])"
   ]
  },
  {
   "cell_type": "code",
   "execution_count": null,
   "metadata": {
    "id": "B9x07KJ-sXlU"
   },
   "outputs": [],
   "source": [
    "mae = np.mean(np.abs(y_true - y_pred))\n",
    "mse = np.mean((y_true - y_pred) ** 2)\n",
    "rmse = np.sqrt(np.mean((y_true - y_pred) ** 2))"
   ]
  },
  {
   "cell_type": "code",
   "execution_count": null,
   "metadata": {
    "id": "jw0QhjhqsXlV",
    "outputId": "cb6b082b-b5c1-4727-f5b6-f790243924ae"
   },
   "outputs": [],
   "source": [
    "print(mae, mse, rmse)"
   ]
  },
  {
   "cell_type": "code",
   "execution_count": null,
   "metadata": {
    "id": "DIqbfGMusXlX",
    "outputId": "13b4bad0-5585-489a-b293-804c2883e6b7"
   },
   "outputs": [],
   "source": [
    "from matplotlib.pylab import rcParams\n",
    "##set up the parameters\n",
    "rcParams['figure.figsize'] = 10, 8\n",
    "\n",
    "xgb.plot_importance(xg_reg)"
   ]
  },
  {
   "cell_type": "code",
   "execution_count": null,
   "metadata": {
    "id": "AylvpV8FsXlY",
    "outputId": "b8121efa-1ed7-4665-e1ae-219b60b37fca"
   },
   "outputs": [],
   "source": [
    "xgb.plot_importance?"
   ]
  },
  {
   "cell_type": "markdown",
   "metadata": {
    "id": "AqKIyv7NsXlY"
   },
   "source": [
    "### Alternatywne boostery\n",
    "\n",
    "Istnieje więcej niż jedna metoda boostowania. `gbtree` opiera się o drzewa, możemy użyć modelu liniowego zamiast drzewa.\n",
    "Stworzenie regresora (`booster=\"gblinear\"`)."
   ]
  },
  {
   "cell_type": "code",
   "execution_count": null,
   "metadata": {
    "id": "43JgT_j2sXlZ"
   },
   "outputs": [],
   "source": [
    "xg_reg_lin = xgb.XGBRegressor(objective=\"reg:squarederror\", seed=123, booster=\"gblinear\", n_estimators=50)"
   ]
  },
  {
   "cell_type": "code",
   "execution_count": null,
   "metadata": {
    "id": "kuNccS78sXla",
    "outputId": "40728361-69e9-4ea4-e179-6ac649ab723a"
   },
   "outputs": [],
   "source": [
    "xg_reg_lin.fit(x_train, y_train)"
   ]
  },
  {
   "cell_type": "code",
   "execution_count": null,
   "metadata": {
    "id": "4xdORx36sXlb"
   },
   "outputs": [],
   "source": [
    "y_pred = xg_reg_lin.predict(x_test)"
   ]
  },
  {
   "cell_type": "code",
   "execution_count": null,
   "metadata": {
    "id": "VsOdBj5bsXlb"
   },
   "outputs": [],
   "source": [
    "rmse = np.sqrt(mean_squared_error(y_test, y_pred))"
   ]
  },
  {
   "cell_type": "code",
   "execution_count": null,
   "metadata": {
    "id": "FzYLCR33sXlc",
    "outputId": "24846da9-9479-4973-f20d-5767bf08a5ca",
    "scrolled": true
   },
   "outputs": [],
   "source": [
    "print(\"RMSE: \", rmse)"
   ]
  },
  {
   "cell_type": "markdown",
   "metadata": {
    "id": "ppmpY4JesXlc"
   },
   "source": [
    "### Nieliniowe przekształcenie\n",
    "\n",
    "Jeżeli wykreślimy cenę, zauważymy, że dystrybucja cen nie przypomina rozkładu normalnego. Jest to bardzo niezrównoważony rozkład."
   ]
  },
  {
   "cell_type": "code",
   "execution_count": null,
   "metadata": {
    "id": "32aurVTRsXle",
    "outputId": "ad4e0f34-8e69-48b9-dc31-bde091094ebc"
   },
   "outputs": [],
   "source": [
    "import matplotlib.pyplot as plt\n",
    "from matplotlib.pylab import rcParams\n",
    "##set up the parameters\n",
    "rcParams['figure.figsize'] = 10, 7\n",
    "\n",
    "plt.hist(data['price'], bins=20)\n",
    "_ = plt.title(\"Histogram of prices\")"
   ]
  },
  {
   "cell_type": "code",
   "execution_count": null,
   "metadata": {
    "id": "j8_16V4csXlf",
    "outputId": "ea63ad03-dda6-49f9-a5e7-d7ad7aa17ceb"
   },
   "outputs": [],
   "source": [
    "data['price'].head()"
   ]
  },
  {
   "cell_type": "code",
   "execution_count": null,
   "metadata": {
    "id": "SmKxg9HzsXlh",
    "outputId": "800ea0a3-1211-4da0-f96c-4201cb750519"
   },
   "outputs": [],
   "source": [
    "np.log10(data['price'].head())"
   ]
  },
  {
   "cell_type": "code",
   "execution_count": null,
   "metadata": {
    "id": "4Kd5rJGisXlj",
    "outputId": "aa0fdaab-7b13-4623-fa35-eef8964a549f"
   },
   "outputs": [],
   "source": [
    "min(np.log10(data['price'].head())), max(np.log10(data['price'].head()))"
   ]
  },
  {
   "cell_type": "code",
   "execution_count": null,
   "metadata": {
    "id": "49URlB9BsXlm",
    "outputId": "10b98e1a-a935-4148-ca93-3eba9aec3aec"
   },
   "outputs": [],
   "source": [
    "10 ** np.log10(data['price'].head())"
   ]
  },
  {
   "cell_type": "markdown",
   "metadata": {
    "id": "wW8FG-JwsXlm"
   },
   "source": [
    "Spróbujmy przekształcić ten zestaw danych - np. przy pomocy przekształcenia logarytmicznego (dla danych finansowych często jest to pożyteczne przekształcenie)."
   ]
  },
  {
   "cell_type": "code",
   "execution_count": null,
   "metadata": {
    "id": "vy5WaXe0sXln",
    "outputId": "90919033-64d0-4386-b912-560685495db8"
   },
   "outputs": [],
   "source": [
    "plt.hist(np.log10(data['price']), bins=20)\n",
    "_ = plt.title(\"Histogram of log-prices\")"
   ]
  },
  {
   "cell_type": "code",
   "execution_count": null,
   "metadata": {
    "id": "u1pY-PKUsXlp",
    "outputId": "4df178bb-8d5b-48c9-b2bb-ab4a78d2e097"
   },
   "outputs": [],
   "source": [
    "# wykreślenie cen z osią X odpowiadającą rzeczywistej cenie, a nie wykładnikowi\n",
    "# jeden sposób: https://stackoverflow.com/questions/6855710/how-to-have-logarithmic-bins-in-a-python-histogram\n",
    "# drugi sposób: https://kite.com/python/examples/1870/matplotlib-change-x-axis-tick-labels\n",
    "\n",
    "# wykorzystano przekształcenie odwrotne, które jest funkcją wykładniczą np.exp\n",
    "\n",
    "plt.hist(np.log10(data['price']), bins=20)\n",
    "_ = plt.title(\"Histogram of log-prices - log=True\")\n",
    "plt.xlabel(\"House price\")\n",
    "plt.ylabel(\"Number of houses\")\n",
    "_ = plt.xticks(np.arange(5, 7), np.floor(10 ** (np.arange(5, 7))))"
   ]
  },
  {
   "cell_type": "markdown",
   "metadata": {
    "id": "eitDkvMCsXlp"
   },
   "source": [
    "# Zadanie 1\n",
    "\n",
    "Wykorzystując przekształcenie logarytmiczne sprawdź w jaki sposób poprawia to modele. Sprawdź `gbtree` oraz `gblinear` (analogiczie do modeli powyżej).\n",
    "\n",
    "Aby Twój model mógł być porównany z poprzednim, musisz wykorzystać tą samą miarę błędu. W tym celu - dokonaj przekształcenia odwrotnego na wynikach (funkcji wykładniczej) a następnie porównaj wyniki regresji w oryginalnej skali oraz wartości docelowych dla tych przykładów."
   ]
  },
  {
   "cell_type": "code",
   "execution_count": null,
   "metadata": {
    "id": "oM1kwMlBsXlq",
    "outputId": "46deda6d-626a-4b1c-a753-e855c0bb0f6f"
   },
   "outputs": [],
   "source": [
    "# x, y\n",
    "\n",
    "y_transformed = np.log10(y)\n",
    "y_transformed"
   ]
  },
  {
   "cell_type": "code",
   "execution_count": null,
   "metadata": {
    "id": "sGd0v0dVsXlr",
    "outputId": "ff9bdd2c-352c-4963-db97-271674034f79"
   },
   "outputs": [],
   "source": [
    "train_x, test_x, train_y, test_y, train_yt, test_yt = train_test_split(\n",
    "    x, y, y_transformed, test_size=0.2, random_state=123\n",
    ")\n",
    "test_y.shape, test_yt.shape"
   ]
  }
 ],
 "metadata": {
  "colab": {
   "provenance": []
  },
  "kernelspec": {
   "display_name": "Python 3 (ipykernel)",
   "language": "python",
   "name": "python3"
  },
  "language_info": {
   "codemirror_mode": {
    "name": "ipython",
    "version": 3
   },
   "file_extension": ".py",
   "mimetype": "text/x-python",
   "name": "python",
   "nbconvert_exporter": "python",
   "pygments_lexer": "ipython3",
   "version": "3.9.12"
  }
 },
 "nbformat": 4,
 "nbformat_minor": 1
}
