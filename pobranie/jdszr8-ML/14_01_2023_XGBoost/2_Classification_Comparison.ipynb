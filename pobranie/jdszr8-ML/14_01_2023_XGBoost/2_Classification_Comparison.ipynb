{
 "cells": [
  {
   "cell_type": "markdown",
   "metadata": {
    "id": "RB6TZQf2sYUX"
   },
   "source": [
    "### Klasyfikator\n",
    "\n",
    "Klasyfikacja działa podobnie. Wykorzystamy tym razem syntetyczny zestaw danych (jest to dobre rozwiązanie do testowania modeli w szybki sposób bez specyficznego zastosowania)"
   ]
  },
  {
   "cell_type": "code",
   "execution_count": null,
   "metadata": {
    "id": "OGDfRePbsYUf"
   },
   "outputs": [],
   "source": [
    "import xgboost as xgb\n",
    "import numpy as np\n",
    "import time\n",
    "from sklearn import datasets\n",
    "import matplotlib.pyplot as plt"
   ]
  },
  {
   "cell_type": "code",
   "execution_count": null,
   "metadata": {
    "id": "KQwlu62jsYUk",
    "outputId": "faddef26-5df9-4af1-8a14-d5b9a37e265b"
   },
   "outputs": [],
   "source": [
    "datasets.make_classification?"
   ]
  },
  {
   "cell_type": "markdown",
   "metadata": {
    "id": "w6dXmEVnsYUp"
   },
   "source": [
    "Służy do tego `make_classification`"
   ]
  },
  {
   "cell_type": "code",
   "execution_count": null,
   "metadata": {
    "id": "jB4cyq25sYUr"
   },
   "outputs": [],
   "source": [
    "x, y = datasets.make_classification(\n",
    "    n_samples=2500, n_features=20, n_informative=3, n_redundant=2\n",
    ")"
   ]
  },
  {
   "cell_type": "code",
   "execution_count": null,
   "metadata": {
    "id": "v9w2QfRRsYUs",
    "outputId": "777643d0-a32d-496b-b0ba-ad71717d451d"
   },
   "outputs": [],
   "source": [
    "x"
   ]
  },
  {
   "cell_type": "code",
   "execution_count": null,
   "metadata": {
    "id": "oB3M-kCRsYUv",
    "outputId": "53070bc5-177d-4694-b95b-54ffeddca03d"
   },
   "outputs": [],
   "source": [
    "from collections import Counter\n",
    "\n",
    "Counter(y)"
   ]
  },
  {
   "cell_type": "code",
   "execution_count": null,
   "metadata": {
    "id": "TPQbAZL1sYUx",
    "outputId": "3dcdb6bf-0bae-4a99-e92e-a5db1c2d8365"
   },
   "outputs": [],
   "source": [
    "np.sum(y), len(y)"
   ]
  },
  {
   "cell_type": "markdown",
   "metadata": {
    "id": "_muvcMO9sYUz"
   },
   "source": [
    "Standardowy podział na dane treningowe oraz testowe"
   ]
  },
  {
   "cell_type": "code",
   "execution_count": null,
   "metadata": {
    "id": "Sd4lituksYU1",
    "outputId": "7fb904d3-8b91-439f-964c-a0db823f9b3e"
   },
   "outputs": [],
   "source": [
    "from sklearn.model_selection import train_test_split\n",
    "x_train, x_test, y_train, y_test = train_test_split(x, y, test_size=0.2, random_state=23)\n",
    "\n",
    "print(\"x_train shape: \", x_train.shape)\n",
    "print(\"x_test shape: \", x_test.shape)\n",
    "print(\"y_train shape: \", y_train.shape)\n",
    "print(\"y_test shape: \", y_test.shape)"
   ]
  },
  {
   "cell_type": "markdown",
   "metadata": {
    "id": "De2RFNiasYU4"
   },
   "source": [
    "Stworzenie prostego klasyfikatora xgboost - konwencja nazewnictwa jest podobna do pozostałych modeli sklearnowych"
   ]
  },
  {
   "cell_type": "code",
   "execution_count": null,
   "metadata": {
    "id": "bLDOzHEesYU7"
   },
   "outputs": [],
   "source": [
    "xgb_cl = xgb.XGBClassifier(n_estimators=100, max_depth=3, use_label_encoder=False, eval_metric='error')"
   ]
  },
  {
   "cell_type": "code",
   "execution_count": null,
   "metadata": {
    "id": "DjtOYJBxsYU9",
    "outputId": "ada02326-7822-435a-d145-0735e2e626fc"
   },
   "outputs": [],
   "source": [
    "?xgb.XGBClassifier"
   ]
  },
  {
   "cell_type": "markdown",
   "metadata": {
    "id": "qa6BD9bKsYVA"
   },
   "source": [
    "Trening"
   ]
  },
  {
   "cell_type": "code",
   "execution_count": null,
   "metadata": {
    "id": "6Pfe5wW9sYVA",
    "outputId": "fb294579-f1f5-47e5-a2c0-dc8d0d167c78"
   },
   "outputs": [],
   "source": [
    "start = time.time()\n",
    "\n",
    "xgb_cl.fit(x_train, y_train)\n",
    "\n",
    "end = time.time()\n",
    "print(\"time: \",end - start)"
   ]
  },
  {
   "cell_type": "markdown",
   "metadata": {
    "id": "LWBEqC5isYVC"
   },
   "source": [
    "Policzenie skuteczności"
   ]
  },
  {
   "cell_type": "code",
   "execution_count": null,
   "metadata": {
    "id": "rbLf4uJHsYVD",
    "outputId": "613a3dd0-f915-4201-9dc8-753c30bd22f7"
   },
   "outputs": [],
   "source": [
    "from sklearn.metrics import accuracy_score\n",
    "\n",
    "y_pred = xgb_cl.predict(x_test)\n",
    "acc = accuracy_score(y_test, y_pred)\n",
    "print(\"acc: \", acc)"
   ]
  },
  {
   "cell_type": "code",
   "execution_count": null,
   "metadata": {
    "id": "TsYdSyLgsYVG",
    "outputId": "2ba11a7f-a309-466c-b29c-72211cb300fb"
   },
   "outputs": [],
   "source": [
    "xgb_cl.score?"
   ]
  },
  {
   "cell_type": "code",
   "execution_count": null,
   "metadata": {
    "id": "5Sd6qbXisYVI"
   },
   "outputs": [],
   "source": [
    "probas = xgb_cl.predict_proba(x_test)"
   ]
  },
  {
   "cell_type": "code",
   "execution_count": null,
   "metadata": {
    "id": "HW46fOcTsYVK"
   },
   "outputs": [],
   "source": [
    "positive_proba = probas[:, 1]"
   ]
  },
  {
   "cell_type": "code",
   "execution_count": null,
   "metadata": {
    "id": "HYYH4RMSsYVM",
    "outputId": "d773a46f-f94c-4a5e-96fc-4b99ed9e9e4c"
   },
   "outputs": [],
   "source": [
    "from sklearn.metrics import confusion_matrix, classification_report\n",
    "\n",
    "print(classification_report(y_test, y_pred))"
   ]
  },
  {
   "cell_type": "code",
   "execution_count": null,
   "metadata": {
    "id": "gXCO0PdPsYVP",
    "outputId": "c4a00876-f20c-4207-c0fc-c371cbb21de8"
   },
   "outputs": [],
   "source": [
    "from sklearn.metrics import roc_auc_score\n",
    "\n",
    "roc_auc_score(y_test, positive_proba) # AUROC Area Under Receiver Operating Charactericstic Curve"
   ]
  },
  {
   "cell_type": "markdown",
   "metadata": {
    "id": "fnDTkkQWsYVR"
   },
   "source": [
    "![](https://upload.wikimedia.org/wikipedia/commons/thumb/1/13/Roc_curve.svg/1024px-Roc_curve.svg.png)"
   ]
  },
  {
   "cell_type": "code",
   "execution_count": null,
   "metadata": {
    "id": "fOIJ5m4gsYVS",
    "outputId": "0c3426b8-47c8-4143-9df1-9e058b4f3842"
   },
   "outputs": [],
   "source": [
    "from sklearn.metrics import roc_curve\n",
    "\n",
    "roc_curve?"
   ]
  },
  {
   "cell_type": "code",
   "execution_count": null,
   "metadata": {
    "id": "2Ff4UsomsYVV",
    "outputId": "deaa2a91-f57b-4346-be86-20e7fc528d3e"
   },
   "outputs": [],
   "source": [
    "# Receiver operating characteristic\n",
    "\n",
    "false_positive_rate, true_positive_rate, thresholds = roc_curve(y_test, positive_proba)\n",
    "\n",
    "plt.figure(figsize=(15, 10))\n",
    "plt.plot(false_positive_rate, true_positive_rate)\n",
    "plt.xlabel(\"False positive rate\")\n",
    "plt.ylabel(\"True positive rate\")"
   ]
  },
  {
   "cell_type": "markdown",
   "metadata": {
    "id": "SVLX3xKLsYVW"
   },
   "source": [
    "![](https://upload.wikimedia.org/wikipedia/commons/thumb/2/26/Precisionrecall.svg/350px-Precisionrecall.svg.png)"
   ]
  },
  {
   "cell_type": "code",
   "execution_count": null,
   "metadata": {
    "id": "iR0_p00bsYVX",
    "outputId": "251e23f8-828b-44a4-c9eb-d9aea6935c04"
   },
   "outputs": [],
   "source": [
    "from sklearn.metrics import precision_recall_curve\n",
    "\n",
    "precision, recall, thresholds = precision_recall_curve(y_test, positive_proba)\n",
    "\n",
    "plt.figure(figsize=(15, 10))\n",
    "plt.plot(recall, precision)\n",
    "plt.xlabel(\"Recall\")\n",
    "plt.ylabel(\"Precision\")"
   ]
  },
  {
   "cell_type": "code",
   "execution_count": null,
   "metadata": {
    "id": "yHgmrZDfsYVb",
    "outputId": "995061f0-91ce-4056-891f-83c4a7432b25"
   },
   "outputs": [],
   "source": [
    "from matplotlib.pylab import rcParams\n",
    "##set up the parameters\n",
    "rcParams['figure.figsize'] = 40,25\n",
    "\n",
    "xgb.plot_importance(xgb_cl)"
   ]
  },
  {
   "cell_type": "markdown",
   "metadata": {
    "id": "OquuskQosYVc"
   },
   "source": [
    "### Zadanie 2\n",
    "\n",
    "Wytrenuj klasyfikator xgboost i porównaj go z Random Forest (na tych samych parametrach)."
   ]
  },
  {
   "cell_type": "code",
   "execution_count": null,
   "metadata": {
    "id": "MTtpAVJisYVh"
   },
   "outputs": [],
   "source": []
  }
 ],
 "metadata": {
  "colab": {
   "provenance": []
  },
  "kernelspec": {
   "display_name": "Python 3 (ipykernel)",
   "language": "python",
   "name": "python3"
  },
  "language_info": {
   "codemirror_mode": {
    "name": "ipython",
    "version": 3
   },
   "file_extension": ".py",
   "mimetype": "text/x-python",
   "name": "python",
   "nbconvert_exporter": "python",
   "pygments_lexer": "ipython3",
   "version": "3.9.12"
  }
 },
 "nbformat": 4,
 "nbformat_minor": 1
}
