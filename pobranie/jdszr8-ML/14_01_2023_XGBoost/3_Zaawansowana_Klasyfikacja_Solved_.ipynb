{
 "cells": [
  {
   "cell_type": "markdown",
   "metadata": {
    "id": "-EM3XZE1sZJb"
   },
   "source": [
    "### Zaawansowana klasyfikacja\n",
    "\n",
    "Wykorzystajmy zestaw danych, który ma trochę bardziej złożone cechy - zarówno ciągłe jak i kategoryczne. Jest to zestaw danych bazujący na spisie ludności. Podane są różne dane socjometryczne i jedna zmienna binarna - czy przychody są większe niż $50K.\n",
    "\n",
    "Plik: `income_evaluation.csv`\n",
    "Więcej na: https://www.kaggle.com/uciml/adult-census-income"
   ]
  },
  {
   "cell_type": "code",
   "execution_count": 1,
   "metadata": {
    "id": "y83lv91NsZJh"
   },
   "outputs": [],
   "source": [
    "import xgboost as xgb\n",
    "import pandas as pd\n",
    "import numpy as np\n",
    "import matplotlib.pyplot as plt"
   ]
  },
  {
   "cell_type": "code",
   "execution_count": 2,
   "metadata": {
    "id": "8iNU1_sesZJj",
    "outputId": "a909abd1-dd56-44b2-f09c-4b287c6a0b09"
   },
   "outputs": [
    {
     "data": {
      "text/html": [
       "<div>\n",
       "<style scoped>\n",
       "    .dataframe tbody tr th:only-of-type {\n",
       "        vertical-align: middle;\n",
       "    }\n",
       "\n",
       "    .dataframe tbody tr th {\n",
       "        vertical-align: top;\n",
       "    }\n",
       "\n",
       "    .dataframe thead th {\n",
       "        text-align: right;\n",
       "    }\n",
       "</style>\n",
       "<table border=\"1\" class=\"dataframe\">\n",
       "  <thead>\n",
       "    <tr style=\"text-align: right;\">\n",
       "      <th></th>\n",
       "      <th>age</th>\n",
       "      <th>workclass</th>\n",
       "      <th>fnlwgt</th>\n",
       "      <th>education</th>\n",
       "      <th>education-num</th>\n",
       "      <th>marital-status</th>\n",
       "      <th>occupation</th>\n",
       "      <th>relationship</th>\n",
       "      <th>race</th>\n",
       "      <th>sex</th>\n",
       "      <th>capital-gain</th>\n",
       "      <th>capital-loss</th>\n",
       "      <th>hours-per-week</th>\n",
       "      <th>native-country</th>\n",
       "      <th>income</th>\n",
       "    </tr>\n",
       "  </thead>\n",
       "  <tbody>\n",
       "    <tr>\n",
       "      <th>0</th>\n",
       "      <td>39</td>\n",
       "      <td>State-gov</td>\n",
       "      <td>77516</td>\n",
       "      <td>Bachelors</td>\n",
       "      <td>13</td>\n",
       "      <td>Never-married</td>\n",
       "      <td>Adm-clerical</td>\n",
       "      <td>Not-in-family</td>\n",
       "      <td>White</td>\n",
       "      <td>Male</td>\n",
       "      <td>2174</td>\n",
       "      <td>0</td>\n",
       "      <td>40</td>\n",
       "      <td>United-States</td>\n",
       "      <td>&lt;=50K</td>\n",
       "    </tr>\n",
       "    <tr>\n",
       "      <th>1</th>\n",
       "      <td>50</td>\n",
       "      <td>Self-emp-not-inc</td>\n",
       "      <td>83311</td>\n",
       "      <td>Bachelors</td>\n",
       "      <td>13</td>\n",
       "      <td>Married-civ-spouse</td>\n",
       "      <td>Exec-managerial</td>\n",
       "      <td>Husband</td>\n",
       "      <td>White</td>\n",
       "      <td>Male</td>\n",
       "      <td>0</td>\n",
       "      <td>0</td>\n",
       "      <td>13</td>\n",
       "      <td>United-States</td>\n",
       "      <td>&lt;=50K</td>\n",
       "    </tr>\n",
       "    <tr>\n",
       "      <th>2</th>\n",
       "      <td>38</td>\n",
       "      <td>Private</td>\n",
       "      <td>215646</td>\n",
       "      <td>HS-grad</td>\n",
       "      <td>9</td>\n",
       "      <td>Divorced</td>\n",
       "      <td>Handlers-cleaners</td>\n",
       "      <td>Not-in-family</td>\n",
       "      <td>White</td>\n",
       "      <td>Male</td>\n",
       "      <td>0</td>\n",
       "      <td>0</td>\n",
       "      <td>40</td>\n",
       "      <td>United-States</td>\n",
       "      <td>&lt;=50K</td>\n",
       "    </tr>\n",
       "    <tr>\n",
       "      <th>3</th>\n",
       "      <td>53</td>\n",
       "      <td>Private</td>\n",
       "      <td>234721</td>\n",
       "      <td>11th</td>\n",
       "      <td>7</td>\n",
       "      <td>Married-civ-spouse</td>\n",
       "      <td>Handlers-cleaners</td>\n",
       "      <td>Husband</td>\n",
       "      <td>Black</td>\n",
       "      <td>Male</td>\n",
       "      <td>0</td>\n",
       "      <td>0</td>\n",
       "      <td>40</td>\n",
       "      <td>United-States</td>\n",
       "      <td>&lt;=50K</td>\n",
       "    </tr>\n",
       "    <tr>\n",
       "      <th>4</th>\n",
       "      <td>28</td>\n",
       "      <td>Private</td>\n",
       "      <td>338409</td>\n",
       "      <td>Bachelors</td>\n",
       "      <td>13</td>\n",
       "      <td>Married-civ-spouse</td>\n",
       "      <td>Prof-specialty</td>\n",
       "      <td>Wife</td>\n",
       "      <td>Black</td>\n",
       "      <td>Female</td>\n",
       "      <td>0</td>\n",
       "      <td>0</td>\n",
       "      <td>40</td>\n",
       "      <td>Cuba</td>\n",
       "      <td>&lt;=50K</td>\n",
       "    </tr>\n",
       "  </tbody>\n",
       "</table>\n",
       "</div>"
      ],
      "text/plain": [
       "   age         workclass  fnlwgt  education  education-num  \\\n",
       "0   39         State-gov   77516  Bachelors             13   \n",
       "1   50  Self-emp-not-inc   83311  Bachelors             13   \n",
       "2   38           Private  215646    HS-grad              9   \n",
       "3   53           Private  234721       11th              7   \n",
       "4   28           Private  338409  Bachelors             13   \n",
       "\n",
       "       marital-status         occupation   relationship   race     sex  \\\n",
       "0       Never-married       Adm-clerical  Not-in-family  White    Male   \n",
       "1  Married-civ-spouse    Exec-managerial        Husband  White    Male   \n",
       "2            Divorced  Handlers-cleaners  Not-in-family  White    Male   \n",
       "3  Married-civ-spouse  Handlers-cleaners        Husband  Black    Male   \n",
       "4  Married-civ-spouse     Prof-specialty           Wife  Black  Female   \n",
       "\n",
       "   capital-gain  capital-loss  hours-per-week native-country income  \n",
       "0          2174             0              40  United-States  <=50K  \n",
       "1             0             0              13  United-States  <=50K  \n",
       "2             0             0              40  United-States  <=50K  \n",
       "3             0             0              40  United-States  <=50K  \n",
       "4             0             0              40           Cuba  <=50K  "
      ]
     },
     "execution_count": 2,
     "metadata": {},
     "output_type": "execute_result"
    }
   ],
   "source": [
    "# read data sets - https://docs.python.org/3/library/re.html\n",
    "df = pd.read_csv(\"./data/income_evaluation.csv\", sep='\\s*,\\s*', header=0, encoding='ascii', engine='python')\n",
    "df.head()"
   ]
  },
  {
   "cell_type": "code",
   "execution_count": 3,
   "metadata": {
    "id": "h5Xbnl3msZJl",
    "outputId": "ba0344dd-3daf-4dc5-e5df-41f30f514c68"
   },
   "outputs": [
    {
     "data": {
      "text/plain": [
       "<=50K    24720\n",
       ">50K      7841\n",
       "Name: income, dtype: int64"
      ]
     },
     "execution_count": 3,
     "metadata": {},
     "output_type": "execute_result"
    }
   ],
   "source": [
    "df.income.value_counts()"
   ]
  },
  {
   "cell_type": "code",
   "execution_count": 4,
   "metadata": {
    "id": "oGsJ-EUdsZJm",
    "outputId": "4f8e76a6-63cb-4cd9-d50d-86ddf659c4a5"
   },
   "outputs": [],
   "source": [
    "?pd.read_csv"
   ]
  },
  {
   "cell_type": "code",
   "execution_count": 5,
   "metadata": {
    "id": "WD3naHE6sZJo",
    "outputId": "8005a600-145c-4591-bf06-a3ec31ecaad3"
   },
   "outputs": [
    {
     "data": {
      "text/plain": [
       "(32561, 21648)"
      ]
     },
     "execution_count": 5,
     "metadata": {},
     "output_type": "execute_result"
    }
   ],
   "source": [
    "# Czy \"fnlwgt\" przyczyni się do poprawy jakości modelu\n",
    "#fnlwgt - https://www.kaggle.com/uciml/adult-census-income/discussion/32698\n",
    "\n",
    "df.fnlwgt.count(), df.fnlwgt.nunique()"
   ]
  },
  {
   "cell_type": "code",
   "execution_count": 6,
   "metadata": {
    "id": "mZZt5iZXsZJq",
    "outputId": "9a7ed3d1-a89a-41a7-a43a-0e6630c2c241"
   },
   "outputs": [
    {
     "name": "stdout",
     "output_type": "stream",
     "text": [
      "<class 'pandas.core.frame.DataFrame'>\n",
      "RangeIndex: 32561 entries, 0 to 32560\n",
      "Data columns (total 15 columns):\n",
      " #   Column          Non-Null Count  Dtype \n",
      "---  ------          --------------  ----- \n",
      " 0   age             32561 non-null  int64 \n",
      " 1   workclass       32561 non-null  object\n",
      " 2   fnlwgt          32561 non-null  int64 \n",
      " 3   education       32561 non-null  object\n",
      " 4   education-num   32561 non-null  int64 \n",
      " 5   marital-status  32561 non-null  object\n",
      " 6   occupation      32561 non-null  object\n",
      " 7   relationship    32561 non-null  object\n",
      " 8   race            32561 non-null  object\n",
      " 9   sex             32561 non-null  object\n",
      " 10  capital-gain    32561 non-null  int64 \n",
      " 11  capital-loss    32561 non-null  int64 \n",
      " 12  hours-per-week  32561 non-null  int64 \n",
      " 13  native-country  32561 non-null  object\n",
      " 14  income          32561 non-null  object\n",
      "dtypes: int64(6), object(9)\n",
      "memory usage: 3.7+ MB\n"
     ]
    }
   ],
   "source": [
    "df.info()"
   ]
  },
  {
   "cell_type": "markdown",
   "metadata": {
    "id": "71_fE-DqsZJs"
   },
   "source": [
    "b. Konwersja danych kategorycznych do numerycznych \n",
    "`sklearn.preprocessing.LabelEncoder`"
   ]
  },
  {
   "cell_type": "code",
   "execution_count": 7,
   "metadata": {
    "id": "V4PCSY5hsZJw",
    "outputId": "19342fe8-f207-4f40-af5c-9f4e174e3f93"
   },
   "outputs": [
    {
     "data": {
      "text/html": [
       "<div>\n",
       "<style scoped>\n",
       "    .dataframe tbody tr th:only-of-type {\n",
       "        vertical-align: middle;\n",
       "    }\n",
       "\n",
       "    .dataframe tbody tr th {\n",
       "        vertical-align: top;\n",
       "    }\n",
       "\n",
       "    .dataframe thead th {\n",
       "        text-align: right;\n",
       "    }\n",
       "</style>\n",
       "<table border=\"1\" class=\"dataframe\">\n",
       "  <thead>\n",
       "    <tr style=\"text-align: right;\">\n",
       "      <th></th>\n",
       "      <th>age</th>\n",
       "      <th>fnlwgt</th>\n",
       "      <th>education-num</th>\n",
       "      <th>capital-gain</th>\n",
       "      <th>capital-loss</th>\n",
       "      <th>hours-per-week</th>\n",
       "      <th>income</th>\n",
       "      <th>workclass_?</th>\n",
       "      <th>workclass_Federal-gov</th>\n",
       "      <th>workclass_Local-gov</th>\n",
       "      <th>...</th>\n",
       "      <th>native-country_Portugal</th>\n",
       "      <th>native-country_Puerto-Rico</th>\n",
       "      <th>native-country_Scotland</th>\n",
       "      <th>native-country_South</th>\n",
       "      <th>native-country_Taiwan</th>\n",
       "      <th>native-country_Thailand</th>\n",
       "      <th>native-country_Trinadad&amp;Tobago</th>\n",
       "      <th>native-country_United-States</th>\n",
       "      <th>native-country_Vietnam</th>\n",
       "      <th>native-country_Yugoslavia</th>\n",
       "    </tr>\n",
       "  </thead>\n",
       "  <tbody>\n",
       "    <tr>\n",
       "      <th>0</th>\n",
       "      <td>39</td>\n",
       "      <td>77516</td>\n",
       "      <td>13</td>\n",
       "      <td>2174</td>\n",
       "      <td>0</td>\n",
       "      <td>40</td>\n",
       "      <td>&lt;=50K</td>\n",
       "      <td>0</td>\n",
       "      <td>0</td>\n",
       "      <td>0</td>\n",
       "      <td>...</td>\n",
       "      <td>0</td>\n",
       "      <td>0</td>\n",
       "      <td>0</td>\n",
       "      <td>0</td>\n",
       "      <td>0</td>\n",
       "      <td>0</td>\n",
       "      <td>0</td>\n",
       "      <td>1</td>\n",
       "      <td>0</td>\n",
       "      <td>0</td>\n",
       "    </tr>\n",
       "    <tr>\n",
       "      <th>1</th>\n",
       "      <td>50</td>\n",
       "      <td>83311</td>\n",
       "      <td>13</td>\n",
       "      <td>0</td>\n",
       "      <td>0</td>\n",
       "      <td>13</td>\n",
       "      <td>&lt;=50K</td>\n",
       "      <td>0</td>\n",
       "      <td>0</td>\n",
       "      <td>0</td>\n",
       "      <td>...</td>\n",
       "      <td>0</td>\n",
       "      <td>0</td>\n",
       "      <td>0</td>\n",
       "      <td>0</td>\n",
       "      <td>0</td>\n",
       "      <td>0</td>\n",
       "      <td>0</td>\n",
       "      <td>1</td>\n",
       "      <td>0</td>\n",
       "      <td>0</td>\n",
       "    </tr>\n",
       "    <tr>\n",
       "      <th>2</th>\n",
       "      <td>38</td>\n",
       "      <td>215646</td>\n",
       "      <td>9</td>\n",
       "      <td>0</td>\n",
       "      <td>0</td>\n",
       "      <td>40</td>\n",
       "      <td>&lt;=50K</td>\n",
       "      <td>0</td>\n",
       "      <td>0</td>\n",
       "      <td>0</td>\n",
       "      <td>...</td>\n",
       "      <td>0</td>\n",
       "      <td>0</td>\n",
       "      <td>0</td>\n",
       "      <td>0</td>\n",
       "      <td>0</td>\n",
       "      <td>0</td>\n",
       "      <td>0</td>\n",
       "      <td>1</td>\n",
       "      <td>0</td>\n",
       "      <td>0</td>\n",
       "    </tr>\n",
       "    <tr>\n",
       "      <th>3</th>\n",
       "      <td>53</td>\n",
       "      <td>234721</td>\n",
       "      <td>7</td>\n",
       "      <td>0</td>\n",
       "      <td>0</td>\n",
       "      <td>40</td>\n",
       "      <td>&lt;=50K</td>\n",
       "      <td>0</td>\n",
       "      <td>0</td>\n",
       "      <td>0</td>\n",
       "      <td>...</td>\n",
       "      <td>0</td>\n",
       "      <td>0</td>\n",
       "      <td>0</td>\n",
       "      <td>0</td>\n",
       "      <td>0</td>\n",
       "      <td>0</td>\n",
       "      <td>0</td>\n",
       "      <td>1</td>\n",
       "      <td>0</td>\n",
       "      <td>0</td>\n",
       "    </tr>\n",
       "    <tr>\n",
       "      <th>4</th>\n",
       "      <td>28</td>\n",
       "      <td>338409</td>\n",
       "      <td>13</td>\n",
       "      <td>0</td>\n",
       "      <td>0</td>\n",
       "      <td>40</td>\n",
       "      <td>&lt;=50K</td>\n",
       "      <td>0</td>\n",
       "      <td>0</td>\n",
       "      <td>0</td>\n",
       "      <td>...</td>\n",
       "      <td>0</td>\n",
       "      <td>0</td>\n",
       "      <td>0</td>\n",
       "      <td>0</td>\n",
       "      <td>0</td>\n",
       "      <td>0</td>\n",
       "      <td>0</td>\n",
       "      <td>0</td>\n",
       "      <td>0</td>\n",
       "      <td>0</td>\n",
       "    </tr>\n",
       "  </tbody>\n",
       "</table>\n",
       "<p>5 rows × 109 columns</p>\n",
       "</div>"
      ],
      "text/plain": [
       "   age  fnlwgt  education-num  capital-gain  capital-loss  hours-per-week  \\\n",
       "0   39   77516             13          2174             0              40   \n",
       "1   50   83311             13             0             0              13   \n",
       "2   38  215646              9             0             0              40   \n",
       "3   53  234721              7             0             0              40   \n",
       "4   28  338409             13             0             0              40   \n",
       "\n",
       "  income  workclass_?  workclass_Federal-gov  workclass_Local-gov  ...  \\\n",
       "0  <=50K            0                      0                    0  ...   \n",
       "1  <=50K            0                      0                    0  ...   \n",
       "2  <=50K            0                      0                    0  ...   \n",
       "3  <=50K            0                      0                    0  ...   \n",
       "4  <=50K            0                      0                    0  ...   \n",
       "\n",
       "   native-country_Portugal  native-country_Puerto-Rico  \\\n",
       "0                        0                           0   \n",
       "1                        0                           0   \n",
       "2                        0                           0   \n",
       "3                        0                           0   \n",
       "4                        0                           0   \n",
       "\n",
       "   native-country_Scotland  native-country_South  native-country_Taiwan  \\\n",
       "0                        0                     0                      0   \n",
       "1                        0                     0                      0   \n",
       "2                        0                     0                      0   \n",
       "3                        0                     0                      0   \n",
       "4                        0                     0                      0   \n",
       "\n",
       "   native-country_Thailand  native-country_Trinadad&Tobago  \\\n",
       "0                        0                               0   \n",
       "1                        0                               0   \n",
       "2                        0                               0   \n",
       "3                        0                               0   \n",
       "4                        0                               0   \n",
       "\n",
       "   native-country_United-States  native-country_Vietnam  \\\n",
       "0                             1                       0   \n",
       "1                             1                       0   \n",
       "2                             1                       0   \n",
       "3                             1                       0   \n",
       "4                             0                       0   \n",
       "\n",
       "   native-country_Yugoslavia  \n",
       "0                          0  \n",
       "1                          0  \n",
       "2                          0  \n",
       "3                          0  \n",
       "4                          0  \n",
       "\n",
       "[5 rows x 109 columns]"
      ]
     },
     "execution_count": 7,
     "metadata": {},
     "output_type": "execute_result"
    }
   ],
   "source": [
    "#encoding categorical to numeric\n",
    "from sklearn.preprocessing import LabelEncoder\n",
    "\n",
    "list_to_encode = [\n",
    "    'workclass', 'education', 'marital-status', 'occupation', \n",
    "    'relationship', 'race', 'sex', 'native-country'\n",
    "]\n",
    "\n",
    "df_encoded = pd.get_dummies(df, columns=list_to_encode)\n",
    "df_encoded.head()"
   ]
  },
  {
   "cell_type": "code",
   "execution_count": 8,
   "metadata": {
    "collapsed": true,
    "id": "Xl8J-rRXsZJz",
    "outputId": "12252811-9ddb-4ded-fc6a-6e6ac5089b53"
   },
   "outputs": [
    {
     "data": {
      "text/plain": [
       "['age',\n",
       " 'fnlwgt',\n",
       " 'education-num',\n",
       " 'capital-gain',\n",
       " 'capital-loss',\n",
       " 'hours-per-week',\n",
       " 'income',\n",
       " 'workclass_?',\n",
       " 'workclass_Federal-gov',\n",
       " 'workclass_Local-gov',\n",
       " 'workclass_Never-worked',\n",
       " 'workclass_Private',\n",
       " 'workclass_Self-emp-inc',\n",
       " 'workclass_Self-emp-not-inc',\n",
       " 'workclass_State-gov',\n",
       " 'workclass_Without-pay',\n",
       " 'education_10th',\n",
       " 'education_11th',\n",
       " 'education_12th',\n",
       " 'education_1st-4th',\n",
       " 'education_5th-6th',\n",
       " 'education_7th-8th',\n",
       " 'education_9th',\n",
       " 'education_Assoc-acdm',\n",
       " 'education_Assoc-voc',\n",
       " 'education_Bachelors',\n",
       " 'education_Doctorate',\n",
       " 'education_HS-grad',\n",
       " 'education_Masters',\n",
       " 'education_Preschool',\n",
       " 'education_Prof-school',\n",
       " 'education_Some-college',\n",
       " 'marital-status_Divorced',\n",
       " 'marital-status_Married-AF-spouse',\n",
       " 'marital-status_Married-civ-spouse',\n",
       " 'marital-status_Married-spouse-absent',\n",
       " 'marital-status_Never-married',\n",
       " 'marital-status_Separated',\n",
       " 'marital-status_Widowed',\n",
       " 'occupation_?',\n",
       " 'occupation_Adm-clerical',\n",
       " 'occupation_Armed-Forces',\n",
       " 'occupation_Craft-repair',\n",
       " 'occupation_Exec-managerial',\n",
       " 'occupation_Farming-fishing',\n",
       " 'occupation_Handlers-cleaners',\n",
       " 'occupation_Machine-op-inspct',\n",
       " 'occupation_Other-service',\n",
       " 'occupation_Priv-house-serv',\n",
       " 'occupation_Prof-specialty',\n",
       " 'occupation_Protective-serv',\n",
       " 'occupation_Sales',\n",
       " 'occupation_Tech-support',\n",
       " 'occupation_Transport-moving',\n",
       " 'relationship_Husband',\n",
       " 'relationship_Not-in-family',\n",
       " 'relationship_Other-relative',\n",
       " 'relationship_Own-child',\n",
       " 'relationship_Unmarried',\n",
       " 'relationship_Wife',\n",
       " 'race_Amer-Indian-Eskimo',\n",
       " 'race_Asian-Pac-Islander',\n",
       " 'race_Black',\n",
       " 'race_Other',\n",
       " 'race_White',\n",
       " 'sex_Female',\n",
       " 'sex_Male',\n",
       " 'native-country_?',\n",
       " 'native-country_Cambodia',\n",
       " 'native-country_Canada',\n",
       " 'native-country_China',\n",
       " 'native-country_Columbia',\n",
       " 'native-country_Cuba',\n",
       " 'native-country_Dominican-Republic',\n",
       " 'native-country_Ecuador',\n",
       " 'native-country_El-Salvador',\n",
       " 'native-country_England',\n",
       " 'native-country_France',\n",
       " 'native-country_Germany',\n",
       " 'native-country_Greece',\n",
       " 'native-country_Guatemala',\n",
       " 'native-country_Haiti',\n",
       " 'native-country_Holand-Netherlands',\n",
       " 'native-country_Honduras',\n",
       " 'native-country_Hong',\n",
       " 'native-country_Hungary',\n",
       " 'native-country_India',\n",
       " 'native-country_Iran',\n",
       " 'native-country_Ireland',\n",
       " 'native-country_Italy',\n",
       " 'native-country_Jamaica',\n",
       " 'native-country_Japan',\n",
       " 'native-country_Laos',\n",
       " 'native-country_Mexico',\n",
       " 'native-country_Nicaragua',\n",
       " 'native-country_Outlying-US(Guam-USVI-etc)',\n",
       " 'native-country_Peru',\n",
       " 'native-country_Philippines',\n",
       " 'native-country_Poland',\n",
       " 'native-country_Portugal',\n",
       " 'native-country_Puerto-Rico',\n",
       " 'native-country_Scotland',\n",
       " 'native-country_South',\n",
       " 'native-country_Taiwan',\n",
       " 'native-country_Thailand',\n",
       " 'native-country_Trinadad&Tobago',\n",
       " 'native-country_United-States',\n",
       " 'native-country_Vietnam',\n",
       " 'native-country_Yugoslavia']"
      ]
     },
     "execution_count": 8,
     "metadata": {},
     "output_type": "execute_result"
    }
   ],
   "source": [
    "list(df_encoded.columns)"
   ]
  },
  {
   "cell_type": "markdown",
   "metadata": {
    "id": "5jENq2b4sZJ0"
   },
   "source": [
    "c. Wybór cech oraz wyjścia modelu"
   ]
  },
  {
   "cell_type": "code",
   "execution_count": 9,
   "metadata": {
    "id": "jrq9vThxsZJ2"
   },
   "outputs": [],
   "source": [
    "from sklearn.preprocessing import LabelEncoder\n",
    "\n",
    "le = LabelEncoder()\n",
    "\n",
    "y = le.fit_transform(df_encoded['income'])\n",
    "x = df_encoded.drop(['income'], axis=1)"
   ]
  },
  {
   "cell_type": "code",
   "execution_count": 10,
   "metadata": {
    "id": "-_w52t0gsZJ3",
    "outputId": "a8071d36-9a69-4f00-f793-2ce241972ff6"
   },
   "outputs": [
    {
     "data": {
      "text/plain": [
       "0.2408095574460244"
      ]
     },
     "execution_count": 10,
     "metadata": {},
     "output_type": "execute_result"
    }
   ],
   "source": [
    "sum(y)/len(y)"
   ]
  },
  {
   "cell_type": "markdown",
   "metadata": {
    "id": "5wnVolZysZJ4"
   },
   "source": [
    "`xgboost` zawiera specyficzną strukturę danych, której używa wewnętrznie do treningu. Jest ona zoptymalizowana pod wykorzystanie w tym pakiecie."
   ]
  },
  {
   "cell_type": "code",
   "execution_count": 11,
   "metadata": {
    "id": "GRUjtmswsZJ4"
   },
   "outputs": [],
   "source": [
    "data_dm = xgb.DMatrix(data=x.values, label=y)"
   ]
  },
  {
   "cell_type": "code",
   "execution_count": 12,
   "metadata": {
    "id": "lHJDOb04sZJ8",
    "outputId": "eed142cf-cafa-45fc-ff5c-71b9f26ececc"
   },
   "outputs": [
    {
     "data": {
      "text/plain": [
       "<xgboost.core.DMatrix at 0x207180c7310>"
      ]
     },
     "execution_count": 12,
     "metadata": {},
     "output_type": "execute_result"
    }
   ],
   "source": [
    "data_dm"
   ]
  },
  {
   "cell_type": "markdown",
   "metadata": {
    "id": "ZN0tmE12sZJ6"
   },
   "source": [
    "train - przygotowujemy model               ------ cv\n",
    "\n",
    "\n",
    "validacyjny - dostrajamy parametry          ------ cv\n",
    "\n",
    "-----------------\n",
    "testowy - finalny test"
   ]
  },
  {
   "cell_type": "markdown",
   "metadata": {
    "id": "Q5b4BHcxsZJ-"
   },
   "source": [
    "Użyjmy crosswalidacji. Metoda `xgb.cv` działa bardzo podobnie do analogicznych metod z pakietu `sklearn.model_selection` (`cross_val_score`)."
   ]
  },
  {
   "cell_type": "code",
   "execution_count": 13,
   "metadata": {
    "id": "mqZ6iMNUsZJ_",
    "outputId": "f1dbba08-8139-4e6d-e8c7-43a58b3a5f59"
   },
   "outputs": [],
   "source": [
    "xgb.cv?"
   ]
  },
  {
   "cell_type": "code",
   "execution_count": 14,
   "metadata": {
    "id": "9qi-1vS8sZKA",
    "outputId": "498b5181-8b3a-4c7c-b42b-4236acb0e46e"
   },
   "outputs": [
    {
     "data": {
      "text/html": [
       "<div>\n",
       "<style scoped>\n",
       "    .dataframe tbody tr th:only-of-type {\n",
       "        vertical-align: middle;\n",
       "    }\n",
       "\n",
       "    .dataframe tbody tr th {\n",
       "        vertical-align: top;\n",
       "    }\n",
       "\n",
       "    .dataframe thead th {\n",
       "        text-align: right;\n",
       "    }\n",
       "</style>\n",
       "<table border=\"1\" class=\"dataframe\">\n",
       "  <thead>\n",
       "    <tr style=\"text-align: right;\">\n",
       "      <th></th>\n",
       "      <th>train-error-mean</th>\n",
       "      <th>train-error-std</th>\n",
       "      <th>train-auc-mean</th>\n",
       "      <th>train-auc-std</th>\n",
       "      <th>test-error-mean</th>\n",
       "      <th>test-error-std</th>\n",
       "      <th>test-auc-mean</th>\n",
       "      <th>test-auc-std</th>\n",
       "    </tr>\n",
       "  </thead>\n",
       "  <tbody>\n",
       "    <tr>\n",
       "      <th>0</th>\n",
       "      <td>0.156127</td>\n",
       "      <td>0.000529</td>\n",
       "      <td>0.859743</td>\n",
       "      <td>0.003547</td>\n",
       "      <td>0.156199</td>\n",
       "      <td>0.001686</td>\n",
       "      <td>0.858905</td>\n",
       "      <td>0.001276</td>\n",
       "    </tr>\n",
       "    <tr>\n",
       "      <th>1</th>\n",
       "      <td>0.149013</td>\n",
       "      <td>0.000506</td>\n",
       "      <td>0.883304</td>\n",
       "      <td>0.001815</td>\n",
       "      <td>0.149105</td>\n",
       "      <td>0.001494</td>\n",
       "      <td>0.881921</td>\n",
       "      <td>0.002169</td>\n",
       "    </tr>\n",
       "    <tr>\n",
       "      <th>2</th>\n",
       "      <td>0.145348</td>\n",
       "      <td>0.001806</td>\n",
       "      <td>0.902666</td>\n",
       "      <td>0.000690</td>\n",
       "      <td>0.146064</td>\n",
       "      <td>0.003846</td>\n",
       "      <td>0.899319</td>\n",
       "      <td>0.003363</td>\n",
       "    </tr>\n",
       "    <tr>\n",
       "      <th>3</th>\n",
       "      <td>0.143843</td>\n",
       "      <td>0.000310</td>\n",
       "      <td>0.906237</td>\n",
       "      <td>0.001068</td>\n",
       "      <td>0.144713</td>\n",
       "      <td>0.002206</td>\n",
       "      <td>0.903774</td>\n",
       "      <td>0.002148</td>\n",
       "    </tr>\n",
       "    <tr>\n",
       "      <th>4</th>\n",
       "      <td>0.143034</td>\n",
       "      <td>0.000508</td>\n",
       "      <td>0.910064</td>\n",
       "      <td>0.001253</td>\n",
       "      <td>0.144191</td>\n",
       "      <td>0.002024</td>\n",
       "      <td>0.906777</td>\n",
       "      <td>0.001730</td>\n",
       "    </tr>\n",
       "    <tr>\n",
       "      <th>...</th>\n",
       "      <td>...</td>\n",
       "      <td>...</td>\n",
       "      <td>...</td>\n",
       "      <td>...</td>\n",
       "      <td>...</td>\n",
       "      <td>...</td>\n",
       "      <td>...</td>\n",
       "      <td>...</td>\n",
       "    </tr>\n",
       "    <tr>\n",
       "      <th>245</th>\n",
       "      <td>0.089494</td>\n",
       "      <td>0.001458</td>\n",
       "      <td>0.964432</td>\n",
       "      <td>0.000837</td>\n",
       "      <td>0.137311</td>\n",
       "      <td>0.001938</td>\n",
       "      <td>0.919272</td>\n",
       "      <td>0.002308</td>\n",
       "    </tr>\n",
       "    <tr>\n",
       "      <th>246</th>\n",
       "      <td>0.089483</td>\n",
       "      <td>0.001468</td>\n",
       "      <td>0.964510</td>\n",
       "      <td>0.000825</td>\n",
       "      <td>0.137404</td>\n",
       "      <td>0.001976</td>\n",
       "      <td>0.919207</td>\n",
       "      <td>0.002360</td>\n",
       "    </tr>\n",
       "    <tr>\n",
       "      <th>247</th>\n",
       "      <td>0.089350</td>\n",
       "      <td>0.001482</td>\n",
       "      <td>0.964588</td>\n",
       "      <td>0.000808</td>\n",
       "      <td>0.137465</td>\n",
       "      <td>0.001808</td>\n",
       "      <td>0.919172</td>\n",
       "      <td>0.002368</td>\n",
       "    </tr>\n",
       "    <tr>\n",
       "      <th>248</th>\n",
       "      <td>0.089105</td>\n",
       "      <td>0.001348</td>\n",
       "      <td>0.964674</td>\n",
       "      <td>0.000749</td>\n",
       "      <td>0.137557</td>\n",
       "      <td>0.001896</td>\n",
       "      <td>0.919061</td>\n",
       "      <td>0.002314</td>\n",
       "    </tr>\n",
       "    <tr>\n",
       "      <th>249</th>\n",
       "      <td>0.088961</td>\n",
       "      <td>0.001307</td>\n",
       "      <td>0.964766</td>\n",
       "      <td>0.000743</td>\n",
       "      <td>0.137680</td>\n",
       "      <td>0.002125</td>\n",
       "      <td>0.919046</td>\n",
       "      <td>0.002407</td>\n",
       "    </tr>\n",
       "  </tbody>\n",
       "</table>\n",
       "<p>250 rows × 8 columns</p>\n",
       "</div>"
      ],
      "text/plain": [
       "     train-error-mean  train-error-std  train-auc-mean  train-auc-std  \\\n",
       "0            0.156127         0.000529        0.859743       0.003547   \n",
       "1            0.149013         0.000506        0.883304       0.001815   \n",
       "2            0.145348         0.001806        0.902666       0.000690   \n",
       "3            0.143843         0.000310        0.906237       0.001068   \n",
       "4            0.143034         0.000508        0.910064       0.001253   \n",
       "..                ...              ...             ...            ...   \n",
       "245          0.089494         0.001458        0.964432       0.000837   \n",
       "246          0.089483         0.001468        0.964510       0.000825   \n",
       "247          0.089350         0.001482        0.964588       0.000808   \n",
       "248          0.089105         0.001348        0.964674       0.000749   \n",
       "249          0.088961         0.001307        0.964766       0.000743   \n",
       "\n",
       "     test-error-mean  test-error-std  test-auc-mean  test-auc-std  \n",
       "0           0.156199        0.001686       0.858905      0.001276  \n",
       "1           0.149105        0.001494       0.881921      0.002169  \n",
       "2           0.146064        0.003846       0.899319      0.003363  \n",
       "3           0.144713        0.002206       0.903774      0.002148  \n",
       "4           0.144191        0.002024       0.906777      0.001730  \n",
       "..               ...             ...            ...           ...  \n",
       "245         0.137311        0.001938       0.919272      0.002308  \n",
       "246         0.137404        0.001976       0.919207      0.002360  \n",
       "247         0.137465        0.001808       0.919172      0.002368  \n",
       "248         0.137557        0.001896       0.919061      0.002314  \n",
       "249         0.137680        0.002125       0.919046      0.002407  \n",
       "\n",
       "[250 rows x 8 columns]"
      ]
     },
     "execution_count": 14,
     "metadata": {},
     "output_type": "execute_result"
    }
   ],
   "source": [
    "# auc == AUROC == pole pod krzywą ROC\n",
    "\n",
    "params = {\n",
    "    \"objective\": \"reg:logistic\", \n",
    "    \"max_depth\": 3, \n",
    "    \"booster\": \"gbtree\",\n",
    "    \"learning_rate\": 0.8  # DEFAULT: 0.3\n",
    "}\n",
    "\n",
    "\n",
    "cv_results = xgb.cv(\n",
    "    dtrain=data_dm, \n",
    "    params=params, \n",
    "    nfold=4, \n",
    "    num_boost_round=250, metrics=[\"error\", \"auc\"], as_pandas=True) #metrics=\"auc\"\n",
    "\n",
    "#num_boost_round == n_estimators (klasyfikatory, drzewa), boost round - za każdym razem jedno drzewo więcej. \n",
    "#cv dla xgb drukuje dla każdej rundy boostingowej\n",
    "\n",
    "\n",
    "cv_results"
   ]
  },
  {
   "cell_type": "code",
   "execution_count": 15,
   "metadata": {
    "id": "LO43PwElsZKA",
    "outputId": "79e12241-3c73-475a-c3bc-902c3a5dff25"
   },
   "outputs": [
    {
     "data": {
      "text/plain": [
       "Index(['train-error-mean', 'train-error-std', 'train-auc-mean',\n",
       "       'train-auc-std', 'test-error-mean', 'test-error-std', 'test-auc-mean',\n",
       "       'test-auc-std'],\n",
       "      dtype='object')"
      ]
     },
     "execution_count": 15,
     "metadata": {},
     "output_type": "execute_result"
    }
   ],
   "source": [
    "cv_results.columns"
   ]
  },
  {
   "cell_type": "code",
   "execution_count": 16,
   "metadata": {
    "id": "1l8E1q17sZKA",
    "outputId": "a1407dcf-565f-4d86-b8d0-8668391d8f9b"
   },
   "outputs": [
    {
     "data": {
      "text/plain": [
       "Text(0, 0.5, 'Wartość funkcji błędu')"
      ]
     },
     "execution_count": 16,
     "metadata": {},
     "output_type": "execute_result"
    },
    {
     "data": {
      "image/png": "[encoded data removed]",
      "text/plain": [
       "<Figure size 1080x504 with 1 Axes>"
      ]
     },
     "metadata": {
      "needs_background": "light"
     },
     "output_type": "display_data"
    }
   ],
   "source": [
    "plt.figure(figsize=(15, 7))\n",
    "plt.title(\"Błąd na danych treningowych i testowych\")\n",
    "plt.plot(cv_results[\"train-error-mean\"], color=\"b\")\n",
    "plt.plot(cv_results[\"test-error-mean\"], color=\"r\")\n",
    "# plt.ylim((0., 0.2))\n",
    "plt.hlines([cv_results[\"test-error-mean\"].min()], xmin=0, xmax=250, color=\"g\")\n",
    "plt.xlabel(\"Ilość klasyfikatorów\")\n",
    "plt.ylabel(\"Wartość funkcji błędu\")"
   ]
  },
  {
   "cell_type": "code",
   "execution_count": 17,
   "metadata": {
    "id": "aKxp-YrfsZKC",
    "outputId": "ea0aec73-48a5-423d-edda-9a07c9b7aad8"
   },
   "outputs": [
    {
     "data": {
      "text/plain": [
       "Text(0, 0.5, 'Wartość auc')"
      ]
     },
     "execution_count": 17,
     "metadata": {},
     "output_type": "execute_result"
    },
    {
     "data": {
      "image/png": "[encoded data removed]",
      "text/plain": [
       "<Figure size 1080x504 with 1 Axes>"
      ]
     },
     "metadata": {
      "needs_background": "light"
     },
     "output_type": "display_data"
    }
   ],
   "source": [
    "plt.figure(figsize=(15, 7))\n",
    "plt.title(\"AUC na danych treningowych i testowych\")\n",
    "plt.plot(cv_results[\"train-auc-mean\"], color=\"b\")\n",
    "plt.plot(cv_results[\"test-auc-mean\"], color=\"r\")\n",
    "# plt.ylim((0., 0.2))\n",
    "plt.xlabel(\"Ilość klasyfikatorów\")\n",
    "plt.ylabel(\"Wartość auc\")"
   ]
  },
  {
   "cell_type": "code",
   "execution_count": 18,
   "metadata": {
    "id": "SpM9T4I4sZKD",
    "outputId": "bdf97f9e-e3eb-45c1-aa86-f321c9bfe819"
   },
   "outputs": [
    {
     "data": {
      "text/plain": [
       "array([0.85530033, 0.8527027 , 0.86007371, 0.85884521])"
      ]
     },
     "execution_count": 18,
     "metadata": {},
     "output_type": "execute_result"
    }
   ],
   "source": [
    "# Spróbujmy użyć klasycznego model_selection - czy wyniki są mniej więcej zgodne?\n",
    "\n",
    "import sklearn.model_selection as msel\n",
    "\n",
    "# .score() - accuracy\n",
    "\n",
    "clf = xgb.XGBClassifier(objective=\"reg:logistic\", max_depth=3, \n",
    "                        learning_rate=0.8, n_estimators=5)\n",
    "msel.cross_val_score(clf, x, y, cv=4, n_jobs=-1)"
   ]
  },
  {
   "cell_type": "markdown",
   "metadata": {
    "id": "5qIQfBmlsZKD"
   },
   "source": [
    "Model selection ocenia dokładność, podczas gdy xgb.cv ocenia błąd. Błąd = 1 - dokładność."
   ]
  },
  {
   "cell_type": "code",
   "execution_count": 19,
   "metadata": {
    "id": "Yo0y92lisZKE",
    "outputId": "e1f5cc2f-9555-4af4-e052-9cafbe48e489"
   },
   "outputs": [
    {
     "name": "stdout",
     "output_type": "stream",
     "text": [
      "cv_Results:  train-error-mean    0.088961\n",
      "train-error-std     0.001307\n",
      "train-auc-mean      0.964766\n",
      "train-auc-std       0.000743\n",
      "test-error-mean     0.137680\n",
      "test-error-std      0.002125\n",
      "test-auc-mean       0.919046\n",
      "test-auc-std        0.002407\n",
      "Name: 249, dtype: float64\n"
     ]
    }
   ],
   "source": [
    "# results show\n",
    "print(\"cv_Results: \", cv_results.iloc[-1])"
   ]
  },
  {
   "cell_type": "markdown",
   "metadata": {
    "id": "1cC03ji3sZKE"
   },
   "source": [
    "h. przedstawienie accuracy oraz auc"
   ]
  },
  {
   "cell_type": "code",
   "execution_count": 20,
   "metadata": {
    "id": "jXAbhRHNsZKF",
    "outputId": "8c46156c-a911-400e-f860-75acc815e293"
   },
   "outputs": [
    {
     "name": "stdout",
     "output_type": "stream",
     "text": [
      "acc:  0.8623199802799975\n"
     ]
    }
   ],
   "source": [
    "#accuracy/average out-of-sample accuracy\n",
    "print(\"acc: \", ((1- cv_results[\"test-error-mean\"]).iloc[-1]))"
   ]
  },
  {
   "cell_type": "markdown",
   "metadata": {
    "id": "wVlE53VMsZKF"
   },
   "source": [
    "### Zadanie 3\n",
    "\n",
    "Zmodyfikuj kod powyżej tak, aby wykorzystywać sposób w jaki powinno się robić crosswalidację: użyj zestawu treningowego do walidacji (zostanie on wewnętrznie podzielony na zestaw treningowy i walidacyjny) oraz małego zestawu testowego do oceny dokładności wybranego najlepszego modelu.\n",
    "\n",
    "Uzasadnienie: taką crosswalidację będziemy chcieli wykonać wielokrotnie w ramach poszukiwania parametrów. Zachowajmy zestaw testowy do oceny ostatecznego rozwiązania.\n",
    "\n",
    "Wykorzystaj metody poznane wcześniej na kursie.\n",
    "\n",
    "Spróbujmy trzech kombinacji parametrów."
   ]
  },
  {
   "cell_type": "code",
   "execution_count": null,
   "metadata": {
    "id": "BAeVzX9gsZKG"
   },
   "outputs": [],
   "source": [
    "# 0. Podział na trening_valid, test -- mozna uzyc DMarix\n",
    "# 1. Trening na kilku wariantach i ocena (CV)  [max_depth=2,3,4, learning_rate= 0.5]\n",
    "# 2. Na najlepszym modelu, trening na trening_valid a test na test"
   ]
  },
  {
   "cell_type": "code",
   "execution_count": null,
   "metadata": {},
   "outputs": [],
   "source": [
    "#mozna zmniejszyc num_boost_round do 100"
   ]
  },
  {
   "cell_type": "code",
   "execution_count": 22,
   "metadata": {},
   "outputs": [],
   "source": [
    "from sklearn.model_selection import train_test_split\n",
    "train_valid_x, test_x, train_valid_y, test_y = train_test_split(x, y, test_size=0.2)\n",
    "\n",
    "data_dm = xgb.DMatrix(data=train_valid_x.values, label=train_valid_y)"
   ]
  },
  {
   "cell_type": "code",
   "execution_count": null,
   "metadata": {},
   "outputs": [],
   "source": [
    "params = {\n",
    "    \"objective\": \"reg:logistic\", \n",
    "    \"booster\": \"gbtree\",\n",
    "    \"learning_rate\": 0.5  # DEFAULT: 0.3\n",
    "}"
   ]
  },
  {
   "cell_type": "code",
   "execution_count": 23,
   "metadata": {},
   "outputs": [
    {
     "name": "stdout",
     "output_type": "stream",
     "text": [
      "For max_depth 2 the best result was 0.1279176904176904 after 69 rounds\n",
      "For max_depth 3 the best result was 0.1279176904176904 after 69 rounds\n",
      "For max_depth 4 the best result was 0.1279176904176904 after 69 rounds\n"
     ]
    }
   ],
   "source": [
    "for max_depth in [2, 3, 4]:\n",
    "    my_params = {\"max_depth\": max_depth}\n",
    "    my_params.update(params)\n",
    "    cv_results = xgb.cv(\n",
    "        dtrain=data_dm, \n",
    "        params=my_params, \n",
    "        nfold=4, \n",
    "        num_boost_round=100, metrics=[\"error\"], as_pandas=True)\n",
    "    best_rounds = cv_results[\"test-error-mean\"].argmin()\n",
    "    score = cv_results[\"test-error-mean\"].min()\n",
    "    print(\"For max_depth {} the best result was {} after {} rounds\".format(\n",
    "        max_depth, score, best_rounds\n",
    "    ))"
   ]
  },
  {
   "cell_type": "code",
   "execution_count": 24,
   "metadata": {},
   "outputs": [
    {
     "data": {
      "text/plain": [
       "(0.9269704913145217, 0.7036906854130053)"
      ]
     },
     "execution_count": 24,
     "metadata": {},
     "output_type": "execute_result"
    }
   ],
   "source": [
    "from sklearn.metrics import roc_auc_score, f1_score\n",
    "\n",
    "my_params = {\"max_depth\": 3, \"n_estimators\": 69}\n",
    "my_params.update(params)\n",
    "\n",
    "best_model = xgb.XGBClassifier(**my_params)\n",
    "best_model.fit(train_valid_x, train_valid_y)\n",
    "\n",
    "preds = best_model.predict(test_x)\n",
    "probas = best_model.predict_proba(test_x)[:, 1]\n",
    "\n",
    "roc_auc_score(test_y, probas), f1_score(test_y, preds)"
   ]
  },
  {
   "cell_type": "code",
   "execution_count": 25,
   "metadata": {},
   "outputs": [
    {
     "data": {
      "text/plain": [
       "0.8705665591893137"
      ]
     },
     "execution_count": 25,
     "metadata": {},
     "output_type": "execute_result"
    }
   ],
   "source": [
    "best_model.score(test_x, test_y) #acc"
   ]
  }
 ],
 "metadata": {
  "colab": {
   "provenance": []
  },
  "kernelspec": {
   "display_name": "Python 3 (ipykernel)",
   "language": "python",
   "name": "python3"
  },
  "language_info": {
   "codemirror_mode": {
    "name": "ipython",
    "version": 3
   },
   "file_extension": ".py",
   "mimetype": "text/x-python",
   "name": "python",
   "nbconvert_exporter": "python",
   "pygments_lexer": "ipython3",
   "version": "3.9.12"
  }
 },
 "nbformat": 4,
 "nbformat_minor": 1
}
