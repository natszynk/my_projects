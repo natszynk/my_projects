{
 "cells": [
  {
   "cell_type": "markdown",
   "metadata": {
    "id": "01RFd6SwsbwB"
   },
   "source": [
    "Wytrenujmy regresor i wykorzystajmy funkcję `xgb.cv`. Wykorzystajmy wcześniejszy zestaw danych `kc_house_data.csv`."
   ]
  },
  {
   "cell_type": "code",
   "execution_count": null,
   "metadata": {
    "id": "QcKN6t43sbwM"
   },
   "outputs": [],
   "source": [
    "import pandas as pd\n",
    "import xgboost as xgb\n",
    "import numpy as np\n",
    "import matplotlib.pyplot as plt"
   ]
  },
  {
   "cell_type": "code",
   "execution_count": null,
   "metadata": {
    "id": "mcFKWjy2sbwT",
    "outputId": "83065fc6-27d2-47da-cb15-98eded077799"
   },
   "outputs": [],
   "source": [
    "data = pd.read_csv(\"./data/kc_house_data.csv\")\n",
    "data.info()"
   ]
  },
  {
   "cell_type": "code",
   "execution_count": null,
   "metadata": {
    "id": "3l92ejZLsbwX"
   },
   "outputs": [],
   "source": [
    "y = data.price\n",
    "x = data.drop(['id', 'date', 'price', 'zipcode'], axis=1)"
   ]
  },
  {
   "cell_type": "code",
   "execution_count": null,
   "metadata": {
    "id": "UWPiuzbxsbwa",
    "outputId": "fdd711cc-66c4-4230-9fce-179d8d84c813"
   },
   "outputs": [],
   "source": [
    "x.columns"
   ]
  },
  {
   "cell_type": "code",
   "execution_count": null,
   "metadata": {
    "id": "4clTc5QQsbwc",
    "outputId": "e2006e83-47b2-4770-cde2-ffee362cf901"
   },
   "outputs": [],
   "source": [
    "y.values"
   ]
  },
  {
   "cell_type": "markdown",
   "metadata": {
    "id": "fjxRBSGAsbwf"
   },
   "source": [
    "Podział danych na cechy oraz wyjście i złożenie ich w macierz DMatrix"
   ]
  },
  {
   "cell_type": "code",
   "execution_count": null,
   "metadata": {
    "id": "6m-3sRSvsbwg"
   },
   "outputs": [],
   "source": [
    "data_dm = xgb.DMatrix(data=x.values, label=y.values)"
   ]
  },
  {
   "cell_type": "code",
   "execution_count": null,
   "metadata": {
    "id": "FugRoQMesbwm"
   },
   "outputs": [],
   "source": [
    "params = {\"objective\":\"reg:squarederror\", \"max_depth\":3, \"learning_rate\": 0.1}"
   ]
  },
  {
   "cell_type": "markdown",
   "metadata": {
    "id": "PzBmwy54sbwo"
   },
   "source": [
    "Lista parametrów learnig rate'u w przedziale [0-1]."
   ]
  },
  {
   "cell_type": "code",
   "execution_count": null,
   "metadata": {
    "id": "7DXlawV4sbwp"
   },
   "outputs": [],
   "source": [
    "lr_vals = [0.001, 0.01, 0.1]"
   ]
  },
  {
   "cell_type": "markdown",
   "metadata": {
    "id": "TcP_M9f1sbwr"
   },
   "source": [
    "Iterujemy po liście parametrów i wykonujemy cross walidację."
   ]
  },
  {
   "cell_type": "code",
   "execution_count": null,
   "metadata": {
    "id": "NxBhES-4sbws",
    "outputId": "c0f9caef-7f0c-47d3-a5f2-1c31537987c2",
    "scrolled": true,
    "tags": []
   },
   "outputs": [],
   "source": [
    "params[\"learning_rate\"] = 0.8\n",
    "cv_results = xgb.cv(dtrain=data_dm, params=params, nfold=3, num_boost_round=50, \n",
    "                            metrics=\"rmse\", as_pandas=True, seed=123)\n",
    "cv_results"
   ]
  },
  {
   "cell_type": "markdown",
   "metadata": {
    "id": "vFuVXHxRsbwt",
    "tags": []
   },
   "source": [
    "Wykreślmy zależnośc błędu z dodawaniem kolejnych estymatorów."
   ]
  },
  {
   "cell_type": "code",
   "execution_count": null,
   "metadata": {
    "id": "wxvInqvAsbwu",
    "outputId": "d4a2a807-a22d-486b-be70-ab9a5d713075"
   },
   "outputs": [],
   "source": [
    "plt.figure(figsize=(15, 7))\n",
    "plt.plot(cv_results['train-rmse-mean'])\n",
    "plt.plot(cv_results['test-rmse-mean'])\n",
    "plt.legend([\"train-rmse\", \"test-rmse\"])\n",
    "plt.xlabel(\"Liczba estymatorów\")\n",
    "plt.ylabel(\"Bład estymacji\")"
   ]
  },
  {
   "cell_type": "markdown",
   "metadata": {
    "id": "ASNKWultsbww"
   },
   "source": [
    "### Zadanie 4\n",
    "\n",
    "Korzystając z powyższego kodu stwórz wykres, na którym zostanie pokazana zależność funkcji zmiany błędu estymacji w trakcie uczenia w zależności od parametru `learning_rate`. Wykorzystaj wartości `learning_rate` z tabeli `lr_array`."
   ]
  },
  {
   "cell_type": "code",
   "execution_count": null,
   "metadata": {
    "id": "EHEpb9ltsbwz"
   },
   "outputs": [],
   "source": [
    "lr_array = [0.3, 0.1, 0.03, 0.01, 0.003, 0.001]"
   ]
  },
  {
   "cell_type": "code",
   "execution_count": null,
   "metadata": {
    "id": "ftw5IOcjsbw1",
    "outputId": "a5fe1fff-5b07-415c-9392-abad1c1e76e0"
   },
   "outputs": [],
   "source": [
    "params"
   ]
  },
  {
   "cell_type": "code",
   "execution_count": null,
   "metadata": {
    "id": "c_y43_qNsbw3"
   },
   "outputs": [],
   "source": [
    "lr_array = [0.8, 0.5, 0.3, 0.1, 0.03, 0.01]"
   ]
  }
 ],
 "metadata": {
  "colab": {
   "provenance": []
  },
  "kernelspec": {
   "display_name": "Python 3 (ipykernel)",
   "language": "python",
   "name": "python3"
  },
  "language_info": {
   "codemirror_mode": {
    "name": "ipython",
    "version": 3
   },
   "file_extension": ".py",
   "mimetype": "text/x-python",
   "name": "python",
   "nbconvert_exporter": "python",
   "pygments_lexer": "ipython3",
   "version": "3.9.12"
  }
 },
 "nbformat": 4,
 "nbformat_minor": 1
}
