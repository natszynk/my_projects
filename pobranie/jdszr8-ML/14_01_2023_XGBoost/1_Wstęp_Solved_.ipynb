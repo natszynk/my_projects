{
 "cells": [
  {
   "cell_type": "markdown",
   "metadata": {
    "id": "dmLjP_3vsXkW"
   },
   "source": [
    "### Wstęp do xgboost\n",
    "\n",
    "Zaczynamy od importów"
   ]
  },
  {
   "cell_type": "code",
   "execution_count": null,
   "metadata": {
    "id": "sAeONwLUsXke"
   },
   "outputs": [],
   "source": [
    "! pip install xgboost     # czysty Python\n",
    "! conda install xgboost   # anaconda"
   ]
  },
  {
   "cell_type": "code",
   "execution_count": 1,
   "metadata": {
    "id": "KPIYL1HrsXki"
   },
   "outputs": [],
   "source": [
    "import pandas as pd\n",
    "import xgboost as xgb\n",
    "import numpy as np\n",
    "import time"
   ]
  },
  {
   "cell_type": "markdown",
   "metadata": {
    "id": "DNd_jhZLsXkl"
   },
   "source": [
    "Zaczniemy od przejrzenia zestawu danych. Jest to problem regresyjny - jest to cennik mieszkań.\n",
    "\n",
    "URL: https://www.kaggle.com/shivachandel/kc-house-data\n",
    "\n",
    "Dane znajdują się w pliku `kc_house_data.csv`."
   ]
  },
  {
   "cell_type": "code",
   "execution_count": 2,
   "metadata": {
    "id": "Yk964xY8sXkn",
    "outputId": "62367113-98a2-4f1a-cc43-98a752d1040e"
   },
   "outputs": [
    {
     "data": {
      "text/html": [
       "<div>\n",
       "<style scoped>\n",
       "    .dataframe tbody tr th:only-of-type {\n",
       "        vertical-align: middle;\n",
       "    }\n",
       "\n",
       "    .dataframe tbody tr th {\n",
       "        vertical-align: top;\n",
       "    }\n",
       "\n",
       "    .dataframe thead th {\n",
       "        text-align: right;\n",
       "    }\n",
       "</style>\n",
       "<table border=\"1\" class=\"dataframe\">\n",
       "  <thead>\n",
       "    <tr style=\"text-align: right;\">\n",
       "      <th></th>\n",
       "      <th>id</th>\n",
       "      <th>date</th>\n",
       "      <th>price</th>\n",
       "      <th>bedrooms</th>\n",
       "      <th>bathrooms</th>\n",
       "      <th>sqft_living</th>\n",
       "      <th>sqft_lot</th>\n",
       "      <th>floors</th>\n",
       "      <th>waterfront</th>\n",
       "      <th>view</th>\n",
       "      <th>...</th>\n",
       "      <th>grade</th>\n",
       "      <th>sqft_above</th>\n",
       "      <th>sqft_basement</th>\n",
       "      <th>yr_built</th>\n",
       "      <th>yr_renovated</th>\n",
       "      <th>zipcode</th>\n",
       "      <th>lat</th>\n",
       "      <th>long</th>\n",
       "      <th>sqft_living15</th>\n",
       "      <th>sqft_lot15</th>\n",
       "    </tr>\n",
       "  </thead>\n",
       "  <tbody>\n",
       "    <tr>\n",
       "      <th>0</th>\n",
       "      <td>7129300520</td>\n",
       "      <td>20141013T000000</td>\n",
       "      <td>221900.0</td>\n",
       "      <td>3</td>\n",
       "      <td>1.00</td>\n",
       "      <td>1180</td>\n",
       "      <td>5650</td>\n",
       "      <td>1.0</td>\n",
       "      <td>0</td>\n",
       "      <td>0</td>\n",
       "      <td>...</td>\n",
       "      <td>7</td>\n",
       "      <td>1180</td>\n",
       "      <td>0</td>\n",
       "      <td>1955</td>\n",
       "      <td>0</td>\n",
       "      <td>98178</td>\n",
       "      <td>47.5112</td>\n",
       "      <td>-122.257</td>\n",
       "      <td>1340</td>\n",
       "      <td>5650</td>\n",
       "    </tr>\n",
       "    <tr>\n",
       "      <th>1</th>\n",
       "      <td>6414100192</td>\n",
       "      <td>20141209T000000</td>\n",
       "      <td>538000.0</td>\n",
       "      <td>3</td>\n",
       "      <td>2.25</td>\n",
       "      <td>2570</td>\n",
       "      <td>7242</td>\n",
       "      <td>2.0</td>\n",
       "      <td>0</td>\n",
       "      <td>0</td>\n",
       "      <td>...</td>\n",
       "      <td>7</td>\n",
       "      <td>2170</td>\n",
       "      <td>400</td>\n",
       "      <td>1951</td>\n",
       "      <td>1991</td>\n",
       "      <td>98125</td>\n",
       "      <td>47.7210</td>\n",
       "      <td>-122.319</td>\n",
       "      <td>1690</td>\n",
       "      <td>7639</td>\n",
       "    </tr>\n",
       "    <tr>\n",
       "      <th>2</th>\n",
       "      <td>5631500400</td>\n",
       "      <td>20150225T000000</td>\n",
       "      <td>180000.0</td>\n",
       "      <td>2</td>\n",
       "      <td>1.00</td>\n",
       "      <td>770</td>\n",
       "      <td>10000</td>\n",
       "      <td>1.0</td>\n",
       "      <td>0</td>\n",
       "      <td>0</td>\n",
       "      <td>...</td>\n",
       "      <td>6</td>\n",
       "      <td>770</td>\n",
       "      <td>0</td>\n",
       "      <td>1933</td>\n",
       "      <td>0</td>\n",
       "      <td>98028</td>\n",
       "      <td>47.7379</td>\n",
       "      <td>-122.233</td>\n",
       "      <td>2720</td>\n",
       "      <td>8062</td>\n",
       "    </tr>\n",
       "    <tr>\n",
       "      <th>3</th>\n",
       "      <td>2487200875</td>\n",
       "      <td>20141209T000000</td>\n",
       "      <td>604000.0</td>\n",
       "      <td>4</td>\n",
       "      <td>3.00</td>\n",
       "      <td>1960</td>\n",
       "      <td>5000</td>\n",
       "      <td>1.0</td>\n",
       "      <td>0</td>\n",
       "      <td>0</td>\n",
       "      <td>...</td>\n",
       "      <td>7</td>\n",
       "      <td>1050</td>\n",
       "      <td>910</td>\n",
       "      <td>1965</td>\n",
       "      <td>0</td>\n",
       "      <td>98136</td>\n",
       "      <td>47.5208</td>\n",
       "      <td>-122.393</td>\n",
       "      <td>1360</td>\n",
       "      <td>5000</td>\n",
       "    </tr>\n",
       "    <tr>\n",
       "      <th>4</th>\n",
       "      <td>1954400510</td>\n",
       "      <td>20150218T000000</td>\n",
       "      <td>510000.0</td>\n",
       "      <td>3</td>\n",
       "      <td>2.00</td>\n",
       "      <td>1680</td>\n",
       "      <td>8080</td>\n",
       "      <td>1.0</td>\n",
       "      <td>0</td>\n",
       "      <td>0</td>\n",
       "      <td>...</td>\n",
       "      <td>8</td>\n",
       "      <td>1680</td>\n",
       "      <td>0</td>\n",
       "      <td>1987</td>\n",
       "      <td>0</td>\n",
       "      <td>98074</td>\n",
       "      <td>47.6168</td>\n",
       "      <td>-122.045</td>\n",
       "      <td>1800</td>\n",
       "      <td>7503</td>\n",
       "    </tr>\n",
       "  </tbody>\n",
       "</table>\n",
       "<p>5 rows × 21 columns</p>\n",
       "</div>"
      ],
      "text/plain": [
       "           id             date     price  bedrooms  bathrooms  sqft_living  \\\n",
       "0  7129300520  20141013T000000  221900.0         3       1.00         1180   \n",
       "1  6414100192  20141209T000000  538000.0         3       2.25         2570   \n",
       "2  5631500400  20150225T000000  180000.0         2       1.00          770   \n",
       "3  2487200875  20141209T000000  604000.0         4       3.00         1960   \n",
       "4  1954400510  20150218T000000  510000.0         3       2.00         1680   \n",
       "\n",
       "   sqft_lot  floors  waterfront  view  ...  grade  sqft_above  sqft_basement  \\\n",
       "0      5650     1.0           0     0  ...      7        1180              0   \n",
       "1      7242     2.0           0     0  ...      7        2170            400   \n",
       "2     10000     1.0           0     0  ...      6         770              0   \n",
       "3      5000     1.0           0     0  ...      7        1050            910   \n",
       "4      8080     1.0           0     0  ...      8        1680              0   \n",
       "\n",
       "   yr_built  yr_renovated  zipcode      lat     long  sqft_living15  \\\n",
       "0      1955             0    98178  47.5112 -122.257           1340   \n",
       "1      1951          1991    98125  47.7210 -122.319           1690   \n",
       "2      1933             0    98028  47.7379 -122.233           2720   \n",
       "3      1965             0    98136  47.5208 -122.393           1360   \n",
       "4      1987             0    98074  47.6168 -122.045           1800   \n",
       "\n",
       "   sqft_lot15  \n",
       "0        5650  \n",
       "1        7639  \n",
       "2        8062  \n",
       "3        5000  \n",
       "4        7503  \n",
       "\n",
       "[5 rows x 21 columns]"
      ]
     },
     "execution_count": 2,
     "metadata": {},
     "output_type": "execute_result"
    }
   ],
   "source": [
    "data = pd.read_csv(\"./data/kc_house_data.csv\")\n",
    "data.head()"
   ]
  },
  {
   "cell_type": "code",
   "execution_count": 3,
   "metadata": {
    "id": "Ok1_GyuhsXkn",
    "outputId": "bc13ad3c-9a48-4c4c-af6d-fc5826a16b88"
   },
   "outputs": [
    {
     "name": "stdout",
     "output_type": "stream",
     "text": [
      "<class 'pandas.core.frame.DataFrame'>\n",
      "RangeIndex: 21613 entries, 0 to 21612\n",
      "Data columns (total 21 columns):\n",
      " #   Column         Non-Null Count  Dtype  \n",
      "---  ------         --------------  -----  \n",
      " 0   id             21613 non-null  int64  \n",
      " 1   date           21613 non-null  object \n",
      " 2   price          21613 non-null  float64\n",
      " 3   bedrooms       21613 non-null  int64  \n",
      " 4   bathrooms      21613 non-null  float64\n",
      " 5   sqft_living    21613 non-null  int64  \n",
      " 6   sqft_lot       21613 non-null  int64  \n",
      " 7   floors         21613 non-null  float64\n",
      " 8   waterfront     21613 non-null  int64  \n",
      " 9   view           21613 non-null  int64  \n",
      " 10  condition      21613 non-null  int64  \n",
      " 11  grade          21613 non-null  int64  \n",
      " 12  sqft_above     21613 non-null  int64  \n",
      " 13  sqft_basement  21613 non-null  int64  \n",
      " 14  yr_built       21613 non-null  int64  \n",
      " 15  yr_renovated   21613 non-null  int64  \n",
      " 16  zipcode        21613 non-null  int64  \n",
      " 17  lat            21613 non-null  float64\n",
      " 18  long           21613 non-null  float64\n",
      " 19  sqft_living15  21613 non-null  int64  \n",
      " 20  sqft_lot15     21613 non-null  int64  \n",
      "dtypes: float64(5), int64(15), object(1)\n",
      "memory usage: 3.5+ MB\n"
     ]
    }
   ],
   "source": [
    "# date - split to year\n",
    "data.info()"
   ]
  },
  {
   "cell_type": "markdown",
   "metadata": {
    "id": "rbsgu_x7sXkp"
   },
   "source": [
    "XGBoost jest oddzielną biblioteką niż sklearn. Jest ona kompatybilna z sklearn, natomiast posiada kilka rozszerzeń specyficznych do tej biblioteki. Rzućmy okiem na obiekt reprezentujący model, który będziemy uczyć:"
   ]
  },
  {
   "cell_type": "code",
   "execution_count": 4,
   "metadata": {
    "id": "O0sd1DqLsXkp",
    "outputId": "1f892d30-caf3-4fb6-ab47-779ae1e4d256"
   },
   "outputs": [],
   "source": [
    "xgb.XGBRegressor?"
   ]
  },
  {
   "cell_type": "markdown",
   "metadata": {
    "id": "GAM2lMOWsXks"
   },
   "source": [
    "Część parametrów jest podobna do lasu losowego (`n_estimators`), część odzwierciedla równania, na których bazowana jest funkcja straty. Najbardziej interesujące parametry:\n",
    "\n",
    "- n_estimators\n",
    "- learning_rate\n",
    "- booster\n",
    "- objective\n",
    "\n",
    "Więcej na: https://xgboost.readthedocs.io/en/latest/parameter.html\n",
    "\n",
    "### Przykładowy trening"
   ]
  },
  {
   "cell_type": "code",
   "execution_count": 5,
   "metadata": {
    "id": "2RSMYPYEsXkv"
   },
   "outputs": [],
   "source": [
    "y = data['price']\n",
    "x = data.drop(['id', 'price', 'date', 'zipcode'], axis=1)"
   ]
  },
  {
   "cell_type": "markdown",
   "metadata": {
    "id": "vFX3K8d_sXky"
   },
   "source": [
    "Podział danych na treningowe oraz testowe"
   ]
  },
  {
   "cell_type": "code",
   "execution_count": 7,
   "metadata": {
    "id": "hkkyNKBxsXk0"
   },
   "outputs": [],
   "source": [
    "from sklearn.model_selection import train_test_split\n",
    "\n",
    "x_train, x_test, y_train, y_test = train_test_split(x, y, test_size=0.2, random_state= 0)"
   ]
  },
  {
   "cell_type": "code",
   "execution_count": 8,
   "metadata": {
    "id": "uRNU57spsXk1",
    "outputId": "9625d948-bd04-4e73-f3db-1d9f722da04d"
   },
   "outputs": [
    {
     "name": "stdout",
     "output_type": "stream",
     "text": [
      "<class 'pandas.core.frame.DataFrame'>\n",
      "Int64Index: 17290 entries, 5268 to 2732\n",
      "Data columns (total 17 columns):\n",
      " #   Column         Non-Null Count  Dtype  \n",
      "---  ------         --------------  -----  \n",
      " 0   bedrooms       17290 non-null  int64  \n",
      " 1   bathrooms      17290 non-null  float64\n",
      " 2   sqft_living    17290 non-null  int64  \n",
      " 3   sqft_lot       17290 non-null  int64  \n",
      " 4   floors         17290 non-null  float64\n",
      " 5   waterfront     17290 non-null  int64  \n",
      " 6   view           17290 non-null  int64  \n",
      " 7   condition      17290 non-null  int64  \n",
      " 8   grade          17290 non-null  int64  \n",
      " 9   sqft_above     17290 non-null  int64  \n",
      " 10  sqft_basement  17290 non-null  int64  \n",
      " 11  yr_built       17290 non-null  int64  \n",
      " 12  yr_renovated   17290 non-null  int64  \n",
      " 13  lat            17290 non-null  float64\n",
      " 14  long           17290 non-null  float64\n",
      " 15  sqft_living15  17290 non-null  int64  \n",
      " 16  sqft_lot15     17290 non-null  int64  \n",
      "dtypes: float64(4), int64(13)\n",
      "memory usage: 2.4 MB\n"
     ]
    }
   ],
   "source": [
    "x_train.info()"
   ]
  },
  {
   "cell_type": "code",
   "execution_count": 9,
   "metadata": {
    "id": "StZCAEYesXk2",
    "outputId": "a7d53806-60ac-424d-e6a2-4b1802b297fc"
   },
   "outputs": [
    {
     "data": {
      "text/plain": [
       "3     7832\n",
       "4     5439\n",
       "2     2260\n",
       "5     1307\n",
       "6      225\n",
       "1      166\n",
       "7       32\n",
       "0       11\n",
       "8        8\n",
       "9        5\n",
       "10       3\n",
       "11       1\n",
       "33       1\n",
       "Name: bedrooms, dtype: int64"
      ]
     },
     "execution_count": 9,
     "metadata": {},
     "output_type": "execute_result"
    }
   ],
   "source": [
    "x_train.bedrooms.value_counts()"
   ]
  },
  {
   "cell_type": "code",
   "execution_count": 10,
   "metadata": {
    "id": "L7hRkslFsXk3",
    "outputId": "739f2efe-5266-4808-ae09-70b7a9c2b2f8"
   },
   "outputs": [
    {
     "data": {
      "text/plain": [
       "0    17149\n",
       "1      141\n",
       "Name: waterfront, dtype: int64"
      ]
     },
     "execution_count": 10,
     "metadata": {},
     "output_type": "execute_result"
    }
   ],
   "source": [
    "x_train.waterfront.value_counts()"
   ]
  },
  {
   "cell_type": "code",
   "execution_count": 11,
   "metadata": {
    "id": "h149cp5fsXk4",
    "outputId": "d5a0a418-860d-441f-bf6a-d72def62dffc"
   },
   "outputs": [
    {
     "data": {
      "text/plain": [
       "0    15557\n",
       "2      788\n",
       "3      406\n",
       "1      278\n",
       "4      261\n",
       "Name: view, dtype: int64"
      ]
     },
     "execution_count": 11,
     "metadata": {},
     "output_type": "execute_result"
    }
   ],
   "source": [
    "x_train.view.value_counts()"
   ]
  },
  {
   "cell_type": "markdown",
   "metadata": {
    "id": "yiCrB1oIsXk4"
   },
   "source": [
    "Stworzenie regresora w XGBoost. Istotne parametry: `objective=\"reg:squarederror\"`, `booster=\"gbtree\"`. Seed to ustalenie ziarna losowania (reprodukowalność rozwiązań)"
   ]
  },
  {
   "cell_type": "code",
   "execution_count": 12,
   "metadata": {
    "id": "eJU19xIxsXk6"
   },
   "outputs": [],
   "source": [
    "xg_reg = xgb.XGBRegressor(random_state=123, n_estimators=5, max_depth=7)"
   ]
  },
  {
   "cell_type": "code",
   "execution_count": 13,
   "metadata": {
    "id": "VyzKjTAYsXk7",
    "outputId": "e40ac58f-8431-4bb8-840a-79a2dadd350b"
   },
   "outputs": [
    {
     "data": {
      "text/plain": [
       "XGBRegressor(base_score=None, booster=None, callbacks=None,\n",
       "             colsample_bylevel=None, colsample_bynode=None,\n",
       "             colsample_bytree=None, early_stopping_rounds=None,\n",
       "             enable_categorical=False, eval_metric=None, gamma=None,\n",
       "             gpu_id=None, grow_policy=None, importance_type=None,\n",
       "             interaction_constraints=None, learning_rate=None, max_bin=None,\n",
       "             max_cat_to_onehot=None, max_delta_step=None, max_depth=7,\n",
       "             max_leaves=None, min_child_weight=None, missing=nan,\n",
       "             monotone_constraints=None, n_estimators=5, n_jobs=None,\n",
       "             num_parallel_tree=None, predictor=None, random_state=123,\n",
       "             reg_alpha=None, reg_lambda=None, ...)"
      ]
     },
     "execution_count": 13,
     "metadata": {},
     "output_type": "execute_result"
    }
   ],
   "source": [
    "xg_reg"
   ]
  },
  {
   "cell_type": "markdown",
   "metadata": {
    "id": "wVSWFT--sXk8"
   },
   "source": [
    "Trening modelu."
   ]
  },
  {
   "cell_type": "code",
   "execution_count": 14,
   "metadata": {
    "id": "zoAW56VZsXk9",
    "outputId": "87bd1534-2c15-4877-fb89-d8b867377e4f"
   },
   "outputs": [
    {
     "name": "stdout",
     "output_type": "stream",
     "text": [
      "time:  1.274486780166626\n",
      "CPU times: total: 1.11 s\n",
      "Wall time: 1.28 s\n"
     ]
    }
   ],
   "source": [
    "%%time\n",
    "\n",
    "start = time.time()\n",
    "\n",
    "xg_reg.fit(x_train, y_train)\n",
    "\n",
    "end = time.time()\n",
    "print(\"time: \", end - start)"
   ]
  },
  {
   "cell_type": "markdown",
   "metadata": {
    "id": "uVwST-yQsXlA"
   },
   "source": [
    "Predykcja danych testowych"
   ]
  },
  {
   "cell_type": "code",
   "execution_count": 15,
   "metadata": {
    "id": "ytbppYXUsXlB"
   },
   "outputs": [],
   "source": [
    "y_pred = xg_reg.predict(x_test)"
   ]
  },
  {
   "cell_type": "code",
   "execution_count": 16,
   "metadata": {
    "id": "4xDJfPVSsXlC",
    "outputId": "f0431af2-dfee-4d91-8f23-882fb7967d02"
   },
   "outputs": [
    {
     "data": {
      "text/plain": [
       "array([ 315960.88, 1378469.1 ,  428747.9 , ...,  350278.3 ,  196922.05,\n",
       "        385442.56], dtype=float32)"
      ]
     },
     "execution_count": 16,
     "metadata": {},
     "output_type": "execute_result"
    }
   ],
   "source": [
    "y_pred"
   ]
  },
  {
   "cell_type": "code",
   "execution_count": 17,
   "metadata": {
    "id": "YQuCm34_sXlD",
    "outputId": "4fa02e34-d679-4db5-eb52-ab86806240a5"
   },
   "outputs": [
    {
     "data": {
      "text/plain": [
       "0.7495393224955608"
      ]
     },
     "execution_count": 17,
     "metadata": {},
     "output_type": "execute_result"
    }
   ],
   "source": [
    "xg_reg.score(x_test, y_test) #R^2"
   ]
  },
  {
   "cell_type": "markdown",
   "metadata": {
    "id": "Ky8Cqkc_sXlE"
   },
   "source": [
    "Obliczmy błąd RMSE (root mean squared error)"
   ]
  },
  {
   "cell_type": "code",
   "execution_count": 18,
   "metadata": {
    "id": "i7XG7Es2sXlE"
   },
   "outputs": [],
   "source": [
    "from sklearn.metrics import mean_squared_error, mean_absolute_error\n",
    "import sklearn.metrics"
   ]
  },
  {
   "cell_type": "code",
   "execution_count": 19,
   "metadata": {
    "id": "NWwaPe2SsXlF"
   },
   "outputs": [],
   "source": [
    "# np.sqrt(np.mean(((y_test - y_pred) ** 2)))\n",
    "\n",
    "# mean_squared_error(GROUNDTRUTH, PREDYKCJE)\n",
    "rmse = np.sqrt(mean_squared_error(y_test, y_pred))\n",
    "mae = sklearn.metrics.mean_absolute_error(y_test, y_pred)"
   ]
  },
  {
   "cell_type": "code",
   "execution_count": 20,
   "metadata": {
    "id": "Hjyhj8I-sXlF",
    "outputId": "24829e7e-e242-41f1-ef43-9c9ac2eaf611"
   },
   "outputs": [
    {
     "name": "stdout",
     "output_type": "stream",
     "text": [
      "RMSE - gbtree:  172585.7846398683\n",
      "MAE - gbtree:  105766.23459547768\n"
     ]
    }
   ],
   "source": [
    "print(\"RMSE - gbtree: \", rmse)\n",
    "print(\"MAE - gbtree: \", mae)"
   ]
  },
  {
   "cell_type": "code",
   "execution_count": 21,
   "metadata": {
    "id": "lG_W-niEsXlH",
    "outputId": "92b11b61-035d-497a-913a-49eb81340faf"
   },
   "outputs": [
    {
     "data": {
      "image/png": "[encoded data removed]",
      "text/plain": [
       "<Figure size 432x288 with 1 Axes>"
      ]
     },
     "metadata": {
      "needs_background": "light"
     },
     "output_type": "display_data"
    }
   ],
   "source": [
    "import matplotlib.pyplot as plt\n",
    "\n",
    "plt.hist(np.abs(y_test - y_pred), bins=50);"
   ]
  },
  {
   "cell_type": "code",
   "execution_count": 22,
   "metadata": {
    "id": "cIraWt8ksXlT"
   },
   "outputs": [],
   "source": [
    "y_pred = np.array([200, 240])\n",
    "y_true = np.array([150, 140])"
   ]
  },
  {
   "cell_type": "code",
   "execution_count": 23,
   "metadata": {
    "id": "B9x07KJ-sXlU"
   },
   "outputs": [],
   "source": [
    "mae = np.mean(np.abs(y_true - y_pred))\n",
    "mse = np.mean((y_true - y_pred) ** 2)\n",
    "rmse = np.sqrt(np.mean((y_true - y_pred) ** 2))"
   ]
  },
  {
   "cell_type": "code",
   "execution_count": 24,
   "metadata": {
    "id": "jw0QhjhqsXlV",
    "outputId": "cb6b082b-b5c1-4727-f5b6-f790243924ae"
   },
   "outputs": [
    {
     "name": "stdout",
     "output_type": "stream",
     "text": [
      "75.0 6250.0 79.05694150420949\n"
     ]
    }
   ],
   "source": [
    "print(mae, mse, rmse)"
   ]
  },
  {
   "cell_type": "code",
   "execution_count": 25,
   "metadata": {
    "id": "DIqbfGMusXlX",
    "outputId": "13b4bad0-5585-489a-b293-804c2883e6b7"
   },
   "outputs": [
    {
     "data": {
      "text/plain": [
       "<AxesSubplot:title={'center':'Feature importance'}, xlabel='F score', ylabel='Features'>"
      ]
     },
     "execution_count": 25,
     "metadata": {},
     "output_type": "execute_result"
    },
    {
     "data": {
      "image/png": "[encoded data removed]",
      "text/plain": [
       "<Figure size 720x576 with 1 Axes>"
      ]
     },
     "metadata": {
      "needs_background": "light"
     },
     "output_type": "display_data"
    }
   ],
   "source": [
    "from matplotlib.pylab import rcParams\n",
    "##set up the parameters\n",
    "rcParams['figure.figsize'] = 10, 8\n",
    "\n",
    "xgb.plot_importance(xg_reg)"
   ]
  },
  {
   "cell_type": "code",
   "execution_count": 26,
   "metadata": {
    "id": "AylvpV8FsXlY",
    "outputId": "b8121efa-1ed7-4665-e1ae-219b60b37fca"
   },
   "outputs": [],
   "source": [
    "xgb.plot_importance?"
   ]
  },
  {
   "cell_type": "markdown",
   "metadata": {
    "id": "AqKIyv7NsXlY"
   },
   "source": [
    "### Alternatywne boostery\n",
    "\n",
    "Istnieje więcej niż jedna metoda boostowania. `gbtree` opiera się o drzewa, możemy użyć modelu liniowego zamiast drzewa.\n",
    "Stworzenie regresora (`booster=\"gblinear\"`)."
   ]
  },
  {
   "cell_type": "code",
   "execution_count": 27,
   "metadata": {
    "id": "43JgT_j2sXlZ"
   },
   "outputs": [],
   "source": [
    "xg_reg_lin = xgb.XGBRegressor(objective=\"reg:squarederror\", seed=123, booster=\"gblinear\", n_estimators=50)"
   ]
  },
  {
   "cell_type": "code",
   "execution_count": 28,
   "metadata": {
    "id": "kuNccS78sXla",
    "outputId": "40728361-69e9-4ea4-e179-6ac649ab723a"
   },
   "outputs": [
    {
     "data": {
      "text/plain": [
       "XGBRegressor(base_score=0.5, booster='gblinear', callbacks=None,\n",
       "             colsample_bylevel=None, colsample_bynode=None,\n",
       "             colsample_bytree=None, early_stopping_rounds=None,\n",
       "             enable_categorical=False, eval_metric=None, gamma=None, gpu_id=-1,\n",
       "             grow_policy=None, importance_type=None,\n",
       "             interaction_constraints=None, learning_rate=0.5, max_bin=None,\n",
       "             max_cat_to_onehot=None, max_delta_step=None, max_depth=None,\n",
       "             max_leaves=None, min_child_weight=None, missing=nan,\n",
       "             monotone_constraints=None, n_estimators=50, n_jobs=0,\n",
       "             num_parallel_tree=None, predictor=None, random_state=123,\n",
       "             reg_alpha=0, reg_lambda=0, ...)"
      ]
     },
     "execution_count": 28,
     "metadata": {},
     "output_type": "execute_result"
    }
   ],
   "source": [
    "xg_reg_lin.fit(x_train, y_train)"
   ]
  },
  {
   "cell_type": "code",
   "execution_count": 29,
   "metadata": {
    "id": "4xdORx36sXlb"
   },
   "outputs": [],
   "source": [
    "y_pred = xg_reg_lin.predict(x_test)"
   ]
  },
  {
   "cell_type": "code",
   "execution_count": 30,
   "metadata": {
    "id": "VsOdBj5bsXlb"
   },
   "outputs": [],
   "source": [
    "rmse = np.sqrt(mean_squared_error(y_test, y_pred))"
   ]
  },
  {
   "cell_type": "code",
   "execution_count": 31,
   "metadata": {
    "id": "FzYLCR33sXlc",
    "outputId": "24846da9-9479-4973-f20d-5767bf08a5ca",
    "scrolled": true
   },
   "outputs": [
    {
     "name": "stdout",
     "output_type": "stream",
     "text": [
      "RMSE:  230000.7495140943\n"
     ]
    }
   ],
   "source": [
    "print(\"RMSE: \", rmse)"
   ]
  },
  {
   "cell_type": "markdown",
   "metadata": {
    "id": "ppmpY4JesXlc"
   },
   "source": [
    "### Nieliniowe przekształcenie\n",
    "\n",
    "Jeżeli wykreślimy cenę, zauważymy, że dystrybucja cen nie przypomina rozkładu normalnego. Jest to bardzo niezrównoważony rozkład."
   ]
  },
  {
   "cell_type": "code",
   "execution_count": 32,
   "metadata": {
    "id": "32aurVTRsXle",
    "outputId": "ad4e0f34-8e69-48b9-dc31-bde091094ebc"
   },
   "outputs": [
    {
     "data": {
      "image/png": "[encoded data removed]",
      "text/plain": [
       "<Figure size 720x504 with 1 Axes>"
      ]
     },
     "metadata": {
      "needs_background": "light"
     },
     "output_type": "display_data"
    }
   ],
   "source": [
    "import matplotlib.pyplot as plt\n",
    "from matplotlib.pylab import rcParams\n",
    "##set up the parameters\n",
    "rcParams['figure.figsize'] = 10, 7\n",
    "\n",
    "plt.hist(data['price'], bins=20)\n",
    "_ = plt.title(\"Histogram of prices\")"
   ]
  },
  {
   "cell_type": "code",
   "execution_count": 33,
   "metadata": {
    "id": "j8_16V4csXlf",
    "outputId": "ea63ad03-dda6-49f9-a5e7-d7ad7aa17ceb"
   },
   "outputs": [
    {
     "data": {
      "text/plain": [
       "0    221900.0\n",
       "1    538000.0\n",
       "2    180000.0\n",
       "3    604000.0\n",
       "4    510000.0\n",
       "Name: price, dtype: float64"
      ]
     },
     "execution_count": 33,
     "metadata": {},
     "output_type": "execute_result"
    }
   ],
   "source": [
    "data['price'].head()"
   ]
  },
  {
   "cell_type": "code",
   "execution_count": 34,
   "metadata": {
    "id": "SmKxg9HzsXlh",
    "outputId": "800ea0a3-1211-4da0-f96c-4201cb750519"
   },
   "outputs": [
    {
     "data": {
      "text/plain": [
       "0    5.346157\n",
       "1    5.730782\n",
       "2    5.255273\n",
       "3    5.781037\n",
       "4    5.707570\n",
       "Name: price, dtype: float64"
      ]
     },
     "execution_count": 34,
     "metadata": {},
     "output_type": "execute_result"
    }
   ],
   "source": [
    "np.log10(data['price'].head())"
   ]
  },
  {
   "cell_type": "code",
   "execution_count": 35,
   "metadata": {
    "id": "4Kd5rJGisXlj",
    "outputId": "aa0fdaab-7b13-4623-fa35-eef8964a549f"
   },
   "outputs": [
    {
     "data": {
      "text/plain": [
       "(5.2552725051033065, 5.781036938621132)"
      ]
     },
     "execution_count": 35,
     "metadata": {},
     "output_type": "execute_result"
    }
   ],
   "source": [
    "min(np.log10(data['price'].head())), max(np.log10(data['price'].head()))"
   ]
  },
  {
   "cell_type": "code",
   "execution_count": 36,
   "metadata": {
    "id": "49URlB9BsXlm",
    "outputId": "10b98e1a-a935-4148-ca93-3eba9aec3aec"
   },
   "outputs": [
    {
     "data": {
      "text/plain": [
       "0    221900.0\n",
       "1    538000.0\n",
       "2    180000.0\n",
       "3    604000.0\n",
       "4    510000.0\n",
       "Name: price, dtype: float64"
      ]
     },
     "execution_count": 36,
     "metadata": {},
     "output_type": "execute_result"
    }
   ],
   "source": [
    "10 ** np.log10(data['price'].head())"
   ]
  },
  {
   "cell_type": "markdown",
   "metadata": {
    "id": "wW8FG-JwsXlm"
   },
   "source": [
    "Spróbujmy przekształcić ten zestaw danych - np. przy pomocy przekształcenia logarytmicznego (dla danych finansowych często jest to pożyteczne przekształcenie)."
   ]
  },
  {
   "cell_type": "code",
   "execution_count": 37,
   "metadata": {
    "id": "vy5WaXe0sXln",
    "outputId": "90919033-64d0-4386-b912-560685495db8"
   },
   "outputs": [
    {
     "data": {
      "image/png": "[encoded data removed]",
      "text/plain": [
       "<Figure size 720x504 with 1 Axes>"
      ]
     },
     "metadata": {
      "needs_background": "light"
     },
     "output_type": "display_data"
    }
   ],
   "source": [
    "plt.hist(np.log10(data['price']), bins=20)\n",
    "_ = plt.title(\"Histogram of log-prices\")"
   ]
  },
  {
   "cell_type": "code",
   "execution_count": 38,
   "metadata": {
    "id": "u1pY-PKUsXlp",
    "outputId": "4df178bb-8d5b-48c9-b2bb-ab4a78d2e097"
   },
   "outputs": [
    {
     "data": {
      "image/png": "[encoded data removed]",
      "text/plain": [
       "<Figure size 720x504 with 1 Axes>"
      ]
     },
     "metadata": {
      "needs_background": "light"
     },
     "output_type": "display_data"
    }
   ],
   "source": [
    "# wykreślenie cen z osią X odpowiadającą rzeczywistej cenie, a nie wykładnikowi\n",
    "# jeden sposób: https://stackoverflow.com/questions/6855710/how-to-have-logarithmic-bins-in-a-python-histogram\n",
    "# drugi sposób: https://kite.com/python/examples/1870/matplotlib-change-x-axis-tick-labels\n",
    "\n",
    "# wykorzystano przekształcenie odwrotne, które jest funkcją wykładniczą np.exp\n",
    "\n",
    "plt.hist(np.log10(data['price']), bins=20)\n",
    "_ = plt.title(\"Histogram of log-prices - log=True\")\n",
    "plt.xlabel(\"House price\")\n",
    "plt.ylabel(\"Number of houses\")\n",
    "_ = plt.xticks(np.arange(5, 7), np.floor(10 ** (np.arange(5, 7))))"
   ]
  },
  {
   "cell_type": "markdown",
   "metadata": {
    "id": "eitDkvMCsXlp"
   },
   "source": [
    "# Zadanie 1\n",
    "\n",
    "Wykorzystując przekształcenie logarytmiczne sprawdź w jaki sposób poprawia to modele. Sprawdź `gbtree` oraz `gblinear` (analogiczie do modeli powyżej).\n",
    "\n",
    "Aby Twój model mógł być porównany z poprzednim, musisz wykorzystać tą samą miarę błędu. W tym celu - dokonaj przekształcenia odwrotnego na wynikach (funkcji wykładniczej) a następnie porównaj wyniki regresji w oryginalnej skali oraz wartości docelowych dla tych przykładów."
   ]
  },
  {
   "cell_type": "code",
   "execution_count": 39,
   "metadata": {
    "id": "oM1kwMlBsXlq",
    "outputId": "46deda6d-626a-4b1c-a753-e855c0bb0f6f"
   },
   "outputs": [
    {
     "data": {
      "text/plain": [
       "0        5.346157\n",
       "1        5.730782\n",
       "2        5.255273\n",
       "3        5.781037\n",
       "4        5.707570\n",
       "           ...   \n",
       "21608    5.556303\n",
       "21609    5.602060\n",
       "21610    5.604335\n",
       "21611    5.602060\n",
       "21612    5.511883\n",
       "Name: price, Length: 21613, dtype: float64"
      ]
     },
     "execution_count": 39,
     "metadata": {},
     "output_type": "execute_result"
    }
   ],
   "source": [
    "# x, y\n",
    "\n",
    "y_transformed = np.log10(y) #10 **\n",
    "y_transformed"
   ]
  },
  {
   "cell_type": "code",
   "execution_count": 41,
   "metadata": {},
   "outputs": [
    {
     "data": {
      "image/png": "[encoded data removed]",
      "text/plain": [
       "<Figure size 720x432 with 1 Axes>"
      ]
     },
     "metadata": {
      "needs_background": "light"
     },
     "output_type": "display_data"
    }
   ],
   "source": [
    "plt.figure(figsize=(10, 6))\n",
    "_ = plt.hist(y_transformed, bins=50)"
   ]
  },
  {
   "cell_type": "code",
   "execution_count": 40,
   "metadata": {
    "id": "sGd0v0dVsXlr",
    "outputId": "ff9bdd2c-352c-4963-db97-271674034f79"
   },
   "outputs": [
    {
     "data": {
      "text/plain": [
       "((4323,), (4323,))"
      ]
     },
     "execution_count": 40,
     "metadata": {},
     "output_type": "execute_result"
    }
   ],
   "source": [
    "train_x, test_x, train_y, test_y, train_yt, test_yt = train_test_split(\n",
    "    x, y, y_transformed, test_size=0.2, random_state=123\n",
    ")\n",
    "test_y.shape, test_yt.shape"
   ]
  },
  {
   "cell_type": "code",
   "execution_count": 42,
   "metadata": {},
   "outputs": [
    {
     "name": "stdout",
     "output_type": "stream",
     "text": [
      "transformed gbtree\n",
      "transformed gblinear\n",
      "not_transformed gbtree\n",
      "not_transformed gblinear\n"
     ]
    },
    {
     "data": {
      "text/plain": [
       "{('transformed', 'gbtree'): 65555.37105128093,\n",
       " ('transformed', 'gblinear'): 149870.73662314942,\n",
       " ('not_transformed', 'gbtree'): 67671.37879330038,\n",
       " ('not_transformed', 'gblinear'): 154453.09459395963}"
      ]
     },
     "execution_count": 42,
     "metadata": {},
     "output_type": "execute_result"
    }
   ],
   "source": [
    "results = {}\n",
    "\n",
    "for variant in [\"transformed\", \"not_transformed\"]:\n",
    "    for booster in [\"gbtree\", \"gblinear\"]:\n",
    "        print(variant, booster)\n",
    "        if variant == \"transformed\":\n",
    "            this_train_y = train_yt\n",
    "        else:\n",
    "            this_train_y = train_y\n",
    "        model = xgb.XGBRegressor(booster=booster, n_estimators=100)\n",
    "        model.fit(train_x, this_train_y)\n",
    "        pred = model.predict(test_x)\n",
    "        if variant == \"transformed\": #odwrocenie przeksztalcenia logarytmicznego\n",
    "            pred = 10 ** pred\n",
    "        score = mean_absolute_error(test_y, pred)\n",
    "        results[(variant, booster)] = score\n",
    "\n",
    "results"
   ]
  },
  {
   "cell_type": "code",
   "execution_count": 49,
   "metadata": {},
   "outputs": [
    {
     "data": {
      "text/plain": [
       "117663.0689666674"
      ]
     },
     "execution_count": 49,
     "metadata": {},
     "output_type": "execute_result"
    }
   ],
   "source": [
    "model = xgb.XGBRegressor(booster=\"gbtree\", n_estimators=25)\n",
    "model.fit(train_x, train_y)\n",
    "pred = model.predict(test_x)\n",
    "np.sqrt(mean_squared_error(test_y, pred))"
   ]
  },
  {
   "cell_type": "code",
   "execution_count": 50,
   "metadata": {},
   "outputs": [
    {
     "data": {
      "text/plain": [
       "245982.10450930145"
      ]
     },
     "execution_count": 50,
     "metadata": {},
     "output_type": "execute_result"
    }
   ],
   "source": [
    "model = xgb.XGBRegressor(booster=\"gblinear\", n_estimators=25)\n",
    "model.fit(train_x, train_y)\n",
    "pred = model.predict(test_x)\n",
    "np.sqrt(mean_squared_error(test_y, pred))"
   ]
  },
  {
   "cell_type": "code",
   "execution_count": 51,
   "metadata": {},
   "outputs": [
    {
     "data": {
      "text/plain": [
       "123672.13596317454"
      ]
     },
     "execution_count": 51,
     "metadata": {},
     "output_type": "execute_result"
    }
   ],
   "source": [
    "model = xgb.XGBRegressor(booster=\"gbtree\", n_estimators=25)\n",
    "model.fit(train_x, train_yt)\n",
    "pred = 10 ** model.predict(test_x)\n",
    "np.sqrt(mean_squared_error(test_y, pred))"
   ]
  },
  {
   "cell_type": "code",
   "execution_count": 52,
   "metadata": {},
   "outputs": [
    {
     "data": {
      "text/plain": [
       "448863.1877029203"
      ]
     },
     "execution_count": 52,
     "metadata": {},
     "output_type": "execute_result"
    }
   ],
   "source": [
    "model = xgb.XGBRegressor(booster=\"gblinear\", n_estimators=25)\n",
    "model.fit(train_x, train_yt)\n",
    "pred = 10 ** model.predict(test_x)\n",
    "np.sqrt(mean_squared_error(test_y, pred))"
   ]
  }
 ],
 "metadata": {
  "colab": {
   "provenance": []
  },
  "kernelspec": {
   "display_name": "Python 3 (ipykernel)",
   "language": "python",
   "name": "python3"
  },
  "language_info": {
   "codemirror_mode": {
    "name": "ipython",
    "version": 3
   },
   "file_extension": ".py",
   "mimetype": "text/x-python",
   "name": "python",
   "nbconvert_exporter": "python",
   "pygments_lexer": "ipython3",
   "version": "3.9.12"
  }
 },
 "nbformat": 4,
 "nbformat_minor": 1
}
