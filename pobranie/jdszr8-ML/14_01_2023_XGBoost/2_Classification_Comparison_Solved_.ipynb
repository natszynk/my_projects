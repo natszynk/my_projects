{
 "cells": [
  {
   "cell_type": "markdown",
   "metadata": {
    "id": "RB6TZQf2sYUX"
   },
   "source": [
    "### Klasyfikator\n",
    "\n",
    "Klasyfikacja działa podobnie. Wykorzystamy tym razem syntetyczny zestaw danych (jest to dobre rozwiązanie do testowania modeli w szybki sposób bez specyficznego zastosowania)"
   ]
  },
  {
   "cell_type": "code",
   "execution_count": 1,
   "metadata": {
    "id": "OGDfRePbsYUf"
   },
   "outputs": [],
   "source": [
    "import xgboost as xgb\n",
    "import numpy as np\n",
    "import time\n",
    "from sklearn import datasets\n",
    "import matplotlib.pyplot as plt"
   ]
  },
  {
   "cell_type": "code",
   "execution_count": 5,
   "metadata": {},
   "outputs": [],
   "source": [
    "np.set_printoptions(suppress=True)"
   ]
  },
  {
   "cell_type": "code",
   "execution_count": 6,
   "metadata": {
    "id": "KQwlu62jsYUk",
    "outputId": "faddef26-5df9-4af1-8a14-d5b9a37e265b"
   },
   "outputs": [],
   "source": [
    "datasets.make_classification?"
   ]
  },
  {
   "cell_type": "markdown",
   "metadata": {
    "id": "w6dXmEVnsYUp"
   },
   "source": [
    "Służy do tego `make_classification`"
   ]
  },
  {
   "cell_type": "code",
   "execution_count": 7,
   "metadata": {
    "id": "jB4cyq25sYUr"
   },
   "outputs": [],
   "source": [
    "x, y = datasets.make_classification(\n",
    "    n_samples=2500, n_features=20, n_informative=3, n_redundant=2\n",
    ")"
   ]
  },
  {
   "cell_type": "code",
   "execution_count": 8,
   "metadata": {
    "id": "v9w2QfRRsYUs",
    "outputId": "777643d0-a32d-496b-b0ba-ad71717d451d"
   },
   "outputs": [
    {
     "data": {
      "text/plain": [
       "array([[-0.91500597,  2.82758243,  1.47846958, ...,  4.27399835,\n",
       "         0.2923549 , -0.45607886],\n",
       "       [-1.21292416,  1.39625248, -1.62454915, ..., -1.50287556,\n",
       "        -1.81122752,  0.76845801],\n",
       "       [ 0.84194858, -0.28599022,  0.1627789 , ...,  2.06344948,\n",
       "         1.2838529 , -1.27287044],\n",
       "       ...,\n",
       "       [ 1.97632717,  2.21825569,  0.99267121, ...,  0.25182442,\n",
       "        -1.01109924, -2.04854938],\n",
       "       [-0.12628311,  2.11121033,  0.10731174, ...,  2.48361417,\n",
       "         0.96915012, -1.07563185],\n",
       "       [-0.110217  ,  2.02135155,  0.99995411, ...,  3.45750321,\n",
       "         0.04233726, -0.08418232]])"
      ]
     },
     "execution_count": 8,
     "metadata": {},
     "output_type": "execute_result"
    }
   ],
   "source": [
    "x"
   ]
  },
  {
   "cell_type": "code",
   "execution_count": 9,
   "metadata": {
    "id": "oB3M-kCRsYUv",
    "outputId": "53070bc5-177d-4694-b95b-54ffeddca03d"
   },
   "outputs": [
    {
     "data": {
      "text/plain": [
       "Counter({1: 1251, 0: 1249})"
      ]
     },
     "execution_count": 9,
     "metadata": {},
     "output_type": "execute_result"
    }
   ],
   "source": [
    "from collections import Counter\n",
    "\n",
    "Counter(y)"
   ]
  },
  {
   "cell_type": "code",
   "execution_count": 10,
   "metadata": {
    "id": "TPQbAZL1sYUx",
    "outputId": "3dcdb6bf-0bae-4a99-e92e-a5db1c2d8365"
   },
   "outputs": [
    {
     "data": {
      "text/plain": [
       "(1251, 2500)"
      ]
     },
     "execution_count": 10,
     "metadata": {},
     "output_type": "execute_result"
    }
   ],
   "source": [
    "np.sum(y), len(y)"
   ]
  },
  {
   "cell_type": "markdown",
   "metadata": {
    "id": "_muvcMO9sYUz"
   },
   "source": [
    "Standardowy podział na dane treningowe oraz testowe"
   ]
  },
  {
   "cell_type": "code",
   "execution_count": 11,
   "metadata": {
    "id": "Sd4lituksYU1",
    "outputId": "7fb904d3-8b91-439f-964c-a0db823f9b3e"
   },
   "outputs": [
    {
     "name": "stdout",
     "output_type": "stream",
     "text": [
      "x_train shape:  (2000, 20)\n",
      "x_test shape:  (500, 20)\n",
      "y_train shape:  (2000,)\n",
      "y_test shape:  (500,)\n"
     ]
    }
   ],
   "source": [
    "from sklearn.model_selection import train_test_split\n",
    "x_train, x_test, y_train, y_test = train_test_split(x, y, test_size=0.2, random_state=23)\n",
    "\n",
    "print(\"x_train shape: \", x_train.shape)\n",
    "print(\"x_test shape: \", x_test.shape)\n",
    "print(\"y_train shape: \", y_train.shape)\n",
    "print(\"y_test shape: \", y_test.shape)"
   ]
  },
  {
   "cell_type": "markdown",
   "metadata": {
    "id": "De2RFNiasYU4"
   },
   "source": [
    "Stworzenie prostego klasyfikatora xgboost - konwencja nazewnictwa jest podobna do pozostałych modeli sklearnowych"
   ]
  },
  {
   "cell_type": "code",
   "execution_count": 12,
   "metadata": {
    "id": "bLDOzHEesYU7"
   },
   "outputs": [],
   "source": [
    "xgb_cl = xgb.XGBClassifier(n_estimators=100, max_depth=3, use_label_encoder=False, eval_metric='error')"
   ]
  },
  {
   "cell_type": "markdown",
   "metadata": {},
   "source": [
    "error: Binary classification error rate. It is calculated as #(wrong cases)/#(all cases). For the predictions, the evaluation will regard the instances with prediction value larger than 0.5 as positive instances, and the others as negative instances."
   ]
  },
  {
   "cell_type": "code",
   "execution_count": 13,
   "metadata": {
    "id": "DjtOYJBxsYU9",
    "outputId": "ada02326-7822-435a-d145-0735e2e626fc"
   },
   "outputs": [],
   "source": [
    "?xgb.XGBClassifier"
   ]
  },
  {
   "cell_type": "markdown",
   "metadata": {
    "id": "qa6BD9bKsYVA"
   },
   "source": [
    "Trening"
   ]
  },
  {
   "cell_type": "code",
   "execution_count": 14,
   "metadata": {
    "id": "6Pfe5wW9sYVA",
    "outputId": "fb294579-f1f5-47e5-a2c0-dc8d0d167c78"
   },
   "outputs": [
    {
     "name": "stdout",
     "output_type": "stream",
     "text": [
      "time:  1.908601999282837\n"
     ]
    }
   ],
   "source": [
    "start = time.time()\n",
    "\n",
    "xgb_cl.fit(x_train, y_train)\n",
    "\n",
    "end = time.time()\n",
    "print(\"time: \",end - start)"
   ]
  },
  {
   "cell_type": "markdown",
   "metadata": {
    "id": "LWBEqC5isYVC"
   },
   "source": [
    "Policzenie skuteczności"
   ]
  },
  {
   "cell_type": "code",
   "execution_count": 15,
   "metadata": {
    "id": "rbLf4uJHsYVD",
    "outputId": "613a3dd0-f915-4201-9dc8-753c30bd22f7"
   },
   "outputs": [
    {
     "name": "stdout",
     "output_type": "stream",
     "text": [
      "acc:  0.876\n"
     ]
    }
   ],
   "source": [
    "from sklearn.metrics import accuracy_score\n",
    "\n",
    "y_pred = xgb_cl.predict(x_test)\n",
    "acc = accuracy_score(y_test, y_pred)\n",
    "print(\"acc: \", acc)"
   ]
  },
  {
   "cell_type": "code",
   "execution_count": 16,
   "metadata": {
    "id": "TsYdSyLgsYVG",
    "outputId": "2ba11a7f-a309-466c-b29c-72211cb300fb"
   },
   "outputs": [],
   "source": [
    "xgb_cl.score?"
   ]
  },
  {
   "cell_type": "code",
   "execution_count": 17,
   "metadata": {
    "id": "5Sd6qbXisYVI"
   },
   "outputs": [],
   "source": [
    "probas = xgb_cl.predict_proba(x_test)"
   ]
  },
  {
   "cell_type": "code",
   "execution_count": 18,
   "metadata": {
    "id": "HW46fOcTsYVK"
   },
   "outputs": [],
   "source": [
    "positive_proba = probas[:, 1]"
   ]
  },
  {
   "cell_type": "code",
   "execution_count": 19,
   "metadata": {
    "collapsed": true
   },
   "outputs": [
    {
     "data": {
      "text/plain": [
       "array([0.11691315, 0.9897843 , 0.36455572, 0.9970325 , 0.96107   ,\n",
       "       0.10181504, 0.14434876, 0.01631126, 0.8821809 , 0.0722176 ,\n",
       "       0.98571044, 0.06455844, 0.9988871 , 0.03716413, 0.977786  ,\n",
       "       0.32914194, 0.8885221 , 0.33130533, 0.49570444, 0.07345679,\n",
       "       0.9947508 , 0.24292493, 0.00636635, 0.01673821, 0.9917115 ,\n",
       "       0.7879389 , 0.16503774, 0.10367153, 0.8276956 , 0.9808734 ,\n",
       "       0.28849825, 0.02947657, 0.9914197 , 0.0081462 , 0.9688182 ,\n",
       "       0.99008244, 0.02332091, 0.85179394, 0.0697971 , 0.48405844,\n",
       "       0.0445312 , 0.6629944 , 0.26453078, 0.9276976 , 0.03376152,\n",
       "       0.10238384, 0.2587709 , 0.97478014, 0.0351949 , 0.02842139,\n",
       "       0.96246827, 0.9949261 , 0.9933838 , 0.84134257, 0.98102796,\n",
       "       0.9564954 , 0.84062546, 0.02405863, 0.82854575, 0.07774732,\n",
       "       0.0097364 , 0.9614579 , 0.97403675, 0.18131271, 0.89752656,\n",
       "       0.94799954, 0.26628852, 0.01360147, 0.08955   , 0.5046464 ,\n",
       "       0.02046717, 0.13957904, 0.05118493, 0.9221983 , 0.9833997 ,\n",
       "       0.9856381 , 0.20378314, 0.97995996, 0.03246034, 0.15167016,\n",
       "       0.23498441, 0.5419109 , 0.95681065, 0.08741256, 0.91251755,\n",
       "       0.9831012 , 0.9337219 , 0.35998178, 0.14744717, 0.7669352 ,\n",
       "       0.11803102, 0.9903955 , 0.02471189, 0.00808939, 0.01578561,\n",
       "       0.33712065, 0.9805173 , 0.2762028 , 0.01568414, 0.0095448 ,\n",
       "       0.02435724, 0.01726316, 0.75290436, 0.11967623, 0.3357348 ,\n",
       "       0.84934944, 0.16857748, 0.7369093 , 0.08548054, 0.00412327,\n",
       "       0.98832893, 0.7697497 , 0.03587012, 0.2630321 , 0.08528407,\n",
       "       0.01066271, 0.826626  , 0.32150143, 0.9602975 , 0.25314158,\n",
       "       0.02188937, 0.98732764, 0.95948464, 0.9889086 , 0.843448  ,\n",
       "       0.98111194, 0.05920761, 0.98846835, 0.7272349 , 0.98903346,\n",
       "       0.5642188 , 0.6771307 , 0.4840714 , 0.17386328, 0.96401477,\n",
       "       0.21561565, 0.7903179 , 0.9957145 , 0.04781356, 0.34197873,\n",
       "       0.00843995, 0.0687369 , 0.26907927, 0.02579038, 0.9005533 ,\n",
       "       0.9090027 , 0.938198  , 0.96933   , 0.03452642, 0.6074802 ,\n",
       "       0.06975742, 0.198248  , 0.73554957, 0.2919822 , 0.99080056,\n",
       "       0.9419845 , 0.8633643 , 0.08738289, 0.03404988, 0.6021593 ,\n",
       "       0.95417833, 0.09740046, 0.49280024, 0.9962696 , 0.08620054,\n",
       "       0.01248955, 0.9798489 , 0.00967424, 0.02099061, 0.05473568,\n",
       "       0.15265699, 0.99123764, 0.06724039, 0.9898371 , 0.277153  ,\n",
       "       0.0173602 , 0.84571   , 0.57641506, 0.04232203, 0.5891904 ,\n",
       "       0.02017373, 0.9816297 , 0.99598676, 0.97138906, 0.36005682,\n",
       "       0.96843576, 0.02034656, 0.86316174, 0.98303753, 0.67471373,\n",
       "       0.9684576 , 0.5098418 , 0.14641547, 0.54704505, 0.03247875,\n",
       "       0.93792963, 0.29363984, 0.42695722, 0.00822429, 0.03173793,\n",
       "       0.97744966, 0.9939231 , 0.9932435 , 0.81619936, 0.9990314 ,\n",
       "       0.74621016, 0.35830784, 0.19011123, 0.2786505 , 0.24606442,\n",
       "       0.98381627, 0.9946562 , 0.98177767, 0.90669787, 0.9319783 ,\n",
       "       0.02583646, 0.06127311, 0.03036468, 0.01068693, 0.99394196,\n",
       "       0.00312869, 0.00555416, 0.9434425 , 0.05007618, 0.865521  ,\n",
       "       0.83198535, 0.8368133 , 0.2044655 , 0.9638386 , 0.9104533 ,\n",
       "       0.9145069 , 0.9720444 , 0.01523726, 0.37125316, 0.8449087 ,\n",
       "       0.85556674, 0.18396667, 0.03751436, 0.15306447, 0.3904126 ,\n",
       "       0.9068098 , 0.27625936, 0.8117311 , 0.982961  , 0.23975727,\n",
       "       0.00875508, 0.13881549, 0.31325835, 0.21749486, 0.04282957,\n",
       "       0.24427278, 0.9716267 , 0.94972074, 0.01183832, 0.19321002,\n",
       "       0.85829103, 0.28662103, 0.8334567 , 0.30013466, 0.48428306,\n",
       "       0.9818887 , 0.7370534 , 0.02628717, 0.32050532, 0.41447386,\n",
       "       0.00088601, 0.9830414 , 0.15873285, 0.0264505 , 0.19083126,\n",
       "       0.06212575, 0.99532396, 0.54883933, 0.18482119, 0.86520267,\n",
       "       0.8105546 , 0.01024861, 0.2485418 , 0.10706401, 0.12698773,\n",
       "       0.9843172 , 0.84735835, 0.9684296 , 0.03572641, 0.982487  ,\n",
       "       0.9751006 , 0.63233644, 0.17854463, 0.5452484 , 0.0202905 ,\n",
       "       0.9699405 , 0.5374038 , 0.9203274 , 0.07403971, 0.9620644 ,\n",
       "       0.07291521, 0.16291302, 0.91522175, 0.24545355, 0.79625905,\n",
       "       0.0538329 , 0.06511142, 0.38179502, 0.11981762, 0.1474495 ,\n",
       "       0.28316852, 0.89969397, 0.42961568, 0.00816803, 0.3518791 ,\n",
       "       0.99291176, 0.97211516, 0.8793456 , 0.02730139, 0.17671569,\n",
       "       0.03256443, 0.8823561 , 0.97554547, 0.884905  , 0.08028758,\n",
       "       0.15625982, 0.2676365 , 0.4222995 , 0.16958208, 0.02999052,\n",
       "       0.993808  , 0.36826745, 0.9648829 , 0.98685247, 0.15477817,\n",
       "       0.9890549 , 0.02576119, 0.05403239, 0.07772543, 0.11326763,\n",
       "       0.8014313 , 0.976177  , 0.01014938, 0.9817078 , 0.9781693 ,\n",
       "       0.9967445 , 0.922809  , 0.9875557 , 0.04209789, 0.9887136 ,\n",
       "       0.05421327, 0.43805397, 0.18161875, 0.07870055, 0.35789752,\n",
       "       0.05261047, 0.12655123, 0.92455155, 0.9734176 , 0.07040438,\n",
       "       0.06525946, 0.54180473, 0.08872388, 0.26880983, 0.00772782,\n",
       "       0.80012214, 0.00471951, 0.9597639 , 0.04631165, 0.971385  ,\n",
       "       0.00065899, 0.01647738, 0.02170712, 0.10341537, 0.95875984,\n",
       "       0.9923774 , 0.40203783, 0.1067729 , 0.23181449, 0.31821936,\n",
       "       0.00124275, 0.22642972, 0.9047565 , 0.9299126 , 0.3707033 ,\n",
       "       0.07120265, 0.0051243 , 0.6957124 , 0.9019346 , 0.03316203,\n",
       "       0.0424925 , 0.54213107, 0.00780321, 0.01210199, 0.18964095,\n",
       "       0.32036573, 0.19801673, 0.12401018, 0.30257276, 0.98612994,\n",
       "       0.9885311 , 0.03960145, 0.15196128, 0.9945642 , 0.94379306,\n",
       "       0.36619174, 0.06269217, 0.9996654 , 0.01513746, 0.08946989,\n",
       "       0.09893957, 0.21589978, 0.0007924 , 0.03673241, 0.9929045 ,\n",
       "       0.93895143, 0.03937511, 0.00869764, 0.25774983, 0.01848648,\n",
       "       0.9655623 , 0.988796  , 0.71017236, 0.0436497 , 0.98216045,\n",
       "       0.93953085, 0.23783608, 0.05558452, 0.8271092 , 0.98887223,\n",
       "       0.02443651, 0.08736724, 0.92791444, 0.0214585 , 0.99178153,\n",
       "       0.07084288, 0.0315043 , 0.13996586, 0.98769045, 0.0168304 ,\n",
       "       0.03746485, 0.02092216, 0.9827944 , 0.9645729 , 0.63224185,\n",
       "       0.295382  , 0.00382296, 0.22378315, 0.02427698, 0.24795593,\n",
       "       0.04902251, 0.9757277 , 0.05461535, 0.9594818 , 0.04590974,\n",
       "       0.89894366, 0.01446841, 0.47564918, 0.01266225, 0.92313623,\n",
       "       0.9880117 , 0.1412608 , 0.94203186, 0.93484896, 0.8729077 ,\n",
       "       0.37609926, 0.4089846 , 0.98593384, 0.42669934, 0.00809995,\n",
       "       0.30610377, 0.33379036, 0.03866699, 0.9613178 , 0.51033205,\n",
       "       0.98894894, 0.01495226, 0.28935826, 0.8542965 , 0.3062601 ,\n",
       "       0.00369069, 0.13334773, 0.8404195 , 0.8854775 , 0.01135963,\n",
       "       0.26352358, 0.9924104 , 0.7975335 , 0.8684869 , 0.07625446,\n",
       "       0.00125513, 0.5533112 , 0.03859681, 0.9457337 , 0.4852299 ,\n",
       "       0.5250056 , 0.5107741 , 0.05168822, 0.9868195 , 0.98856246,\n",
       "       0.18497711, 0.20481665, 0.01955622, 0.17312223, 0.9797611 ],\n",
       "      dtype=float32)"
      ]
     },
     "execution_count": 19,
     "metadata": {},
     "output_type": "execute_result"
    }
   ],
   "source": [
    "positive_proba"
   ]
  },
  {
   "cell_type": "code",
   "execution_count": 20,
   "metadata": {
    "id": "HYYH4RMSsYVM",
    "outputId": "d773a46f-f94c-4a5e-96fc-4b99ed9e9e4c"
   },
   "outputs": [
    {
     "name": "stdout",
     "output_type": "stream",
     "text": [
      "              precision    recall  f1-score   support\n",
      "\n",
      "           0       0.86      0.91      0.89       264\n",
      "           1       0.90      0.83      0.86       236\n",
      "\n",
      "    accuracy                           0.88       500\n",
      "   macro avg       0.88      0.87      0.88       500\n",
      "weighted avg       0.88      0.88      0.88       500\n",
      "\n"
     ]
    }
   ],
   "source": [
    "from sklearn.metrics import confusion_matrix, classification_report\n",
    "\n",
    "print(classification_report(y_test, y_pred))"
   ]
  },
  {
   "cell_type": "code",
   "execution_count": 21,
   "metadata": {
    "id": "gXCO0PdPsYVP",
    "outputId": "c4a00876-f20c-4207-c0fc-c371cbb21de8"
   },
   "outputs": [
    {
     "data": {
      "text/plain": [
       "0.9349158962506421"
      ]
     },
     "execution_count": 21,
     "metadata": {},
     "output_type": "execute_result"
    }
   ],
   "source": [
    "from sklearn.metrics import roc_auc_score\n",
    "\n",
    "roc_auc_score(y_test, positive_proba) # AUROC Area Under Receiver Operating Charactericstic Curve"
   ]
  },
  {
   "cell_type": "markdown",
   "metadata": {
    "id": "fnDTkkQWsYVR"
   },
   "source": [
    "![](https://upload.wikimedia.org/wikipedia/commons/thumb/1/13/Roc_curve.svg/1024px-Roc_curve.svg.png)"
   ]
  },
  {
   "cell_type": "code",
   "execution_count": 22,
   "metadata": {
    "id": "fOIJ5m4gsYVS",
    "outputId": "0c3426b8-47c8-4143-9df1-9e058b4f3842"
   },
   "outputs": [],
   "source": [
    "from sklearn.metrics import roc_curve\n",
    "\n",
    "roc_curve?"
   ]
  },
  {
   "cell_type": "code",
   "execution_count": 23,
   "metadata": {
    "id": "2Ff4UsomsYVV",
    "outputId": "deaa2a91-f57b-4346-be86-20e7fc528d3e"
   },
   "outputs": [
    {
     "data": {
      "text/plain": [
       "Text(0, 0.5, 'True positive rate')"
      ]
     },
     "execution_count": 23,
     "metadata": {},
     "output_type": "execute_result"
    },
    {
     "data": {
      "image/png": "[encoded data removed]",
      "text/plain": [
       "<Figure size 1080x720 with 1 Axes>"
      ]
     },
     "metadata": {
      "needs_background": "light"
     },
     "output_type": "display_data"
    }
   ],
   "source": [
    "# Receiver operating characteristic\n",
    "\n",
    "false_positive_rate, true_positive_rate, thresholds = roc_curve(y_test, positive_proba)\n",
    "\n",
    "plt.figure(figsize=(15, 10))\n",
    "plt.plot(false_positive_rate, true_positive_rate)\n",
    "plt.xlabel(\"False positive rate\")\n",
    "plt.ylabel(\"True positive rate\")"
   ]
  },
  {
   "cell_type": "markdown",
   "metadata": {
    "id": "SVLX3xKLsYVW"
   },
   "source": [
    "![](https://upload.wikimedia.org/wikipedia/commons/thumb/2/26/Precisionrecall.svg/350px-Precisionrecall.svg.png)"
   ]
  },
  {
   "cell_type": "code",
   "execution_count": 24,
   "metadata": {
    "id": "iR0_p00bsYVX",
    "outputId": "251e23f8-828b-44a4-c9eb-d9aea6935c04"
   },
   "outputs": [
    {
     "data": {
      "text/plain": [
       "Text(0, 0.5, 'Precision')"
      ]
     },
     "execution_count": 24,
     "metadata": {},
     "output_type": "execute_result"
    },
    {
     "data": {
      "image/png": "[encoded data removed]",
      "text/plain": [
       "<Figure size 1080x720 with 1 Axes>"
      ]
     },
     "metadata": {
      "needs_background": "light"
     },
     "output_type": "display_data"
    }
   ],
   "source": [
    "from sklearn.metrics import precision_recall_curve\n",
    "\n",
    "precision, recall, thresholds = precision_recall_curve(y_test, positive_proba)\n",
    "\n",
    "plt.figure(figsize=(15, 10))\n",
    "plt.plot(recall, precision)\n",
    "plt.xlabel(\"Recall\")\n",
    "plt.ylabel(\"Precision\")"
   ]
  },
  {
   "cell_type": "code",
   "execution_count": 25,
   "metadata": {
    "id": "yHgmrZDfsYVb",
    "outputId": "995061f0-91ce-4056-891f-83c4a7432b25"
   },
   "outputs": [
    {
     "data": {
      "text/plain": [
       "<AxesSubplot:title={'center':'Feature importance'}, xlabel='F score', ylabel='Features'>"
      ]
     },
     "execution_count": 25,
     "metadata": {},
     "output_type": "execute_result"
    },
    {
     "data": {
      "image/png": "[encoded data removed]",
      "text/plain": [
       "<Figure size 2880x1800 with 1 Axes>"
      ]
     },
     "metadata": {
      "needs_background": "light"
     },
     "output_type": "display_data"
    }
   ],
   "source": [
    "from matplotlib.pylab import rcParams\n",
    "##set up the parameters\n",
    "rcParams['figure.figsize'] = 40,25\n",
    "\n",
    "xgb.plot_importance(xgb_cl)"
   ]
  },
  {
   "cell_type": "markdown",
   "metadata": {
    "id": "OquuskQosYVc"
   },
   "source": [
    "### Zadanie 2\n",
    "\n",
    "Wytrenuj klasyfikator xgboost i porównaj go z Random Forest (na tych samych parametrach)."
   ]
  },
  {
   "cell_type": "code",
   "execution_count": null,
   "metadata": {
    "id": "MTtpAVJisYVh"
   },
   "outputs": [],
   "source": [
    "rfc = RandomForestClassifier(n_estimators=100)\n",
    "xgc = xgb.XGBClassifier(n_estimators=100, n_jobs=-1, use_label_encoder=False, eval_metric='logloss')"
   ]
  },
  {
   "cell_type": "code",
   "execution_count": 26,
   "metadata": {},
   "outputs": [
    {
     "name": "stdout",
     "output_type": "stream",
     "text": [
      "0\n",
      "1\n",
      "2\n",
      "3\n",
      "4\n",
      "5\n",
      "6\n",
      "7\n",
      "8\n",
      "9\n"
     ]
    }
   ],
   "source": [
    "from sklearn.ensemble import RandomForestClassifier\n",
    "from sklearn.metrics import roc_auc_score\n",
    "\n",
    "import xgboost as xgb\n",
    "\n",
    "rf_acc, xgb_acc, rf_auc, xgb_auc = [], [], [], []\n",
    "\n",
    "for ix in range(10):\n",
    "    print(ix)\n",
    "    \n",
    "    x_train, x_test, y_train, y_test = train_test_split(x, y, test_size=0.2)\n",
    "    \n",
    "    rfc = RandomForestClassifier(n_estimators=100) #nie podawany jest random seed i z tego wzgledu puszczajac model w petli mozemy otrzymac wyniki + ich odchylenie standardowe\n",
    "    xgc = xgb.XGBClassifier(n_estimators=100, n_jobs=-1, use_label_encoder=False, eval_metric='logloss')\n",
    "    \n",
    "    rfc.fit(x_train, y_train)\n",
    "    xgc.fit(x_train, y_train)\n",
    "    \n",
    "    rf_pred = rfc.predict(x_test)\n",
    "    xg_pred = xgc.predict(x_test)\n",
    "    rf_proba = rfc.predict_proba(x_test)[:, 1]\n",
    "    xg_proba = xgc.predict_proba(x_test)[:, 1]\n",
    "    \n",
    "    rf_acc.append(accuracy_score(y_test, rf_pred))\n",
    "    xgb_acc.append(accuracy_score(y_test, xg_pred))\n",
    "    rf_auc.append(roc_auc_score(y_test, rf_proba))\n",
    "    xgb_auc.append(roc_auc_score(y_test, xg_proba))"
   ]
  },
  {
   "cell_type": "code",
   "execution_count": 27,
   "metadata": {},
   "outputs": [
    {
     "name": "stdout",
     "output_type": "stream",
     "text": [
      "RF Acccuracy 0.889 +- 0.012\n",
      "XGB Acccuracy 0.898 +- 0.013\n",
      "RF ROC AUC 0.951 +- 0.009\n",
      "XGB ROC AUC 0.957 +- 0.009\n"
     ]
    }
   ],
   "source": [
    "print(\"RF Acccuracy\", round(np.array(rf_acc).mean(), 3), \"+-\", round(np.array(rf_acc).std(), 3))\n",
    "print(\"XGB Acccuracy\", round(np.array(xgb_acc).mean(), 3), \"+-\", round(np.array(xgb_acc).std(), 3))\n",
    "print(\"RF ROC AUC\", round(np.array(rf_auc).mean(), 3), \"+-\", round(np.array(rf_auc).std(), 3))\n",
    "print(\"XGB ROC AUC\", round(np.array(xgb_auc).mean(), 3), \"+-\", round(np.array(xgb_auc).std(), 3))"
   ]
  }
 ],
 "metadata": {
  "colab": {
   "provenance": []
  },
  "kernelspec": {
   "display_name": "Python 3 (ipykernel)",
   "language": "python",
   "name": "python3"
  },
  "language_info": {
   "codemirror_mode": {
    "name": "ipython",
    "version": 3
   },
   "file_extension": ".py",
   "mimetype": "text/x-python",
   "name": "python",
   "nbconvert_exporter": "python",
   "pygments_lexer": "ipython3",
   "version": "3.9.12"
  }
 },
 "nbformat": 4,
 "nbformat_minor": 1
}
