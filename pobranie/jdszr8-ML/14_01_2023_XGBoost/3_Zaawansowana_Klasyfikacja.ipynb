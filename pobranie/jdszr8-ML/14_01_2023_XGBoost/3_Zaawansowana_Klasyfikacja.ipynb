{
 "cells": [
  {
   "cell_type": "markdown",
   "metadata": {
    "id": "-EM3XZE1sZJb"
   },
   "source": [
    "### Zaawansowana klasyfikacja\n",
    "\n",
    "Wykorzystajmy zestaw danych, który ma trochę bardziej złożone cechy - zarówno ciągłe jak i kategoryczne. Jest to zestaw danych bazujący na spisie ludności. Podane są różne dane socjometryczne i jedna zmienna binarna - czy przychody są większe niż $50K.\n",
    "\n",
    "Plik: `income_evaluation.csv`\n",
    "Więcej na: https://www.kaggle.com/uciml/adult-census-income"
   ]
  },
  {
   "cell_type": "code",
   "execution_count": null,
   "metadata": {
    "id": "y83lv91NsZJh"
   },
   "outputs": [],
   "source": [
    "import xgboost as xgb\n",
    "import pandas as pd\n",
    "import numpy as np\n",
    "import matplotlib.pyplot as plt"
   ]
  },
  {
   "cell_type": "code",
   "execution_count": null,
   "metadata": {
    "id": "8iNU1_sesZJj",
    "outputId": "a909abd1-dd56-44b2-f09c-4b287c6a0b09"
   },
   "outputs": [],
   "source": [
    "# read data sets - https://docs.python.org/3/library/re.html\n",
    "df = pd.read_csv(\"./data/income_evaluation.csv\", sep='\\s*,\\s*', header=0, encoding='ascii', engine='python')\n",
    "df.head()"
   ]
  },
  {
   "cell_type": "code",
   "execution_count": null,
   "metadata": {
    "id": "h5Xbnl3msZJl",
    "outputId": "ba0344dd-3daf-4dc5-e5df-41f30f514c68"
   },
   "outputs": [],
   "source": [
    "df.income.value_counts()"
   ]
  },
  {
   "cell_type": "code",
   "execution_count": null,
   "metadata": {
    "id": "oGsJ-EUdsZJm",
    "outputId": "4f8e76a6-63cb-4cd9-d50d-86ddf659c4a5"
   },
   "outputs": [],
   "source": [
    "?pd.read_csv"
   ]
  },
  {
   "cell_type": "code",
   "execution_count": null,
   "metadata": {
    "id": "WD3naHE6sZJo",
    "outputId": "8005a600-145c-4591-bf06-a3ec31ecaad3"
   },
   "outputs": [],
   "source": [
    "# Czy \"fnlwgt\" przyczyni się do poprawy jakości modelu\n",
    "#fnlwgt - https://www.kaggle.com/uciml/adult-census-income/discussion/32698\n",
    "\n",
    "df.fnlwgt.count(), df.fnlwgt.nunique()"
   ]
  },
  {
   "cell_type": "code",
   "execution_count": null,
   "metadata": {
    "id": "mZZt5iZXsZJq",
    "outputId": "9a7ed3d1-a89a-41a7-a43a-0e6630c2c241"
   },
   "outputs": [],
   "source": [
    "df.info()"
   ]
  },
  {
   "cell_type": "markdown",
   "metadata": {
    "id": "71_fE-DqsZJs"
   },
   "source": [
    "b. Konwersja danych kategorycznych do numerycznych \n",
    "`sklearn.preprocessing.LabelEncoder`"
   ]
  },
  {
   "cell_type": "code",
   "execution_count": null,
   "metadata": {
    "id": "V4PCSY5hsZJw",
    "outputId": "19342fe8-f207-4f40-af5c-9f4e174e3f93"
   },
   "outputs": [],
   "source": [
    "#encoding categorical to numeric\n",
    "from sklearn.preprocessing import LabelEncoder\n",
    "\n",
    "list_to_encode = [\n",
    "    'workclass', 'education', 'marital-status', 'occupation', \n",
    "    'relationship', 'race', 'sex', 'native-country'\n",
    "]\n",
    "\n",
    "df_encoded = pd.get_dummies(df, columns=list_to_encode)\n",
    "df_encoded.head()"
   ]
  },
  {
   "cell_type": "code",
   "execution_count": null,
   "metadata": {
    "id": "Xl8J-rRXsZJz",
    "outputId": "12252811-9ddb-4ded-fc6a-6e6ac5089b53"
   },
   "outputs": [],
   "source": [
    "list(df_encoded.columns)"
   ]
  },
  {
   "cell_type": "markdown",
   "metadata": {
    "id": "5jENq2b4sZJ0"
   },
   "source": [
    "c. Wybór cech oraz wyjścia modelu"
   ]
  },
  {
   "cell_type": "code",
   "execution_count": null,
   "metadata": {
    "id": "jrq9vThxsZJ2"
   },
   "outputs": [],
   "source": [
    "from sklearn.preprocessing import LabelEncoder\n",
    "\n",
    "le = LabelEncoder()\n",
    "\n",
    "y = le.fit_transform(df_encoded['income'])\n",
    "x = df_encoded.drop(['income'], axis=1)"
   ]
  },
  {
   "cell_type": "code",
   "execution_count": null,
   "metadata": {
    "id": "-_w52t0gsZJ3",
    "outputId": "a8071d36-9a69-4f00-f793-2ce241972ff6"
   },
   "outputs": [],
   "source": [
    "sum(y)/len(y)"
   ]
  },
  {
   "cell_type": "markdown",
   "metadata": {
    "id": "5wnVolZysZJ4"
   },
   "source": [
    "`xgboost` zawiera specyficzną strukturę danych, której używa wewnętrznie do treningu. Jest ona zoptymalizowana pod wykorzystanie w tym pakiecie."
   ]
  },
  {
   "cell_type": "code",
   "execution_count": null,
   "metadata": {
    "id": "GRUjtmswsZJ4"
   },
   "outputs": [],
   "source": [
    "data_dm = xgb.DMatrix(data=x.values, label=y)"
   ]
  },
  {
   "cell_type": "markdown",
   "metadata": {
    "id": "ZN0tmE12sZJ6"
   },
   "source": [
    "train - przygotowujemy model               ------ cv\n",
    "\n",
    "\n",
    "validacyjny - dostrajamy parametry          ------ cv\n",
    "\n",
    "-----------------\n",
    "testowy - finalny test"
   ]
  },
  {
   "cell_type": "code",
   "execution_count": null,
   "metadata": {
    "id": "lHJDOb04sZJ8",
    "outputId": "eed142cf-cafa-45fc-ff5c-71b9f26ececc"
   },
   "outputs": [],
   "source": [
    "data_dm"
   ]
  },
  {
   "cell_type": "markdown",
   "metadata": {
    "id": "Q5b4BHcxsZJ-"
   },
   "source": [
    "Użyjmy crosswalidacji. Metoda `xgb.cv` działa bardzo podobnie do analogicznych metod z pakietu `sklearn.model_selection` (`cross_val_score`)."
   ]
  },
  {
   "cell_type": "code",
   "execution_count": null,
   "metadata": {
    "id": "mqZ6iMNUsZJ_",
    "outputId": "f1dbba08-8139-4e6d-e8c7-43a58b3a5f59"
   },
   "outputs": [],
   "source": [
    "xgb.cv?"
   ]
  },
  {
   "cell_type": "code",
   "execution_count": null,
   "metadata": {
    "id": "9qi-1vS8sZKA",
    "outputId": "498b5181-8b3a-4c7c-b42b-4236acb0e46e"
   },
   "outputs": [],
   "source": [
    "# auc == AUROC == pole pod krzywą ROC\n",
    "\n",
    "params = {\n",
    "    \"objective\": \"reg:logistic\", \n",
    "    \"max_depth\": 3, \n",
    "    \"booster\": \"gbtree\",\n",
    "    \"learning_rate\": 0.8  # DEFAULT: 0.3\n",
    "}\n",
    "\n",
    "\n",
    "cv_results = xgb.cv(\n",
    "    dtrain=data_dm, \n",
    "    params=params, \n",
    "    nfold=4, \n",
    "    num_boost_round=250, metrics=[\"error\", \"auc\"], as_pandas=True) #metrics=\"auc\"\n",
    "\n",
    "\n",
    "cv_results"
   ]
  },
  {
   "cell_type": "code",
   "execution_count": null,
   "metadata": {
    "id": "LO43PwElsZKA",
    "outputId": "79e12241-3c73-475a-c3bc-902c3a5dff25"
   },
   "outputs": [],
   "source": [
    "cv_results.columns"
   ]
  },
  {
   "cell_type": "code",
   "execution_count": null,
   "metadata": {
    "id": "1l8E1q17sZKA",
    "outputId": "a1407dcf-565f-4d86-b8d0-8668391d8f9b"
   },
   "outputs": [],
   "source": [
    "plt.figure(figsize=(15, 7))\n",
    "plt.title(\"Błąd na danych treningowych i testowych\")\n",
    "plt.plot(cv_results[\"train-error-mean\"], color=\"b\")\n",
    "plt.plot(cv_results[\"test-error-mean\"], color=\"r\")\n",
    "# plt.ylim((0., 0.2))\n",
    "plt.hlines([cv_results[\"test-error-mean\"].min()], xmin=0, xmax=250, color=\"g\")\n",
    "plt.xlabel(\"Ilość klasyfikatorów\")\n",
    "plt.ylabel(\"Wartość funkcji błędu\")"
   ]
  },
  {
   "cell_type": "code",
   "execution_count": null,
   "metadata": {
    "id": "aKxp-YrfsZKC",
    "outputId": "ea0aec73-48a5-423d-edda-9a07c9b7aad8"
   },
   "outputs": [],
   "source": [
    "plt.figure(figsize=(15, 7))\n",
    "plt.title(\"AUC na danych treningowych i testowych\")\n",
    "plt.plot(cv_results[\"train-auc-mean\"], color=\"b\")\n",
    "plt.plot(cv_results[\"test-auc-mean\"], color=\"r\")\n",
    "# plt.ylim((0., 0.2))\n",
    "plt.xlabel(\"Ilość klasyfikatorów\")\n",
    "plt.ylabel(\"Wartość auc\")"
   ]
  },
  {
   "cell_type": "code",
   "execution_count": null,
   "metadata": {
    "id": "SpM9T4I4sZKD",
    "outputId": "bdf97f9e-e3eb-45c1-aa86-f321c9bfe819"
   },
   "outputs": [],
   "source": [
    "# Spróbujmy użyć klasycznego model_selection - czy wyniki są mniej więcej zgodne?\n",
    "\n",
    "import sklearn.model_selection as msel\n",
    "\n",
    "# .score() - accuracy\n",
    "\n",
    "clf = xgb.XGBClassifier(objective=\"reg:logistic\", max_depth=3, \n",
    "                        learning_rate=0.8, n_estimators=5)\n",
    "msel.cross_val_score(clf, x, y, cv=4, n_jobs=-1)"
   ]
  },
  {
   "cell_type": "markdown",
   "metadata": {
    "id": "5qIQfBmlsZKD"
   },
   "source": [
    "Model selection ocenia dokładność, podczas gdy xgb.cv ocenia błąd. Błąd = 1 - dokładność."
   ]
  },
  {
   "cell_type": "code",
   "execution_count": null,
   "metadata": {
    "id": "Yo0y92lisZKE",
    "outputId": "e1f5cc2f-9555-4af4-e052-9cafbe48e489"
   },
   "outputs": [],
   "source": [
    "# results show\n",
    "print(\"cv_Results: \", cv_results.iloc[-1])"
   ]
  },
  {
   "cell_type": "markdown",
   "metadata": {
    "id": "1cC03ji3sZKE"
   },
   "source": [
    "h. przedstawienie accuracy oraz auc"
   ]
  },
  {
   "cell_type": "code",
   "execution_count": null,
   "metadata": {
    "id": "jXAbhRHNsZKF",
    "outputId": "8c46156c-a911-400e-f860-75acc815e293"
   },
   "outputs": [],
   "source": [
    "#accuracy/average out-of-sample accuracy\n",
    "print(\"acc: \", ((1- cv_results[\"test-error-mean\"]).iloc[-1]))"
   ]
  },
  {
   "cell_type": "markdown",
   "metadata": {
    "id": "wVlE53VMsZKF"
   },
   "source": [
    "### Zadanie 3\n",
    "\n",
    "Zmodyfikuj kod powyżej tak, aby wykorzystywać sposób w jaki powinno się robić crosswalidację: użyj zestawu treningowego do walidacji (zostanie on wewnętrznie podzielony na zestaw treningowy i walidacyjny) oraz małego zestawu testowego do oceny dokładności wybranego najlepszego modelu.\n",
    "\n",
    "Uzasadnienie: taką crosswalidację będziemy chcieli wykonać wielokrotnie w ramach poszukiwania parametrów. Zachowajmy zestaw testowy do oceny ostatecznego rozwiązania.\n",
    "\n",
    "Wykorzystaj metody poznane wcześniej na kursie.\n",
    "\n",
    "Spróbujmy trzech kombinacji parametrów."
   ]
  },
  {
   "cell_type": "code",
   "execution_count": null,
   "metadata": {
    "id": "BAeVzX9gsZKG"
   },
   "outputs": [],
   "source": [
    "# 0. Podział na trening_valid, test\n",
    "# 1. Trening na kilku wariantach i ocena (CV)  [max_depth=2,3,4, learning_rate=0.8, 0.5]\n",
    "# 2. Na najlepszym modelu, trening na trening_valid a test na test"
   ]
  }
 ],
 "metadata": {
  "colab": {
   "provenance": []
  },
  "kernelspec": {
   "display_name": "Python 3 (ipykernel)",
   "language": "python",
   "name": "python3"
  },
  "language_info": {
   "codemirror_mode": {
    "name": "ipython",
    "version": 3
   },
   "file_extension": ".py",
   "mimetype": "text/x-python",
   "name": "python",
   "nbconvert_exporter": "python",
   "pygments_lexer": "ipython3",
   "version": "3.9.12"
  }
 },
 "nbformat": 4,
 "nbformat_minor": 1
}
