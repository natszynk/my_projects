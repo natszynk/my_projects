{
 "cells": [
  {
   "cell_type": "markdown",
   "metadata": {
    "toc": true
   },
   "source": [
    "<h1>Table of Contents<span class=\"tocSkip\"></span></h1>\n",
    "<div class=\"toc\"><ul class=\"toc-item\"><li><span><a href=\"#Metryka-Minkowskiego---ogólna-funkcja-dystansu\" data-toc-modified-id=\"Metryka-Minkowskiego---ogólna-funkcja-dystansu-1\">Metryka Minkowskiego - ogólna funkcja dystansu</a></span></li></ul></div>"
   ]
  },
  {
   "cell_type": "code",
   "execution_count": 3,
   "metadata": {},
   "outputs": [],
   "source": [
    "import pandas as pd\n",
    "import numpy as np\n",
    "from matplotlib import pyplot as plt"
   ]
  },
  {
   "cell_type": "markdown",
   "metadata": {},
   "source": [
    "### Metryka Minkowskiego - ogólna funkcja dystansu\n",
    "\n",
    "Funkcja dystansu zmienia parę punktów w niezerową wartość, która mówi nam jak bardzo zbliżone, czy też _podobne_ są dwa punkty. Algorytmy typu k-Najbliższych-Sąsiadów (kNN) czy k-średnich (k-means) opierają się na założeniu, że bliskie sobie punkty są podobne, więc powinny być grupowane w tą samą kategorię.\n",
    "\n",
    "Metryka Minkowskiego ma jeden parametr - m, który mówi, jak zniekształcona w jedną lub drugą stronę jest ta metryka. Na prezentacji poznaliśmy cztery szczególne przypadki, z czego najważniejszą jest metryka Euklidesowa dla m=2. Miara euklidesowa to sposób w jaki mierzymy w naturalny sposób dystans życiu.\n",
    "\n",
    "Zwiększanie m sprawia, że dominująca wartość w wektorze cech staje się coraz bardziej prominentna. Zmniejszanie m zwiększa wartość kombinacji cech nad pojedynczą wartość."
   ]
  },
  {
   "cell_type": "markdown",
   "metadata": {},
   "source": [
    "Aby wykreślić kulę w określonej metryce, posłużymy się metodą Monte Carlo - będziemy losować punkt z przedziału (-1,1) i będziemy sprawdzać czy spełnia równanie kuli. Jeżeli tak, wówczas punkt zostanie naniesiony na wykres.\n",
    "\n",
    "Sprawdź, jak zmiana parametru m wpływa na kształt kuli."
   ]
  },
  {
   "cell_type": "code",
   "execution_count": 14,
   "metadata": {},
   "outputs": [],
   "source": [
    "# x = x - x_centrum_kuli dla x_centrum_kuli = 0\n",
    "\n",
    "def check_ball(x, y, m, r) -> bool:\n",
    "    \"\"\"\n",
    "    m - wykładnik we wzorze\n",
    "    r - promień kuli\n",
    "    \"\"\"\n",
    "    pass\n",
    "\n",
    "\n",
    "def draw_ball(m, n=100000):\n",
    "    radius = 1\n",
    "    r_x = np.random.uniform(-1, 1, n)\n",
    "    r_y = np.random.uniform(-1, 1, n)\n",
    "    x = []\n",
    "    y = []\n",
    "    \n",
    "    # miejsce na kod wybierający punkty należące do kuli\n",
    "    \n",
    "    plt.figure(figsize=(7,7))\n",
    "    plt.plot(x, y, 'bo')"
   ]
  },
  {
   "cell_type": "code",
   "execution_count": 13,
   "metadata": {},
   "outputs": [
    {
     "data": {
      "image/png": "[encoded data removed]",
      "text/plain": [
       "<Figure size 504x504 with 1 Axes>"
      ]
     },
     "metadata": {
      "needs_background": "light"
     },
     "output_type": "display_data"
    }
   ],
   "source": [
    "draw_ball(2)"
   ]
  },
  {
   "cell_type": "code",
   "execution_count": null,
   "metadata": {},
   "outputs": [],
   "source": []
  }
 ],
 "metadata": {
  "kernelspec": {
   "display_name": "Python 3",
   "language": "python",
   "name": "python3"
  },
  "language_info": {
   "codemirror_mode": {
    "name": "ipython",
    "version": 3
   },
   "file_extension": ".py",
   "mimetype": "text/x-python",
   "name": "python",
   "nbconvert_exporter": "python",
   "pygments_lexer": "ipython3",
   "version": "3.8.8"
  },
  "toc": {
   "base_numbering": 1,
   "nav_menu": {},
   "number_sections": false,
   "sideBar": false,
   "skip_h1_title": false,
   "title_cell": "Table of Contents",
   "title_sidebar": "Contents",
   "toc_cell": true,
   "toc_position": {},
   "toc_section_display": true,
   "toc_window_display": false
  }
 },
 "nbformat": 4,
 "nbformat_minor": 4
}
