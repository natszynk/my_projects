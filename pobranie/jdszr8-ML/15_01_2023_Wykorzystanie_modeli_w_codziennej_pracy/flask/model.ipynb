{
 "cells": [
  {
   "cell_type": "code",
   "execution_count": null,
   "id": "d96df7e7",
   "metadata": {},
   "outputs": [],
   "source": [
    "# -*- coding: utf-8 -*-\n",
    "\"\"\"\n",
    "Created on Mon Jan 18 18:51:10 2021\n",
    "\n",
    "@author: krzys\n",
    "\"\"\"\n",
    "import pandas as pd\n",
    "from sklearn.ensemble import RandomForestClassifier as rf\n",
    "\n",
    "\n",
    "df = pd.read_csv('train.csv')\n",
    "include = ['Age', 'Sex', 'Embarked', 'Survived']\n",
    "df_ = df[include]  # only using 4 variables\n",
    "\n",
    "\n",
    "categoricals = []\n",
    "for col, col_type in df_.dtypes.iteritems():\n",
    "     if col_type == 'O':\n",
    "          categoricals.append(col)\n",
    "     else:\n",
    "          df_[col].fillna(0, inplace=True)\n",
    "\n",
    "df_ohe = pd.get_dummies(df_, columns=categoricals, dummy_na=True)\n",
    "\n",
    "dependent_variable = 'Survived'\n",
    "x = df_ohe[df_ohe.columns.difference([dependent_variable])]\n",
    "y = df_ohe[dependent_variable]\n",
    "clf = rf()\n",
    "clf.fit(x, y)\n",
    "\n",
    "\n",
    "\n",
    "#from sklearn.externals import joblib\n",
    "import joblib\n",
    "joblib.dump(clf, 'model.pkl')"
   ]
  },
  {
   "cell_type": "code",
   "execution_count": null,
   "id": "1f7629f0",
   "metadata": {},
   "outputs": [],
   "source": []
  }
 ],
 "metadata": {
  "kernelspec": {
   "display_name": "Python 3 (ipykernel)",
   "language": "python",
   "name": "python3"
  },
  "language_info": {
   "codemirror_mode": {
    "name": "ipython",
    "version": 3
   },
   "file_extension": ".py",
   "mimetype": "text/x-python",
   "name": "python",
   "nbconvert_exporter": "python",
   "pygments_lexer": "ipython3",
   "version": "3.9.12"
  }
 },
 "nbformat": 4,
 "nbformat_minor": 5
}
