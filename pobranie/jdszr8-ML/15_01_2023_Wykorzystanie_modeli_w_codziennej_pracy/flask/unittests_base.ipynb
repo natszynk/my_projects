{
 "cells": [
  {
   "cell_type": "markdown",
   "id": "5b85bc33",
   "metadata": {},
   "source": [
    "### testy jednostkowe - unittest"
   ]
  },
  {
   "cell_type": "markdown",
   "id": "96682613",
   "metadata": {},
   "source": [
    "- zasadniczo staramy sie, zeby jak najwieksza ilosc kodu została przetestowana \n",
    "\n",
    "- często liczone jest coś takiego jak wspolczynnik pokrycia testami \n",
    "\n",
    "- testy jednostkowe mogą mieć różny charakter - np. logiczny, prababilistyczny "
   ]
  },
  {
   "cell_type": "markdown",
   "id": "8aafeeb3",
   "metadata": {},
   "source": [
    "assertEqual(a, b) \ta == b\n",
    "\n",
    "assertNotEqual(a, b) \ta != b\n",
    "\n",
    "assertTrue(x) \tbool(x) is True \n",
    "\n",
    "assertFalse(x) \tbool(x) is False \n",
    "\n",
    "assertIs(a, b) \ta is b \n",
    "\n",
    "assertIsNot(a, b) \ta is not b \n",
    "\n",
    "assertIsNone(x) \tx is None \n",
    "\n",
    "assertIsNotNone(x) \tx is not None \n",
    "\n",
    "assertIn(a, b) \ta in b \n",
    "\n",
    "assertNotIn(a, b) \ta not in b \n",
    "\n",
    "assertIsInstance(a, b) \tisinstance(a, b)\n",
    "\n",
    "assertNotIsInstance(a, b) \tnot isinstance(a, b) "
   ]
  },
  {
   "cell_type": "code",
   "execution_count": 8,
   "id": "90335bac",
   "metadata": {},
   "outputs": [],
   "source": [
    "import unittest"
   ]
  },
  {
   "cell_type": "code",
   "execution_count": 9,
   "id": "c8ebd5cc",
   "metadata": {},
   "outputs": [],
   "source": [
    "def test_sum():\n",
    "    assert sum([1, 2, 3]) == 6, \"Should be 6\"\n",
    "\n",
    "def test_sum_tuple():\n",
    "    assert sum((1, 2, 2)) == 6, \"Should be 6\"\n"
   ]
  },
  {
   "cell_type": "code",
   "execution_count": 10,
   "id": "74502b6c",
   "metadata": {},
   "outputs": [],
   "source": [
    "test_sum()"
   ]
  },
  {
   "cell_type": "code",
   "execution_count": 11,
   "id": "197fd55b",
   "metadata": {},
   "outputs": [
    {
     "ename": "AssertionError",
     "evalue": "Should be 6",
     "output_type": "error",
     "traceback": [
      "\u001b[1;31m---------------------------------------------------------------------------\u001b[0m",
      "\u001b[1;31mAssertionError\u001b[0m                            Traceback (most recent call last)",
      "Input \u001b[1;32mIn [11]\u001b[0m, in \u001b[0;36m<cell line: 1>\u001b[1;34m()\u001b[0m\n\u001b[1;32m----> 1\u001b[0m \u001b[43mtest_sum_tuple\u001b[49m\u001b[43m(\u001b[49m\u001b[43m)\u001b[49m\n",
      "Input \u001b[1;32mIn [9]\u001b[0m, in \u001b[0;36mtest_sum_tuple\u001b[1;34m()\u001b[0m\n\u001b[0;32m      4\u001b[0m \u001b[38;5;28;01mdef\u001b[39;00m \u001b[38;5;21mtest_sum_tuple\u001b[39m():\n\u001b[1;32m----> 5\u001b[0m     \u001b[38;5;28;01massert\u001b[39;00m \u001b[38;5;28msum\u001b[39m((\u001b[38;5;241m1\u001b[39m, \u001b[38;5;241m2\u001b[39m, \u001b[38;5;241m2\u001b[39m)) \u001b[38;5;241m==\u001b[39m \u001b[38;5;241m6\u001b[39m, \u001b[38;5;124m\"\u001b[39m\u001b[38;5;124mShould be 6\u001b[39m\u001b[38;5;124m\"\u001b[39m\n",
      "\u001b[1;31mAssertionError\u001b[0m: Should be 6"
     ]
    }
   ],
   "source": [
    "test_sum_tuple()"
   ]
  },
  {
   "cell_type": "code",
   "execution_count": 12,
   "id": "2908c849",
   "metadata": {},
   "outputs": [
    {
     "name": "stderr",
     "output_type": "stream",
     "text": [
      "E\n",
      "======================================================================\n",
      "ERROR: C:\\Users\\karol\\AppData\\Roaming\\jupyter\\runtime\\kernel-8f9a0f70-2005-4d2e-8035-3d13fcfaf690 (unittest.loader._FailedTest)\n",
      "----------------------------------------------------------------------\n",
      "AttributeError: module '__main__' has no attribute 'C:\\Users\\karol\\AppData\\Roaming\\jupyter\\runtime\\kernel-8f9a0f70-2005-4d2e-8035-3d13fcfaf690'\n",
      "\n",
      "----------------------------------------------------------------------\n",
      "Ran 1 test in 0.001s\n",
      "\n",
      "FAILED (errors=1)\n"
     ]
    },
    {
     "ename": "SystemExit",
     "evalue": "True",
     "output_type": "error",
     "traceback": [
      "An exception has occurred, use %tb to see the full traceback.\n",
      "\u001b[1;31mSystemExit\u001b[0m\u001b[1;31m:\u001b[0m True\n"
     ]
    },
    {
     "name": "stderr",
     "output_type": "stream",
     "text": [
      "C:\\Users\\karol\\anaconda\\lib\\site-packages\\IPython\\core\\interactiveshell.py:3377: UserWarning: To exit: use 'exit', 'quit', or Ctrl-D.\n",
      "  warn(\"To exit: use 'exit', 'quit', or Ctrl-D.\", stacklevel=1)\n"
     ]
    }
   ],
   "source": [
    "import unittest\n",
    "\n",
    "\n",
    "class TestSum(unittest.TestCase):\n",
    "\n",
    "    def test_sum(self):\n",
    "        self.assertEqual(sum([1, 2, 3]), 6, \"Should be 6\")\n",
    "\n",
    "    def test_sum_tuple(self):\n",
    "        self.assertEqual(sum((1, 2, 2)), 6, \"Should be 6\")\n",
    "\n",
    "if __name__ == '__main__':\n",
    "    unittest.main()\n"
   ]
  },
  {
   "cell_type": "code",
   "execution_count": 13,
   "id": "b01e9709",
   "metadata": {},
   "outputs": [],
   "source": [
    "#funkcja do przetestowania\n",
    "def add(a,b):\n",
    "    return a + b"
   ]
  },
  {
   "cell_type": "code",
   "execution_count": 14,
   "id": "3b0ca18d",
   "metadata": {},
   "outputs": [],
   "source": [
    "class TestNotebook(unittest.TestCase):\n",
    "    def test_upper(self): #kazda funkcja, ktora cos testuje zaczyna sie od test\n",
    "        self.assertEqual('foo'.upper(), 'FOO')\n",
    "    \n",
    "    def test_isupper(self):\n",
    "        self.assertTrue('FOO'.isupper())\n",
    "        self.assertFalse('Foo'.isupper())\n",
    "        #jeden test moze testowac wiele elementow - miec wiele assertow \n",
    "    \n",
    "    def test_split(self):\n",
    "        s = 'Hallo world!'\n",
    "        with self.assertRaises(TypeError):\n",
    "            s.split(2) #testujemy czy da nam to TypeError\n",
    "    \n",
    "    def test_add(self):\n",
    "        self.assertEqual(add(2,2), 5) #test bledny z zalozenia"
   ]
  },
  {
   "cell_type": "code",
   "execution_count": 15,
   "id": "52a5037c",
   "metadata": {},
   "outputs": [
    {
     "name": "stderr",
     "output_type": "stream",
     "text": [
      "test_add (__main__.TestNotebook) ... FAIL\n",
      "test_isupper (__main__.TestNotebook) ... ok\n",
      "test_split (__main__.TestNotebook) ... ok\n",
      "test_upper (__main__.TestNotebook) ... ok\n",
      "test_sum (__main__.TestSum) ... ok\n",
      "test_sum_tuple (__main__.TestSum) ... FAIL\n",
      "\n",
      "======================================================================\n",
      "FAIL: test_add (__main__.TestNotebook)\n",
      "----------------------------------------------------------------------\n",
      "Traceback (most recent call last):\n",
      "  File \"C:\\Users\\karol\\AppData\\Local\\Temp\\ipykernel_10496\\4135383810.py\", line 16, in test_add\n",
      "    self.assertEqual(add(2,2), 5) #test bledny z zalozenia\n",
      "AssertionError: 4 != 5\n",
      "\n",
      "======================================================================\n",
      "FAIL: test_sum_tuple (__main__.TestSum)\n",
      "----------------------------------------------------------------------\n",
      "Traceback (most recent call last):\n",
      "  File \"C:\\Users\\karol\\AppData\\Local\\Temp\\ipykernel_10496\\1965674234.py\", line 10, in test_sum_tuple\n",
      "    self.assertEqual(sum((1, 2, 2)), 6, \"Should be 6\")\n",
      "AssertionError: 5 != 6 : Should be 6\n",
      "\n",
      "----------------------------------------------------------------------\n",
      "Ran 6 tests in 0.015s\n",
      "\n",
      "FAILED (failures=2)\n"
     ]
    },
    {
     "data": {
      "text/plain": [
       "<unittest.main.TestProgram at 0x25110a33c40>"
      ]
     },
     "execution_count": 15,
     "metadata": {},
     "output_type": "execute_result"
    }
   ],
   "source": [
    "unittest.main(argv = [''], verbosity = 2, exit= False)\n",
    "#verbosity - decyduje o dokladnosci informacji\n",
    "#exit - decyduje o tym czy wyjsc jesli ktorys test padnie"
   ]
  },
  {
   "cell_type": "code",
   "execution_count": null,
   "id": "c1d0325e",
   "metadata": {},
   "outputs": [],
   "source": []
  }
 ],
 "metadata": {
  "kernelspec": {
   "display_name": "Python 3 (ipykernel)",
   "language": "python",
   "name": "python3"
  },
  "language_info": {
   "codemirror_mode": {
    "name": "ipython",
    "version": 3
   },
   "file_extension": ".py",
   "mimetype": "text/x-python",
   "name": "python",
   "nbconvert_exporter": "python",
   "pygments_lexer": "ipython3",
   "version": "3.9.12"
  }
 },
 "nbformat": 4,
 "nbformat_minor": 5
}
