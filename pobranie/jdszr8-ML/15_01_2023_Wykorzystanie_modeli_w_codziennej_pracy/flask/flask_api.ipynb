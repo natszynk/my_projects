{
 "cells": [
  {
   "cell_type": "code",
   "execution_count": null,
   "id": "1bd58653",
   "metadata": {},
   "outputs": [],
   "source": [
    "from flask import render_template, request, jsonify, Flask\n",
    "import joblib\n",
    "import pandas as pd\n",
    "\n",
    "app = Flask(__name__)\n",
    "\n",
    "@app.route('/')\n",
    "def welcome():\n",
    "    return \"Prediction test\"\n",
    "\n",
    "@app.route('/predict', methods=['POST'])\n",
    "def predict():\n",
    "     json_ = request.json\n",
    "     print(json_)\n",
    "     query_df = pd.DataFrame(json_)\n",
    "     prediction = model.predict_proba(query_df)\n",
    "     return jsonify({'prediction': [str(p) for p in prediction]})\n",
    "     \n",
    "     \n",
    "if __name__ == '__main__':\n",
    "     model = joblib.load('model.pkl')\n",
    "     app.run(port=8080)\n",
    "\n"
   ]
  }
 ],
 "metadata": {
  "kernelspec": {
   "display_name": "Python 3 (ipykernel)",
   "language": "python",
   "name": "python3"
  },
  "language_info": {
   "codemirror_mode": {
    "name": "ipython",
    "version": 3
   },
   "file_extension": ".py",
   "mimetype": "text/x-python",
   "name": "python",
   "nbconvert_exporter": "python",
   "pygments_lexer": "ipython3",
   "version": "3.9.12"
  }
 },
 "nbformat": 4,
 "nbformat_minor": 5
}
