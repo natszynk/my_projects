{
 "cells": [
  {
   "cell_type": "markdown",
   "metadata": {
    "id": "1yYwuPmKrqQH"
   },
   "source": [
    "# Regresja logistyczna\n",
    "\n",
    "Przykład krok po kroku rozpoznawania gatunku Irysa z wykorzystaniem regresji logistycznej."
   ]
  },
  {
   "cell_type": "code",
   "execution_count": 1,
   "metadata": {
    "ExecuteTime": {
     "end_time": "2021-05-20T05:15:30.966622Z",
     "start_time": "2021-05-20T05:15:29.500281Z"
    },
    "id": "GegR9e_yrqQL"
   },
   "outputs": [],
   "source": [
    "# ładowanie bibliotek\n",
    "import pandas as pd\n",
    "from sklearn.linear_model import LogisticRegression\n",
    "\n",
    "from sklearn.model_selection import train_test_split\n",
    "from sklearn.metrics import confusion_matrix, classification_report\n",
    "\n",
    "from sklearn import datasets\n",
    "iris = datasets.load_iris()"
   ]
  },
  {
   "cell_type": "markdown",
   "metadata": {
    "id": "koV-8-MUrqQN"
   },
   "source": [
    "Wiemy, że dane są \"czyste\" (sprawdzone wcześniej). Pomijamy zatem krok przygotowania danych, zobaczmy ich opis i jakim są formacie."
   ]
  },
  {
   "cell_type": "code",
   "execution_count": 2,
   "metadata": {
    "ExecuteTime": {
     "end_time": "2021-05-20T05:15:30.978641Z",
     "start_time": "2021-05-20T05:15:30.969239Z"
    },
    "id": "0lcwtP26rqQP",
    "outputId": "4da286ad-06aa-457c-c9db-b00ee2597247"
   },
   "outputs": [
    {
     "name": "stdout",
     "output_type": "stream",
     "text": [
      ".. _iris_dataset:\n",
      "\n",
      "Iris plants dataset\n",
      "--------------------\n",
      "\n",
      "**Data Set Characteristics:**\n",
      "\n",
      "    :Number of Instances: 150 (50 in each of three classes)\n",
      "    :Number of Attributes: 4 numeric, predictive attributes and the class\n",
      "    :Attribute Information:\n",
      "        - sepal length in cm\n",
      "        - sepal width in cm\n",
      "        - petal length in cm\n",
      "        - petal width in cm\n",
      "        - class:\n",
      "                - Iris-Setosa\n",
      "                - Iris-Versicolour\n",
      "                - Iris-Virginica\n",
      "                \n",
      "    :Summary Statistics:\n",
      "\n",
      "    ============== ==== ==== ======= ===== ====================\n",
      "                    Min  Max   Mean    SD   Class Correlation\n",
      "    ============== ==== ==== ======= ===== ====================\n",
      "    sepal length:   4.3  7.9   5.84   0.83    0.7826\n",
      "    sepal width:    2.0  4.4   3.05   0.43   -0.4194\n",
      "    petal length:   1.0  6.9   3.76   1.76    0.9490  (high!)\n",
      "    petal width:    0.1  2.5   1.20   0.76    0.9565  (high!)\n",
      "    ============== ==== ==== ======= ===== ====================\n",
      "\n",
      "    :Missing Attribute Values: None\n",
      "    :Class Distribution: 33.3% for each of 3 classes.\n",
      "    :Creator: R.A. Fisher\n",
      "    :Donor: Michael Marshall (MARSHALL%PLU@io.arc.nasa.gov)\n",
      "    :Date: July, 1988\n",
      "\n",
      "The famous Iris database, first used by Sir R.A. Fisher. The dataset is taken\n",
      "from Fisher's paper. Note that it's the same as in R, but not as in the UCI\n",
      "Machine Learning Repository, which has two wrong data points.\n",
      "\n",
      "This is perhaps the best known database to be found in the\n",
      "pattern recognition literature.  Fisher's paper is a classic in the field and\n",
      "is referenced frequently to this day.  (See Duda & Hart, for example.)  The\n",
      "data set contains 3 classes of 50 instances each, where each class refers to a\n",
      "type of iris plant.  One class is linearly separable from the other 2; the\n",
      "latter are NOT linearly separable from each other.\n",
      "\n",
      ".. topic:: References\n",
      "\n",
      "   - Fisher, R.A. \"The use of multiple measurements in taxonomic problems\"\n",
      "     Annual Eugenics, 7, Part II, 179-188 (1936); also in \"Contributions to\n",
      "     Mathematical Statistics\" (John Wiley, NY, 1950).\n",
      "   - Duda, R.O., & Hart, P.E. (1973) Pattern Classification and Scene Analysis.\n",
      "     (Q327.D83) John Wiley & Sons.  ISBN 0-471-22361-1.  See page 218.\n",
      "   - Dasarathy, B.V. (1980) \"Nosing Around the Neighborhood: A New System\n",
      "     Structure and Classification Rule for Recognition in Partially Exposed\n",
      "     Environments\".  IEEE Transactions on Pattern Analysis and Machine\n",
      "     Intelligence, Vol. PAMI-2, No. 1, 67-71.\n",
      "   - Gates, G.W. (1972) \"The Reduced Nearest Neighbor Rule\".  IEEE Transactions\n",
      "     on Information Theory, May 1972, 431-433.\n",
      "   - See also: 1988 MLC Proceedings, 54-64.  Cheeseman et al\"s AUTOCLASS II\n",
      "     conceptual clustering system finds 3 classes in the data.\n",
      "   - Many, many more ...\n"
     ]
    }
   ],
   "source": [
    "print(iris['DESCR'])"
   ]
  },
  {
   "cell_type": "code",
   "execution_count": 3,
   "metadata": {
    "ExecuteTime": {
     "end_time": "2021-05-20T05:15:30.994283Z",
     "start_time": "2021-05-20T05:15:30.980876Z"
    },
    "id": "vYU_HKOWrqQR",
    "outputId": "a10601ef-c946-48e7-be58-3e49ef24668e"
   },
   "outputs": [
    {
     "data": {
      "text/plain": [
       "dict_keys(['data', 'target', 'frame', 'target_names', 'DESCR', 'feature_names', 'filename', 'data_module'])"
      ]
     },
     "execution_count": 3,
     "metadata": {},
     "output_type": "execute_result"
    }
   ],
   "source": [
    "iris.keys()"
   ]
  },
  {
   "cell_type": "code",
   "execution_count": 4,
   "metadata": {
    "id": "oNJZMFJ9rqQS",
    "outputId": "d95c106d-e0c7-4338-afef-d456dc95511b"
   },
   "outputs": [
    {
     "data": {
      "text/plain": [
       "array([0, 0, 0, 0, 0, 0, 0, 0, 0, 0, 0, 0, 0, 0, 0, 0, 0, 0, 0, 0, 0, 0,\n",
       "       0, 0, 0, 0, 0, 0, 0, 0, 0, 0, 0, 0, 0, 0, 0, 0, 0, 0, 0, 0, 0, 0,\n",
       "       0, 0, 0, 0, 0, 0, 1, 1, 1, 1, 1, 1, 1, 1, 1, 1, 1, 1, 1, 1, 1, 1,\n",
       "       1, 1, 1, 1, 1, 1, 1, 1, 1, 1, 1, 1, 1, 1, 1, 1, 1, 1, 1, 1, 1, 1,\n",
       "       1, 1, 1, 1, 1, 1, 1, 1, 1, 1, 1, 1, 2, 2, 2, 2, 2, 2, 2, 2, 2, 2,\n",
       "       2, 2, 2, 2, 2, 2, 2, 2, 2, 2, 2, 2, 2, 2, 2, 2, 2, 2, 2, 2, 2, 2,\n",
       "       2, 2, 2, 2, 2, 2, 2, 2, 2, 2, 2, 2, 2, 2, 2, 2, 2, 2])"
      ]
     },
     "execution_count": 4,
     "metadata": {},
     "output_type": "execute_result"
    }
   ],
   "source": [
    "iris[\"target\"]"
   ]
  },
  {
   "cell_type": "markdown",
   "metadata": {
    "id": "0Jl87hqvrqQT"
   },
   "source": [
    "Nowy target - rozróżnienie czy dana próbka jest z gatunku **virginica** czy nie."
   ]
  },
  {
   "cell_type": "code",
   "execution_count": 5,
   "metadata": {},
   "outputs": [
    {
     "data": {
      "text/plain": [
       "array(['setosa', 'versicolor', 'virginica'], dtype='<U10')"
      ]
     },
     "execution_count": 5,
     "metadata": {},
     "output_type": "execute_result"
    }
   ],
   "source": [
    "iris.target_names"
   ]
  },
  {
   "cell_type": "code",
   "execution_count": 6,
   "metadata": {
    "ExecuteTime": {
     "end_time": "2021-05-20T05:15:31.003148Z",
     "start_time": "2021-05-20T05:15:30.996331Z"
    },
    "id": "6XNqQcburqQU"
   },
   "outputs": [],
   "source": [
    "iris[\"new_target\"] = (iris[\"target\"] > 1) * 1"
   ]
  },
  {
   "cell_type": "code",
   "execution_count": 7,
   "metadata": {
    "id": "0OXgjR9RrqQV",
    "outputId": "0f28c7a6-3de6-4d2a-83f2-d043f1c4ac61"
   },
   "outputs": [
    {
     "data": {
      "text/plain": [
       "array([0, 0, 0, 0, 0, 0, 0, 0, 0, 0, 0, 0, 0, 0, 0, 0, 0, 0, 0, 0, 0, 0,\n",
       "       0, 0, 0, 0, 0, 0, 0, 0, 0, 0, 0, 0, 0, 0, 0, 0, 0, 0, 0, 0, 0, 0,\n",
       "       0, 0, 0, 0, 0, 0, 0, 0, 0, 0, 0, 0, 0, 0, 0, 0, 0, 0, 0, 0, 0, 0,\n",
       "       0, 0, 0, 0, 0, 0, 0, 0, 0, 0, 0, 0, 0, 0, 0, 0, 0, 0, 0, 0, 0, 0,\n",
       "       0, 0, 0, 0, 0, 0, 0, 0, 0, 0, 0, 0, 1, 1, 1, 1, 1, 1, 1, 1, 1, 1,\n",
       "       1, 1, 1, 1, 1, 1, 1, 1, 1, 1, 1, 1, 1, 1, 1, 1, 1, 1, 1, 1, 1, 1,\n",
       "       1, 1, 1, 1, 1, 1, 1, 1, 1, 1, 1, 1, 1, 1, 1, 1, 1, 1])"
      ]
     },
     "execution_count": 7,
     "metadata": {},
     "output_type": "execute_result"
    }
   ],
   "source": [
    "iris[\"new_target\"] "
   ]
  },
  {
   "cell_type": "markdown",
   "metadata": {
    "ExecuteTime": {
     "end_time": "2021-05-16T17:18:46.951713Z",
     "start_time": "2021-05-16T17:18:46.945605Z"
    },
    "id": "M3ib9psWrqQW"
   },
   "source": [
    "# Klasyfikacja binarna\n",
    "\n",
    "Rozpoznawanie czy dana próbka jest z gatunku virginica."
   ]
  },
  {
   "cell_type": "markdown",
   "metadata": {
    "id": "fuzsrv-zrqQX"
   },
   "source": [
    "Zacznijmy od podziału zbioru na część testową i treningową"
   ]
  },
  {
   "cell_type": "code",
   "execution_count": 8,
   "metadata": {
    "ExecuteTime": {
     "end_time": "2021-05-20T05:15:31.014253Z",
     "start_time": "2021-05-20T05:15:31.008565Z"
    },
    "id": "WvSQCsMrrqQY"
   },
   "outputs": [],
   "source": [
    "X_train, X_test, y_train, y_test = train_test_split(\n",
    "    iris[\"data\"], \n",
    "    iris[\"new_target\"],\n",
    "    test_size=0.33, # % danych użytych do zbioru testowego = 33%, trening = 67% (trening zawsze musi być większy od testu); 80/20, 75/25,70/30\n",
    "    random_state=42) # \n",
    "\n",
    "# Funkcja przyjmuje poniższe argumenty:\n",
    "# X - dane\n"
   ]
  },
  {
   "cell_type": "code",
   "execution_count": 17,
   "metadata": {},
   "outputs": [
    {
     "data": {
      "text/plain": [
       "(100, 4)"
      ]
     },
     "execution_count": 17,
     "metadata": {},
     "output_type": "execute_result"
    }
   ],
   "source": [
    "X_train.shape"
   ]
  },
  {
   "cell_type": "code",
   "execution_count": 15,
   "metadata": {},
   "outputs": [
    {
     "data": {
      "text/plain": [
       "(50, 4)"
      ]
     },
     "execution_count": 15,
     "metadata": {},
     "output_type": "execute_result"
    }
   ],
   "source": [
    "X_test.shape"
   ]
  },
  {
   "cell_type": "code",
   "execution_count": 16,
   "metadata": {},
   "outputs": [
    {
     "data": {
      "text/plain": [
       "(100,)"
      ]
     },
     "execution_count": 16,
     "metadata": {},
     "output_type": "execute_result"
    }
   ],
   "source": [
    "y_train.shape"
   ]
  },
  {
   "cell_type": "code",
   "execution_count": 18,
   "metadata": {},
   "outputs": [
    {
     "data": {
      "text/plain": [
       "(50,)"
      ]
     },
     "execution_count": 18,
     "metadata": {},
     "output_type": "execute_result"
    }
   ],
   "source": [
    "y_test.shape"
   ]
  },
  {
   "cell_type": "code",
   "execution_count": null,
   "metadata": {},
   "outputs": [],
   "source": [
    "# W procesie Uczenie odbywa się na treningu (metoda fit) - tutaj dobierane są takie w i b, żeby funkcja kosztu miała najmniejszą wartość\n",
    "# Walidacja (ocena) - robimy predykcję na danych X_test i metryką sprawdzamy jak to wypada w stosunku do y_test"
   ]
  },
  {
   "cell_type": "markdown",
   "metadata": {
    "id": "vGr76UevrqQa"
   },
   "source": [
    "Tworzymy instancje modelu regresji liniowej i trenujemy go na danych treningowych."
   ]
  },
  {
   "cell_type": "code",
   "execution_count": 20,
   "metadata": {
    "ExecuteTime": {
     "end_time": "2021-05-20T05:15:31.037420Z",
     "start_time": "2021-05-20T05:15:31.019657Z"
    },
    "id": "YM-GxqcirqQa",
    "outputId": "b7def7da-ec93-4578-ceaa-cf3b2c1edeb1"
   },
   "outputs": [
    {
     "data": {
      "text/html": [
       "<style>#sk-container-id-3 {color: black;background-color: white;}#sk-container-id-3 pre{padding: 0;}#sk-container-id-3 div.sk-toggleable {background-color: white;}#sk-container-id-3 label.sk-toggleable__label {cursor: pointer;display: block;width: 100%;margin-bottom: 0;padding: 0.3em;box-sizing: border-box;text-align: center;}#sk-container-id-3 label.sk-toggleable__label-arrow:before {content: \"▸\";float: left;margin-right: 0.25em;color: #696969;}#sk-container-id-3 label.sk-toggleable__label-arrow:hover:before {color: black;}#sk-container-id-3 div.sk-estimator:hover label.sk-toggleable__label-arrow:before {color: black;}#sk-container-id-3 div.sk-toggleable__content {max-height: 0;max-width: 0;overflow: hidden;text-align: left;background-color: #f0f8ff;}#sk-container-id-3 div.sk-toggleable__content pre {margin: 0.2em;color: black;border-radius: 0.25em;background-color: #f0f8ff;}#sk-container-id-3 input.sk-toggleable__control:checked~div.sk-toggleable__content {max-height: 200px;max-width: 100%;overflow: auto;}#sk-container-id-3 input.sk-toggleable__control:checked~label.sk-toggleable__label-arrow:before {content: \"▾\";}#sk-container-id-3 div.sk-estimator input.sk-toggleable__control:checked~label.sk-toggleable__label {background-color: #d4ebff;}#sk-container-id-3 div.sk-label input.sk-toggleable__control:checked~label.sk-toggleable__label {background-color: #d4ebff;}#sk-container-id-3 input.sk-hidden--visually {border: 0;clip: rect(1px 1px 1px 1px);clip: rect(1px, 1px, 1px, 1px);height: 1px;margin: -1px;overflow: hidden;padding: 0;position: absolute;width: 1px;}#sk-container-id-3 div.sk-estimator {font-family: monospace;background-color: #f0f8ff;border: 1px dotted black;border-radius: 0.25em;box-sizing: border-box;margin-bottom: 0.5em;}#sk-container-id-3 div.sk-estimator:hover {background-color: #d4ebff;}#sk-container-id-3 div.sk-parallel-item::after {content: \"\";width: 100%;border-bottom: 1px solid gray;flex-grow: 1;}#sk-container-id-3 div.sk-label:hover label.sk-toggleable__label {background-color: #d4ebff;}#sk-container-id-3 div.sk-serial::before {content: \"\";position: absolute;border-left: 1px solid gray;box-sizing: border-box;top: 0;bottom: 0;left: 50%;z-index: 0;}#sk-container-id-3 div.sk-serial {display: flex;flex-direction: column;align-items: center;background-color: white;padding-right: 0.2em;padding-left: 0.2em;position: relative;}#sk-container-id-3 div.sk-item {position: relative;z-index: 1;}#sk-container-id-3 div.sk-parallel {display: flex;align-items: stretch;justify-content: center;background-color: white;position: relative;}#sk-container-id-3 div.sk-item::before, #sk-container-id-3 div.sk-parallel-item::before {content: \"\";position: absolute;border-left: 1px solid gray;box-sizing: border-box;top: 0;bottom: 0;left: 50%;z-index: -1;}#sk-container-id-3 div.sk-parallel-item {display: flex;flex-direction: column;z-index: 1;position: relative;background-color: white;}#sk-container-id-3 div.sk-parallel-item:first-child::after {align-self: flex-end;width: 50%;}#sk-container-id-3 div.sk-parallel-item:last-child::after {align-self: flex-start;width: 50%;}#sk-container-id-3 div.sk-parallel-item:only-child::after {width: 0;}#sk-container-id-3 div.sk-dashed-wrapped {border: 1px dashed gray;margin: 0 0.4em 0.5em 0.4em;box-sizing: border-box;padding-bottom: 0.4em;background-color: white;}#sk-container-id-3 div.sk-label label {font-family: monospace;font-weight: bold;display: inline-block;line-height: 1.2em;}#sk-container-id-3 div.sk-label-container {text-align: center;}#sk-container-id-3 div.sk-container {/* jupyter's `normalize.less` sets `[hidden] { display: none; }` but bootstrap.min.css set `[hidden] { display: none !important; }` so we also need the `!important` here to be able to override the default hidden behavior on the sphinx rendered scikit-learn.org. See: https://github.com/scikit-learn/scikit-learn/issues/21755 */display: inline-block !important;position: relative;}#sk-container-id-3 div.sk-text-repr-fallback {display: none;}</style><div id=\"sk-container-id-3\" class=\"sk-top-container\"><div class=\"sk-text-repr-fallback\"><pre>LogisticRegression(random_state=42)</pre><b>In a Jupyter environment, please rerun this cell to show the HTML representation or trust the notebook. <br />On GitHub, the HTML representation is unable to render, please try loading this page with nbviewer.org.</b></div><div class=\"sk-container\" hidden><div class=\"sk-item\"><div class=\"sk-estimator sk-toggleable\"><input class=\"sk-toggleable__control sk-hidden--visually\" id=\"sk-estimator-id-3\" type=\"checkbox\" checked><label for=\"sk-estimator-id-3\" class=\"sk-toggleable__label sk-toggleable__label-arrow\">LogisticRegression</label><div class=\"sk-toggleable__content\"><pre>LogisticRegression(random_state=42)</pre></div></div></div></div></div>"
      ],
      "text/plain": [
       "LogisticRegression(random_state=42)"
      ]
     },
     "execution_count": 20,
     "metadata": {},
     "output_type": "execute_result"
    }
   ],
   "source": [
    "model = LogisticRegression(random_state=42) # parametr - random state\n",
    "model.fit(X_train, y_train)"
   ]
  },
  {
   "cell_type": "markdown",
   "metadata": {
    "ExecuteTime": {
     "end_time": "2021-05-20T04:26:10.858586Z",
     "start_time": "2021-05-20T04:26:10.790618Z"
    },
    "id": "VZpZewKjrqQb"
   },
   "source": [
    "Wykonujemy predykcję na zbiorze testowym"
   ]
  },
  {
   "cell_type": "code",
   "execution_count": 10,
   "metadata": {
    "ExecuteTime": {
     "end_time": "2021-05-20T05:15:31.050361Z",
     "start_time": "2021-05-20T05:15:31.046756Z"
    },
    "id": "DX3HNrEfrqQb"
   },
   "outputs": [],
   "source": [
    "y_pred = model.predict(X_test)"
   ]
  },
  {
   "cell_type": "markdown",
   "metadata": {
    "id": "nq4YCJKarqQb"
   },
   "source": [
    "Zobaczmy jak model jest dopasowany do danych treningowych "
   ]
  },
  {
   "cell_type": "code",
   "execution_count": 11,
   "metadata": {
    "ExecuteTime": {
     "end_time": "2021-05-20T05:15:31.058405Z",
     "start_time": "2021-05-20T05:15:31.055410Z"
    },
    "id": "dR1emnGCrqQc"
   },
   "outputs": [],
   "source": [
    "y_fit_train = model.predict(X_train)"
   ]
  },
  {
   "cell_type": "code",
   "execution_count": 12,
   "metadata": {
    "id": "DyuFFwgBrqQc",
    "outputId": "22d4ad5f-426a-4184-eae3-debf9fcee697"
   },
   "outputs": [
    {
     "data": {
      "text/plain": [
       "array([[7.96755454e-01, 2.03244546e-01],\n",
       "       [9.99983143e-01, 1.68574882e-05],\n",
       "       [2.39582907e-03, 9.97604171e-01],\n",
       "       [7.80922675e-01, 2.19077325e-01],\n",
       "       [7.10846078e-01, 2.89153922e-01],\n",
       "       [9.99984297e-01, 1.57030422e-05],\n",
       "       [9.78747901e-01, 2.12520987e-02],\n",
       "       [1.76616781e-01, 8.23383219e-01],\n",
       "       [7.43932837e-01, 2.56067163e-01],\n",
       "       [9.62981398e-01, 3.70186016e-02],\n",
       "       [2.68294554e-01, 7.31705446e-01],\n",
       "       [9.99990926e-01, 9.07413839e-06],\n",
       "       [9.99994058e-01, 5.94171025e-06],\n",
       "       [9.99989057e-01, 1.09429325e-05],\n",
       "       [9.99988001e-01, 1.19985660e-05],\n",
       "       [6.88908069e-01, 3.11091931e-01],\n",
       "       [3.76243674e-02, 9.62375633e-01],\n",
       "       [9.65543623e-01, 3.44563773e-02],\n",
       "       [8.26042208e-01, 1.73957792e-01],\n",
       "       [5.51950860e-02, 9.44804914e-01],\n",
       "       [9.99982471e-01, 1.75287318e-05],\n",
       "       [4.30969796e-01, 5.69030204e-01],\n",
       "       [9.99977497e-01, 2.25030597e-05],\n",
       "       [6.67599345e-02, 9.33240066e-01],\n",
       "       [2.48575720e-02, 9.75142428e-01],\n",
       "       [1.32161368e-01, 8.67838632e-01],\n",
       "       [7.16125492e-02, 9.28387451e-01],\n",
       "       [2.81851327e-02, 9.71814867e-01],\n",
       "       [9.99986394e-01, 1.36060462e-05],\n",
       "       [9.99982298e-01, 1.77022928e-05],\n",
       "       [9.99996562e-01, 3.43842533e-06],\n",
       "       [9.99989997e-01, 1.00026457e-05],\n",
       "       [8.79602958e-01, 1.20397042e-01],\n",
       "       [9.99984156e-01, 1.58440712e-05],\n",
       "       [9.99991055e-01, 8.94547247e-06],\n",
       "       [2.96839132e-01, 7.03160868e-01],\n",
       "       [8.16139448e-01, 1.83860552e-01],\n",
       "       [9.99989345e-01, 1.06550084e-05],\n",
       "       [9.99991569e-01, 8.43125100e-06],\n",
       "       [9.99993029e-01, 6.97050206e-06],\n",
       "       [2.35884063e-01, 7.64115937e-01],\n",
       "       [7.77877603e-01, 2.22122397e-01],\n",
       "       [7.37320183e-01, 2.62679817e-01],\n",
       "       [9.99992104e-01, 7.89580642e-06],\n",
       "       [9.99990627e-01, 9.37334267e-06],\n",
       "       [9.81551613e-01, 1.84483871e-02],\n",
       "       [4.51982936e-01, 5.48017064e-01],\n",
       "       [1.58734391e-01, 8.41265609e-01],\n",
       "       [8.72649946e-01, 1.27350054e-01],\n",
       "       [1.48933663e-02, 9.85106634e-01]])"
      ]
     },
     "execution_count": 12,
     "metadata": {},
     "output_type": "execute_result"
    }
   ],
   "source": [
    "model.predict_proba(X_test) # predykcja prawdopodobieństwa"
   ]
  },
  {
   "cell_type": "code",
   "execution_count": 21,
   "metadata": {
    "id": "wC4bhQwurqQe",
    "outputId": "50458727-ec81-409e-e203-c1d70f734953"
   },
   "outputs": [
    {
     "data": {
      "text/plain": [
       "array([0, 0, 1, 0, 0, 0, 0, 1, 0, 0, 1, 0, 0, 0, 0, 0, 1, 0, 0, 1, 0, 1,\n",
       "       0, 1, 1, 1, 1, 1, 0, 0, 0, 0, 0, 0, 0, 1, 0, 0, 0, 0, 1, 0, 0, 0,\n",
       "       0, 0, 1, 1, 0, 1])"
      ]
     },
     "execution_count": 21,
     "metadata": {},
     "output_type": "execute_result"
    }
   ],
   "source": [
    "y_pred"
   ]
  },
  {
   "cell_type": "markdown",
   "metadata": {
    "id": "QbppyLr8rqQf"
   },
   "source": [
    "Sprawdzamy metryki predykcji"
   ]
  },
  {
   "cell_type": "code",
   "execution_count": 22,
   "metadata": {
    "ExecuteTime": {
     "end_time": "2021-05-20T05:15:31.078050Z",
     "start_time": "2021-05-20T05:15:31.062930Z"
    },
    "id": "Ps749tk_rqQg",
    "outputId": "712697e7-69a7-43ba-82b4-16c98271c11e"
   },
   "outputs": [
    {
     "name": "stdout",
     "output_type": "stream",
     "text": [
      "Confusion matrix - tablica pomyłek, zobacz https://pl.wikipedia.org/wiki/Tablica_pomyłek \n",
      " [[34  0]\n",
      " [ 0 16]]\n",
      "Raport klasyfikacyjny: \n",
      "               precision    recall  f1-score   support\n",
      "\n",
      "           0       1.00      1.00      1.00        34\n",
      "           1       1.00      1.00      1.00        16\n",
      "\n",
      "    accuracy                           1.00        50\n",
      "   macro avg       1.00      1.00      1.00        50\n",
      "weighted avg       1.00      1.00      1.00        50\n",
      "\n"
     ]
    }
   ],
   "source": [
    "print(\"Confusion matrix - tablica pomyłek, zobacz https://pl.wikipedia.org/wiki/Tablica_pomyłek \\n\", confusion_matrix(y_test, y_pred))\n",
    "\n",
    "# plot confusion matrix - forma wizualna\n",
    "\n",
    "print(\"Raport klasyfikacyjny: \\n\", classification_report(y_test, y_pred))"
   ]
  },
  {
   "cell_type": "markdown",
   "metadata": {
    "id": "xA1AF-v6rqQi"
   },
   "source": [
    "## Klasyfikacja binarna - gatunek **versicolour**\n",
    "\n",
    "Sprawdźmy czy tak samo dobrze regresja logisytyczna poradzi sobie z klasyfikacja gatunku **versicolor**"
   ]
  },
  {
   "cell_type": "code",
   "execution_count": 23,
   "metadata": {
    "ExecuteTime": {
     "end_time": "2021-05-20T05:15:31.113245Z",
     "start_time": "2021-05-20T05:15:31.081148Z"
    },
    "id": "Eh_nqKZ-rqQi"
   },
   "outputs": [],
   "source": [
    "iris[\"new_target\"] = (iris[\"target\"] == 1) * 1"
   ]
  },
  {
   "cell_type": "code",
   "execution_count": 24,
   "metadata": {
    "id": "umku32BBrqQj",
    "outputId": "cd2c5f14-3b4e-4abe-8ed2-6f47d2678136"
   },
   "outputs": [
    {
     "data": {
      "text/plain": [
       "array([0, 0, 0, 0, 0, 0, 0, 0, 0, 0, 0, 0, 0, 0, 0, 0, 0, 0, 0, 0, 0, 0,\n",
       "       0, 0, 0, 0, 0, 0, 0, 0, 0, 0, 0, 0, 0, 0, 0, 0, 0, 0, 0, 0, 0, 0,\n",
       "       0, 0, 0, 0, 0, 0, 1, 1, 1, 1, 1, 1, 1, 1, 1, 1, 1, 1, 1, 1, 1, 1,\n",
       "       1, 1, 1, 1, 1, 1, 1, 1, 1, 1, 1, 1, 1, 1, 1, 1, 1, 1, 1, 1, 1, 1,\n",
       "       1, 1, 1, 1, 1, 1, 1, 1, 1, 1, 1, 1, 0, 0, 0, 0, 0, 0, 0, 0, 0, 0,\n",
       "       0, 0, 0, 0, 0, 0, 0, 0, 0, 0, 0, 0, 0, 0, 0, 0, 0, 0, 0, 0, 0, 0,\n",
       "       0, 0, 0, 0, 0, 0, 0, 0, 0, 0, 0, 0, 0, 0, 0, 0, 0, 0])"
      ]
     },
     "execution_count": 24,
     "metadata": {},
     "output_type": "execute_result"
    }
   ],
   "source": [
    "iris[\"new_target\"]"
   ]
  },
  {
   "cell_type": "code",
   "execution_count": 25,
   "metadata": {
    "id": "tFt4GIFBrqQk"
   },
   "outputs": [],
   "source": [
    "X_train, X_test, y_train, y_test = train_test_split(\n",
    "    iris[\"data\"], \n",
    "    iris[\"new_target\"], \n",
    "    test_size=0.33, \n",
    "    random_state=42)\n",
    "\n",
    "model = LogisticRegression(random_state=42)\n",
    "model.fit(X_train, y_train)\n",
    "\n",
    "y_pred = model.predict(X_test)"
   ]
  },
  {
   "cell_type": "code",
   "execution_count": 26,
   "metadata": {
    "id": "GoM9E68wrqQl",
    "outputId": "35bb6487-beac-4c61-a775-0a1eb3f0592f"
   },
   "outputs": [
    {
     "data": {
      "text/plain": [
       "(100, 4)"
      ]
     },
     "execution_count": 26,
     "metadata": {},
     "output_type": "execute_result"
    }
   ],
   "source": [
    "X_train.shape"
   ]
  },
  {
   "cell_type": "code",
   "execution_count": 27,
   "metadata": {
    "id": "N0We5uIKrqQl",
    "outputId": "90b41286-90d4-40a5-ed97-72738980b3ef"
   },
   "outputs": [
    {
     "name": "stdout",
     "output_type": "stream",
     "text": [
      "Confusion matrix - tablica pomyłek\n",
      " [[30  5]\n",
      " [10  5]]\n",
      "Raport klasyfikacyjny: \n",
      "               precision    recall  f1-score   support\n",
      "\n",
      "           0       0.75      0.86      0.80        35\n",
      "           1       0.50      0.33      0.40        15\n",
      "\n",
      "    accuracy                           0.70        50\n",
      "   macro avg       0.62      0.60      0.60        50\n",
      "weighted avg       0.68      0.70      0.68        50\n",
      "\n"
     ]
    }
   ],
   "source": [
    "print(\"Confusion matrix - tablica pomyłek\\n\", confusion_matrix(y_test, y_pred))\n",
    "\n",
    "print(\"Raport klasyfikacyjny: \\n\", classification_report(y_test, y_pred))"
   ]
  },
  {
   "cell_type": "code",
   "execution_count": 28,
   "metadata": {
    "id": "P2N2cKTdrqQm",
    "outputId": "2ffab654-cd5f-458d-a992-30885afd61c0"
   },
   "outputs": [
    {
     "name": "stdout",
     "output_type": "stream",
     "text": [
      "Accuracy: 0.7\n",
      "Precision: 0.5\n",
      "Recall: 0.3333333333333333\n"
     ]
    }
   ],
   "source": [
    "from sklearn import metrics\n",
    "\n",
    "print(\"Accuracy:\", metrics.accuracy_score(y_test, y_pred))\n",
    "print(\"Precision:\", metrics.precision_score(y_test, y_pred))\n",
    "print(\"Recall:\", metrics.recall_score(y_test, y_pred))\n",
    "\n",
    "# Uwaga! Zawsze podawane dla klasy 1"
   ]
  },
  {
   "cell_type": "markdown",
   "metadata": {
    "id": "ZGK78K2OrqQn"
   },
   "source": [
    "# Wnioski\n"
   ]
  },
  {
   "cell_type": "markdown",
   "metadata": {
    "id": "eDY1r9jvrqQn"
   },
   "source": [
    "Dla gatunku virginica regresja logistyczna okazała się dobrym modelem predykcyjnym. Należy jednak pamiętać, że wysokie wyniki metryk wynikają z niewielkiego zbioru próbek - w rzeczywistośći model nie będzie miał 100% precyzji.\n",
    "\n",
    "Dla gatunku versicolour regresja logistyczna daje gorsze wyniki, co może sugerować, że nie jest najlepszym modelem predykcji dla tego problemu."
   ]
  },
  {
   "cell_type": "markdown",
   "metadata": {
    "id": "ynJKIulWrqQo"
   },
   "source": [
    "# Inne - przypadek wieloklasowy"
   ]
  },
  {
   "cell_type": "markdown",
   "metadata": {
    "id": "kJDI16fzrqQo"
   },
   "source": [
    "In the multiclass case, the training algorithm uses the one-vs-rest (OvR) scheme if the ‘multi_class’ option is set to ‘ovr’, and uses the cross-entropy loss if the ‘multi_class’ option is set to ‘multinomial’. (Currently the ‘multinomial’ option is supported only by the ‘lbfgs’, ‘sag’, ‘saga’ and ‘newton-cg’ solvers.)\n",
    "\n",
    "## https://scikit-learn.org/stable/modules/generated/sklearn.linear_model.LogisticRegression.html"
   ]
  },
  {
   "cell_type": "code",
   "execution_count": 29,
   "metadata": {
    "id": "Q9I35f3erqQp",
    "outputId": "63e82f96-0c8f-444b-e8af-87a34a7a963f"
   },
   "outputs": [
    {
     "data": {
      "text/plain": [
       "array([0, 0, 0, 0, 0, 0, 0, 0, 0, 0, 0, 0, 0, 0, 0, 0, 0, 0, 0, 0, 0, 0,\n",
       "       0, 0, 0, 0, 0, 0, 0, 0, 0, 0, 0, 0, 0, 0, 0, 0, 0, 0, 0, 0, 0, 0,\n",
       "       0, 0, 0, 0, 0, 0, 1, 1, 1, 1, 1, 1, 1, 1, 1, 1, 1, 1, 1, 1, 1, 1,\n",
       "       1, 1, 1, 1, 1, 1, 1, 1, 1, 1, 1, 1, 1, 1, 1, 1, 1, 1, 1, 1, 1, 1,\n",
       "       1, 1, 1, 1, 1, 1, 1, 1, 1, 1, 1, 1, 2, 2, 2, 2, 2, 2, 2, 2, 2, 2,\n",
       "       2, 2, 2, 2, 2, 2, 2, 2, 2, 2, 2, 2, 2, 2, 2, 2, 2, 2, 2, 2, 2, 2,\n",
       "       2, 2, 2, 2, 2, 2, 2, 2, 2, 2, 2, 2, 2, 2, 2, 2, 2, 2])"
      ]
     },
     "execution_count": 29,
     "metadata": {},
     "output_type": "execute_result"
    }
   ],
   "source": [
    "iris[\"target\"]"
   ]
  },
  {
   "cell_type": "code",
   "execution_count": 30,
   "metadata": {
    "id": "Pb8cTsx7rqQp"
   },
   "outputs": [],
   "source": [
    "X_train, X_test, y_train, y_test = train_test_split(\n",
    "    iris[\"data\"], \n",
    "    iris[\"target\"], \n",
    "    test_size=0.33, \n",
    "    random_state=42)\n",
    "\n",
    "model = LogisticRegression(random_state=42, max_iter=10000)\n",
    "model.fit(X_train, y_train)\n",
    "\n",
    "y_pred = model.predict(X_test)"
   ]
  },
  {
   "cell_type": "code",
   "execution_count": null,
   "metadata": {},
   "outputs": [],
   "source": [
    "model.n_iter_ # tyle iteracji było wykonane, żeby osiągnać założoną dokładność"
   ]
  },
  {
   "cell_type": "code",
   "execution_count": 31,
   "metadata": {
    "id": "QctDn5cdrqQp",
    "outputId": "15cd0eae-d189-4c44-e399-5abf3a9b8e1a"
   },
   "outputs": [
    {
     "data": {
      "text/plain": [
       "array([1, 0, 2, 1, 1, 0, 1, 2, 1, 1, 2, 0, 0, 0, 0, 1, 2, 1, 1, 2, 0, 2,\n",
       "       0, 2, 2, 2, 2, 2, 0, 0, 0, 0, 1, 0, 0, 2, 1, 0, 0, 0, 2, 1, 1, 0,\n",
       "       0, 1, 2, 2, 1, 2])"
      ]
     },
     "execution_count": 31,
     "metadata": {},
     "output_type": "execute_result"
    }
   ],
   "source": [
    "y_pred"
   ]
  },
  {
   "cell_type": "code",
   "execution_count": 33,
   "metadata": {
    "id": "3kcZpin2rqQq",
    "outputId": "2d99ff06-c48a-473b-d58c-ca065accd7b6"
   },
   "outputs": [
    {
     "name": "stdout",
     "output_type": "stream",
     "text": [
      "Confusion matrix - tablica pomyłek\n",
      " [[19  0  0]\n",
      " [ 0 15  0]\n",
      " [ 0  0 16]]\n",
      "Raport klasyfikacyjny: \n",
      "               precision    recall  f1-score   support\n",
      "\n",
      "           0       1.00      1.00      1.00        19\n",
      "           1       1.00      1.00      1.00        15\n",
      "           2       1.00      1.00      1.00        16\n",
      "\n",
      "    accuracy                           1.00        50\n",
      "   macro avg       1.00      1.00      1.00        50\n",
      "weighted avg       1.00      1.00      1.00        50\n",
      "\n"
     ]
    }
   ],
   "source": [
    "print(\"Confusion matrix - tablica pomyłek\\n\", confusion_matrix(y_test, y_pred))\n",
    "\n",
    "print(\"Raport klasyfikacyjny: \\n\", classification_report(y_test, y_pred))"
   ]
  }
 ],
 "metadata": {
  "colab": {
   "provenance": []
  },
  "kernelspec": {
   "display_name": "Python 3.8.13 ('geo_env')",
   "language": "python",
   "name": "python3"
  },
  "language_info": {
   "codemirror_mode": {
    "name": "ipython",
    "version": 3
   },
   "file_extension": ".py",
   "mimetype": "text/x-python",
   "name": "python",
   "nbconvert_exporter": "python",
   "pygments_lexer": "ipython3",
   "version": "3.8.13"
  },
  "toc": {
   "base_numbering": 1,
   "nav_menu": {},
   "number_sections": true,
   "sideBar": true,
   "skip_h1_title": false,
   "title_cell": "Table of Contents",
   "title_sidebar": "Contents",
   "toc_cell": false,
   "toc_position": {},
   "toc_section_display": true,
   "toc_window_display": false
  },
  "varInspector": {
   "cols": {
    "lenName": 16,
    "lenType": 16,
    "lenVar": 40
   },
   "kernels_config": {
    "python": {
     "delete_cmd_postfix": "",
     "delete_cmd_prefix": "del ",
     "library": "var_list.py",
     "varRefreshCmd": "print(var_dic_list())"
    },
    "r": {
     "delete_cmd_postfix": ") ",
     "delete_cmd_prefix": "rm(",
     "library": "var_list.r",
     "varRefreshCmd": "cat(var_dic_list()) "
    }
   },
   "types_to_exclude": [
    "module",
    "function",
    "builtin_function_or_method",
    "instance",
    "_Feature"
   ],
   "window_display": false
  },
  "vscode": {
   "interpreter": {
    "hash": "6f09629a95fec6ed3ac22ed764583667a844c769370b55e5a4240b6229385ad5"
   }
  }
 },
 "nbformat": 4,
 "nbformat_minor": 1
}
