{
 "cells": [
  {
   "cell_type": "markdown",
   "id": "c2bd3325-3df2-4944-b86e-3b98f364d001",
   "metadata": {
    "id": "c2bd3325-3df2-4944-b86e-3b98f364d001"
   },
   "source": [
    "## Trenowanie pierwszego drzewa dla problemu regresji"
   ]
  },
  {
   "cell_type": "code",
   "execution_count": null,
   "id": "51c92459-a5c1-434c-81d5-bfc8498e602a",
   "metadata": {
    "id": "51c92459-a5c1-434c-81d5-bfc8498e602a"
   },
   "outputs": [],
   "source": [
    "import pandas as pd\n",
    "import numpy as np\n",
    "\n",
    "import matplotlib.pyplot as plt\n",
    "\n",
    "from sklearn.tree import (\n",
    "    DecisionTreeRegressor,\n",
    "    plot_tree\n",
    ")\n",
    "from sklearn.linear_model import LinearRegression"
   ]
  },
  {
   "cell_type": "code",
   "execution_count": null,
   "id": "5ed22194-c26f-4c06-afa3-ef9d13a7ecae",
   "metadata": {
    "id": "5ed22194-c26f-4c06-afa3-ef9d13a7ecae"
   },
   "outputs": [],
   "source": [
    "url = 'https://raw.githubusercontent.com/justmarkham/scikit-learn-videos/master/data/Advertising.csv'\n",
    "advertising = pd.read_csv(url, index_col=0)"
   ]
  },
  {
   "cell_type": "code",
   "execution_count": null,
   "id": "ea89b7ab-1c9f-462c-9bf0-72a8ce7a5344",
   "metadata": {
    "id": "ea89b7ab-1c9f-462c-9bf0-72a8ce7a5344"
   },
   "outputs": [],
   "source": [
    "advertising.head()"
   ]
  },
  {
   "cell_type": "code",
   "execution_count": null,
   "id": "032483f5-0b92-4844-b3cf-db2d7fc43d39",
   "metadata": {
    "id": "032483f5-0b92-4844-b3cf-db2d7fc43d39"
   },
   "outputs": [],
   "source": [
    "## model drzewa decyzyjnego ale w przypadku problemu regresji:\n",
    "\n",
    "feature_names = ['TV','Radio','Newspaper']\n",
    "model_reg= DecisionTreeRegressor(max_depth=2).fit(advertising[feature_names], advertising['Sales'])"
   ]
  },
  {
   "cell_type": "code",
   "execution_count": null,
   "id": "7f7b5809-c8d5-4809-900e-dfbc7659d50c",
   "metadata": {
    "id": "7f7b5809-c8d5-4809-900e-dfbc7659d50c"
   },
   "outputs": [],
   "source": [
    "plt.figure(figsize = (10, 8))\n",
    "plot_tree(model_reg, feature_names = feature_names);"
   ]
  },
  {
   "cell_type": "markdown",
   "id": "e9ce382f-2623-492e-b508-3b8186c71bb8",
   "metadata": {
    "id": "e9ce382f-2623-492e-b508-3b8186c71bb8"
   },
   "source": [
    "## Inny problem regresji:"
   ]
  },
  {
   "cell_type": "code",
   "execution_count": null,
   "id": "62acab24-835c-4d75-b790-389db42ba536",
   "metadata": {
    "id": "62acab24-835c-4d75-b790-389db42ba536"
   },
   "outputs": [],
   "source": [
    "url = 'https://raw.githubusercontent.com/amueller/introduction_to_ml_with_python/master/data/ram_price.csv'\n",
    "ram_prices = pd.read_csv(url, index_col=0)"
   ]
  },
  {
   "cell_type": "code",
   "execution_count": null,
   "id": "277d7747-0826-41e5-83d2-fcb34864a5b8",
   "metadata": {
    "id": "277d7747-0826-41e5-83d2-fcb34864a5b8"
   },
   "outputs": [],
   "source": [
    "plt.semilogy(ram_prices.date, ram_prices.price)\n",
    "plt.xlabel(\"Year\")\n",
    "plt.ylabel(\"Price in $/Mbyte\");"
   ]
  },
  {
   "cell_type": "code",
   "execution_count": null,
   "id": "36e4c471-b510-4a69-afee-c58801340428",
   "metadata": {
    "id": "36e4c471-b510-4a69-afee-c58801340428"
   },
   "outputs": [],
   "source": [
    "# use historical data to forecast prices after the year 2000\n",
    "data_train = ram_prices[ram_prices.date < 2000]\n",
    "data_test = ram_prices[ram_prices.date >= 2000]"
   ]
  },
  {
   "cell_type": "code",
   "execution_count": null,
   "id": "24bfa689-1ee9-4881-982d-b99a1da4fc33",
   "metadata": {
    "id": "24bfa689-1ee9-4881-982d-b99a1da4fc33"
   },
   "outputs": [],
   "source": [
    "X_train = np.array(data_train.date).reshape(-1, 1)\n",
    "y_train = np.log(data_train.price) # we use a log-transform to get a simpler relationship of data to target\n",
    "\n",
    "X_all = np.array(ram_prices.date).reshape(-1, 1)"
   ]
  },
  {
   "cell_type": "markdown",
   "id": "b12d2692-dd71-4642-9589-5a5984f1b5aa",
   "metadata": {
    "id": "b12d2692-dd71-4642-9589-5a5984f1b5aa"
   },
   "source": [
    "Dopasuj regresje liniową i drzewo regresyjne:"
   ]
  },
  {
   "cell_type": "code",
   "execution_count": null,
   "id": "0bd3c24e-e670-43c9-9374-b4c91695321e",
   "metadata": {
    "id": "0bd3c24e-e670-43c9-9374-b4c91695321e"
   },
   "outputs": [],
   "source": []
  },
  {
   "cell_type": "markdown",
   "id": "bf4c9433-63fb-48ae-9148-352170b43021",
   "metadata": {
    "id": "bf4c9433-63fb-48ae-9148-352170b43021"
   },
   "source": [
    "Sprawdź predykcje na całym zbiorze:"
   ]
  },
  {
   "cell_type": "code",
   "execution_count": null,
   "id": "f5354774-edf5-4fa0-a1cf-0ccd7cfcc895",
   "metadata": {
    "id": "f5354774-edf5-4fa0-a1cf-0ccd7cfcc895"
   },
   "outputs": [],
   "source": [
    "# pred_tree = \n",
    "# pred_lr ="
   ]
  },
  {
   "cell_type": "markdown",
   "id": "55569506-4452-4a58-bdd4-74a5e735daa1",
   "metadata": {
    "id": "55569506-4452-4a58-bdd4-74a5e735daa1"
   },
   "source": [
    "Pamiętaj, że modelowaliśmy transformację logarytmiczną. Funkcja odwracająca - wykładnicza."
   ]
  },
  {
   "cell_type": "code",
   "execution_count": null,
   "id": "6c074d04-bf12-4eb7-80c5-2799f7776b6b",
   "metadata": {
    "id": "6c074d04-bf12-4eb7-80c5-2799f7776b6b"
   },
   "outputs": [],
   "source": [
    "price_tree = np.exp(pred_tree)\n",
    "price_lr = np.exp(pred_lr)"
   ]
  },
  {
   "cell_type": "code",
   "execution_count": null,
   "id": "1d9baf50-c6fa-46f7-9129-3a7c11ba0908",
   "metadata": {
    "id": "1d9baf50-c6fa-46f7-9129-3a7c11ba0908"
   },
   "outputs": [],
   "source": [
    "plt.semilogy(data_train.date, data_train.price, label=\"Training data\")\n",
    "plt.semilogy(data_test.date, data_test.price, label=\"Test data\")\n",
    "plt.semilogy(ram_prices.date, price_tree, label=\"Tree prediction\")\n",
    "plt.semilogy(ram_prices.date, price_lr, label=\"Linear prediction\")\n",
    "plt.legend()"
   ]
  },
  {
   "cell_type": "code",
   "execution_count": null,
   "id": "8260a083-0f9d-4444-9f56-cd9af78a4eb9",
   "metadata": {
    "id": "8260a083-0f9d-4444-9f56-cd9af78a4eb9"
   },
   "outputs": [],
   "source": []
  }
 ],
 "metadata": {
  "colab": {
   "provenance": []
  },
  "kernelspec": {
   "display_name": "Python 3 (ipykernel)",
   "language": "python",
   "name": "python3"
  },
  "language_info": {
   "codemirror_mode": {
    "name": "ipython",
    "version": 3
   },
   "file_extension": ".py",
   "mimetype": "text/x-python",
   "name": "python",
   "nbconvert_exporter": "python",
   "pygments_lexer": "ipython3",
   "version": "3.9.12"
  }
 },
 "nbformat": 4,
 "nbformat_minor": 5
}
