{
 "cells": [
  {
   "cell_type": "markdown",
   "id": "9eac56ea-afe8-4a7c-9093-ba7670fc78aa",
   "metadata": {
    "id": "9eac56ea-afe8-4a7c-9093-ba7670fc78aa"
   },
   "source": [
    "# Drzewa decyzyjne (Decision Trees)"
   ]
  },
  {
   "cell_type": "code",
   "execution_count": null,
   "id": "94ba95da-4260-4934-9edb-08d261274237",
   "metadata": {
    "id": "94ba95da-4260-4934-9edb-08d261274237"
   },
   "outputs": [],
   "source": [
    "from sklearn.datasets import load_iris\n",
    "\n",
    "from sklearn.tree import (\n",
    "    DecisionTreeClassifier,\n",
    "    plot_tree\n",
    ")\n",
    "\n",
    "import matplotlib.pyplot as plt\n",
    "\n",
    "from mlxtend import plotting # https://rasbt.github.io/mlxtend/user_guide/plotting/plot_decision_regions/"
   ]
  },
  {
   "cell_type": "markdown",
   "id": "471abdff-18e2-4435-95b7-291457c3222d",
   "metadata": {
    "id": "471abdff-18e2-4435-95b7-291457c3222d"
   },
   "source": [
    "## Trenowanie pierwszego drzewa dla problemu klasyfikacji\n",
    "\n",
    "https://scikit-learn.org/stable/modules/generated/sklearn.tree.DecisionTreeClassifier"
   ]
  },
  {
   "cell_type": "code",
   "execution_count": null,
   "id": "4841a9c2-c90f-463f-9755-76c6eb19633d",
   "metadata": {
    "id": "4841a9c2-c90f-463f-9755-76c6eb19633d"
   },
   "outputs": [],
   "source": [
    "iris = load_iris()"
   ]
  },
  {
   "cell_type": "code",
   "execution_count": null,
   "id": "faca9796-93ee-4b87-9371-42962859bc19",
   "metadata": {
    "id": "faca9796-93ee-4b87-9371-42962859bc19"
   },
   "outputs": [],
   "source": [
    "X = iris.data[:, 2:]\n",
    "y = iris.target"
   ]
  },
  {
   "cell_type": "markdown",
   "id": "b8b40009-7be3-4e0b-affb-73d7d572318e",
   "metadata": {
    "id": "b8b40009-7be3-4e0b-affb-73d7d572318e"
   },
   "source": [
    "## DecisionTreeClassifier"
   ]
  },
  {
   "cell_type": "code",
   "execution_count": null,
   "id": "3847cfb1-bff9-41f7-ac63-0a4ef5fe8e02",
   "metadata": {
    "id": "3847cfb1-bff9-41f7-ac63-0a4ef5fe8e02"
   },
   "outputs": [],
   "source": [
    "tree_clf = DecisionTreeClassifier(random_state=0) #z domyślnymi parametrami\n",
    "tree_clf.fit(X, y)"
   ]
  },
  {
   "cell_type": "markdown",
   "id": "cfcdb461-74de-48df-a69f-4e4d8729c9d2",
   "metadata": {
    "id": "cfcdb461-74de-48df-a69f-4e4d8729c9d2"
   },
   "source": [
    "### Wizualizacja"
   ]
  },
  {
   "cell_type": "code",
   "execution_count": null,
   "id": "cd3b9950-b4b0-4474-ae28-91dae22426e3",
   "metadata": {
    "id": "cd3b9950-b4b0-4474-ae28-91dae22426e3"
   },
   "outputs": [],
   "source": [
    "plt.figure(figsize = (12, 8))\n",
    "\n",
    "plot_tree(tree_clf,\n",
    "          feature_names = iris.feature_names,\n",
    "          class_names = iris.target_names,\n",
    "          filled=True);"
   ]
  },
  {
   "cell_type": "markdown",
   "id": "09776555-a603-4835-9ecd-ddf511a99082",
   "metadata": {
    "id": "09776555-a603-4835-9ecd-ddf511a99082"
   },
   "source": [
    "Przytnijmy trochę drzewo, żeby łatwiej interpretować wyniki."
   ]
  },
  {
   "cell_type": "code",
   "execution_count": null,
   "id": "e88ecad4-b13d-42e3-bd54-6dcc9371f91f",
   "metadata": {
    "id": "e88ecad4-b13d-42e3-bd54-6dcc9371f91f"
   },
   "outputs": [],
   "source": [
    "tree_clf = DecisionTreeClassifier(max_depth=2, random_state=99)\n",
    "tree_clf.fit(X, y)"
   ]
  },
  {
   "cell_type": "code",
   "execution_count": null,
   "id": "3b50e2e9-ebb0-4bb3-bd55-8e6026d6b9f9",
   "metadata": {
    "id": "3b50e2e9-ebb0-4bb3-bd55-8e6026d6b9f9"
   },
   "outputs": [],
   "source": [
    "plt.figure(figsize = (10, 8))\n",
    "\n",
    "plot_tree(tree_clf,\n",
    "          feature_names = iris.feature_names,\n",
    "          class_names = iris.target_names,\n",
    "          filled=True);"
   ]
  },
  {
   "cell_type": "markdown",
   "id": "89e9bad6-937e-4cc9-b89b-84bae0fb4142",
   "metadata": {
    "id": "89e9bad6-937e-4cc9-b89b-84bae0fb4142"
   },
   "source": [
    "### Istotność zmiennych\n",
    "\n",
    "Ocenia, jak ważna jest każda zmienna dla decyzji podejmowanej przez drzewo.  \n",
    "Jest to liczba z przedziału od 0 do 1 dla każdej cechy, gdzie 0 oznacza \"w ogóle nie używana\", a 1 oznacza \"doskonale przewiduje target\".  \n",
    "Istotności cech zawsze sumują się do 1."
   ]
  },
  {
   "cell_type": "code",
   "execution_count": null,
   "id": "ba1c4fa5-defe-4d3a-8d4b-609c9e9fd3ed",
   "metadata": {
    "id": "ba1c4fa5-defe-4d3a-8d4b-609c9e9fd3ed"
   },
   "outputs": [],
   "source": [
    "tree_clf.feature_importances_"
   ]
  },
  {
   "cell_type": "markdown",
   "id": "85b7dd42-3ebb-49e3-a3bd-4760696d89a7",
   "metadata": {
    "id": "85b7dd42-3ebb-49e3-a3bd-4760696d89a7"
   },
   "source": [
    "### Granice decyzyjne"
   ]
  },
  {
   "cell_type": "code",
   "execution_count": null,
   "id": "4171bd72-693c-4270-970c-91e46ee8fd60",
   "metadata": {
    "id": "4171bd72-693c-4270-970c-91e46ee8fd60"
   },
   "outputs": [],
   "source": [
    "def decision_regions(data, target, classifier, figsize=(12, 8)):\n",
    "    plt.figure(figsize=figsize)\n",
    "    plotting.plot_decision_regions(X=data, y=target, clf=classifier, legend=2)\n",
    "    plt.scatter(data[:, 0], data[:, 1], c=[\"brg\"[x] for x in target])"
   ]
  },
  {
   "cell_type": "code",
   "execution_count": null,
   "id": "5c32d610-97a8-4740-be48-df110fabed57",
   "metadata": {
    "id": "5c32d610-97a8-4740-be48-df110fabed57"
   },
   "outputs": [],
   "source": [
    "decision_regions(X, y, tree_clf)"
   ]
  },
  {
   "cell_type": "markdown",
   "id": "a77d51a0-a91a-4c75-98c3-8a5186fb5496",
   "metadata": {
    "id": "a77d51a0-a91a-4c75-98c3-8a5186fb5496"
   },
   "source": [
    "## Model Interpretation: White Box Models"
   ]
  },
  {
   "cell_type": "markdown",
   "id": "96719a94-b5da-4efb-907d-21e29e25a00e",
   "metadata": {
    "id": "96719a94-b5da-4efb-907d-21e29e25a00e"
   },
   "source": [
    "## Predykcja"
   ]
  },
  {
   "cell_type": "code",
   "execution_count": null,
   "id": "38d55387-9faf-45d0-9d48-ce9188385380",
   "metadata": {
    "id": "38d55387-9faf-45d0-9d48-ce9188385380"
   },
   "outputs": [],
   "source": [
    "new_obs = [5, 1.5]\n",
    "tree_clf.predict_proba([new_obs])"
   ]
  },
  {
   "cell_type": "code",
   "execution_count": null,
   "id": "eb441a7d-7a40-4384-8741-814764e4a4b7",
   "metadata": {
    "id": "eb441a7d-7a40-4384-8741-814764e4a4b7"
   },
   "outputs": [],
   "source": [
    "tree_clf.predict([[5, 1.5]])"
   ]
  },
  {
   "cell_type": "code",
   "execution_count": null,
   "id": "0b12a0c2-b208-492e-8a7b-5d63094133ab",
   "metadata": {
    "id": "0b12a0c2-b208-492e-8a7b-5d63094133ab"
   },
   "outputs": [],
   "source": [
    "iris.target_names[1]"
   ]
  },
  {
   "cell_type": "markdown",
   "id": "e1f03611-c33c-44ed-8c36-45fe8e445a1c",
   "metadata": {
    "id": "e1f03611-c33c-44ed-8c36-45fe8e445a1c"
   },
   "source": [
    "# Zadania do przećwiczenia"
   ]
  },
  {
   "cell_type": "markdown",
   "id": "8da238ce-cedd-4806-838e-9705e297db3d",
   "metadata": {
    "id": "8da238ce-cedd-4806-838e-9705e297db3d"
   },
   "source": [
    "Dla całości danych iris (4 featury) zbadaj jak na model wpłynie zmiana kryterium nieczystości z gini na entropy (`criterion`).  \n",
    "Narysuj drzewa.  \n",
    "Oblicz samodzielnie wartości gini i entropy w wybranym węźle.\n",
    "\n",
    "Narysuj granice decyzyjne dla drzewa decyzyjnego i regresji logistycznej - w tym celu wybierz podzbiór danych iris `iris.data[:,:2]`.   "
   ]
  },
  {
   "cell_type": "code",
   "execution_count": null,
   "id": "8a762732-f7c4-4040-863b-b1aaf4e488bf",
   "metadata": {
    "id": "8a762732-f7c4-4040-863b-b1aaf4e488bf"
   },
   "outputs": [],
   "source": []
  }
 ],
 "metadata": {
  "colab": {
   "provenance": []
  },
  "kernelspec": {
   "display_name": "Python 3 (ipykernel)",
   "language": "python",
   "name": "python3"
  },
  "language_info": {
   "codemirror_mode": {
    "name": "ipython",
    "version": 3
   },
   "file_extension": ".py",
   "mimetype": "text/x-python",
   "name": "python",
   "nbconvert_exporter": "python",
   "pygments_lexer": "ipython3",
   "version": "3.9.12"
  }
 },
 "nbformat": 4,
 "nbformat_minor": 5
}
