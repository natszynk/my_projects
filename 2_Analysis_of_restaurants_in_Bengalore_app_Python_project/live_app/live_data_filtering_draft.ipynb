{
 "cells": [
  {
   "cell_type": "code",
   "execution_count": 1,
   "metadata": {},
   "outputs": [],
   "source": [
    "import pandas as pd\n",
    "from ipywidgets import widgets\n",
    "from IPython.display import display\n",
    "import pandas as pd\n",
    "import numpy as np\n",
    "from functions.application_runner import run_application\n",
    "df = pd.read_csv(\"cleaned_zomato.csv\")\n",
    "df[\"cuisines\"] = df[\"cuisines\"].apply(eval)\n"
   ]
  },
  {
   "cell_type": "code",
   "execution_count": 13,
   "metadata": {},
   "outputs": [],
   "source": [
    "import pandas as pd\n",
    "import numpy as np\n",
    "import random\n",
    "\n",
    "# Type of cuisines:\n",
    "def cuisines_list(df:pd.DataFrame):\n",
    "       \n",
    "    global dict_of_cuisines\n",
    "    dict_of_cuisines = {}\n",
    "    for x in df.index:\n",
    "        for y in df.loc[x,\"cuisines\"]:\n",
    "            if y not in dict_of_cuisines.keys():\n",
    "                dict_of_cuisines[y] = 1\n",
    "            else:\n",
    "                dict_of_cuisines[y] += 1\n",
    "    dict_of_cuisines = dict(sorted(dict_of_cuisines.items(), key=lambda item: item[1], reverse=True))\n",
    "    dict_of_cuisines[\"All\"] = 0 \n",
    "    return dict_of_cuisines\n"
   ]
  },
  {
   "cell_type": "code",
   "execution_count": 2,
   "metadata": {},
   "outputs": [],
   "source": [
    "\n",
    "def display_widgets(df:pd.DataFrame):\n",
    "\n",
    "    cuisine_selection = widgets.SelectMultiple(description='Cuisine type: ', \n",
    "                                                options=cuisines_list(df).keys(),\n",
    "                                                value=('All',),\n",
    "                                                disabled=False)\n",
    "    price_selection = widgets.SelectionRangeSlider(options=['$', '$$', '$$$','$$$$'],\n",
    "                                                    index=(0, 3), \n",
    "                                                    description='Price range: ',\n",
    "                                                    disabled=False)\n",
    "    rate_selection = widgets.FloatRangeSlider(description='Rating: ', min=1.8, \n",
    "                                                max= 5.0, step=0.1, disabled=False)\n",
    "    new_restaurants = widgets.Checkbox(value=False, description='Include new restaurants: ')\n",
    "    \n",
    "    book_table = widgets.Checkbox(value=False, description='Include new restaurants: ')\n",
    "    online_order = widgets.Checkbox(value=False, description='Include new restaurants: ')\n",
    "\n",
    "    out = widgets.Output()\n",
    "    button = widgets.Button(description=\"OK\")\n",
    "    \n",
    "    global preferences\n",
    "    preferences={}\n",
    "\n",
    "\n",
    "    def collect_preferences():\n",
    "\n",
    "        preferences[\"cuisine\"] = cuisine_selection.value\n",
    "        preferences[\"rate\"] = rate_selection.value\n",
    "        preferences[\"price\"] = price_selection.value\n",
    "        preferences[\"new_restaurants\"] = new_restaurants.value\n",
    "        return preferences\n",
    "\n",
    "    def display_preferences(preferences):\n",
    "        print(f\"\"\"Your preferences:\n",
    "\n",
    "        -- selected cuisine types: {cuisine_selection.value} \n",
    "        -- selected price range: {price_selection.value[0]} - {price_selection.value[0]}\n",
    "        -- selected rate range: {rate_selection.value[0]} - {rate_selection.value[1]}\n",
    "        -- include new restaurants: {preferences[\"new_restaurants\"]}\"\"\")\n",
    "\n",
    "    def on_button_clicked(b):\n",
    "        \n",
    "        collect_preferences()\n",
    "        cuisine_selection.close()\n",
    "        price_selection.close()\n",
    "        rate_selection.close()\n",
    "        new_restaurants.close()\n",
    "        out.close()\n",
    "        button.close()\n",
    "        display_preferences(preferences)\n",
    "        run_application(preferences,df)\n",
    "        \n",
    "    \n",
    "\n",
    "    @out.capture()\n",
    "    def changed(b):\n",
    "        out.clear_output()\n",
    "        display_preferences(preferences)\n",
    "        collect_preferences()\n",
    "        # run_application(preferences,df)\n",
    "        \n",
    "    cuisine_selection.observe(changed)\n",
    "    price_selection.observe(changed)\n",
    "    rate_selection.observe(changed)\n",
    "    new_restaurants.observe(changed)\n",
    "\n",
    "    display(cuisine_selection,price_selection,rate_selection, new_restaurants,button)\n",
    "    button.on_click(on_button_clicked)\n",
    "    "
   ]
  },
  {
   "cell_type": "code",
   "execution_count": 3,
   "metadata": {},
   "outputs": [
    {
     "ename": "NameError",
     "evalue": "name 'cuisines_list' is not defined",
     "output_type": "error",
     "traceback": [
      "\u001b[0;31m---------------------------------------------------------------------------\u001b[0m",
      "\u001b[0;31mNameError\u001b[0m                                 Traceback (most recent call last)",
      "\u001b[0;32m/tmp/ipykernel_31936/3270690192.py\u001b[0m in \u001b[0;36m<module>\u001b[0;34m\u001b[0m\n\u001b[0;32m----> 1\u001b[0;31m \u001b[0mdisplay_widgets\u001b[0m\u001b[0;34m(\u001b[0m\u001b[0mdf\u001b[0m\u001b[0;34m)\u001b[0m\u001b[0;34m\u001b[0m\u001b[0;34m\u001b[0m\u001b[0m\n\u001b[0m",
      "\u001b[0;32m/tmp/ipykernel_31936/4213545315.py\u001b[0m in \u001b[0;36mdisplay_widgets\u001b[0;34m(df)\u001b[0m\n\u001b[1;32m      2\u001b[0m \u001b[0;34m\u001b[0m\u001b[0m\n\u001b[1;32m      3\u001b[0m     cuisine_selection = widgets.SelectMultiple(description='Cuisine type: ', \n\u001b[0;32m----> 4\u001b[0;31m                                                 \u001b[0moptions\u001b[0m\u001b[0;34m=\u001b[0m\u001b[0mcuisines_list\u001b[0m\u001b[0;34m(\u001b[0m\u001b[0mdf\u001b[0m\u001b[0;34m)\u001b[0m\u001b[0;34m.\u001b[0m\u001b[0mkeys\u001b[0m\u001b[0;34m(\u001b[0m\u001b[0;34m)\u001b[0m\u001b[0;34m,\u001b[0m\u001b[0;34m\u001b[0m\u001b[0;34m\u001b[0m\u001b[0m\n\u001b[0m\u001b[1;32m      5\u001b[0m                                                 \u001b[0mvalue\u001b[0m\u001b[0;34m=\u001b[0m\u001b[0;34m(\u001b[0m\u001b[0;34m'All'\u001b[0m\u001b[0;34m,\u001b[0m\u001b[0;34m)\u001b[0m\u001b[0;34m,\u001b[0m\u001b[0;34m\u001b[0m\u001b[0;34m\u001b[0m\u001b[0m\n\u001b[1;32m      6\u001b[0m                                                 disabled=False)\n",
      "\u001b[0;31mNameError\u001b[0m: name 'cuisines_list' is not defined"
     ]
    }
   ],
   "source": [
    "display_widgets(df)"
   ]
  },
  {
   "cell_type": "code",
   "execution_count": null,
   "metadata": {},
   "outputs": [],
   "source": [
    "# Live data filter"
   ]
  },
  {
   "cell_type": "code",
   "execution_count": 4,
   "metadata": {},
   "outputs": [],
   "source": [
    "import pandas as pd\n",
    "from ipywidgets import widgets\n",
    "from IPython.display import display\n",
    "import pandas as pd\n",
    "import numpy as np\n",
    "df = pd.read_csv(\"cleaned_zomato.csv\")\n",
    "df[\"cuisines\"] = df[\"cuisines\"].apply(eval)"
   ]
  },
  {
   "cell_type": "code",
   "execution_count": 5,
   "metadata": {},
   "outputs": [],
   "source": [
    "# Type of cuisines:\n",
    "def cuisines_list(df:pd.DataFrame):\n",
    "       \n",
    "    global dict_of_cuisines\n",
    "    dict_of_cuisines = {}\n",
    "    for x in df.index:\n",
    "        for y in df.loc[x,\"cuisines\"]:\n",
    "            if y not in dict_of_cuisines.keys():\n",
    "                dict_of_cuisines[y] = 1\n",
    "            else:\n",
    "                dict_of_cuisines[y] += 1\n",
    "    dict_of_cuisines = dict(sorted(dict_of_cuisines.items(), key=lambda item: item[1], reverse=True))\n",
    "    dict_of_cuisines[\"All\"] = 0 \n",
    "    return dict_of_cuisines"
   ]
  },
  {
   "cell_type": "code",
   "execution_count": 11,
   "metadata": {},
   "outputs": [],
   "source": [
    "# Price getter:\n",
    "\n",
    "def get_price(price_choice:tuple):\n",
    "\n",
    "    p=price_choice\n",
    "    q25 = df[\"cost\"].quantile(0.25)\n",
    "    q50 = df[\"cost\"].quantile(0.5)\n",
    "    q75 = df[\"cost\"].quantile(0.75)\n",
    "    max = df[\"cost\"].max()\n",
    "    price_ranges={'$':(0,q25), '$$': (q25,q50), '$$$':(q50,q75), '$$$$':(q75,max+1)}\n",
    "    price_min = float(price_ranges[p[0]][0])\n",
    "    price_max = float(price_ranges[p[1]][1])\n",
    "\n",
    "    return price_min,price_max\n",
    "    "
   ]
  },
  {
   "cell_type": "code",
   "execution_count": 171,
   "metadata": {},
   "outputs": [
    {
     "data": {
      "application/vnd.jupyter.widget-view+json": {
       "model_id": "77fc10f94ac74a4ca351d2242e0f6067",
       "version_major": 2,
       "version_minor": 0
      },
      "text/plain": [
       "SelectMultiple(description='Cuisine type: ', index=(107,), options=('North Indian', 'Chinese', 'South Indian',…"
      ]
     },
     "metadata": {},
     "output_type": "display_data"
    }
   ],
   "source": [
    "cuisine_selection = widgets.SelectMultiple(description='Cuisine type: ', \n",
    "                                            options=cuisines_list(df).keys(),\n",
    "                                            value=('All',),\n",
    "                                            disabled=False)\n",
    "output_cuisine = widgets.Output()\n",
    "\n",
    "def cuisine_handler(change):\n",
    "    output_cuisine.clear_output()\n",
    "    with output_cuisine:\n",
    "        if (change.new == ('All',)):\n",
    "            display(df)\n",
    "        else:\n",
    "            c = change.new\n",
    "            condition = df[\"cuisines\"].apply(lambda x: x if any(z in c for z in x) else None).notnull()\n",
    "            display(df[condition])\n",
    "\n",
    "cuisine_selection.observe(cuisine_handler, names='value')\n",
    "display(cuisine_selection)"
   ]
  },
  {
   "cell_type": "code",
   "execution_count": 173,
   "metadata": {},
   "outputs": [
    {
     "data": {
      "application/vnd.jupyter.widget-view+json": {
       "model_id": "56c652ee91e64bd8a561d3a91c98c81f",
       "version_major": 2,
       "version_minor": 0
      },
      "text/plain": [
       "Output()"
      ]
     },
     "metadata": {},
     "output_type": "display_data"
    }
   ],
   "source": [
    "display(output_cuisine)"
   ]
  },
  {
   "cell_type": "code",
   "execution_count": 8,
   "metadata": {},
   "outputs": [],
   "source": [
    "from functions.application_runner import run_application\n",
    "df = pd.read_csv(\"cleaned_zomato.csv\")\n",
    "df[\"cuisines\"] = df[\"cuisines\"].apply(eval)\n",
    "import seaborn as sns\n",
    "import matplotlib.pyplot as plt"
   ]
  },
  {
   "cell_type": "code",
   "execution_count": 12,
   "metadata": {},
   "outputs": [],
   "source": [
    "def display_interactive_widgets(df):\n",
    "    \n",
    "    cuisine_selection = widgets.SelectMultiple(description='Cuisine type: ', \n",
    "                                            options=cuisines_list(df).keys(),\n",
    "                                            value=('All',),\n",
    "                                            disabled=False)\n",
    "\n",
    "    price_selection = widgets.SelectionRangeSlider(options=['$', '$$', '$$$','$$$$'],\n",
    "                                                index=(0, 3), \n",
    "                                                description='Price range: ',\n",
    "                                                disabled=False)\n",
    "\n",
    "    rate_selection = widgets.FloatRangeSlider(description='Rating: ', min=1.8, \n",
    "                                            max= 5.0, step=0.1, disabled=False)\n",
    "\n",
    "    new_rest = widgets.Checkbox(value=False, description='Include new restaurants')\n",
    "    \n",
    "    button = widgets.Button(description=\"OK\")\n",
    "    box_layout = widgets.Layout(\n",
    "                align_items= 'center')\n",
    "\n",
    "    outputf = widgets.Output()\n",
    "    plot_output = widgets.Output()\n",
    "    stat_output = widgets.Output()\n",
    "    map_output = widgets.Output()\n",
    "\n",
    "    global preferences\n",
    "    preferences = {}\n",
    "    def collect_preferences(c,r,p,n):\n",
    "\n",
    "        preferences[\"cuisine\"] = c\n",
    "        preferences[\"rate\"] = r\n",
    "        preferences[\"price\"] = p\n",
    "        preferences[\"new_restaurants\"] = n\n",
    "        return preferences\n",
    "\n",
    "    def display_preferences(preferences):\n",
    "        print(f\"\"\"Your preferences:\n",
    "\n",
    "        -- selected cuisine types: {cuisine_selection.value} \n",
    "        -- selected price range: {price_selection.value[0]} - {price_selection.value[1]}\n",
    "        -- selected rate range: {rate_selection.value[0]} - {rate_selection.value[1]}\n",
    "        -- include new restaurants: {preferences[\"new_restaurants\"]}\"\"\")\n",
    "\n",
    "    def on_button_clicked(b):\n",
    "\n",
    "        with map_output:\n",
    "            map_output.clear_output()\n",
    "            display_preferences(preferences)\n",
    "            df_to_process = df.copy()\n",
    "            run_application(preferences,df_to_process)\n",
    "\n",
    "\n",
    "    def common_filtering(cuisine, price, rate, new_restaurants):\n",
    "\n",
    "        outputf.clear_output()\n",
    "        plot_output.clear_output()\n",
    "        stat_output.clear_output()\n",
    "\n",
    "        c = cuisine_selection.value\n",
    "        r = rate_selection.value\n",
    "        p = price_selection.value\n",
    "        n = new_rest.value\n",
    "\n",
    "        collect_preferences(c,r,p,n)\n",
    "        \n",
    "\n",
    "        if c != (\"All\",):\n",
    "            condition = df[\"cuisines\"].apply(lambda x: x if any(z in c for z in x) else None).notnull()\n",
    "        else:\n",
    "            condition = df[\"cuisines\"].notnull()\n",
    "\n",
    "        price_min, price_max = get_price(p)\n",
    "\n",
    "        if n == True:\n",
    "            common_filter = df[condition].query(\"@r[0] < rate <= @r[1] or rate.isnull() and @price_min <= cost < @price_max or cost.isnull()\")\n",
    "        else:\n",
    "            common_filter = df[condition].query(\"@r[0] < rate <= @r[1] and @price_min <= cost < @price_max\")\n",
    "\n",
    "\n",
    "        def calculate_statistics(df:pd.DataFrame):\n",
    "\n",
    "            print(f\"\"\"Your preferences:\n",
    "            -- mean cost of restaurants: {df['rate'].mean()} \n",
    "            -- number of restaurants: {df['rate'].count()}\n",
    "            -- correlation cost x votes: {df['cost'].mean()}\n",
    "            -- correlation cost x rate: {df['cost'].mean()} \"\"\")\n",
    "\n",
    "        \n",
    "        with outputf:\n",
    "            display_preferences(preferences)\n",
    "            display(common_filter)\n",
    "            \n",
    "        with plot_output:\n",
    "            display_preferences(preferences)\n",
    "            # sns.pairplot(common_filter['cost','rate', 'votes'], shade=True)\n",
    "            # sns.pairplot(common_filter,x_vars=['cost','rate','votes'],\n",
    "            #             y_vars=['cost','rate','votes'],)\n",
    "            lab = ['cost', 'votes', 'rate']\n",
    "            plt.boxplot([common_filter['cost'], common_filter['votes'], common_filter['rate']],labels=lab, showmeans=True)\n",
    "            # plt.hist(common_filter['cost'])\n",
    "            plt.show()\n",
    "        with stat_output:\n",
    "            calculate_statistics(common_filter)\n",
    "\n",
    "    def cuisine_eventhandler(change):\n",
    "        common_filtering(change.new, price_selection.value, rate_selection.value, new_rest.value)\n",
    "\n",
    "    def price_eventhandler(change):\n",
    "        common_filtering(cuisine_selection.value, change.new, rate_selection.value, new_rest.value)\n",
    "\n",
    "    def rate_eventhandler(change):\n",
    "        common_filtering(cuisine_selection.value, price_selection.value, change.new, new_rest.value)\n",
    "\n",
    "    def new_restaurants_eventhandler(change):\n",
    "        common_filtering(cuisine_selection.value, price_selection.value, rate_selection.value, change.new)\n",
    "\n",
    "    cuisine_selection.observe(cuisine_eventhandler, names='value')\n",
    "    price_selection.observe(price_eventhandler, names='value')\n",
    "    rate_selection.observe(rate_eventhandler, names='value')\n",
    "    new_rest.observe(new_restaurants_eventhandler)\n",
    "\n",
    "    item_layout = widgets.Layout(margin='0 0 50px 0')\n",
    "    input_widgets = widgets.HBox([cuisine_selection,price_selection,rate_selection,new_rest])\n",
    "    button_layout = widgets.VBox([button],layout=box_layout)\n",
    "    tab = widgets.Tab([outputf, plot_output, stat_output,map_output],layout=item_layout)\n",
    "    tab.set_title(0, 'Dataset')\n",
    "    tab.set_title(1, 'Plot')\n",
    "    tab.set_title(2, 'Statistics')\n",
    "    tab.set_title(3, 'Application output')\n",
    "    dashboard = widgets.VBox([input_widgets,button_layout,tab],layout=item_layout)\n",
    "    display(dashboard)\n",
    "    button.on_click(on_button_clicked)"
   ]
  },
  {
   "cell_type": "code",
   "execution_count": 13,
   "metadata": {},
   "outputs": [
    {
     "data": {
      "application/vnd.jupyter.widget-view+json": {
       "model_id": "68b7be5437b74f47a01bacdbef413fac",
       "version_major": 2,
       "version_minor": 0
      },
      "text/plain": [
       "VBox(children=(HBox(children=(SelectMultiple(description='Cuisine type: ', index=(107,), options=('North India…"
      ]
     },
     "metadata": {},
     "output_type": "display_data"
    }
   ],
   "source": [
    "display_interactive_widgets(df)"
   ]
  }
 ],
 "metadata": {
  "kernelspec": {
   "display_name": "Python 3.9.13 ('geo_env')",
   "language": "python",
   "name": "python3"
  },
  "language_info": {
   "codemirror_mode": {
    "name": "ipython",
    "version": 3
   },
   "file_extension": ".py",
   "mimetype": "text/x-python",
   "name": "python",
   "nbconvert_exporter": "python",
   "pygments_lexer": "ipython3",
   "version": "3.9.13 | packaged by conda-forge | (main, May 27 2022, 16:56:21) \n[GCC 10.3.0]"
  },
  "orig_nbformat": 4,
  "vscode": {
   "interpreter": {
    "hash": "9feb94bda0cc3f99404f23ad369af0776fd31ede1a2e8a5a9b9f4c896a250c19"
   }
  }
 },
 "nbformat": 4,
 "nbformat_minor": 2
}
